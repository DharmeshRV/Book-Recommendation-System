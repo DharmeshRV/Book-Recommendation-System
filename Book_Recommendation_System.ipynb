{
  "nbformat": 4,
  "nbformat_minor": 0,
  "metadata": {
    "colab": {
      "provenance": [],
      "authorship_tag": "ABX9TyNdnA4/gAh5pOium3QizXkZ",
      "include_colab_link": true
    },
    "kernelspec": {
      "name": "python3",
      "display_name": "Python 3"
    },
    "language_info": {
      "name": "python"
    }
  },
  "cells": [
    {
      "cell_type": "markdown",
      "metadata": {
        "id": "view-in-github",
        "colab_type": "text"
      },
      "source": [
        "<a href=\"https://colab.research.google.com/github/DharmeshRV/Book-Recommendation-System/blob/main/Book_Recommendation_System.ipynb\" target=\"_parent\"><img src=\"https://colab.research.google.com/assets/colab-badge.svg\" alt=\"Open In Colab\"/></a>"
      ]
    },
    {
      "cell_type": "markdown",
      "source": [
        "# **Project Name    - Book Recommendation System**\n",
        "\n"
      ],
      "metadata": {
        "id": "vncDsAP0Gaoa"
      }
    },
    {
      "cell_type": "markdown",
      "source": [
        "##### **Project Type**    - Unsupervised\n",
        "##### **Contribution**    - Individual\n",
        "##### **Name -** Dharmesh Kumar"
      ],
      "metadata": {
        "id": "beRrZCGUAJYm"
      }
    },
    {
      "cell_type": "markdown",
      "source": [
        "# **Project Summary -**"
      ],
      "metadata": {
        "id": "FJNUwmbgGyua"
      }
    },
    {
      "cell_type": "markdown",
      "source": [
        "Recommender systems are used since last few decades but with the rapid digitalization - where books, news, movies, clothes and even food and grocery are available online - the recommender systems have become necessary devices in attracting the customers and helping them find the products of thier interest. From e-commerce (suggest to buyers articles that could interest them) to online advertisement (suggest to user the right content, marhcing thier preferences) recommender systems today are unavoidable in our daily online journeys.\n",
        "\n",
        "**1. Stating the Problem**\n",
        "\n",
        "* Understanding the Problem\n",
        "* Understanding the variables in data\n",
        "\n",
        "**2. Data Wrangling**\n",
        "\n",
        "* Filling the Missing Values\n",
        "* Processing 'Location' values\n",
        "* Merging the Dataframes\n",
        "* Checking for Duplicated values\n",
        "\n",
        "**3. Exploratory Data Analysis**\n",
        "* Exploring Popular Authors, Publishers and Best-seller Books\n",
        "* Visualizing Countries\n",
        "* Understanding the Rating Distribution"
      ],
      "metadata": {
        "id": "F6v_1wHtG2nS"
      }
    },
    {
      "cell_type": "markdown",
      "source": [
        "# **GitHub Link -**"
      ],
      "metadata": {
        "id": "w6K7xa23Elo4"
      }
    },
    {
      "cell_type": "markdown",
      "source": [
        "https://github.com/DharmeshRV/Book-Recommendation-System"
      ],
      "metadata": {
        "id": "h1o69JH3Eqqn"
      }
    },
    {
      "cell_type": "markdown",
      "source": [
        "# **Problem Statement**\n"
      ],
      "metadata": {
        "id": "yQaldy8SH6Dl"
      }
    },
    {
      "cell_type": "markdown",
      "source": [
        "In a very general way, recommender systems are algorithms aimed at suggesting relevant items to users (items  being movies to watch, text to read, products to buy or anything else depending on industries).\n",
        "\n",
        "Recommender systems are really critical in some industries as they can generate a huge amount of income when they are efficient or also be a way to stand out significantly from competitors. The main objective is to create a book recommendation system for users.\n",
        "\n",
        "**Content**\n",
        "\n",
        "The Book dataset contains 3 files.\n",
        "\n",
        "\n",
        "● Books\n",
        "\n",
        "Books are identified by their respective ISBN. Invalid ISBNs have already been removed from the dataset. Moreover, some content-based information is given (Book-Title, Book-Author, Year-Of-Publication, Publisher), obtained from Amazon Web Services. Note that in the case of several authors, only the first is provided. URLs linking to cover images are also given, appearing in three different flavors (Image-URL-S, Image-URL-M, Image-URL-L), i.e., small, medium, large. These URLs point to the Amazon website.\n",
        "\n",
        "● Ratings\n",
        "\n",
        "Contains the book rating information. Ratings (Book-Rating) are either explicit, expressed on a scale from 1-10 (higher values denoting higher appreciation), or implicit, expressed by 0.\n",
        "\n",
        "● Users\n",
        "\n",
        "Contains the users. Note that user IDs (User-ID) have been anonymized and map to integers. Demographic data is provided (Location, Age) if available. Otherwise, these fields contain NULL values."
      ],
      "metadata": {
        "id": "DpeJGUA3kjGy"
      }
    },
    {
      "cell_type": "markdown",
      "source": [
        "# ***Let's Begin !***"
      ],
      "metadata": {
        "id": "O_i_v8NEhb9l"
      }
    },
    {
      "cell_type": "markdown",
      "metadata": {
        "id": "HhfV-JJviCcP"
      },
      "source": [
        "## ***1. Know Your Data***"
      ]
    },
    {
      "cell_type": "markdown",
      "source": [
        "### Import Libraries"
      ],
      "metadata": {
        "id": "Y3lxredqlCYt"
      }
    },
    {
      "cell_type": "code",
      "source": [
        "# Import Libraries\n",
        "import numpy as np\n",
        "import pandas as pd\n",
        "import matplotlib.pyplot as plt\n",
        "import seaborn as sns\n",
        "from wordcloud import WordCloud, STOPWORDS, ImageColorGenerator\n",
        "from sklearn.metrics.pairwise import cosine_similarity\n",
        "from sklearn.model_selection import train_test_split\n",
        "from scipy.sparse.linalg import svds\n",
        "import random\n",
        "import warnings\n",
        "warnings.filterwarnings('ignore')"
      ],
      "metadata": {
        "id": "M8Vqi-pPk-HR"
      },
      "execution_count": 1,
      "outputs": []
    },
    {
      "cell_type": "markdown",
      "source": [
        "### Dataset Loading"
      ],
      "metadata": {
        "id": "3RnN4peoiCZX"
      }
    },
    {
      "cell_type": "code",
      "source": [
        "# Mounting the drive\n",
        "from google.colab import drive\n",
        "drive.mount('/content/drive')"
      ],
      "metadata": {
        "colab": {
          "base_uri": "https://localhost:8080/"
        },
        "id": "_tYtJsp4Gio_",
        "outputId": "ddb0f86f-59f5-4544-b8cf-e9be3cb29c54"
      },
      "execution_count": 2,
      "outputs": [
        {
          "output_type": "stream",
          "name": "stdout",
          "text": [
            "Mounted at /content/drive\n"
          ]
        }
      ]
    },
    {
      "cell_type": "code",
      "execution_count": 3,
      "metadata": {
        "id": "4CkvbW_SlZ_R"
      },
      "outputs": [],
      "source": [
        "# Loading Book data\n",
        "books_df=pd.read_csv('/content/drive/MyDrive/Colab Notebooks/Almabetter_Data Science/Capstone Projects/Book Recommendation System - Dharmesh Kumar/Books.csv')\n",
        "ratings_df=pd.read_csv('/content/drive/MyDrive/Colab Notebooks/Almabetter_Data Science/Capstone Projects/Book Recommendation System - Dharmesh Kumar/Ratings.csv')\n",
        "users_df=pd.read_csv('/content/drive/MyDrive/Colab Notebooks/Almabetter_Data Science/Capstone Projects/Book Recommendation System - Dharmesh Kumar/Users.csv')"
      ]
    },
    {
      "cell_type": "markdown",
      "source": [
        "### Dataset First View"
      ],
      "metadata": {
        "id": "x71ZqKXriCWQ"
      }
    },
    {
      "cell_type": "code",
      "source": [
        "# Books Dataset First Look\n",
        "books_df.head()"
      ],
      "metadata": {
        "id": "LWNFOSvLl09H",
        "colab": {
          "base_uri": "https://localhost:8080/",
          "height": 478
        },
        "outputId": "1cdbee19-7b26-4a92-9d6e-c9eb3b66427a"
      },
      "execution_count": 4,
      "outputs": [
        {
          "output_type": "execute_result",
          "data": {
            "text/plain": [
              "         ISBN                                         Book-Title  \\\n",
              "0  0195153448                                Classical Mythology   \n",
              "1  0002005018                                       Clara Callan   \n",
              "2  0060973129                               Decision in Normandy   \n",
              "3  0374157065  Flu: The Story of the Great Influenza Pandemic...   \n",
              "4  0393045218                             The Mummies of Urumchi   \n",
              "\n",
              "            Book-Author Year-Of-Publication                   Publisher  \\\n",
              "0    Mark P. O. Morford                2002     Oxford University Press   \n",
              "1  Richard Bruce Wright                2001       HarperFlamingo Canada   \n",
              "2          Carlo D'Este                1991             HarperPerennial   \n",
              "3      Gina Bari Kolata                1999        Farrar Straus Giroux   \n",
              "4       E. J. W. Barber                1999  W. W. Norton &amp; Company   \n",
              "\n",
              "                                         Image-URL-S  \\\n",
              "0  http://images.amazon.com/images/P/0195153448.0...   \n",
              "1  http://images.amazon.com/images/P/0002005018.0...   \n",
              "2  http://images.amazon.com/images/P/0060973129.0...   \n",
              "3  http://images.amazon.com/images/P/0374157065.0...   \n",
              "4  http://images.amazon.com/images/P/0393045218.0...   \n",
              "\n",
              "                                         Image-URL-M  \\\n",
              "0  http://images.amazon.com/images/P/0195153448.0...   \n",
              "1  http://images.amazon.com/images/P/0002005018.0...   \n",
              "2  http://images.amazon.com/images/P/0060973129.0...   \n",
              "3  http://images.amazon.com/images/P/0374157065.0...   \n",
              "4  http://images.amazon.com/images/P/0393045218.0...   \n",
              "\n",
              "                                         Image-URL-L  \n",
              "0  http://images.amazon.com/images/P/0195153448.0...  \n",
              "1  http://images.amazon.com/images/P/0002005018.0...  \n",
              "2  http://images.amazon.com/images/P/0060973129.0...  \n",
              "3  http://images.amazon.com/images/P/0374157065.0...  \n",
              "4  http://images.amazon.com/images/P/0393045218.0...  "
            ],
            "text/html": [
              "\n",
              "  <div id=\"df-0aa502c7-b92f-43e6-8cb6-308dab8a0dd4\">\n",
              "    <div class=\"colab-df-container\">\n",
              "      <div>\n",
              "<style scoped>\n",
              "    .dataframe tbody tr th:only-of-type {\n",
              "        vertical-align: middle;\n",
              "    }\n",
              "\n",
              "    .dataframe tbody tr th {\n",
              "        vertical-align: top;\n",
              "    }\n",
              "\n",
              "    .dataframe thead th {\n",
              "        text-align: right;\n",
              "    }\n",
              "</style>\n",
              "<table border=\"1\" class=\"dataframe\">\n",
              "  <thead>\n",
              "    <tr style=\"text-align: right;\">\n",
              "      <th></th>\n",
              "      <th>ISBN</th>\n",
              "      <th>Book-Title</th>\n",
              "      <th>Book-Author</th>\n",
              "      <th>Year-Of-Publication</th>\n",
              "      <th>Publisher</th>\n",
              "      <th>Image-URL-S</th>\n",
              "      <th>Image-URL-M</th>\n",
              "      <th>Image-URL-L</th>\n",
              "    </tr>\n",
              "  </thead>\n",
              "  <tbody>\n",
              "    <tr>\n",
              "      <th>0</th>\n",
              "      <td>0195153448</td>\n",
              "      <td>Classical Mythology</td>\n",
              "      <td>Mark P. O. Morford</td>\n",
              "      <td>2002</td>\n",
              "      <td>Oxford University Press</td>\n",
              "      <td>http://images.amazon.com/images/P/0195153448.0...</td>\n",
              "      <td>http://images.amazon.com/images/P/0195153448.0...</td>\n",
              "      <td>http://images.amazon.com/images/P/0195153448.0...</td>\n",
              "    </tr>\n",
              "    <tr>\n",
              "      <th>1</th>\n",
              "      <td>0002005018</td>\n",
              "      <td>Clara Callan</td>\n",
              "      <td>Richard Bruce Wright</td>\n",
              "      <td>2001</td>\n",
              "      <td>HarperFlamingo Canada</td>\n",
              "      <td>http://images.amazon.com/images/P/0002005018.0...</td>\n",
              "      <td>http://images.amazon.com/images/P/0002005018.0...</td>\n",
              "      <td>http://images.amazon.com/images/P/0002005018.0...</td>\n",
              "    </tr>\n",
              "    <tr>\n",
              "      <th>2</th>\n",
              "      <td>0060973129</td>\n",
              "      <td>Decision in Normandy</td>\n",
              "      <td>Carlo D'Este</td>\n",
              "      <td>1991</td>\n",
              "      <td>HarperPerennial</td>\n",
              "      <td>http://images.amazon.com/images/P/0060973129.0...</td>\n",
              "      <td>http://images.amazon.com/images/P/0060973129.0...</td>\n",
              "      <td>http://images.amazon.com/images/P/0060973129.0...</td>\n",
              "    </tr>\n",
              "    <tr>\n",
              "      <th>3</th>\n",
              "      <td>0374157065</td>\n",
              "      <td>Flu: The Story of the Great Influenza Pandemic...</td>\n",
              "      <td>Gina Bari Kolata</td>\n",
              "      <td>1999</td>\n",
              "      <td>Farrar Straus Giroux</td>\n",
              "      <td>http://images.amazon.com/images/P/0374157065.0...</td>\n",
              "      <td>http://images.amazon.com/images/P/0374157065.0...</td>\n",
              "      <td>http://images.amazon.com/images/P/0374157065.0...</td>\n",
              "    </tr>\n",
              "    <tr>\n",
              "      <th>4</th>\n",
              "      <td>0393045218</td>\n",
              "      <td>The Mummies of Urumchi</td>\n",
              "      <td>E. J. W. Barber</td>\n",
              "      <td>1999</td>\n",
              "      <td>W. W. Norton &amp;amp; Company</td>\n",
              "      <td>http://images.amazon.com/images/P/0393045218.0...</td>\n",
              "      <td>http://images.amazon.com/images/P/0393045218.0...</td>\n",
              "      <td>http://images.amazon.com/images/P/0393045218.0...</td>\n",
              "    </tr>\n",
              "  </tbody>\n",
              "</table>\n",
              "</div>\n",
              "      <button class=\"colab-df-convert\" onclick=\"convertToInteractive('df-0aa502c7-b92f-43e6-8cb6-308dab8a0dd4')\"\n",
              "              title=\"Convert this dataframe to an interactive table.\"\n",
              "              style=\"display:none;\">\n",
              "        \n",
              "  <svg xmlns=\"http://www.w3.org/2000/svg\" height=\"24px\"viewBox=\"0 0 24 24\"\n",
              "       width=\"24px\">\n",
              "    <path d=\"M0 0h24v24H0V0z\" fill=\"none\"/>\n",
              "    <path d=\"M18.56 5.44l.94 2.06.94-2.06 2.06-.94-2.06-.94-.94-2.06-.94 2.06-2.06.94zm-11 1L8.5 8.5l.94-2.06 2.06-.94-2.06-.94L8.5 2.5l-.94 2.06-2.06.94zm10 10l.94 2.06.94-2.06 2.06-.94-2.06-.94-.94-2.06-.94 2.06-2.06.94z\"/><path d=\"M17.41 7.96l-1.37-1.37c-.4-.4-.92-.59-1.43-.59-.52 0-1.04.2-1.43.59L10.3 9.45l-7.72 7.72c-.78.78-.78 2.05 0 2.83L4 21.41c.39.39.9.59 1.41.59.51 0 1.02-.2 1.41-.59l7.78-7.78 2.81-2.81c.8-.78.8-2.07 0-2.86zM5.41 20L4 18.59l7.72-7.72 1.47 1.35L5.41 20z\"/>\n",
              "  </svg>\n",
              "      </button>\n",
              "      \n",
              "  <style>\n",
              "    .colab-df-container {\n",
              "      display:flex;\n",
              "      flex-wrap:wrap;\n",
              "      gap: 12px;\n",
              "    }\n",
              "\n",
              "    .colab-df-convert {\n",
              "      background-color: #E8F0FE;\n",
              "      border: none;\n",
              "      border-radius: 50%;\n",
              "      cursor: pointer;\n",
              "      display: none;\n",
              "      fill: #1967D2;\n",
              "      height: 32px;\n",
              "      padding: 0 0 0 0;\n",
              "      width: 32px;\n",
              "    }\n",
              "\n",
              "    .colab-df-convert:hover {\n",
              "      background-color: #E2EBFA;\n",
              "      box-shadow: 0px 1px 2px rgba(60, 64, 67, 0.3), 0px 1px 3px 1px rgba(60, 64, 67, 0.15);\n",
              "      fill: #174EA6;\n",
              "    }\n",
              "\n",
              "    [theme=dark] .colab-df-convert {\n",
              "      background-color: #3B4455;\n",
              "      fill: #D2E3FC;\n",
              "    }\n",
              "\n",
              "    [theme=dark] .colab-df-convert:hover {\n",
              "      background-color: #434B5C;\n",
              "      box-shadow: 0px 1px 3px 1px rgba(0, 0, 0, 0.15);\n",
              "      filter: drop-shadow(0px 1px 2px rgba(0, 0, 0, 0.3));\n",
              "      fill: #FFFFFF;\n",
              "    }\n",
              "  </style>\n",
              "\n",
              "      <script>\n",
              "        const buttonEl =\n",
              "          document.querySelector('#df-0aa502c7-b92f-43e6-8cb6-308dab8a0dd4 button.colab-df-convert');\n",
              "        buttonEl.style.display =\n",
              "          google.colab.kernel.accessAllowed ? 'block' : 'none';\n",
              "\n",
              "        async function convertToInteractive(key) {\n",
              "          const element = document.querySelector('#df-0aa502c7-b92f-43e6-8cb6-308dab8a0dd4');\n",
              "          const dataTable =\n",
              "            await google.colab.kernel.invokeFunction('convertToInteractive',\n",
              "                                                     [key], {});\n",
              "          if (!dataTable) return;\n",
              "\n",
              "          const docLinkHtml = 'Like what you see? Visit the ' +\n",
              "            '<a target=\"_blank\" href=https://colab.research.google.com/notebooks/data_table.ipynb>data table notebook</a>'\n",
              "            + ' to learn more about interactive tables.';\n",
              "          element.innerHTML = '';\n",
              "          dataTable['output_type'] = 'display_data';\n",
              "          await google.colab.output.renderOutput(dataTable, element);\n",
              "          const docLink = document.createElement('div');\n",
              "          docLink.innerHTML = docLinkHtml;\n",
              "          element.appendChild(docLink);\n",
              "        }\n",
              "      </script>\n",
              "    </div>\n",
              "  </div>\n",
              "  "
            ]
          },
          "metadata": {},
          "execution_count": 4
        }
      ]
    },
    {
      "cell_type": "code",
      "source": [
        "# Ratings Dataset First Look\n",
        "ratings_df.head()"
      ],
      "metadata": {
        "colab": {
          "base_uri": "https://localhost:8080/",
          "height": 206
        },
        "id": "Fd8Sz9ltH2Wz",
        "outputId": "2bc3fb4e-0bf0-486c-fe2b-a3a7e9293dad"
      },
      "execution_count": 5,
      "outputs": [
        {
          "output_type": "execute_result",
          "data": {
            "text/plain": [
              "   User-ID        ISBN  Book-Rating\n",
              "0   276725  034545104X            0\n",
              "1   276726  0155061224            5\n",
              "2   276727  0446520802            0\n",
              "3   276729  052165615X            3\n",
              "4   276729  0521795028            6"
            ],
            "text/html": [
              "\n",
              "  <div id=\"df-bc84fe43-a95d-48c9-857a-7c1f950a3ca0\">\n",
              "    <div class=\"colab-df-container\">\n",
              "      <div>\n",
              "<style scoped>\n",
              "    .dataframe tbody tr th:only-of-type {\n",
              "        vertical-align: middle;\n",
              "    }\n",
              "\n",
              "    .dataframe tbody tr th {\n",
              "        vertical-align: top;\n",
              "    }\n",
              "\n",
              "    .dataframe thead th {\n",
              "        text-align: right;\n",
              "    }\n",
              "</style>\n",
              "<table border=\"1\" class=\"dataframe\">\n",
              "  <thead>\n",
              "    <tr style=\"text-align: right;\">\n",
              "      <th></th>\n",
              "      <th>User-ID</th>\n",
              "      <th>ISBN</th>\n",
              "      <th>Book-Rating</th>\n",
              "    </tr>\n",
              "  </thead>\n",
              "  <tbody>\n",
              "    <tr>\n",
              "      <th>0</th>\n",
              "      <td>276725</td>\n",
              "      <td>034545104X</td>\n",
              "      <td>0</td>\n",
              "    </tr>\n",
              "    <tr>\n",
              "      <th>1</th>\n",
              "      <td>276726</td>\n",
              "      <td>0155061224</td>\n",
              "      <td>5</td>\n",
              "    </tr>\n",
              "    <tr>\n",
              "      <th>2</th>\n",
              "      <td>276727</td>\n",
              "      <td>0446520802</td>\n",
              "      <td>0</td>\n",
              "    </tr>\n",
              "    <tr>\n",
              "      <th>3</th>\n",
              "      <td>276729</td>\n",
              "      <td>052165615X</td>\n",
              "      <td>3</td>\n",
              "    </tr>\n",
              "    <tr>\n",
              "      <th>4</th>\n",
              "      <td>276729</td>\n",
              "      <td>0521795028</td>\n",
              "      <td>6</td>\n",
              "    </tr>\n",
              "  </tbody>\n",
              "</table>\n",
              "</div>\n",
              "      <button class=\"colab-df-convert\" onclick=\"convertToInteractive('df-bc84fe43-a95d-48c9-857a-7c1f950a3ca0')\"\n",
              "              title=\"Convert this dataframe to an interactive table.\"\n",
              "              style=\"display:none;\">\n",
              "        \n",
              "  <svg xmlns=\"http://www.w3.org/2000/svg\" height=\"24px\"viewBox=\"0 0 24 24\"\n",
              "       width=\"24px\">\n",
              "    <path d=\"M0 0h24v24H0V0z\" fill=\"none\"/>\n",
              "    <path d=\"M18.56 5.44l.94 2.06.94-2.06 2.06-.94-2.06-.94-.94-2.06-.94 2.06-2.06.94zm-11 1L8.5 8.5l.94-2.06 2.06-.94-2.06-.94L8.5 2.5l-.94 2.06-2.06.94zm10 10l.94 2.06.94-2.06 2.06-.94-2.06-.94-.94-2.06-.94 2.06-2.06.94z\"/><path d=\"M17.41 7.96l-1.37-1.37c-.4-.4-.92-.59-1.43-.59-.52 0-1.04.2-1.43.59L10.3 9.45l-7.72 7.72c-.78.78-.78 2.05 0 2.83L4 21.41c.39.39.9.59 1.41.59.51 0 1.02-.2 1.41-.59l7.78-7.78 2.81-2.81c.8-.78.8-2.07 0-2.86zM5.41 20L4 18.59l7.72-7.72 1.47 1.35L5.41 20z\"/>\n",
              "  </svg>\n",
              "      </button>\n",
              "      \n",
              "  <style>\n",
              "    .colab-df-container {\n",
              "      display:flex;\n",
              "      flex-wrap:wrap;\n",
              "      gap: 12px;\n",
              "    }\n",
              "\n",
              "    .colab-df-convert {\n",
              "      background-color: #E8F0FE;\n",
              "      border: none;\n",
              "      border-radius: 50%;\n",
              "      cursor: pointer;\n",
              "      display: none;\n",
              "      fill: #1967D2;\n",
              "      height: 32px;\n",
              "      padding: 0 0 0 0;\n",
              "      width: 32px;\n",
              "    }\n",
              "\n",
              "    .colab-df-convert:hover {\n",
              "      background-color: #E2EBFA;\n",
              "      box-shadow: 0px 1px 2px rgba(60, 64, 67, 0.3), 0px 1px 3px 1px rgba(60, 64, 67, 0.15);\n",
              "      fill: #174EA6;\n",
              "    }\n",
              "\n",
              "    [theme=dark] .colab-df-convert {\n",
              "      background-color: #3B4455;\n",
              "      fill: #D2E3FC;\n",
              "    }\n",
              "\n",
              "    [theme=dark] .colab-df-convert:hover {\n",
              "      background-color: #434B5C;\n",
              "      box-shadow: 0px 1px 3px 1px rgba(0, 0, 0, 0.15);\n",
              "      filter: drop-shadow(0px 1px 2px rgba(0, 0, 0, 0.3));\n",
              "      fill: #FFFFFF;\n",
              "    }\n",
              "  </style>\n",
              "\n",
              "      <script>\n",
              "        const buttonEl =\n",
              "          document.querySelector('#df-bc84fe43-a95d-48c9-857a-7c1f950a3ca0 button.colab-df-convert');\n",
              "        buttonEl.style.display =\n",
              "          google.colab.kernel.accessAllowed ? 'block' : 'none';\n",
              "\n",
              "        async function convertToInteractive(key) {\n",
              "          const element = document.querySelector('#df-bc84fe43-a95d-48c9-857a-7c1f950a3ca0');\n",
              "          const dataTable =\n",
              "            await google.colab.kernel.invokeFunction('convertToInteractive',\n",
              "                                                     [key], {});\n",
              "          if (!dataTable) return;\n",
              "\n",
              "          const docLinkHtml = 'Like what you see? Visit the ' +\n",
              "            '<a target=\"_blank\" href=https://colab.research.google.com/notebooks/data_table.ipynb>data table notebook</a>'\n",
              "            + ' to learn more about interactive tables.';\n",
              "          element.innerHTML = '';\n",
              "          dataTable['output_type'] = 'display_data';\n",
              "          await google.colab.output.renderOutput(dataTable, element);\n",
              "          const docLink = document.createElement('div');\n",
              "          docLink.innerHTML = docLinkHtml;\n",
              "          element.appendChild(docLink);\n",
              "        }\n",
              "      </script>\n",
              "    </div>\n",
              "  </div>\n",
              "  "
            ]
          },
          "metadata": {},
          "execution_count": 5
        }
      ]
    },
    {
      "cell_type": "code",
      "source": [
        "# Users Dataset First Look\n",
        "users_df.head()"
      ],
      "metadata": {
        "colab": {
          "base_uri": "https://localhost:8080/",
          "height": 206
        },
        "id": "1V5hfBssIAUG",
        "outputId": "f1e499e3-a133-4404-d86e-0736d58ce71e"
      },
      "execution_count": 6,
      "outputs": [
        {
          "output_type": "execute_result",
          "data": {
            "text/plain": [
              "   User-ID                            Location   Age\n",
              "0        1                  nyc, new york, usa   NaN\n",
              "1        2           stockton, california, usa  18.0\n",
              "2        3     moscow, yukon territory, russia   NaN\n",
              "3        4           porto, v.n.gaia, portugal  17.0\n",
              "4        5  farnborough, hants, united kingdom   NaN"
            ],
            "text/html": [
              "\n",
              "  <div id=\"df-954469fe-38a6-482c-8fe6-25846d8dd783\">\n",
              "    <div class=\"colab-df-container\">\n",
              "      <div>\n",
              "<style scoped>\n",
              "    .dataframe tbody tr th:only-of-type {\n",
              "        vertical-align: middle;\n",
              "    }\n",
              "\n",
              "    .dataframe tbody tr th {\n",
              "        vertical-align: top;\n",
              "    }\n",
              "\n",
              "    .dataframe thead th {\n",
              "        text-align: right;\n",
              "    }\n",
              "</style>\n",
              "<table border=\"1\" class=\"dataframe\">\n",
              "  <thead>\n",
              "    <tr style=\"text-align: right;\">\n",
              "      <th></th>\n",
              "      <th>User-ID</th>\n",
              "      <th>Location</th>\n",
              "      <th>Age</th>\n",
              "    </tr>\n",
              "  </thead>\n",
              "  <tbody>\n",
              "    <tr>\n",
              "      <th>0</th>\n",
              "      <td>1</td>\n",
              "      <td>nyc, new york, usa</td>\n",
              "      <td>NaN</td>\n",
              "    </tr>\n",
              "    <tr>\n",
              "      <th>1</th>\n",
              "      <td>2</td>\n",
              "      <td>stockton, california, usa</td>\n",
              "      <td>18.0</td>\n",
              "    </tr>\n",
              "    <tr>\n",
              "      <th>2</th>\n",
              "      <td>3</td>\n",
              "      <td>moscow, yukon territory, russia</td>\n",
              "      <td>NaN</td>\n",
              "    </tr>\n",
              "    <tr>\n",
              "      <th>3</th>\n",
              "      <td>4</td>\n",
              "      <td>porto, v.n.gaia, portugal</td>\n",
              "      <td>17.0</td>\n",
              "    </tr>\n",
              "    <tr>\n",
              "      <th>4</th>\n",
              "      <td>5</td>\n",
              "      <td>farnborough, hants, united kingdom</td>\n",
              "      <td>NaN</td>\n",
              "    </tr>\n",
              "  </tbody>\n",
              "</table>\n",
              "</div>\n",
              "      <button class=\"colab-df-convert\" onclick=\"convertToInteractive('df-954469fe-38a6-482c-8fe6-25846d8dd783')\"\n",
              "              title=\"Convert this dataframe to an interactive table.\"\n",
              "              style=\"display:none;\">\n",
              "        \n",
              "  <svg xmlns=\"http://www.w3.org/2000/svg\" height=\"24px\"viewBox=\"0 0 24 24\"\n",
              "       width=\"24px\">\n",
              "    <path d=\"M0 0h24v24H0V0z\" fill=\"none\"/>\n",
              "    <path d=\"M18.56 5.44l.94 2.06.94-2.06 2.06-.94-2.06-.94-.94-2.06-.94 2.06-2.06.94zm-11 1L8.5 8.5l.94-2.06 2.06-.94-2.06-.94L8.5 2.5l-.94 2.06-2.06.94zm10 10l.94 2.06.94-2.06 2.06-.94-2.06-.94-.94-2.06-.94 2.06-2.06.94z\"/><path d=\"M17.41 7.96l-1.37-1.37c-.4-.4-.92-.59-1.43-.59-.52 0-1.04.2-1.43.59L10.3 9.45l-7.72 7.72c-.78.78-.78 2.05 0 2.83L4 21.41c.39.39.9.59 1.41.59.51 0 1.02-.2 1.41-.59l7.78-7.78 2.81-2.81c.8-.78.8-2.07 0-2.86zM5.41 20L4 18.59l7.72-7.72 1.47 1.35L5.41 20z\"/>\n",
              "  </svg>\n",
              "      </button>\n",
              "      \n",
              "  <style>\n",
              "    .colab-df-container {\n",
              "      display:flex;\n",
              "      flex-wrap:wrap;\n",
              "      gap: 12px;\n",
              "    }\n",
              "\n",
              "    .colab-df-convert {\n",
              "      background-color: #E8F0FE;\n",
              "      border: none;\n",
              "      border-radius: 50%;\n",
              "      cursor: pointer;\n",
              "      display: none;\n",
              "      fill: #1967D2;\n",
              "      height: 32px;\n",
              "      padding: 0 0 0 0;\n",
              "      width: 32px;\n",
              "    }\n",
              "\n",
              "    .colab-df-convert:hover {\n",
              "      background-color: #E2EBFA;\n",
              "      box-shadow: 0px 1px 2px rgba(60, 64, 67, 0.3), 0px 1px 3px 1px rgba(60, 64, 67, 0.15);\n",
              "      fill: #174EA6;\n",
              "    }\n",
              "\n",
              "    [theme=dark] .colab-df-convert {\n",
              "      background-color: #3B4455;\n",
              "      fill: #D2E3FC;\n",
              "    }\n",
              "\n",
              "    [theme=dark] .colab-df-convert:hover {\n",
              "      background-color: #434B5C;\n",
              "      box-shadow: 0px 1px 3px 1px rgba(0, 0, 0, 0.15);\n",
              "      filter: drop-shadow(0px 1px 2px rgba(0, 0, 0, 0.3));\n",
              "      fill: #FFFFFF;\n",
              "    }\n",
              "  </style>\n",
              "\n",
              "      <script>\n",
              "        const buttonEl =\n",
              "          document.querySelector('#df-954469fe-38a6-482c-8fe6-25846d8dd783 button.colab-df-convert');\n",
              "        buttonEl.style.display =\n",
              "          google.colab.kernel.accessAllowed ? 'block' : 'none';\n",
              "\n",
              "        async function convertToInteractive(key) {\n",
              "          const element = document.querySelector('#df-954469fe-38a6-482c-8fe6-25846d8dd783');\n",
              "          const dataTable =\n",
              "            await google.colab.kernel.invokeFunction('convertToInteractive',\n",
              "                                                     [key], {});\n",
              "          if (!dataTable) return;\n",
              "\n",
              "          const docLinkHtml = 'Like what you see? Visit the ' +\n",
              "            '<a target=\"_blank\" href=https://colab.research.google.com/notebooks/data_table.ipynb>data table notebook</a>'\n",
              "            + ' to learn more about interactive tables.';\n",
              "          element.innerHTML = '';\n",
              "          dataTable['output_type'] = 'display_data';\n",
              "          await google.colab.output.renderOutput(dataTable, element);\n",
              "          const docLink = document.createElement('div');\n",
              "          docLink.innerHTML = docLinkHtml;\n",
              "          element.appendChild(docLink);\n",
              "        }\n",
              "      </script>\n",
              "    </div>\n",
              "  </div>\n",
              "  "
            ]
          },
          "metadata": {},
          "execution_count": 6
        }
      ]
    },
    {
      "cell_type": "markdown",
      "source": [
        "### Dataset Rows & Columns count"
      ],
      "metadata": {
        "id": "7hBIi_osiCS2"
      }
    },
    {
      "cell_type": "code",
      "source": [
        "# Dataset Rows & Columns count\n",
        "print('Shape of books dataset is:',books_df.shape,'\\nShape of ratings dataset is:',ratings_df.shape,\n",
        "      '\\nShape of user dataset is:',users_df.shape)"
      ],
      "metadata": {
        "id": "Kllu7SJgmLij",
        "colab": {
          "base_uri": "https://localhost:8080/"
        },
        "outputId": "0234f04a-d73b-4fbd-f642-0a4fbd22b2af"
      },
      "execution_count": 7,
      "outputs": [
        {
          "output_type": "stream",
          "name": "stdout",
          "text": [
            "Shape of books dataset is: (271360, 8) \n",
            "Shape of ratings dataset is: (1149780, 3) \n",
            "Shape of user dataset is: (278858, 3)\n"
          ]
        }
      ]
    },
    {
      "cell_type": "markdown",
      "source": [
        "### Dataset Information"
      ],
      "metadata": {
        "id": "JlHwYmJAmNHm"
      }
    },
    {
      "cell_type": "code",
      "source": [
        "# Books Dataset Info\n",
        "books_df.info()"
      ],
      "metadata": {
        "id": "e9hRXRi6meOf",
        "colab": {
          "base_uri": "https://localhost:8080/"
        },
        "outputId": "f8bb368f-2b61-4b9e-fcb6-42e21ff9e1c8"
      },
      "execution_count": 8,
      "outputs": [
        {
          "output_type": "stream",
          "name": "stdout",
          "text": [
            "<class 'pandas.core.frame.DataFrame'>\n",
            "RangeIndex: 271360 entries, 0 to 271359\n",
            "Data columns (total 8 columns):\n",
            " #   Column               Non-Null Count   Dtype \n",
            "---  ------               --------------   ----- \n",
            " 0   ISBN                 271360 non-null  object\n",
            " 1   Book-Title           271360 non-null  object\n",
            " 2   Book-Author          271359 non-null  object\n",
            " 3   Year-Of-Publication  271360 non-null  object\n",
            " 4   Publisher            271358 non-null  object\n",
            " 5   Image-URL-S          271360 non-null  object\n",
            " 6   Image-URL-M          271360 non-null  object\n",
            " 7   Image-URL-L          271357 non-null  object\n",
            "dtypes: object(8)\n",
            "memory usage: 16.6+ MB\n"
          ]
        }
      ]
    },
    {
      "cell_type": "code",
      "source": [
        "# Ratings Dataset info\n",
        "ratings_df.info()"
      ],
      "metadata": {
        "colab": {
          "base_uri": "https://localhost:8080/"
        },
        "id": "NsaMs0QERfv_",
        "outputId": "e0bc1bfd-e3e9-4252-911e-d621a9c3b2c0"
      },
      "execution_count": 9,
      "outputs": [
        {
          "output_type": "stream",
          "name": "stdout",
          "text": [
            "<class 'pandas.core.frame.DataFrame'>\n",
            "RangeIndex: 1149780 entries, 0 to 1149779\n",
            "Data columns (total 3 columns):\n",
            " #   Column       Non-Null Count    Dtype \n",
            "---  ------       --------------    ----- \n",
            " 0   User-ID      1149780 non-null  int64 \n",
            " 1   ISBN         1149780 non-null  object\n",
            " 2   Book-Rating  1149780 non-null  int64 \n",
            "dtypes: int64(2), object(1)\n",
            "memory usage: 26.3+ MB\n"
          ]
        }
      ]
    },
    {
      "cell_type": "code",
      "source": [
        "# Users Dataset info\n",
        "users_df.info()"
      ],
      "metadata": {
        "colab": {
          "base_uri": "https://localhost:8080/"
        },
        "id": "pYLcwiWgRfci",
        "outputId": "3cb6f3c6-1aab-4d83-8aae-56b712e8f6c8"
      },
      "execution_count": 10,
      "outputs": [
        {
          "output_type": "stream",
          "name": "stdout",
          "text": [
            "<class 'pandas.core.frame.DataFrame'>\n",
            "RangeIndex: 278858 entries, 0 to 278857\n",
            "Data columns (total 3 columns):\n",
            " #   Column    Non-Null Count   Dtype  \n",
            "---  ------    --------------   -----  \n",
            " 0   User-ID   278858 non-null  int64  \n",
            " 1   Location  278858 non-null  object \n",
            " 2   Age       168096 non-null  float64\n",
            "dtypes: float64(1), int64(1), object(1)\n",
            "memory usage: 6.4+ MB\n"
          ]
        }
      ]
    },
    {
      "cell_type": "markdown",
      "source": [
        "#### Duplicate Values"
      ],
      "metadata": {
        "id": "35m5QtbWiB9F"
      }
    },
    {
      "cell_type": "code",
      "source": [
        "# Dataset Duplicate Value Count\n",
        "print('Duplicate rows in Books dataset are:',books_df.duplicated().sum(),\n",
        "      '\\nDuplicate rows in ratings dataset are:',ratings_df.duplicated().sum(),\n",
        "      '\\nDuplicate rows in users dataset are:',users_df.duplicated().sum())"
      ],
      "metadata": {
        "id": "1sLdpKYkmox0",
        "colab": {
          "base_uri": "https://localhost:8080/"
        },
        "outputId": "4b149bfc-e01d-44aa-ef46-300e44f5f942"
      },
      "execution_count": 11,
      "outputs": [
        {
          "output_type": "stream",
          "name": "stdout",
          "text": [
            "Duplicate rows in Books dataset are: 0 \n",
            "Duplicate rows in ratings dataset are: 0 \n",
            "Duplicate rows in users dataset are: 0\n"
          ]
        }
      ]
    },
    {
      "cell_type": "markdown",
      "source": [
        "#### Missing Values/Null Values"
      ],
      "metadata": {
        "id": "PoPl-ycgm1ru"
      }
    },
    {
      "cell_type": "code",
      "source": [
        "# Missing Values/Null Values Count\n",
        "print('Missing Values in Books dataset are:\\n',books_df.isna().sum(),\n",
        "      '\\n\\nMissing Values in ratings dataset are:\\n',ratings_df.isna().sum(),\n",
        "      '\\n\\nMissing Values in users dataset are:\\n',users_df.isna().sum())"
      ],
      "metadata": {
        "id": "GgHWkxvamxVg",
        "colab": {
          "base_uri": "https://localhost:8080/"
        },
        "outputId": "a35ffe18-45b4-4577-9a74-b567fcd05eda"
      },
      "execution_count": 12,
      "outputs": [
        {
          "output_type": "stream",
          "name": "stdout",
          "text": [
            "Missing Values in Books dataset are:\n",
            " ISBN                   0\n",
            "Book-Title             0\n",
            "Book-Author            1\n",
            "Year-Of-Publication    0\n",
            "Publisher              2\n",
            "Image-URL-S            0\n",
            "Image-URL-M            0\n",
            "Image-URL-L            3\n",
            "dtype: int64 \n",
            "\n",
            "Missing Values in ratings dataset are:\n",
            " User-ID        0\n",
            "ISBN           0\n",
            "Book-Rating    0\n",
            "dtype: int64 \n",
            "\n",
            "Missing Values in users dataset are:\n",
            " User-ID          0\n",
            "Location         0\n",
            "Age         110762\n",
            "dtype: int64\n"
          ]
        }
      ]
    },
    {
      "cell_type": "code",
      "source": [
        "# Visualizing the missing values in users dataset\n",
        "\n",
        "plt.figure(figsize=(5,4))\n",
        "sns.heatmap(users_df.isnull(),cmap='plasma',annot=False,yticklabels=False)\n",
        "plt.title(\" Visualising Missing Values\")"
      ],
      "metadata": {
        "id": "3q5wnI3om9sJ",
        "colab": {
          "base_uri": "https://localhost:8080/",
          "height": 408
        },
        "outputId": "361ec0b3-d2c3-4e19-a3f7-ab16bbce8e7c"
      },
      "execution_count": 13,
      "outputs": [
        {
          "output_type": "execute_result",
          "data": {
            "text/plain": [
              "Text(0.5, 1.0, ' Visualising Missing Values')"
            ]
          },
          "metadata": {},
          "execution_count": 13
        },
        {
          "output_type": "display_data",
          "data": {
            "text/plain": [
              "<Figure size 500x400 with 2 Axes>"
            ],
            "image/png": "[encoded data removed]"
          },
          "metadata": {}
        }
      ]
    },
    {
      "cell_type": "markdown",
      "source": [
        "### What did you know about your dataset?"
      ],
      "metadata": {
        "id": "H0kj-8xxnORC"
      }
    },
    {
      "cell_type": "markdown",
      "source": [
        "Using the given data we are going to develop a recommender system which would accurately give book recommendation to the users.\n",
        "\n",
        "Books dataset has information of books in 271360 rows and 8 columns. 1 author, 2 publishers and 3 L-image-url are missing. There are no duplicated rows in the dataset.\n",
        "\n",
        "Ratings dataset contains the book rating information in 1149780 rows and 3 columns. The dataset has no missing or duplicate value.\n",
        "\n",
        "Users dataset contains the users info. in 278858 rows and 3 columns. The age column has 110762 many (39.7%) null values with no duplicated rows in the dataset."
      ],
      "metadata": {
        "id": "gfoNAAC-nUe_"
      }
    },
    {
      "cell_type": "markdown",
      "metadata": {
        "id": "nA9Y7ga8ng1Z"
      },
      "source": [
        "## ***2. Understanding Your Variables***"
      ]
    },
    {
      "cell_type": "code",
      "execution_count": 14,
      "metadata": {
        "colab": {
          "base_uri": "https://localhost:8080/"
        },
        "id": "j7xfkqrt5Ag5",
        "outputId": "6a418526-03e2-4e93-ca96-c4077c9b821c"
      },
      "outputs": [
        {
          "output_type": "stream",
          "name": "stdout",
          "text": [
            "Columns in books dataset are:\n",
            " Index(['ISBN', 'Book-Title', 'Book-Author', 'Year-Of-Publication', 'Publisher',\n",
            "       'Image-URL-S', 'Image-URL-M', 'Image-URL-L'],\n",
            "      dtype='object') \n",
            "\n",
            "Columns in ratings dataset are:\n",
            " Index(['User-ID', 'ISBN', 'Book-Rating'], dtype='object') \n",
            "\n",
            "Columns in users dataset are:\n",
            " Index(['User-ID', 'Location', 'Age'], dtype='object')\n"
          ]
        }
      ],
      "source": [
        "# Dataset Columns\n",
        "print('Columns in books dataset are:\\n',books_df.columns,\n",
        "      '\\n\\nColumns in ratings dataset are:\\n',ratings_df.columns,\n",
        "      '\\n\\nColumns in users dataset are:\\n',users_df.columns)"
      ]
    },
    {
      "cell_type": "code",
      "execution_count": 15,
      "metadata": {
        "colab": {
          "base_uri": "https://localhost:8080/",
          "height": 274
        },
        "id": "DnOaZdaE5Q5t",
        "outputId": "820c0a97-1339-4779-c13b-21fe9cdc4ac1"
      },
      "outputs": [
        {
          "output_type": "execute_result",
          "data": {
            "text/plain": [
              "              ISBN      Book-Title      Book-Author  Year-Of-Publication  \\\n",
              "count       271360          271360           271359               271360   \n",
              "unique      271360          242135           102023                  202   \n",
              "top     0195153448  Selected Poems  Agatha Christie                 2002   \n",
              "freq             1              27              632                13903   \n",
              "\n",
              "        Publisher                                        Image-URL-S  \\\n",
              "count      271358                                             271360   \n",
              "unique      16807                                             271044   \n",
              "top     Harlequin  http://images.amazon.com/images/P/185326119X.0...   \n",
              "freq         7535                                                  2   \n",
              "\n",
              "                                              Image-URL-M  \\\n",
              "count                                              271360   \n",
              "unique                                             271044   \n",
              "top     http://images.amazon.com/images/P/185326119X.0...   \n",
              "freq                                                    2   \n",
              "\n",
              "                                              Image-URL-L  \n",
              "count                                              271357  \n",
              "unique                                             271041  \n",
              "top     http://images.amazon.com/images/P/225307649X.0...  \n",
              "freq                                                    2  "
            ],
            "text/html": [
              "\n",
              "  <div id=\"df-e6080a19-e0da-4671-8cc8-4a709a2eb501\">\n",
              "    <div class=\"colab-df-container\">\n",
              "      <div>\n",
              "<style scoped>\n",
              "    .dataframe tbody tr th:only-of-type {\n",
              "        vertical-align: middle;\n",
              "    }\n",
              "\n",
              "    .dataframe tbody tr th {\n",
              "        vertical-align: top;\n",
              "    }\n",
              "\n",
              "    .dataframe thead th {\n",
              "        text-align: right;\n",
              "    }\n",
              "</style>\n",
              "<table border=\"1\" class=\"dataframe\">\n",
              "  <thead>\n",
              "    <tr style=\"text-align: right;\">\n",
              "      <th></th>\n",
              "      <th>ISBN</th>\n",
              "      <th>Book-Title</th>\n",
              "      <th>Book-Author</th>\n",
              "      <th>Year-Of-Publication</th>\n",
              "      <th>Publisher</th>\n",
              "      <th>Image-URL-S</th>\n",
              "      <th>Image-URL-M</th>\n",
              "      <th>Image-URL-L</th>\n",
              "    </tr>\n",
              "  </thead>\n",
              "  <tbody>\n",
              "    <tr>\n",
              "      <th>count</th>\n",
              "      <td>271360</td>\n",
              "      <td>271360</td>\n",
              "      <td>271359</td>\n",
              "      <td>271360</td>\n",
              "      <td>271358</td>\n",
              "      <td>271360</td>\n",
              "      <td>271360</td>\n",
              "      <td>271357</td>\n",
              "    </tr>\n",
              "    <tr>\n",
              "      <th>unique</th>\n",
              "      <td>271360</td>\n",
              "      <td>242135</td>\n",
              "      <td>102023</td>\n",
              "      <td>202</td>\n",
              "      <td>16807</td>\n",
              "      <td>271044</td>\n",
              "      <td>271044</td>\n",
              "      <td>271041</td>\n",
              "    </tr>\n",
              "    <tr>\n",
              "      <th>top</th>\n",
              "      <td>0195153448</td>\n",
              "      <td>Selected Poems</td>\n",
              "      <td>Agatha Christie</td>\n",
              "      <td>2002</td>\n",
              "      <td>Harlequin</td>\n",
              "      <td>http://images.amazon.com/images/P/185326119X.0...</td>\n",
              "      <td>http://images.amazon.com/images/P/185326119X.0...</td>\n",
              "      <td>http://images.amazon.com/images/P/225307649X.0...</td>\n",
              "    </tr>\n",
              "    <tr>\n",
              "      <th>freq</th>\n",
              "      <td>1</td>\n",
              "      <td>27</td>\n",
              "      <td>632</td>\n",
              "      <td>13903</td>\n",
              "      <td>7535</td>\n",
              "      <td>2</td>\n",
              "      <td>2</td>\n",
              "      <td>2</td>\n",
              "    </tr>\n",
              "  </tbody>\n",
              "</table>\n",
              "</div>\n",
              "      <button class=\"colab-df-convert\" onclick=\"convertToInteractive('df-e6080a19-e0da-4671-8cc8-4a709a2eb501')\"\n",
              "              title=\"Convert this dataframe to an interactive table.\"\n",
              "              style=\"display:none;\">\n",
              "        \n",
              "  <svg xmlns=\"http://www.w3.org/2000/svg\" height=\"24px\"viewBox=\"0 0 24 24\"\n",
              "       width=\"24px\">\n",
              "    <path d=\"M0 0h24v24H0V0z\" fill=\"none\"/>\n",
              "    <path d=\"M18.56 5.44l.94 2.06.94-2.06 2.06-.94-2.06-.94-.94-2.06-.94 2.06-2.06.94zm-11 1L8.5 8.5l.94-2.06 2.06-.94-2.06-.94L8.5 2.5l-.94 2.06-2.06.94zm10 10l.94 2.06.94-2.06 2.06-.94-2.06-.94-.94-2.06-.94 2.06-2.06.94z\"/><path d=\"M17.41 7.96l-1.37-1.37c-.4-.4-.92-.59-1.43-.59-.52 0-1.04.2-1.43.59L10.3 9.45l-7.72 7.72c-.78.78-.78 2.05 0 2.83L4 21.41c.39.39.9.59 1.41.59.51 0 1.02-.2 1.41-.59l7.78-7.78 2.81-2.81c.8-.78.8-2.07 0-2.86zM5.41 20L4 18.59l7.72-7.72 1.47 1.35L5.41 20z\"/>\n",
              "  </svg>\n",
              "      </button>\n",
              "      \n",
              "  <style>\n",
              "    .colab-df-container {\n",
              "      display:flex;\n",
              "      flex-wrap:wrap;\n",
              "      gap: 12px;\n",
              "    }\n",
              "\n",
              "    .colab-df-convert {\n",
              "      background-color: #E8F0FE;\n",
              "      border: none;\n",
              "      border-radius: 50%;\n",
              "      cursor: pointer;\n",
              "      display: none;\n",
              "      fill: #1967D2;\n",
              "      height: 32px;\n",
              "      padding: 0 0 0 0;\n",
              "      width: 32px;\n",
              "    }\n",
              "\n",
              "    .colab-df-convert:hover {\n",
              "      background-color: #E2EBFA;\n",
              "      box-shadow: 0px 1px 2px rgba(60, 64, 67, 0.3), 0px 1px 3px 1px rgba(60, 64, 67, 0.15);\n",
              "      fill: #174EA6;\n",
              "    }\n",
              "\n",
              "    [theme=dark] .colab-df-convert {\n",
              "      background-color: #3B4455;\n",
              "      fill: #D2E3FC;\n",
              "    }\n",
              "\n",
              "    [theme=dark] .colab-df-convert:hover {\n",
              "      background-color: #434B5C;\n",
              "      box-shadow: 0px 1px 3px 1px rgba(0, 0, 0, 0.15);\n",
              "      filter: drop-shadow(0px 1px 2px rgba(0, 0, 0, 0.3));\n",
              "      fill: #FFFFFF;\n",
              "    }\n",
              "  </style>\n",
              "\n",
              "      <script>\n",
              "        const buttonEl =\n",
              "          document.querySelector('#df-e6080a19-e0da-4671-8cc8-4a709a2eb501 button.colab-df-convert');\n",
              "        buttonEl.style.display =\n",
              "          google.colab.kernel.accessAllowed ? 'block' : 'none';\n",
              "\n",
              "        async function convertToInteractive(key) {\n",
              "          const element = document.querySelector('#df-e6080a19-e0da-4671-8cc8-4a709a2eb501');\n",
              "          const dataTable =\n",
              "            await google.colab.kernel.invokeFunction('convertToInteractive',\n",
              "                                                     [key], {});\n",
              "          if (!dataTable) return;\n",
              "\n",
              "          const docLinkHtml = 'Like what you see? Visit the ' +\n",
              "            '<a target=\"_blank\" href=https://colab.research.google.com/notebooks/data_table.ipynb>data table notebook</a>'\n",
              "            + ' to learn more about interactive tables.';\n",
              "          element.innerHTML = '';\n",
              "          dataTable['output_type'] = 'display_data';\n",
              "          await google.colab.output.renderOutput(dataTable, element);\n",
              "          const docLink = document.createElement('div');\n",
              "          docLink.innerHTML = docLinkHtml;\n",
              "          element.appendChild(docLink);\n",
              "        }\n",
              "      </script>\n",
              "    </div>\n",
              "  </div>\n",
              "  "
            ]
          },
          "metadata": {},
          "execution_count": 15
        }
      ],
      "source": [
        "# Books Dataset Describe\n",
        "books_df.describe()"
      ]
    },
    {
      "cell_type": "code",
      "execution_count": 16,
      "metadata": {
        "colab": {
          "base_uri": "https://localhost:8080/",
          "height": 300
        },
        "id": "w4c0SYs1YOg8",
        "outputId": "3f4cf623-69d7-40a4-dcd9-57f1ca3de24d"
      },
      "outputs": [
        {
          "output_type": "execute_result",
          "data": {
            "text/plain": [
              "            User-ID   Book-Rating\n",
              "count  1.149780e+06  1.149780e+06\n",
              "mean   1.403864e+05  2.866950e+00\n",
              "std    8.056228e+04  3.854184e+00\n",
              "min    2.000000e+00  0.000000e+00\n",
              "25%    7.034500e+04  0.000000e+00\n",
              "50%    1.410100e+05  0.000000e+00\n",
              "75%    2.110280e+05  7.000000e+00\n",
              "max    2.788540e+05  1.000000e+01"
            ],
            "text/html": [
              "\n",
              "  <div id=\"df-57120fb2-67c3-4c8a-91a3-a50f6ad0a93b\">\n",
              "    <div class=\"colab-df-container\">\n",
              "      <div>\n",
              "<style scoped>\n",
              "    .dataframe tbody tr th:only-of-type {\n",
              "        vertical-align: middle;\n",
              "    }\n",
              "\n",
              "    .dataframe tbody tr th {\n",
              "        vertical-align: top;\n",
              "    }\n",
              "\n",
              "    .dataframe thead th {\n",
              "        text-align: right;\n",
              "    }\n",
              "</style>\n",
              "<table border=\"1\" class=\"dataframe\">\n",
              "  <thead>\n",
              "    <tr style=\"text-align: right;\">\n",
              "      <th></th>\n",
              "      <th>User-ID</th>\n",
              "      <th>Book-Rating</th>\n",
              "    </tr>\n",
              "  </thead>\n",
              "  <tbody>\n",
              "    <tr>\n",
              "      <th>count</th>\n",
              "      <td>1.149780e+06</td>\n",
              "      <td>1.149780e+06</td>\n",
              "    </tr>\n",
              "    <tr>\n",
              "      <th>mean</th>\n",
              "      <td>1.403864e+05</td>\n",
              "      <td>2.866950e+00</td>\n",
              "    </tr>\n",
              "    <tr>\n",
              "      <th>std</th>\n",
              "      <td>8.056228e+04</td>\n",
              "      <td>3.854184e+00</td>\n",
              "    </tr>\n",
              "    <tr>\n",
              "      <th>min</th>\n",
              "      <td>2.000000e+00</td>\n",
              "      <td>0.000000e+00</td>\n",
              "    </tr>\n",
              "    <tr>\n",
              "      <th>25%</th>\n",
              "      <td>7.034500e+04</td>\n",
              "      <td>0.000000e+00</td>\n",
              "    </tr>\n",
              "    <tr>\n",
              "      <th>50%</th>\n",
              "      <td>1.410100e+05</td>\n",
              "      <td>0.000000e+00</td>\n",
              "    </tr>\n",
              "    <tr>\n",
              "      <th>75%</th>\n",
              "      <td>2.110280e+05</td>\n",
              "      <td>7.000000e+00</td>\n",
              "    </tr>\n",
              "    <tr>\n",
              "      <th>max</th>\n",
              "      <td>2.788540e+05</td>\n",
              "      <td>1.000000e+01</td>\n",
              "    </tr>\n",
              "  </tbody>\n",
              "</table>\n",
              "</div>\n",
              "      <button class=\"colab-df-convert\" onclick=\"convertToInteractive('df-57120fb2-67c3-4c8a-91a3-a50f6ad0a93b')\"\n",
              "              title=\"Convert this dataframe to an interactive table.\"\n",
              "              style=\"display:none;\">\n",
              "        \n",
              "  <svg xmlns=\"http://www.w3.org/2000/svg\" height=\"24px\"viewBox=\"0 0 24 24\"\n",
              "       width=\"24px\">\n",
              "    <path d=\"M0 0h24v24H0V0z\" fill=\"none\"/>\n",
              "    <path d=\"M18.56 5.44l.94 2.06.94-2.06 2.06-.94-2.06-.94-.94-2.06-.94 2.06-2.06.94zm-11 1L8.5 8.5l.94-2.06 2.06-.94-2.06-.94L8.5 2.5l-.94 2.06-2.06.94zm10 10l.94 2.06.94-2.06 2.06-.94-2.06-.94-.94-2.06-.94 2.06-2.06.94z\"/><path d=\"M17.41 7.96l-1.37-1.37c-.4-.4-.92-.59-1.43-.59-.52 0-1.04.2-1.43.59L10.3 9.45l-7.72 7.72c-.78.78-.78 2.05 0 2.83L4 21.41c.39.39.9.59 1.41.59.51 0 1.02-.2 1.41-.59l7.78-7.78 2.81-2.81c.8-.78.8-2.07 0-2.86zM5.41 20L4 18.59l7.72-7.72 1.47 1.35L5.41 20z\"/>\n",
              "  </svg>\n",
              "      </button>\n",
              "      \n",
              "  <style>\n",
              "    .colab-df-container {\n",
              "      display:flex;\n",
              "      flex-wrap:wrap;\n",
              "      gap: 12px;\n",
              "    }\n",
              "\n",
              "    .colab-df-convert {\n",
              "      background-color: #E8F0FE;\n",
              "      border: none;\n",
              "      border-radius: 50%;\n",
              "      cursor: pointer;\n",
              "      display: none;\n",
              "      fill: #1967D2;\n",
              "      height: 32px;\n",
              "      padding: 0 0 0 0;\n",
              "      width: 32px;\n",
              "    }\n",
              "\n",
              "    .colab-df-convert:hover {\n",
              "      background-color: #E2EBFA;\n",
              "      box-shadow: 0px 1px 2px rgba(60, 64, 67, 0.3), 0px 1px 3px 1px rgba(60, 64, 67, 0.15);\n",
              "      fill: #174EA6;\n",
              "    }\n",
              "\n",
              "    [theme=dark] .colab-df-convert {\n",
              "      background-color: #3B4455;\n",
              "      fill: #D2E3FC;\n",
              "    }\n",
              "\n",
              "    [theme=dark] .colab-df-convert:hover {\n",
              "      background-color: #434B5C;\n",
              "      box-shadow: 0px 1px 3px 1px rgba(0, 0, 0, 0.15);\n",
              "      filter: drop-shadow(0px 1px 2px rgba(0, 0, 0, 0.3));\n",
              "      fill: #FFFFFF;\n",
              "    }\n",
              "  </style>\n",
              "\n",
              "      <script>\n",
              "        const buttonEl =\n",
              "          document.querySelector('#df-57120fb2-67c3-4c8a-91a3-a50f6ad0a93b button.colab-df-convert');\n",
              "        buttonEl.style.display =\n",
              "          google.colab.kernel.accessAllowed ? 'block' : 'none';\n",
              "\n",
              "        async function convertToInteractive(key) {\n",
              "          const element = document.querySelector('#df-57120fb2-67c3-4c8a-91a3-a50f6ad0a93b');\n",
              "          const dataTable =\n",
              "            await google.colab.kernel.invokeFunction('convertToInteractive',\n",
              "                                                     [key], {});\n",
              "          if (!dataTable) return;\n",
              "\n",
              "          const docLinkHtml = 'Like what you see? Visit the ' +\n",
              "            '<a target=\"_blank\" href=https://colab.research.google.com/notebooks/data_table.ipynb>data table notebook</a>'\n",
              "            + ' to learn more about interactive tables.';\n",
              "          element.innerHTML = '';\n",
              "          dataTable['output_type'] = 'display_data';\n",
              "          await google.colab.output.renderOutput(dataTable, element);\n",
              "          const docLink = document.createElement('div');\n",
              "          docLink.innerHTML = docLinkHtml;\n",
              "          element.appendChild(docLink);\n",
              "        }\n",
              "      </script>\n",
              "    </div>\n",
              "  </div>\n",
              "  "
            ]
          },
          "metadata": {},
          "execution_count": 16
        }
      ],
      "source": [
        "# Ratings Dataset Describe\n",
        "ratings_df.describe()"
      ]
    },
    {
      "cell_type": "markdown",
      "metadata": {
        "id": "rTJu2ghXoVId"
      },
      "source": [
        "Here, in Book_Rating column 50% ratings are 0 i.e., implicitly rated books. So, we need to extract explicit ratings for better results."
      ]
    },
    {
      "cell_type": "code",
      "execution_count": 17,
      "metadata": {
        "colab": {
          "base_uri": "https://localhost:8080/",
          "height": 300
        },
        "id": "6ubj-jyxYOpp",
        "outputId": "200a9140-ce6c-46d0-8167-2d89f57a05a9"
      },
      "outputs": [
        {
          "output_type": "execute_result",
          "data": {
            "text/plain": [
              "            User-ID            Age\n",
              "count  278858.00000  168096.000000\n",
              "mean   139429.50000      34.751434\n",
              "std     80499.51502      14.428097\n",
              "min         1.00000       0.000000\n",
              "25%     69715.25000      24.000000\n",
              "50%    139429.50000      32.000000\n",
              "75%    209143.75000      44.000000\n",
              "max    278858.00000     244.000000"
            ],
            "text/html": [
              "\n",
              "  <div id=\"df-40255a72-066a-435b-a0ad-a6627ebdef88\">\n",
              "    <div class=\"colab-df-container\">\n",
              "      <div>\n",
              "<style scoped>\n",
              "    .dataframe tbody tr th:only-of-type {\n",
              "        vertical-align: middle;\n",
              "    }\n",
              "\n",
              "    .dataframe tbody tr th {\n",
              "        vertical-align: top;\n",
              "    }\n",
              "\n",
              "    .dataframe thead th {\n",
              "        text-align: right;\n",
              "    }\n",
              "</style>\n",
              "<table border=\"1\" class=\"dataframe\">\n",
              "  <thead>\n",
              "    <tr style=\"text-align: right;\">\n",
              "      <th></th>\n",
              "      <th>User-ID</th>\n",
              "      <th>Age</th>\n",
              "    </tr>\n",
              "  </thead>\n",
              "  <tbody>\n",
              "    <tr>\n",
              "      <th>count</th>\n",
              "      <td>278858.00000</td>\n",
              "      <td>168096.000000</td>\n",
              "    </tr>\n",
              "    <tr>\n",
              "      <th>mean</th>\n",
              "      <td>139429.50000</td>\n",
              "      <td>34.751434</td>\n",
              "    </tr>\n",
              "    <tr>\n",
              "      <th>std</th>\n",
              "      <td>80499.51502</td>\n",
              "      <td>14.428097</td>\n",
              "    </tr>\n",
              "    <tr>\n",
              "      <th>min</th>\n",
              "      <td>1.00000</td>\n",
              "      <td>0.000000</td>\n",
              "    </tr>\n",
              "    <tr>\n",
              "      <th>25%</th>\n",
              "      <td>69715.25000</td>\n",
              "      <td>24.000000</td>\n",
              "    </tr>\n",
              "    <tr>\n",
              "      <th>50%</th>\n",
              "      <td>139429.50000</td>\n",
              "      <td>32.000000</td>\n",
              "    </tr>\n",
              "    <tr>\n",
              "      <th>75%</th>\n",
              "      <td>209143.75000</td>\n",
              "      <td>44.000000</td>\n",
              "    </tr>\n",
              "    <tr>\n",
              "      <th>max</th>\n",
              "      <td>278858.00000</td>\n",
              "      <td>244.000000</td>\n",
              "    </tr>\n",
              "  </tbody>\n",
              "</table>\n",
              "</div>\n",
              "      <button class=\"colab-df-convert\" onclick=\"convertToInteractive('df-40255a72-066a-435b-a0ad-a6627ebdef88')\"\n",
              "              title=\"Convert this dataframe to an interactive table.\"\n",
              "              style=\"display:none;\">\n",
              "        \n",
              "  <svg xmlns=\"http://www.w3.org/2000/svg\" height=\"24px\"viewBox=\"0 0 24 24\"\n",
              "       width=\"24px\">\n",
              "    <path d=\"M0 0h24v24H0V0z\" fill=\"none\"/>\n",
              "    <path d=\"M18.56 5.44l.94 2.06.94-2.06 2.06-.94-2.06-.94-.94-2.06-.94 2.06-2.06.94zm-11 1L8.5 8.5l.94-2.06 2.06-.94-2.06-.94L8.5 2.5l-.94 2.06-2.06.94zm10 10l.94 2.06.94-2.06 2.06-.94-2.06-.94-.94-2.06-.94 2.06-2.06.94z\"/><path d=\"M17.41 7.96l-1.37-1.37c-.4-.4-.92-.59-1.43-.59-.52 0-1.04.2-1.43.59L10.3 9.45l-7.72 7.72c-.78.78-.78 2.05 0 2.83L4 21.41c.39.39.9.59 1.41.59.51 0 1.02-.2 1.41-.59l7.78-7.78 2.81-2.81c.8-.78.8-2.07 0-2.86zM5.41 20L4 18.59l7.72-7.72 1.47 1.35L5.41 20z\"/>\n",
              "  </svg>\n",
              "      </button>\n",
              "      \n",
              "  <style>\n",
              "    .colab-df-container {\n",
              "      display:flex;\n",
              "      flex-wrap:wrap;\n",
              "      gap: 12px;\n",
              "    }\n",
              "\n",
              "    .colab-df-convert {\n",
              "      background-color: #E8F0FE;\n",
              "      border: none;\n",
              "      border-radius: 50%;\n",
              "      cursor: pointer;\n",
              "      display: none;\n",
              "      fill: #1967D2;\n",
              "      height: 32px;\n",
              "      padding: 0 0 0 0;\n",
              "      width: 32px;\n",
              "    }\n",
              "\n",
              "    .colab-df-convert:hover {\n",
              "      background-color: #E2EBFA;\n",
              "      box-shadow: 0px 1px 2px rgba(60, 64, 67, 0.3), 0px 1px 3px 1px rgba(60, 64, 67, 0.15);\n",
              "      fill: #174EA6;\n",
              "    }\n",
              "\n",
              "    [theme=dark] .colab-df-convert {\n",
              "      background-color: #3B4455;\n",
              "      fill: #D2E3FC;\n",
              "    }\n",
              "\n",
              "    [theme=dark] .colab-df-convert:hover {\n",
              "      background-color: #434B5C;\n",
              "      box-shadow: 0px 1px 3px 1px rgba(0, 0, 0, 0.15);\n",
              "      filter: drop-shadow(0px 1px 2px rgba(0, 0, 0, 0.3));\n",
              "      fill: #FFFFFF;\n",
              "    }\n",
              "  </style>\n",
              "\n",
              "      <script>\n",
              "        const buttonEl =\n",
              "          document.querySelector('#df-40255a72-066a-435b-a0ad-a6627ebdef88 button.colab-df-convert');\n",
              "        buttonEl.style.display =\n",
              "          google.colab.kernel.accessAllowed ? 'block' : 'none';\n",
              "\n",
              "        async function convertToInteractive(key) {\n",
              "          const element = document.querySelector('#df-40255a72-066a-435b-a0ad-a6627ebdef88');\n",
              "          const dataTable =\n",
              "            await google.colab.kernel.invokeFunction('convertToInteractive',\n",
              "                                                     [key], {});\n",
              "          if (!dataTable) return;\n",
              "\n",
              "          const docLinkHtml = 'Like what you see? Visit the ' +\n",
              "            '<a target=\"_blank\" href=https://colab.research.google.com/notebooks/data_table.ipynb>data table notebook</a>'\n",
              "            + ' to learn more about interactive tables.';\n",
              "          element.innerHTML = '';\n",
              "          dataTable['output_type'] = 'display_data';\n",
              "          await google.colab.output.renderOutput(dataTable, element);\n",
              "          const docLink = document.createElement('div');\n",
              "          docLink.innerHTML = docLinkHtml;\n",
              "          element.appendChild(docLink);\n",
              "        }\n",
              "      </script>\n",
              "    </div>\n",
              "  </div>\n",
              "  "
            ]
          },
          "metadata": {},
          "execution_count": 17
        }
      ],
      "source": [
        "# Users Dataset Describe\n",
        "users_df.describe()"
      ]
    },
    {
      "cell_type": "markdown",
      "metadata": {
        "id": "362INl9raU-j"
      },
      "source": [
        "There are outliers in the age column as the min. age is 0 and max. age is 244 years."
      ]
    },
    {
      "cell_type": "markdown",
      "metadata": {
        "id": "u3PMJOP6ngxN"
      },
      "source": [
        "### Check Unique Values for each variable."
      ]
    },
    {
      "cell_type": "code",
      "execution_count": 18,
      "metadata": {
        "colab": {
          "base_uri": "https://localhost:8080/"
        },
        "id": "zms12Yq5n-jE",
        "outputId": "965010af-3b46-460e-ba66-4ed7260d0391"
      },
      "outputs": [
        {
          "output_type": "stream",
          "name": "stdout",
          "text": [
            "(271360, 8) \n",
            "\n"
          ]
        },
        {
          "output_type": "execute_result",
          "data": {
            "text/plain": [
              "ISBN                   271360\n",
              "Book-Title             242135\n",
              "Book-Author            102023\n",
              "Year-Of-Publication       202\n",
              "Publisher               16807\n",
              "Image-URL-S            271044\n",
              "Image-URL-M            271044\n",
              "Image-URL-L            271041\n",
              "dtype: int64"
            ]
          },
          "metadata": {},
          "execution_count": 18
        }
      ],
      "source": [
        "# Check Unique Values for each variable in books dataset.\n",
        "print(books_df.shape,'\\n')\n",
        "books_df.nunique()"
      ]
    },
    {
      "cell_type": "markdown",
      "metadata": {
        "id": "N5DKurMQp7gq"
      },
      "source": [
        "Unique values in ISBN are more than that in Book-Title. This means some titles have multiple ISBNs because the year of release (revised editions),versions or publishing companies may be different. I'll drop the duplicated titles later if their users and ratings are same."
      ]
    },
    {
      "cell_type": "code",
      "execution_count": 19,
      "metadata": {
        "colab": {
          "base_uri": "https://localhost:8080/"
        },
        "id": "Nir45HOzpJby",
        "outputId": "375d8264-6456-4695-b741-85e3c90d15e9"
      },
      "outputs": [
        {
          "output_type": "stream",
          "name": "stdout",
          "text": [
            "(1149780, 3) \n",
            "\n"
          ]
        },
        {
          "output_type": "execute_result",
          "data": {
            "text/plain": [
              "User-ID        105283\n",
              "ISBN           340556\n",
              "Book-Rating        11\n",
              "dtype: int64"
            ]
          },
          "metadata": {},
          "execution_count": 19
        }
      ],
      "source": [
        "# Check Unique Values for each variable in ratings dataset.\n",
        "print(ratings_df.shape,'\\n')\n",
        "ratings_df.nunique()"
      ]
    },
    {
      "cell_type": "code",
      "execution_count": 20,
      "metadata": {
        "colab": {
          "base_uri": "https://localhost:8080/"
        },
        "id": "jbZYazj8pTLS",
        "outputId": "587a2a8a-9a01-48b7-8cc5-529b6ee748cb"
      },
      "outputs": [
        {
          "output_type": "stream",
          "name": "stdout",
          "text": [
            "(278858, 3) \n",
            "\n"
          ]
        },
        {
          "output_type": "execute_result",
          "data": {
            "text/plain": [
              "User-ID     278858\n",
              "Location     57339\n",
              "Age            165\n",
              "dtype: int64"
            ]
          },
          "metadata": {},
          "execution_count": 20
        }
      ],
      "source": [
        "# Check Unique Values for each variable in users dataset.\n",
        "print(users_df.shape,'\\n')\n",
        "users_df.nunique()"
      ]
    },
    {
      "cell_type": "markdown",
      "metadata": {
        "id": "dauF4eBmngu3"
      },
      "source": [
        "## ***3. Data Wrangling***"
      ]
    },
    {
      "cell_type": "markdown",
      "metadata": {
        "id": "Wte6Rx0ebXQu"
      },
      "source": [
        "### Renaming the Columns"
      ]
    },
    {
      "cell_type": "code",
      "execution_count": 21,
      "metadata": {
        "id": "wk-9a2fpoLcV"
      },
      "outputs": [],
      "source": [
        "# Write your code to make your dataset analysis ready.\n",
        "\n",
        "# first I rename the columns in the dataframes \n",
        "books_df.rename(columns={'ISBN':'isbn','Book-Title':'title','Book-Author':'author','Publisher':'publisher','Image-URL-M':'image_url_m',\n",
        "                         'Image-URL-L':'image_url_l'},inplace=True)\n",
        "\n",
        "ratings_df.rename(columns={'User-ID':'user_id','ISBN':'isbn','Book-Rating':'rating'},inplace=True)\n",
        "\n",
        "users_df.rename(columns={'User-ID':'user_id'},inplace=True)"
      ]
    },
    {
      "cell_type": "markdown",
      "metadata": {
        "id": "C-MohuoGh0cs"
      },
      "source": [
        "###Filling the Missing Values in 'author' and 'publisher' Columns "
      ]
    },
    {
      "cell_type": "code",
      "execution_count": 22,
      "metadata": {
        "colab": {
          "base_uri": "https://localhost:8080/",
          "height": 266
        },
        "id": "a1eA8pjWZzW7",
        "outputId": "a1f397eb-9366-4133-c51b-ee68889b4e10"
      },
      "outputs": [
        {
          "output_type": "execute_result",
          "data": {
            "text/plain": [
              "              isbn                                              title author  \\\n",
              "187689  9627982032  The Credit Suisse Guide to Managing Your Perso...    NaN   \n",
              "\n",
              "       Year-Of-Publication                       publisher  \\\n",
              "187689                1995  Edinburgh Financial Publishing   \n",
              "\n",
              "                                              Image-URL-S  \\\n",
              "187689  http://images.amazon.com/images/P/9627982032.0...   \n",
              "\n",
              "                                              image_url_m  \\\n",
              "187689  http://images.amazon.com/images/P/9627982032.0...   \n",
              "\n",
              "                                              image_url_l  \n",
              "187689  http://images.amazon.com/images/P/9627982032.0...  "
            ],
            "text/html": [
              "\n",
              "  <div id=\"df-6e2befb2-b03c-429b-ad24-7acaa80d2ba6\">\n",
              "    <div class=\"colab-df-container\">\n",
              "      <div>\n",
              "<style scoped>\n",
              "    .dataframe tbody tr th:only-of-type {\n",
              "        vertical-align: middle;\n",
              "    }\n",
              "\n",
              "    .dataframe tbody tr th {\n",
              "        vertical-align: top;\n",
              "    }\n",
              "\n",
              "    .dataframe thead th {\n",
              "        text-align: right;\n",
              "    }\n",
              "</style>\n",
              "<table border=\"1\" class=\"dataframe\">\n",
              "  <thead>\n",
              "    <tr style=\"text-align: right;\">\n",
              "      <th></th>\n",
              "      <th>isbn</th>\n",
              "      <th>title</th>\n",
              "      <th>author</th>\n",
              "      <th>Year-Of-Publication</th>\n",
              "      <th>publisher</th>\n",
              "      <th>Image-URL-S</th>\n",
              "      <th>image_url_m</th>\n",
              "      <th>image_url_l</th>\n",
              "    </tr>\n",
              "  </thead>\n",
              "  <tbody>\n",
              "    <tr>\n",
              "      <th>187689</th>\n",
              "      <td>9627982032</td>\n",
              "      <td>The Credit Suisse Guide to Managing Your Perso...</td>\n",
              "      <td>NaN</td>\n",
              "      <td>1995</td>\n",
              "      <td>Edinburgh Financial Publishing</td>\n",
              "      <td>http://images.amazon.com/images/P/9627982032.0...</td>\n",
              "      <td>http://images.amazon.com/images/P/9627982032.0...</td>\n",
              "      <td>http://images.amazon.com/images/P/9627982032.0...</td>\n",
              "    </tr>\n",
              "  </tbody>\n",
              "</table>\n",
              "</div>\n",
              "      <button class=\"colab-df-convert\" onclick=\"convertToInteractive('df-6e2befb2-b03c-429b-ad24-7acaa80d2ba6')\"\n",
              "              title=\"Convert this dataframe to an interactive table.\"\n",
              "              style=\"display:none;\">\n",
              "        \n",
              "  <svg xmlns=\"http://www.w3.org/2000/svg\" height=\"24px\"viewBox=\"0 0 24 24\"\n",
              "       width=\"24px\">\n",
              "    <path d=\"M0 0h24v24H0V0z\" fill=\"none\"/>\n",
              "    <path d=\"M18.56 5.44l.94 2.06.94-2.06 2.06-.94-2.06-.94-.94-2.06-.94 2.06-2.06.94zm-11 1L8.5 8.5l.94-2.06 2.06-.94-2.06-.94L8.5 2.5l-.94 2.06-2.06.94zm10 10l.94 2.06.94-2.06 2.06-.94-2.06-.94-.94-2.06-.94 2.06-2.06.94z\"/><path d=\"M17.41 7.96l-1.37-1.37c-.4-.4-.92-.59-1.43-.59-.52 0-1.04.2-1.43.59L10.3 9.45l-7.72 7.72c-.78.78-.78 2.05 0 2.83L4 21.41c.39.39.9.59 1.41.59.51 0 1.02-.2 1.41-.59l7.78-7.78 2.81-2.81c.8-.78.8-2.07 0-2.86zM5.41 20L4 18.59l7.72-7.72 1.47 1.35L5.41 20z\"/>\n",
              "  </svg>\n",
              "      </button>\n",
              "      \n",
              "  <style>\n",
              "    .colab-df-container {\n",
              "      display:flex;\n",
              "      flex-wrap:wrap;\n",
              "      gap: 12px;\n",
              "    }\n",
              "\n",
              "    .colab-df-convert {\n",
              "      background-color: #E8F0FE;\n",
              "      border: none;\n",
              "      border-radius: 50%;\n",
              "      cursor: pointer;\n",
              "      display: none;\n",
              "      fill: #1967D2;\n",
              "      height: 32px;\n",
              "      padding: 0 0 0 0;\n",
              "      width: 32px;\n",
              "    }\n",
              "\n",
              "    .colab-df-convert:hover {\n",
              "      background-color: #E2EBFA;\n",
              "      box-shadow: 0px 1px 2px rgba(60, 64, 67, 0.3), 0px 1px 3px 1px rgba(60, 64, 67, 0.15);\n",
              "      fill: #174EA6;\n",
              "    }\n",
              "\n",
              "    [theme=dark] .colab-df-convert {\n",
              "      background-color: #3B4455;\n",
              "      fill: #D2E3FC;\n",
              "    }\n",
              "\n",
              "    [theme=dark] .colab-df-convert:hover {\n",
              "      background-color: #434B5C;\n",
              "      box-shadow: 0px 1px 3px 1px rgba(0, 0, 0, 0.15);\n",
              "      filter: drop-shadow(0px 1px 2px rgba(0, 0, 0, 0.3));\n",
              "      fill: #FFFFFF;\n",
              "    }\n",
              "  </style>\n",
              "\n",
              "      <script>\n",
              "        const buttonEl =\n",
              "          document.querySelector('#df-6e2befb2-b03c-429b-ad24-7acaa80d2ba6 button.colab-df-convert');\n",
              "        buttonEl.style.display =\n",
              "          google.colab.kernel.accessAllowed ? 'block' : 'none';\n",
              "\n",
              "        async function convertToInteractive(key) {\n",
              "          const element = document.querySelector('#df-6e2befb2-b03c-429b-ad24-7acaa80d2ba6');\n",
              "          const dataTable =\n",
              "            await google.colab.kernel.invokeFunction('convertToInteractive',\n",
              "                                                     [key], {});\n",
              "          if (!dataTable) return;\n",
              "\n",
              "          const docLinkHtml = 'Like what you see? Visit the ' +\n",
              "            '<a target=\"_blank\" href=https://colab.research.google.com/notebooks/data_table.ipynb>data table notebook</a>'\n",
              "            + ' to learn more about interactive tables.';\n",
              "          element.innerHTML = '';\n",
              "          dataTable['output_type'] = 'display_data';\n",
              "          await google.colab.output.renderOutput(dataTable, element);\n",
              "          const docLink = document.createElement('div');\n",
              "          docLink.innerHTML = docLinkHtml;\n",
              "          element.appendChild(docLink);\n",
              "        }\n",
              "      </script>\n",
              "    </div>\n",
              "  </div>\n",
              "  "
            ]
          },
          "metadata": {},
          "execution_count": 22
        }
      ],
      "source": [
        "# Checking the missing book-author\n",
        "books_df[books_df['author'].isna()]\n"
      ]
    },
    {
      "cell_type": "code",
      "execution_count": 23,
      "metadata": {
        "id": "4apXXJIqisC4"
      },
      "outputs": [],
      "source": [
        "# Filling the null value\n",
        "books_df.loc[187689, 'author'] = 'Larissa Anne Downes'"
      ]
    },
    {
      "cell_type": "code",
      "execution_count": 24,
      "metadata": {
        "colab": {
          "base_uri": "https://localhost:8080/",
          "height": 228
        },
        "id": "CDVm3ZkhoHgA",
        "outputId": "68e6f820-7799-4281-d608-74e4d73e3495"
      },
      "outputs": [
        {
          "output_type": "execute_result",
          "data": {
            "text/plain": [
              "              isbn            title           author Year-Of-Publication  \\\n",
              "128890  193169656X      Tyrant Moon  Elaine Corvidae                2002   \n",
              "129037  1931696993  Finders Keepers  Linnea Sinclair                2001   \n",
              "\n",
              "       publisher                                        Image-URL-S  \\\n",
              "128890       NaN  http://images.amazon.com/images/P/193169656X.0...   \n",
              "129037       NaN  http://images.amazon.com/images/P/1931696993.0...   \n",
              "\n",
              "                                              image_url_m  \\\n",
              "128890  http://images.amazon.com/images/P/193169656X.0...   \n",
              "129037  http://images.amazon.com/images/P/1931696993.0...   \n",
              "\n",
              "                                              image_url_l  \n",
              "128890  http://images.amazon.com/images/P/193169656X.0...  \n",
              "129037  http://images.amazon.com/images/P/1931696993.0...  "
            ],
            "text/html": [
              "\n",
              "  <div id=\"df-b5984152-a23b-498f-8862-c717ae14c78c\">\n",
              "    <div class=\"colab-df-container\">\n",
              "      <div>\n",
              "<style scoped>\n",
              "    .dataframe tbody tr th:only-of-type {\n",
              "        vertical-align: middle;\n",
              "    }\n",
              "\n",
              "    .dataframe tbody tr th {\n",
              "        vertical-align: top;\n",
              "    }\n",
              "\n",
              "    .dataframe thead th {\n",
              "        text-align: right;\n",
              "    }\n",
              "</style>\n",
              "<table border=\"1\" class=\"dataframe\">\n",
              "  <thead>\n",
              "    <tr style=\"text-align: right;\">\n",
              "      <th></th>\n",
              "      <th>isbn</th>\n",
              "      <th>title</th>\n",
              "      <th>author</th>\n",
              "      <th>Year-Of-Publication</th>\n",
              "      <th>publisher</th>\n",
              "      <th>Image-URL-S</th>\n",
              "      <th>image_url_m</th>\n",
              "      <th>image_url_l</th>\n",
              "    </tr>\n",
              "  </thead>\n",
              "  <tbody>\n",
              "    <tr>\n",
              "      <th>128890</th>\n",
              "      <td>193169656X</td>\n",
              "      <td>Tyrant Moon</td>\n",
              "      <td>Elaine Corvidae</td>\n",
              "      <td>2002</td>\n",
              "      <td>NaN</td>\n",
              "      <td>http://images.amazon.com/images/P/193169656X.0...</td>\n",
              "      <td>http://images.amazon.com/images/P/193169656X.0...</td>\n",
              "      <td>http://images.amazon.com/images/P/193169656X.0...</td>\n",
              "    </tr>\n",
              "    <tr>\n",
              "      <th>129037</th>\n",
              "      <td>1931696993</td>\n",
              "      <td>Finders Keepers</td>\n",
              "      <td>Linnea Sinclair</td>\n",
              "      <td>2001</td>\n",
              "      <td>NaN</td>\n",
              "      <td>http://images.amazon.com/images/P/1931696993.0...</td>\n",
              "      <td>http://images.amazon.com/images/P/1931696993.0...</td>\n",
              "      <td>http://images.amazon.com/images/P/1931696993.0...</td>\n",
              "    </tr>\n",
              "  </tbody>\n",
              "</table>\n",
              "</div>\n",
              "      <button class=\"colab-df-convert\" onclick=\"convertToInteractive('df-b5984152-a23b-498f-8862-c717ae14c78c')\"\n",
              "              title=\"Convert this dataframe to an interactive table.\"\n",
              "              style=\"display:none;\">\n",
              "        \n",
              "  <svg xmlns=\"http://www.w3.org/2000/svg\" height=\"24px\"viewBox=\"0 0 24 24\"\n",
              "       width=\"24px\">\n",
              "    <path d=\"M0 0h24v24H0V0z\" fill=\"none\"/>\n",
              "    <path d=\"M18.56 5.44l.94 2.06.94-2.06 2.06-.94-2.06-.94-.94-2.06-.94 2.06-2.06.94zm-11 1L8.5 8.5l.94-2.06 2.06-.94-2.06-.94L8.5 2.5l-.94 2.06-2.06.94zm10 10l.94 2.06.94-2.06 2.06-.94-2.06-.94-.94-2.06-.94 2.06-2.06.94z\"/><path d=\"M17.41 7.96l-1.37-1.37c-.4-.4-.92-.59-1.43-.59-.52 0-1.04.2-1.43.59L10.3 9.45l-7.72 7.72c-.78.78-.78 2.05 0 2.83L4 21.41c.39.39.9.59 1.41.59.51 0 1.02-.2 1.41-.59l7.78-7.78 2.81-2.81c.8-.78.8-2.07 0-2.86zM5.41 20L4 18.59l7.72-7.72 1.47 1.35L5.41 20z\"/>\n",
              "  </svg>\n",
              "      </button>\n",
              "      \n",
              "  <style>\n",
              "    .colab-df-container {\n",
              "      display:flex;\n",
              "      flex-wrap:wrap;\n",
              "      gap: 12px;\n",
              "    }\n",
              "\n",
              "    .colab-df-convert {\n",
              "      background-color: #E8F0FE;\n",
              "      border: none;\n",
              "      border-radius: 50%;\n",
              "      cursor: pointer;\n",
              "      display: none;\n",
              "      fill: #1967D2;\n",
              "      height: 32px;\n",
              "      padding: 0 0 0 0;\n",
              "      width: 32px;\n",
              "    }\n",
              "\n",
              "    .colab-df-convert:hover {\n",
              "      background-color: #E2EBFA;\n",
              "      box-shadow: 0px 1px 2px rgba(60, 64, 67, 0.3), 0px 1px 3px 1px rgba(60, 64, 67, 0.15);\n",
              "      fill: #174EA6;\n",
              "    }\n",
              "\n",
              "    [theme=dark] .colab-df-convert {\n",
              "      background-color: #3B4455;\n",
              "      fill: #D2E3FC;\n",
              "    }\n",
              "\n",
              "    [theme=dark] .colab-df-convert:hover {\n",
              "      background-color: #434B5C;\n",
              "      box-shadow: 0px 1px 3px 1px rgba(0, 0, 0, 0.15);\n",
              "      filter: drop-shadow(0px 1px 2px rgba(0, 0, 0, 0.3));\n",
              "      fill: #FFFFFF;\n",
              "    }\n",
              "  </style>\n",
              "\n",
              "      <script>\n",
              "        const buttonEl =\n",
              "          document.querySelector('#df-b5984152-a23b-498f-8862-c717ae14c78c button.colab-df-convert');\n",
              "        buttonEl.style.display =\n",
              "          google.colab.kernel.accessAllowed ? 'block' : 'none';\n",
              "\n",
              "        async function convertToInteractive(key) {\n",
              "          const element = document.querySelector('#df-b5984152-a23b-498f-8862-c717ae14c78c');\n",
              "          const dataTable =\n",
              "            await google.colab.kernel.invokeFunction('convertToInteractive',\n",
              "                                                     [key], {});\n",
              "          if (!dataTable) return;\n",
              "\n",
              "          const docLinkHtml = 'Like what you see? Visit the ' +\n",
              "            '<a target=\"_blank\" href=https://colab.research.google.com/notebooks/data_table.ipynb>data table notebook</a>'\n",
              "            + ' to learn more about interactive tables.';\n",
              "          element.innerHTML = '';\n",
              "          dataTable['output_type'] = 'display_data';\n",
              "          await google.colab.output.renderOutput(dataTable, element);\n",
              "          const docLink = document.createElement('div');\n",
              "          docLink.innerHTML = docLinkHtml;\n",
              "          element.appendChild(docLink);\n",
              "        }\n",
              "      </script>\n",
              "    </div>\n",
              "  </div>\n",
              "  "
            ]
          },
          "metadata": {},
          "execution_count": 24
        }
      ],
      "source": [
        "# Finding missing Publishers\n",
        "books_df[books_df['publisher'].isna()]"
      ]
    },
    {
      "cell_type": "code",
      "execution_count": 25,
      "metadata": {
        "id": "sY0Sf7Qv08fr"
      },
      "outputs": [],
      "source": [
        "# Replacing NaNs with publisher names\n",
        "books_df.loc[128890, 'publisher'] = 'NovelBooks, Inc'\n",
        "books_df.loc[129037, 'publisher'] = 'NovelBooks, Inc'"
      ]
    },
    {
      "cell_type": "markdown",
      "metadata": {
        "id": "JCm34x90b0tZ"
      },
      "source": [
        "### Getting the Country names of the Users"
      ]
    },
    {
      "cell_type": "code",
      "execution_count": 26,
      "metadata": {
        "id": "lvKyKIey-1Wv"
      },
      "outputs": [],
      "source": [
        "# Extracting the country names from users_df\n",
        "for i in users_df:\n",
        "    users_df['country']=users_df.Location.str.extract(r'\\,+\\s?(\\w*\\s?\\w*)\\\"*$')"
      ]
    },
    {
      "cell_type": "code",
      "execution_count": 27,
      "metadata": {
        "colab": {
          "base_uri": "https://localhost:8080/"
        },
        "id": "LDZdFEKroRWJ",
        "outputId": "613b5e8d-4a57-462a-83d9-ff3339ccf0ba"
      },
      "outputs": [
        {
          "output_type": "stream",
          "name": "stdout",
          "text": [
            "{'', nan, 'shelby', 'lombardia', 'palestine', 'nyhamnsläge', 'bfe', 'madagascar', 'turkei', 'la argentina', 'ecuador', 'milano', 'belgique', 'senegal', 'catalunya spain', 'san bernardino', 'yakima', 'méxico', 'north korea', 'denmark', 'mexico', 'macedonia', 'albania', 'bolivia', 'hamilton', 'cape verde', 'uae', 'uusa', 'united kingdom', 'suriname', 'comoros', 'granville', 'togo', 'azerbaijan', 'aaa', 'zhengjiang', 'holland', 'fontana', 'xxxxxx', 'burlington', 'id', 'namibia', 'bernalillo', 'madrid', 'travelling', 'ferrara', 'suisse', 'guernsey', 'bademn würtemberg', 'maldives', 'nederlands', 'petrolwar nation', 'saint loius', 'malaysia', 'canada eh', 'berguedà', 'nicaragua', 'tyrtyrt', 'osceola', 'japan', 'greece', 'chinaöð¹ú', 'united staes', 'barbados', 'victoria', 'cayman islands', 'l', 'worcester', 'cnina', 'butler', 'framingham', 'antarctica', 'baltimore', 'le canada', 'benin', 'fulton', 'england', 'united states', 'no more', 'belarus', 'gb', 'usa', 'sicilia', 'clinton', 'fortaleza', 'croatia', 'lkjlj', 'der', 'russia', 'paraguay', 'american samoa', 'korea', 'new zealand', 'hampden', 'la svizzera', 'camden', 'pippo', 'serbia', 'burkinafasu', 'monterrey', 'taiwan', 'phippines', 'bih', 'burma', 'pakistan', 'uruguay', 'galiza neghra', 'france', 'pinallas', 'ua', 'galiza', 'fred', 'ukraine', 'iceland', 'luxembourg', 'euskal herria', 'belgi', 'allen', 'universe', 'bucks', 'slo', 'cuba', 'ouranos', 'dominica', 'somewherein space', 'moçambique', 'singapore', 'x', 'brunei darussalam', 'bkk', 'vorce', 'slovenia', 'ghana', 'botswana', 'philippinies', 'phils', 'angola', 'malaysian', 'united kindgdom', 'hernando', 'samoa', 'tanzania', 'kenya', 'tonga', 'nepal', 'palau', 'monaco', 'morgan', 'ama lurra', 'prc', 'mali', 'houston', 'nh', 'portugal', 'liberia', 'kiribati', 'öð¹ú', 'uzbekistan', 'haiti', 'none', 'congo', 'ventura county', 'vatican city', 'strongbadia', 'dauphin', 'asturies', 'dfg', 'fiji', 'chian', 'polk', 'orange co', 'sardinia', 'sweden', 'laos', 'macau', 'xinyu', 'collin', 'richmond country', '87510', 'solomon islands', 'austria', 'phila', 'gabon', 'england uk', 'nigeria', 'germany', 'saudia arabia', 'bell', 'le madagascar', 'india', 'space', 'ahrensburg', 'channel islands', 'lleida', 'alderney', 'az', 'bahamas', 'mozambique', 'canada', 'honduras', 'ventura', 'equatorial geuinea', 'copenhagen', 'lane', 'heaven', 'k1c7b1', 'east africa', 'malta', 'rsa', 'united state', 'frome', 'europa', 'henry', 'can', 'saint luica', 'aroostook', 'oman', 'zimbabwe', 'europe', 'australii', 'lornsenland', 'queensland', 'liaoning', 'jordan', 'tajikistan', 'guam', 'baxter', 'north carolina', 'brazil', 'kazakhstan', 'micronesia', 'northern ireland', 'cyprus', 'roma', 'zambia', 'perãº', 'russian federation', 'hidalgo', 'california', 'lj', 'afghanistan', 'cambodia', 'unite states', 'guinea', 'vietnam', '19104', 'hong kong', 'poland', 'marshall islands', 'csa', 'lesotho', 'italien', 'cook', 'wonderful usa', 'america', '02458', 'tdzimi', 'kz', 'indonesia', 'pistlavakia', 'maine', 'rice', 'thing', 'dominican republic', 'españa', 'the', 'monroe', 'onondaga nation', 'sardegna', 'srilanka', 'unit', 'algérie', 'peru', 'west yorkshire', 'dekalb', 'queenspark', 'jersey', 'phillipines', 'kosovo', 'aruba', 'myanmar', 'missouri', 'belize', 'evil empire', 'yanhill', '_ brasil', 'alachua', 'slovak republik', 'wood', 'us', 'lake', 'basilicata', 'brasil', 'türkiye', 'chile', 'lee', 'china', 'z', 'argentina', 'ust', 'latvia', 'bavaria', 'rutherford', 'egypt', 'algeria', 'uganda', 'netherlands antilles', 'jamaica', 'ireland', 'windham', 'washtenaw', 'catalunya', 'basque country', 'austbritania', 'cherokee', 'yugoslavia', 'rosello', '85021', 'hornyonic', 'cameroon', 'distrito federal', 'australia', 'euskadi', 'scotland', 'spotsylvania', 'switzerland', 'canda', 'sri lanka', 'pasco', 'united statea', 'swaziland', 'essex', 'harvatija', 'la belgique', 'iran', 'marrion', 'armenia', 'faroe islands', 'livingston', 'texas', 'djibouti', 'south africa', 'minnehaha', 'whatcom', 'aotearoa', 'lithuania', 'wales', 'puerto rico', 'china öð¹ú', 'lazio', 'qatar', 'norway', 'mauritania', 'autralia', 'calabria', 'effingham', 'the philippines', 'holy see', 'swazilandia', 'orense', '23232', 'bosnia', 'turkmenistan', 'nz', 'pender', 'polska', 'deutschland', 'rmi', 'sierra leone', '30064', 'itlay', 'finland', 'la france', 'mordor', 'adsgfdr', 'buncombe', 'côte d', 'malawi', 'doodedoo', 'nyc', 'eritrea', 'maricopa', 'israel', 'turkey', 'fairyland', 'thailand', 'carter', 'nrw', 'spain', 'mongolia', 'rosario', 'van wert', 'geermany', 'liushi', 'cass', 'saudi arabia', 'rapides', 'bladen', 'ethiopia', 'san franicsco', 'vicenza', 'maracopa', 'chad', 'bbbzzzzz', 'quit', 'smith', 'prince william', 'oakland', 'el salvador', 'fort bend', 'vanuatu', 'pueblo', 'brunei', 'ussurfing', 'indiai', 'somalia', 'lecce', 'romania', 'la suisse', 'slovakia', 'input error', 'italia', 'cananda', 'mauritius', 'tobago', 'caribbean sea', 'ohio', 'a', 'united stated', 'johnson', 'neverland', 'uyo', 'mérida', 'kern', 'hillsborough', 'morocco', 'united sates', 'ukrain', 'newzealand', 'bermuda', 'london', 'pr', 'solano', 'auckland', 'catalonia', 'hennipen', 'italy', 'netherlands', 'pa', 'san mateo', 'colombia', 'san marino', 'grenada', 'kuwait', 'u', 'toscana', 'the gambia', 'sudan', 'urugua', 'iraq', 'syria', '01776', 'guyana', 'my', 'estonia', 'philippine', 'bulgaria', 'panama', 'new london', 'nowhere', 'unknown', 'tunisia', 'hungary', 'u k', 'ysa', 'nl', 'de', 'venezuela', 'fifi', 'guatemala', 'bhutan', 'south korea', 'clackamas', 'bahrain', 'the netherlands', 'deutsches reich', 'kyrgyzstan', 'cadd0', 'davidson', 'germay', 'goteborg', 'c', 'niger', 'maroc', 'georgia', 'rwanda', 'yunling', 'dublin', 'hongkong', 'palm beach', 'courtenay', 'yemen', 'english', 'libya', 'il canada', 'cape town', 'lebanon', 'bangladesh', 'belgium', 'cn', 'uk', 'country', 'cape may', 'costa rica', 'thailoand', 'isreal', 'czech republic', 'philippines', 'burkina faso', 'moldova', 'valtesse', 'santa barbara', 'diy', 'in', 'saint lucia', 'trinidad', 'andorra', 'ksa', 'united kindgonm', 'jackson'}\n"
          ]
        }
      ],
      "source": [
        "# Displaying the country names\n",
        "print(set(users_df['country']))"
      ]
    },
    {
      "cell_type": "code",
      "execution_count": 28,
      "metadata": {
        "id": "OyDlXxpKVkiA"
      },
      "outputs": [],
      "source": [
        "# Correcting the misspelled country names\n",
        "\n",
        "users_df.loc[users_df['country'].isin(['australii','autralia','western australia']), 'country'] = 'Australia'\n",
        "\n",
        "users_df.loc[users_df['country'].isin(['texas','oakland','nyc','ohio','north carolina','houston','unite states','yanhill','united sates',\n",
        "                                       'united staes','united state','united statea','united stated','america','united stated of america',\n",
        "                                       'jersey','united states','united states of america','us','us of a','us virgin islands','usa  canada',\n",
        "                                       'usa currently living in england','uusa','usaa','wonderful usa','california','orange co','ysa']), 'country'] = 'USA'\n",
        "\n",
        "users_df.loc[users_df['country'].isin(['the netherlands','nederlands','netherlands','netherlands antilles','neverland','nl']),'country'] = 'netherlands'\n",
        "\n",
        "users_df.loc[users_df['country'].isin(['in','india','indiai']),'country'] = 'India'\n",
        "\n",
        "users_df.loc[users_df['country'].isin(['europa','europe']),'country'] = 'europe'\n",
        "\n",
        "users_df.loc[users_df['country'].isin(['can','canada','canada eh','cananda','canda','le canada','il canada']),'country'] = 'canada'\n",
        "\n",
        "users_df.loc[users_df['country'].isin(['geermany','germany','germay','deutsches reich','deutschland']),'country'] = 'germany'   \n",
        "\n",
        "users_df.loc[users_df['country'].isin(['northern ireland','new london','london','england','england uk','english','united kindgdom',\n",
        "                                       'united kindgonm','worcester','united kingdom','u k','west yorkshire','wales']), 'country'] = 'UK' \n",
        "\n",
        "users_df.loc[users_df['country'].isin(['the philippines','philippines','philippinies','phillipines','phils','phippines']),'country']='Philippines' \n",
        "\n",
        "users_df.loc[users_df['country'].isin(['l','1','k1c7b1','01776','02458','19104','23232','30064','85021','87510','','xxxxxx','universe','nowhere',\n",
        "                                       \n",
        "                                       'x','y','a','the','unknown',np.nan,'n/a','aaa','z','somewherein space']), 'country'] = 'others'\n",
        "\n",
        "users_df.loc[users_df['country'].isin([ 'italia','italien','itlay','italy']), 'country'] = 'Italy'\n",
        "\n",
        "users_df.loc[users_df['country'].isin(['xinyu','prc','china','china öð¹ú','öð¹ú','chinaöð¹ú','chian','zhengjiang','yunling']), 'country'] = 'China'\n",
        "\n",
        "users_df['country'].replace(['rsa','urugua','ukrain','turkei','türkiye','niger','nz','newzealand','moçambique','la belgique','la argentina','isreal','fifi',\n",
        "                             'le madagascar','la france','the gambia','the netherlands','srilanka','saudia arabia','brasil','_ brasil','malaysian',\n",
        "                             'hongkong','russian federation'], ['south africa','uruguay','ukraine','turkey','turkey','nigeria','new zealand','new zealand','mozambique',\n",
        "                                                                'Belgium','argentina','israel','fiji','madagascar','france','gambia','netherlands',\n",
        "                                                                'sri lanka','saudi arabia','brazil','brazil','malaysia','hong kong','russia'],inplace=True)\n",
        " \n"
      ]
    },
    {
      "cell_type": "code",
      "execution_count": 29,
      "metadata": {
        "id": "BCwMXQ4QWSK4"
      },
      "outputs": [],
      "source": [
        "# Converting the country names to uppercase\n",
        "users_df['country']=users_df['country'].str.upper()\n",
        "\n",
        "# Dropping the 'Location' column\n",
        "users_df.drop('Location',axis=1,inplace=True)"
      ]
    },
    {
      "cell_type": "code",
      "execution_count": 30,
      "metadata": {
        "colab": {
          "base_uri": "https://localhost:8080/"
        },
        "id": "DlWNAptaIJvS",
        "outputId": "9894a175-ea49-4500-a237-a20f80701833"
      },
      "outputs": [
        {
          "output_type": "stream",
          "name": "stdout",
          "text": [
            "['USA' 'RUSSIA' 'PORTUGAL' 'UK' 'CANADA' 'SPAIN' 'AUSTRALIA' 'BRAZIL'\n",
            " 'OTHERS' 'GERMANY' 'MEXICO' 'CHINA' 'ITALY' 'DISTRITO FEDERAL' 'FRANCE'\n",
            " 'NETHERLANDS' 'IRAQ' 'FINLAND' 'NEW ZEALAND' 'INDIA' 'GHANA'\n",
            " 'SWITZERLAND' 'SLOVENIA' 'IRAN' 'PERU' 'VIETNAM' 'SRI LANKA' 'PAKISTAN'\n",
            " 'DENMARK' 'BELGIUM' 'MALAYSIA' 'TURKEY' 'PHILIPPINES' 'GREECE' 'COLOMBIA'\n",
            " 'NORWAY' 'KUWAIT' 'CHILE' 'QUIT' 'LJ' 'TAIWAN' 'ESPAÑA' 'SWEDEN'\n",
            " 'ARGENTINA' 'NIGERIA' 'BULGARIA' 'AUSTRIA' 'ROMANIA' 'SINGAPORE'\n",
            " 'ALBANIA' 'EGYPT' 'TUNISIA' 'UZBEKISTAN' 'QATAR' 'SYRIA' 'SAUDI ARABIA'\n",
            " 'INDONESIA' 'SUDAN' 'POLAND' 'THAILAND' 'IRELAND' 'VENEZUELA' 'PARAGUAY'\n",
            " 'MOZAMBIQUE' 'MOROCCO' 'AFGHANISTAN' 'ESTONIA' 'CLACKAMAS' 'LESOTHO'\n",
            " 'YUGOSLAVIA' 'SLOVAKIA' 'COSTA RICA' 'BASQUE COUNTRY' 'ETHIOPIA'\n",
            " 'CROATIA' 'ISRAEL' 'JAPAN' 'ICELAND' 'SOUTH AFRICA' 'CUBA' 'CALABRIA'\n",
            " 'ALDERNEY' 'PUERTO RICO' 'HONG KONG' 'LATVIA' 'LUXEMBOURG' 'BELARUS'\n",
            " 'CAPE VERDE' 'LITHUANIA' 'GUYANA' 'SCOTLAND' 'JORDAN' 'ANGOLA' 'ALGERIA'\n",
            " 'ANDORRA' 'KYRGYZSTAN' 'PANAMA' 'CSA' 'ECUADOR' 'KAZAKHSTAN'\n",
            " 'DOMINICAN REPUBLIC' 'BRUNEI' 'BANGLADESH' 'MONTERREY' 'BAHRAIN'\n",
            " 'URUGUAY' 'HONDURAS' 'GEORGIA' 'DOMINICA' 'MALTA' 'FAROE ISLANDS'\n",
            " 'EAST AFRICA' 'SIERRA LEONE' 'GUATEMALA' 'MALI' 'CZECH REPUBLIC' 'SPACE'\n",
            " 'SOUTH KOREA' 'RWANDA' 'YEMEN' 'CYPRUS' 'ERITREA' 'BAHAMAS' 'CAMEROON'\n",
            " 'NICARAGUA' 'ZAMBIA' 'BOLIVIA' 'MAROC' 'BELIZE' 'NAMIBIA' 'MACEDONIA'\n",
            " 'BOTSWANA' 'QUEENSPARK' 'MONACO' 'SAMOA' 'GUERNSEY' 'EUSKAL HERRIA'\n",
            " 'BERMUDA' 'BARBADOS' 'TRINIDAD' 'ARMENIA' 'HUNGARY' 'CAYMAN ISLANDS'\n",
            " 'UKRAINE' 'MINNEHAHA' 'AZERBAIJAN' 'GALIZA' 'DE' 'SURINAME' 'DOODEDOO'\n",
            " 'JAMAICA' 'CARIBBEAN SEA' 'CATALUNYA' 'KOSOVO' 'SOMALIA' 'MOLDOVA'\n",
            " 'TANZANIA' 'BURMA' 'KSA' 'TAJIKISTAN' 'NEPAL' 'VALTESSE' 'LEBANON'\n",
            " 'MALDIVES' 'TDZIMI' 'OMAN' 'LLEIDA' 'ANTARCTICA' 'PALAU' 'BELGIQUE'\n",
            " 'CATALONIA' 'MICRONESIA' 'KENYA' 'COLLIN' 'GRENADA' 'BHUTAN' 'BAXTER'\n",
            " 'EVIL EMPIRE' 'MONGOLIA' 'HENNIPEN' 'EQUATORIAL GEUINEA' 'RICE' 'POLSKA'\n",
            " 'MISSOURI' 'GOTEBORG' 'SENEGAL' 'BBBZZZZZ' 'SAINT LUCIA' 'ZIMBABWE'\n",
            " 'CASS' 'BALTIMORE' 'HAMPDEN' 'UST' 'AMA LURRA' 'POLK' 'HAMILTON' 'FIJI'\n",
            " 'BERNALILLO' 'EFFINGHAM' 'LAKE' 'CATALUNYA SPAIN' 'WINDHAM' 'LAOS'\n",
            " 'BURKINA FASO' 'PHILIPPINE' 'AUCKLAND' 'C' 'GABON' 'PASCO' 'FERRARA'\n",
            " 'MORGAN' 'MILANO' 'EUROPE' 'SLO' 'LKJLJ' 'NORTH KOREA' 'MARRION'\n",
            " 'MAURITIUS' 'BENIN' 'CNINA' 'HOLY SEE' 'HAITI' 'CN' 'HOLLAND' 'JACKSON'\n",
            " 'CHEROKEE' 'LAZIO' 'DEKALB' 'MARICOPA' 'UA' 'ALGÉRIE' 'SAN MARINO' 'NRW'\n",
            " 'NYHAMNSLÄGE' 'ARUBA' 'RICHMOND COUNTRY' 'EL SALVADOR' 'CÔTE D'\n",
            " 'SAINT LOIUS' 'FRAMINGHAM' 'MONROE' 'HORNYONIC' 'OURANOS'\n",
            " 'SAN BERNARDINO' 'MALAWI' 'CHANNEL ISLANDS' 'SOLOMON ISLANDS' 'WASHTENAW'\n",
            " 'LIBYA' 'AZ' 'SUISSE' 'UGANDA' 'MACAU' 'FROME' 'BRUNEI DARUSSALAM'\n",
            " 'CAPE TOWN' 'AROOSTOOK' 'CHAD' 'DJIBOUTI' 'PRINCE WILLIAM'\n",
            " 'BADEMN WÜRTEMBERG' 'MARSHALL ISLANDS' 'LA SUISSE' 'GB' 'WOOD' 'RMI'\n",
            " 'HEAVEN' 'SERBIA' 'MÉXICO' 'CONGO' 'OSCEOLA' 'VAN WERT' 'LORNSENLAND'\n",
            " 'DUBLIN' 'PR' 'NONE' 'LIBERIA' 'CARTER' 'MYANMAR' 'RAPIDES'\n",
            " 'AMERICAN SAMOA' 'ESSEX' 'SICILIA' 'ALACHUA' 'LOMBARDIA' 'CAMBODIA'\n",
            " 'VANUATU' 'TURKMENISTAN' 'MÉRIDA' 'HILLSBOROUGH' 'MY' 'SAN FRANICSCO'\n",
            " 'TRAVELLING' 'TOGO' 'BELGI' 'PINALLAS' 'ID' 'ORENSE' 'RUTHERFORD' 'PA'\n",
            " 'BELL' 'COUNTRY' 'CAMDEN' 'DFG' 'STRONGBADIA' 'BFE' 'LIAONING' 'CLINTON'\n",
            " 'VENTURA COUNTY' 'BERGUEDÀ' 'BASILICATA' 'DIY' 'INPUT ERROR' 'BLADEN'\n",
            " 'SARDEGNA' 'THAILOAND' 'ROSARIO' 'PERÃº' 'AOTEAROA' 'BURKINAFASU'\n",
            " 'ADSGFDR' 'HENRY' 'KZ' 'UNIT' 'ROSELLO' 'GRANVILLE' 'PETROLWAR NATION'\n",
            " 'GUAM' 'HARVATIJA' 'COPENHAGEN' 'SARDINIA' 'U' 'LECCE' 'VENTURA' 'SHELBY'\n",
            " 'FRED' 'TONGA' 'ROMA' 'COOK' 'MORDOR' 'FONTANA' 'KIRIBATI'\n",
            " 'ONONDAGA NATION' 'QUEENSLAND' 'AUSTBRITANIA' 'SOLANO' 'VORCE' 'PENDER'\n",
            " 'VICENZA' 'MARACOPA' 'PALESTINE' 'PHILA' 'GUINEA' 'SMITH' 'PUEBLO'\n",
            " 'PIPPO' 'UYO' 'SPOTSYLVANIA' 'DER' 'SWAZILAND' 'LIVINGSTON' 'USSURFING'\n",
            " 'BOSNIA' 'CADD0' 'EUSKADI' 'KOREA' 'NH' 'UAE' 'BURLINGTON' 'MADAGASCAR'\n",
            " 'SWAZILANDIA' 'JOHNSON' 'MAINE' 'BUNCOMBE' 'BUCKS' 'SANTA BARBARA'\n",
            " 'SLOVAK REPUBLIK' 'FORTALEZA' 'PISTLAVAKIA' 'BAVARIA' 'PALM BEACH'\n",
            " 'COURTENAY' 'MAURITANIA' 'LEE' 'COMOROS' 'HIDALGO' 'SAN MATEO' 'DAVIDSON'\n",
            " 'SAINT LUICA' 'TOBAGO' 'VATICAN CITY' 'WHATCOM' 'MADRID' 'TOSCANA'\n",
            " 'BUTLER' 'ALLEN' 'FAIRYLAND' 'THING' 'AHRENSBURG' 'KERN' 'CAPE MAY'\n",
            " 'GAMBIA' 'TYRTYRT' 'LIUSHI' 'BIH' 'FORT BEND' 'FULTON' 'YAKIMA' 'NO MORE'\n",
            " 'DAUPHIN' 'LANE' 'GALIZA NEGHRA' 'ASTURIES' 'VICTORIA' 'BKK'\n",
            " 'LA SVIZZERA' 'HERNANDO']\n"
          ]
        }
      ],
      "source": [
        "# Let's see the contry names\n",
        "print(users_df['country'].unique())"
      ]
    },
    {
      "cell_type": "markdown",
      "metadata": {
        "id": "_SKOxJ_ZeLdD"
      },
      "source": [
        "###Merging the Dataframes"
      ]
    },
    {
      "cell_type": "markdown",
      "metadata": {
        "id": "31dM-eX5vb7l"
      },
      "source": [
        "First, books_df and ratings_df are merged on 'isbn' column then this dataframe is merged to users_df on 'user_id' column."
      ]
    },
    {
      "cell_type": "code",
      "execution_count": 31,
      "metadata": {
        "id": "dK3xDhSOuFkh"
      },
      "outputs": [],
      "source": [
        "# Uppercasing the ISBN numbers\n",
        "books_df['isbn']=books_df['isbn'].str.upper()\n",
        "ratings_df['isbn']=ratings_df['isbn'].str.upper()"
      ]
    },
    {
      "cell_type": "code",
      "execution_count": 32,
      "metadata": {
        "id": "VER84ELUqQ6S"
      },
      "outputs": [],
      "source": [
        "# Now retaining explicit ratings only\n",
        "ratings_df = ratings_df[ratings_df['rating']!=0]"
      ]
    },
    {
      "cell_type": "code",
      "execution_count": 33,
      "metadata": {
        "id": "itY9kHxlw0TO"
      },
      "outputs": [],
      "source": [
        "# Merging books_df and ratings_df\n",
        "book_rating_df = pd.merge(books_df, ratings_df, on = 'isbn')\n",
        "\n",
        "# Merging book_rating_df and users_df\n",
        "df = pd.merge(book_rating_df, users_df, on = 'user_id')"
      ]
    },
    {
      "cell_type": "code",
      "execution_count": 34,
      "metadata": {
        "colab": {
          "base_uri": "https://localhost:8080/"
        },
        "id": "0zFM_Vwow0P_",
        "outputId": "f736ff09-aa5b-4429-9889-76da3fcc0d8f"
      },
      "outputs": [
        {
          "output_type": "execute_result",
          "data": {
            "text/plain": [
              "(389342, 12)"
            ]
          },
          "metadata": {},
          "execution_count": 34
        }
      ],
      "source": [
        "# Shape of the new dataframe\n",
        "df.shape"
      ]
    },
    {
      "cell_type": "code",
      "execution_count": 35,
      "metadata": {
        "colab": {
          "base_uri": "https://localhost:8080/",
          "height": 513
        },
        "id": "V4WkvkUCw0G-",
        "outputId": "ce12d0e3-002c-47bd-ecb7-a27e237d541c"
      },
      "outputs": [
        {
          "output_type": "execute_result",
          "data": {
            "text/plain": [
              "         isbn                                         title  \\\n",
              "0  0002005018                                  Clara Callan   \n",
              "1  074322678X       Where You'll Find Me: And Other Stories   \n",
              "2  0887841740                            The Middle Stories   \n",
              "3  1552041778                                      Jane Doe   \n",
              "4  1567407781  The Witchfinder (Amos Walker Mystery Series)   \n",
              "\n",
              "                 author Year-Of-Publication                 publisher  \\\n",
              "0  Richard Bruce Wright                2001     HarperFlamingo Canada   \n",
              "1           Ann Beattie                2002                  Scribner   \n",
              "2           Sheila Heti                2004     House of Anansi Press   \n",
              "3          R. J. Kaiser                1999                Mira Books   \n",
              "4     Loren D. Estleman                1998  Brilliance Audio - Trade   \n",
              "\n",
              "                                         Image-URL-S  \\\n",
              "0  http://images.amazon.com/images/P/0002005018.0...   \n",
              "1  http://images.amazon.com/images/P/074322678X.0...   \n",
              "2  http://images.amazon.com/images/P/0887841740.0...   \n",
              "3  http://images.amazon.com/images/P/1552041778.0...   \n",
              "4  http://images.amazon.com/images/P/1567407781.0...   \n",
              "\n",
              "                                         image_url_m  \\\n",
              "0  http://images.amazon.com/images/P/0002005018.0...   \n",
              "1  http://images.amazon.com/images/P/074322678X.0...   \n",
              "2  http://images.amazon.com/images/P/0887841740.0...   \n",
              "3  http://images.amazon.com/images/P/1552041778.0...   \n",
              "4  http://images.amazon.com/images/P/1567407781.0...   \n",
              "\n",
              "                                         image_url_l  user_id  rating  Age  \\\n",
              "0  http://images.amazon.com/images/P/0002005018.0...        8       5  NaN   \n",
              "1  http://images.amazon.com/images/P/074322678X.0...        8       5  NaN   \n",
              "2  http://images.amazon.com/images/P/0887841740.0...        8       5  NaN   \n",
              "3  http://images.amazon.com/images/P/1552041778.0...        8       5  NaN   \n",
              "4  http://images.amazon.com/images/P/1567407781.0...        8       6  NaN   \n",
              "\n",
              "  country  \n",
              "0  CANADA  \n",
              "1  CANADA  \n",
              "2  CANADA  \n",
              "3  CANADA  \n",
              "4  CANADA  "
            ],
            "text/html": [
              "\n",
              "  <div id=\"df-5bea941b-a62c-4fe0-b98e-93b43f947471\">\n",
              "    <div class=\"colab-df-container\">\n",
              "      <div>\n",
              "<style scoped>\n",
              "    .dataframe tbody tr th:only-of-type {\n",
              "        vertical-align: middle;\n",
              "    }\n",
              "\n",
              "    .dataframe tbody tr th {\n",
              "        vertical-align: top;\n",
              "    }\n",
              "\n",
              "    .dataframe thead th {\n",
              "        text-align: right;\n",
              "    }\n",
              "</style>\n",
              "<table border=\"1\" class=\"dataframe\">\n",
              "  <thead>\n",
              "    <tr style=\"text-align: right;\">\n",
              "      <th></th>\n",
              "      <th>isbn</th>\n",
              "      <th>title</th>\n",
              "      <th>author</th>\n",
              "      <th>Year-Of-Publication</th>\n",
              "      <th>publisher</th>\n",
              "      <th>Image-URL-S</th>\n",
              "      <th>image_url_m</th>\n",
              "      <th>image_url_l</th>\n",
              "      <th>user_id</th>\n",
              "      <th>rating</th>\n",
              "      <th>Age</th>\n",
              "      <th>country</th>\n",
              "    </tr>\n",
              "  </thead>\n",
              "  <tbody>\n",
              "    <tr>\n",
              "      <th>0</th>\n",
              "      <td>0002005018</td>\n",
              "      <td>Clara Callan</td>\n",
              "      <td>Richard Bruce Wright</td>\n",
              "      <td>2001</td>\n",
              "      <td>HarperFlamingo Canada</td>\n",
              "      <td>http://images.amazon.com/images/P/0002005018.0...</td>\n",
              "      <td>http://images.amazon.com/images/P/0002005018.0...</td>\n",
              "      <td>http://images.amazon.com/images/P/0002005018.0...</td>\n",
              "      <td>8</td>\n",
              "      <td>5</td>\n",
              "      <td>NaN</td>\n",
              "      <td>CANADA</td>\n",
              "    </tr>\n",
              "    <tr>\n",
              "      <th>1</th>\n",
              "      <td>074322678X</td>\n",
              "      <td>Where You'll Find Me: And Other Stories</td>\n",
              "      <td>Ann Beattie</td>\n",
              "      <td>2002</td>\n",
              "      <td>Scribner</td>\n",
              "      <td>http://images.amazon.com/images/P/074322678X.0...</td>\n",
              "      <td>http://images.amazon.com/images/P/074322678X.0...</td>\n",
              "      <td>http://images.amazon.com/images/P/074322678X.0...</td>\n",
              "      <td>8</td>\n",
              "      <td>5</td>\n",
              "      <td>NaN</td>\n",
              "      <td>CANADA</td>\n",
              "    </tr>\n",
              "    <tr>\n",
              "      <th>2</th>\n",
              "      <td>0887841740</td>\n",
              "      <td>The Middle Stories</td>\n",
              "      <td>Sheila Heti</td>\n",
              "      <td>2004</td>\n",
              "      <td>House of Anansi Press</td>\n",
              "      <td>http://images.amazon.com/images/P/0887841740.0...</td>\n",
              "      <td>http://images.amazon.com/images/P/0887841740.0...</td>\n",
              "      <td>http://images.amazon.com/images/P/0887841740.0...</td>\n",
              "      <td>8</td>\n",
              "      <td>5</td>\n",
              "      <td>NaN</td>\n",
              "      <td>CANADA</td>\n",
              "    </tr>\n",
              "    <tr>\n",
              "      <th>3</th>\n",
              "      <td>1552041778</td>\n",
              "      <td>Jane Doe</td>\n",
              "      <td>R. J. Kaiser</td>\n",
              "      <td>1999</td>\n",
              "      <td>Mira Books</td>\n",
              "      <td>http://images.amazon.com/images/P/1552041778.0...</td>\n",
              "      <td>http://images.amazon.com/images/P/1552041778.0...</td>\n",
              "      <td>http://images.amazon.com/images/P/1552041778.0...</td>\n",
              "      <td>8</td>\n",
              "      <td>5</td>\n",
              "      <td>NaN</td>\n",
              "      <td>CANADA</td>\n",
              "    </tr>\n",
              "    <tr>\n",
              "      <th>4</th>\n",
              "      <td>1567407781</td>\n",
              "      <td>The Witchfinder (Amos Walker Mystery Series)</td>\n",
              "      <td>Loren D. Estleman</td>\n",
              "      <td>1998</td>\n",
              "      <td>Brilliance Audio - Trade</td>\n",
              "      <td>http://images.amazon.com/images/P/1567407781.0...</td>\n",
              "      <td>http://images.amazon.com/images/P/1567407781.0...</td>\n",
              "      <td>http://images.amazon.com/images/P/1567407781.0...</td>\n",
              "      <td>8</td>\n",
              "      <td>6</td>\n",
              "      <td>NaN</td>\n",
              "      <td>CANADA</td>\n",
              "    </tr>\n",
              "  </tbody>\n",
              "</table>\n",
              "</div>\n",
              "      <button class=\"colab-df-convert\" onclick=\"convertToInteractive('df-5bea941b-a62c-4fe0-b98e-93b43f947471')\"\n",
              "              title=\"Convert this dataframe to an interactive table.\"\n",
              "              style=\"display:none;\">\n",
              "        \n",
              "  <svg xmlns=\"http://www.w3.org/2000/svg\" height=\"24px\"viewBox=\"0 0 24 24\"\n",
              "       width=\"24px\">\n",
              "    <path d=\"M0 0h24v24H0V0z\" fill=\"none\"/>\n",
              "    <path d=\"M18.56 5.44l.94 2.06.94-2.06 2.06-.94-2.06-.94-.94-2.06-.94 2.06-2.06.94zm-11 1L8.5 8.5l.94-2.06 2.06-.94-2.06-.94L8.5 2.5l-.94 2.06-2.06.94zm10 10l.94 2.06.94-2.06 2.06-.94-2.06-.94-.94-2.06-.94 2.06-2.06.94z\"/><path d=\"M17.41 7.96l-1.37-1.37c-.4-.4-.92-.59-1.43-.59-.52 0-1.04.2-1.43.59L10.3 9.45l-7.72 7.72c-.78.78-.78 2.05 0 2.83L4 21.41c.39.39.9.59 1.41.59.51 0 1.02-.2 1.41-.59l7.78-7.78 2.81-2.81c.8-.78.8-2.07 0-2.86zM5.41 20L4 18.59l7.72-7.72 1.47 1.35L5.41 20z\"/>\n",
              "  </svg>\n",
              "      </button>\n",
              "      \n",
              "  <style>\n",
              "    .colab-df-container {\n",
              "      display:flex;\n",
              "      flex-wrap:wrap;\n",
              "      gap: 12px;\n",
              "    }\n",
              "\n",
              "    .colab-df-convert {\n",
              "      background-color: #E8F0FE;\n",
              "      border: none;\n",
              "      border-radius: 50%;\n",
              "      cursor: pointer;\n",
              "      display: none;\n",
              "      fill: #1967D2;\n",
              "      height: 32px;\n",
              "      padding: 0 0 0 0;\n",
              "      width: 32px;\n",
              "    }\n",
              "\n",
              "    .colab-df-convert:hover {\n",
              "      background-color: #E2EBFA;\n",
              "      box-shadow: 0px 1px 2px rgba(60, 64, 67, 0.3), 0px 1px 3px 1px rgba(60, 64, 67, 0.15);\n",
              "      fill: #174EA6;\n",
              "    }\n",
              "\n",
              "    [theme=dark] .colab-df-convert {\n",
              "      background-color: #3B4455;\n",
              "      fill: #D2E3FC;\n",
              "    }\n",
              "\n",
              "    [theme=dark] .colab-df-convert:hover {\n",
              "      background-color: #434B5C;\n",
              "      box-shadow: 0px 1px 3px 1px rgba(0, 0, 0, 0.15);\n",
              "      filter: drop-shadow(0px 1px 2px rgba(0, 0, 0, 0.3));\n",
              "      fill: #FFFFFF;\n",
              "    }\n",
              "  </style>\n",
              "\n",
              "      <script>\n",
              "        const buttonEl =\n",
              "          document.querySelector('#df-5bea941b-a62c-4fe0-b98e-93b43f947471 button.colab-df-convert');\n",
              "        buttonEl.style.display =\n",
              "          google.colab.kernel.accessAllowed ? 'block' : 'none';\n",
              "\n",
              "        async function convertToInteractive(key) {\n",
              "          const element = document.querySelector('#df-5bea941b-a62c-4fe0-b98e-93b43f947471');\n",
              "          const dataTable =\n",
              "            await google.colab.kernel.invokeFunction('convertToInteractive',\n",
              "                                                     [key], {});\n",
              "          if (!dataTable) return;\n",
              "\n",
              "          const docLinkHtml = 'Like what you see? Visit the ' +\n",
              "            '<a target=\"_blank\" href=https://colab.research.google.com/notebooks/data_table.ipynb>data table notebook</a>'\n",
              "            + ' to learn more about interactive tables.';\n",
              "          element.innerHTML = '';\n",
              "          dataTable['output_type'] = 'display_data';\n",
              "          await google.colab.output.renderOutput(dataTable, element);\n",
              "          const docLink = document.createElement('div');\n",
              "          docLink.innerHTML = docLinkHtml;\n",
              "          element.appendChild(docLink);\n",
              "        }\n",
              "      </script>\n",
              "    </div>\n",
              "  </div>\n",
              "  "
            ]
          },
          "metadata": {},
          "execution_count": 35
        }
      ],
      "source": [
        "# Let's see what the dataframe looks like\n",
        "df.head()"
      ]
    },
    {
      "cell_type": "code",
      "execution_count": 36,
      "metadata": {
        "colab": {
          "base_uri": "https://localhost:8080/"
        },
        "id": "tySnhAr3lEtR",
        "outputId": "bbac8299-43cb-4b62-fd41-93441fe99b0c"
      },
      "outputs": [
        {
          "output_type": "stream",
          "name": "stdout",
          "text": [
            "<class 'pandas.core.frame.DataFrame'>\n",
            "Int64Index: 389342 entries, 0 to 389341\n",
            "Data columns (total 12 columns):\n",
            " #   Column               Non-Null Count   Dtype  \n",
            "---  ------               --------------   -----  \n",
            " 0   isbn                 389342 non-null  object \n",
            " 1   title                389342 non-null  object \n",
            " 2   author               389342 non-null  object \n",
            " 3   Year-Of-Publication  389342 non-null  object \n",
            " 4   publisher            389342 non-null  object \n",
            " 5   Image-URL-S          389342 non-null  object \n",
            " 6   image_url_m          389342 non-null  object \n",
            " 7   image_url_l          389341 non-null  object \n",
            " 8   user_id              389342 non-null  int64  \n",
            " 9   rating               389342 non-null  int64  \n",
            " 10  Age                  273295 non-null  float64\n",
            " 11  country              389342 non-null  object \n",
            "dtypes: float64(1), int64(2), object(9)\n",
            "memory usage: 38.6+ MB\n"
          ]
        }
      ],
      "source": [
        "# Dataset Info\n",
        "df.info()"
      ]
    },
    {
      "cell_type": "code",
      "execution_count": 37,
      "metadata": {
        "colab": {
          "base_uri": "https://localhost:8080/"
        },
        "id": "EGOrCHDfofNW",
        "outputId": "a291f3e6-470b-48ac-a541-c89913e590b7"
      },
      "outputs": [
        {
          "output_type": "stream",
          "name": "stdout",
          "text": [
            "Unique values in isbn are: 149717\n",
            "Unique values in title are: 135568\n",
            "Unique values in author are: 62114\n",
            "Unique values in Year-Of-Publication are: 181\n",
            "Unique values in publisher are: 11575\n",
            "Unique values in Image-URL-S are: 149716\n",
            "Unique values in image_url_m are: 149716\n",
            "Unique values in image_url_l are: 149715\n",
            "Unique values in user_id are: 68091\n",
            "Unique values in rating are: 10\n",
            "Unique values in Age are: 132\n",
            "Unique values in country are: 176\n"
          ]
        }
      ],
      "source": [
        "# Number of unique values in the columns\n",
        "for i in df.columns:\n",
        "  print('Unique values in',i,'are:',df[i].nunique())"
      ]
    },
    {
      "cell_type": "markdown",
      "metadata": {
        "id": "21ZiWlekjYYf"
      },
      "source": [
        "###Dropping Duplicated Rows"
      ]
    },
    {
      "cell_type": "code",
      "execution_count": 38,
      "metadata": {
        "colab": {
          "base_uri": "https://localhost:8080/"
        },
        "id": "Ymki1SIsqk6U",
        "outputId": "751687f2-84f4-42e2-fe30-b7811cf12c64"
      },
      "outputs": [
        {
          "output_type": "execute_result",
          "data": {
            "text/plain": [
              "5894"
            ]
          },
          "metadata": {},
          "execution_count": 38
        }
      ],
      "source": [
        "# Getting the rows where 'title', 'author', 'user_id' and 'rating' values are duplicated\n",
        "df[['title','author','user_id','rating']].duplicated().sum()"
      ]
    },
    {
      "cell_type": "code",
      "execution_count": 39,
      "metadata": {
        "id": "oNJhVmhK3oCX"
      },
      "outputs": [],
      "source": [
        "# Dropping these duplicated rows\n",
        "df = df.drop_duplicates(subset = ['title','author','user_id','rating'], keep = 'first').reset_index(drop = True)"
      ]
    },
    {
      "cell_type": "code",
      "execution_count": 40,
      "metadata": {
        "colab": {
          "base_uri": "https://localhost:8080/",
          "height": 285
        },
        "id": "pBujv1Gzs-py",
        "outputId": "31431cb7-27f4-4c06-b13b-285b82e51ede"
      },
      "outputs": [
        {
          "output_type": "execute_result",
          "data": {
            "text/plain": [
              "         isbn                                         title  \\\n",
              "0  0002005018                                  Clara Callan   \n",
              "1  074322678X       Where You'll Find Me: And Other Stories   \n",
              "2  0887841740                            The Middle Stories   \n",
              "3  1552041778                                      Jane Doe   \n",
              "4  1567407781  The Witchfinder (Amos Walker Mystery Series)   \n",
              "\n",
              "                 author                 publisher  \\\n",
              "0  Richard Bruce Wright     HarperFlamingo Canada   \n",
              "1           Ann Beattie                  Scribner   \n",
              "2           Sheila Heti     House of Anansi Press   \n",
              "3          R. J. Kaiser                Mira Books   \n",
              "4     Loren D. Estleman  Brilliance Audio - Trade   \n",
              "\n",
              "                                         image_url_m  user_id  rating country  \n",
              "0  http://images.amazon.com/images/P/0002005018.0...        8       5  CANADA  \n",
              "1  http://images.amazon.com/images/P/074322678X.0...        8       5  CANADA  \n",
              "2  http://images.amazon.com/images/P/0887841740.0...        8       5  CANADA  \n",
              "3  http://images.amazon.com/images/P/1552041778.0...        8       5  CANADA  \n",
              "4  http://images.amazon.com/images/P/1567407781.0...        8       6  CANADA  "
            ],
            "text/html": [
              "\n",
              "  <div id=\"df-9918ca67-7560-495f-b308-95a862213c38\">\n",
              "    <div class=\"colab-df-container\">\n",
              "      <div>\n",
              "<style scoped>\n",
              "    .dataframe tbody tr th:only-of-type {\n",
              "        vertical-align: middle;\n",
              "    }\n",
              "\n",
              "    .dataframe tbody tr th {\n",
              "        vertical-align: top;\n",
              "    }\n",
              "\n",
              "    .dataframe thead th {\n",
              "        text-align: right;\n",
              "    }\n",
              "</style>\n",
              "<table border=\"1\" class=\"dataframe\">\n",
              "  <thead>\n",
              "    <tr style=\"text-align: right;\">\n",
              "      <th></th>\n",
              "      <th>isbn</th>\n",
              "      <th>title</th>\n",
              "      <th>author</th>\n",
              "      <th>publisher</th>\n",
              "      <th>image_url_m</th>\n",
              "      <th>user_id</th>\n",
              "      <th>rating</th>\n",
              "      <th>country</th>\n",
              "    </tr>\n",
              "  </thead>\n",
              "  <tbody>\n",
              "    <tr>\n",
              "      <th>0</th>\n",
              "      <td>0002005018</td>\n",
              "      <td>Clara Callan</td>\n",
              "      <td>Richard Bruce Wright</td>\n",
              "      <td>HarperFlamingo Canada</td>\n",
              "      <td>http://images.amazon.com/images/P/0002005018.0...</td>\n",
              "      <td>8</td>\n",
              "      <td>5</td>\n",
              "      <td>CANADA</td>\n",
              "    </tr>\n",
              "    <tr>\n",
              "      <th>1</th>\n",
              "      <td>074322678X</td>\n",
              "      <td>Where You'll Find Me: And Other Stories</td>\n",
              "      <td>Ann Beattie</td>\n",
              "      <td>Scribner</td>\n",
              "      <td>http://images.amazon.com/images/P/074322678X.0...</td>\n",
              "      <td>8</td>\n",
              "      <td>5</td>\n",
              "      <td>CANADA</td>\n",
              "    </tr>\n",
              "    <tr>\n",
              "      <th>2</th>\n",
              "      <td>0887841740</td>\n",
              "      <td>The Middle Stories</td>\n",
              "      <td>Sheila Heti</td>\n",
              "      <td>House of Anansi Press</td>\n",
              "      <td>http://images.amazon.com/images/P/0887841740.0...</td>\n",
              "      <td>8</td>\n",
              "      <td>5</td>\n",
              "      <td>CANADA</td>\n",
              "    </tr>\n",
              "    <tr>\n",
              "      <th>3</th>\n",
              "      <td>1552041778</td>\n",
              "      <td>Jane Doe</td>\n",
              "      <td>R. J. Kaiser</td>\n",
              "      <td>Mira Books</td>\n",
              "      <td>http://images.amazon.com/images/P/1552041778.0...</td>\n",
              "      <td>8</td>\n",
              "      <td>5</td>\n",
              "      <td>CANADA</td>\n",
              "    </tr>\n",
              "    <tr>\n",
              "      <th>4</th>\n",
              "      <td>1567407781</td>\n",
              "      <td>The Witchfinder (Amos Walker Mystery Series)</td>\n",
              "      <td>Loren D. Estleman</td>\n",
              "      <td>Brilliance Audio - Trade</td>\n",
              "      <td>http://images.amazon.com/images/P/1567407781.0...</td>\n",
              "      <td>8</td>\n",
              "      <td>6</td>\n",
              "      <td>CANADA</td>\n",
              "    </tr>\n",
              "  </tbody>\n",
              "</table>\n",
              "</div>\n",
              "      <button class=\"colab-df-convert\" onclick=\"convertToInteractive('df-9918ca67-7560-495f-b308-95a862213c38')\"\n",
              "              title=\"Convert this dataframe to an interactive table.\"\n",
              "              style=\"display:none;\">\n",
              "        \n",
              "  <svg xmlns=\"http://www.w3.org/2000/svg\" height=\"24px\"viewBox=\"0 0 24 24\"\n",
              "       width=\"24px\">\n",
              "    <path d=\"M0 0h24v24H0V0z\" fill=\"none\"/>\n",
              "    <path d=\"M18.56 5.44l.94 2.06.94-2.06 2.06-.94-2.06-.94-.94-2.06-.94 2.06-2.06.94zm-11 1L8.5 8.5l.94-2.06 2.06-.94-2.06-.94L8.5 2.5l-.94 2.06-2.06.94zm10 10l.94 2.06.94-2.06 2.06-.94-2.06-.94-.94-2.06-.94 2.06-2.06.94z\"/><path d=\"M17.41 7.96l-1.37-1.37c-.4-.4-.92-.59-1.43-.59-.52 0-1.04.2-1.43.59L10.3 9.45l-7.72 7.72c-.78.78-.78 2.05 0 2.83L4 21.41c.39.39.9.59 1.41.59.51 0 1.02-.2 1.41-.59l7.78-7.78 2.81-2.81c.8-.78.8-2.07 0-2.86zM5.41 20L4 18.59l7.72-7.72 1.47 1.35L5.41 20z\"/>\n",
              "  </svg>\n",
              "      </button>\n",
              "      \n",
              "  <style>\n",
              "    .colab-df-container {\n",
              "      display:flex;\n",
              "      flex-wrap:wrap;\n",
              "      gap: 12px;\n",
              "    }\n",
              "\n",
              "    .colab-df-convert {\n",
              "      background-color: #E8F0FE;\n",
              "      border: none;\n",
              "      border-radius: 50%;\n",
              "      cursor: pointer;\n",
              "      display: none;\n",
              "      fill: #1967D2;\n",
              "      height: 32px;\n",
              "      padding: 0 0 0 0;\n",
              "      width: 32px;\n",
              "    }\n",
              "\n",
              "    .colab-df-convert:hover {\n",
              "      background-color: #E2EBFA;\n",
              "      box-shadow: 0px 1px 2px rgba(60, 64, 67, 0.3), 0px 1px 3px 1px rgba(60, 64, 67, 0.15);\n",
              "      fill: #174EA6;\n",
              "    }\n",
              "\n",
              "    [theme=dark] .colab-df-convert {\n",
              "      background-color: #3B4455;\n",
              "      fill: #D2E3FC;\n",
              "    }\n",
              "\n",
              "    [theme=dark] .colab-df-convert:hover {\n",
              "      background-color: #434B5C;\n",
              "      box-shadow: 0px 1px 3px 1px rgba(0, 0, 0, 0.15);\n",
              "      filter: drop-shadow(0px 1px 2px rgba(0, 0, 0, 0.3));\n",
              "      fill: #FFFFFF;\n",
              "    }\n",
              "  </style>\n",
              "\n",
              "      <script>\n",
              "        const buttonEl =\n",
              "          document.querySelector('#df-9918ca67-7560-495f-b308-95a862213c38 button.colab-df-convert');\n",
              "        buttonEl.style.display =\n",
              "          google.colab.kernel.accessAllowed ? 'block' : 'none';\n",
              "\n",
              "        async function convertToInteractive(key) {\n",
              "          const element = document.querySelector('#df-9918ca67-7560-495f-b308-95a862213c38');\n",
              "          const dataTable =\n",
              "            await google.colab.kernel.invokeFunction('convertToInteractive',\n",
              "                                                     [key], {});\n",
              "          if (!dataTable) return;\n",
              "\n",
              "          const docLinkHtml = 'Like what you see? Visit the ' +\n",
              "            '<a target=\"_blank\" href=https://colab.research.google.com/notebooks/data_table.ipynb>data table notebook</a>'\n",
              "            + ' to learn more about interactive tables.';\n",
              "          element.innerHTML = '';\n",
              "          dataTable['output_type'] = 'display_data';\n",
              "          await google.colab.output.renderOutput(dataTable, element);\n",
              "          const docLink = document.createElement('div');\n",
              "          docLink.innerHTML = docLinkHtml;\n",
              "          element.appendChild(docLink);\n",
              "        }\n",
              "      </script>\n",
              "    </div>\n",
              "  </div>\n",
              "  "
            ]
          },
          "metadata": {},
          "execution_count": 40
        }
      ],
      "source": [
        "'''\n",
        "Here I am retaining only important columns and\n",
        "dropping 'Year-Of-Publication', 'Image-URL-S', Image-URL-L', and 'age' ones.\n",
        "'''\n",
        "df = df[['isbn', 'title', 'author', 'publisher', 'image_url_m', 'user_id', 'rating', 'country']]\n",
        "df.head()"
      ]
    },
    {
      "cell_type": "markdown",
      "metadata": {
        "id": "MSa1f5Uengrz"
      },
      "source": [
        "### What all manipulations have you done and insights you found?"
      ]
    },
    {
      "cell_type": "markdown",
      "metadata": {
        "id": "LbyXE7I1olp8"
      },
      "source": [
        "First I renamed some of the columns to easy-to-use names and filled the missing values in 'author' and 'publisher' columns as there were only 1 and 2 null values.\n",
        "\n",
        "Then I fetched the countries of the users, corrected the spellings and grouped some of the locations in respective countries.\n",
        "\n",
        "Further, I merged the books dataframe with ratings retaining explicit ratings only and then merged it with the users data.\n",
        "\n",
        "Some of the titles had multiple ISBNs. So, next I got the rows where 'title', 'author', 'user_id' and 'rating' values are duplicated and dropped them.\n",
        "\n",
        "I also dropped not-so-useful columns such as 'Year-Of-Publication', 'Image-URL-S', 'image_url_l' as well as 'Age' because it had a lot of null values.\n",
        "\n"
      ]
    },
    {
      "cell_type": "markdown",
      "metadata": {
        "id": "GF8Ens_Soomf"
      },
      "source": [
        "## ***4. Data Visualization, Storytelling & Experimenting with charts : Understand the relationships between variables***"
      ]
    },
    {
      "cell_type": "markdown",
      "metadata": {
        "id": "0wOQAZs5pc--"
      },
      "source": [
        "#### Chart - 1 Bar Chart to Visualize Popular Authors"
      ]
    },
    {
      "cell_type": "code",
      "execution_count": 41,
      "metadata": {
        "colab": {
          "base_uri": "https://localhost:8080/",
          "height": 316
        },
        "id": "I-F_GDUtjgrb",
        "outputId": "52c1f597-2dda-4fa2-f423-ba7bfecde272"
      },
      "outputs": [
        {
          "output_type": "display_data",
          "data": {
            "text/plain": [
              "<Figure size 1000x300 with 2 Axes>"
            ],
            "image/png": "[encoded data removed]"
          },
          "metadata": {}
        }
      ],
      "source": [
        "# Chart - 1 visualization code\n",
        "# Popular Authors in the dataset\n",
        "fig=plt.figure(figsize=(10,3))\n",
        "# Authors with the most number of  books \n",
        "plt.subplot(1,2,1)\n",
        "plt.suptitle(\"5 MOST POPULAR AUTHORS\", color='red' ,fontsize=20)\n",
        "popular_authors=df.groupby('author')['title'].nunique().nlargest(5)\n",
        "sns.barplot(x=popular_authors.values,y=popular_authors.index,palette='Paired')\n",
        "plt.title('Top 5 Authors with the Most Publishings',fontsize=18)\n",
        "plt.xlabel('Book Count',fontsize=15)\n",
        "plt.ylabel('Author',fontsize=15)\n",
        "plt.grid(True)\n",
        "\n",
        "# Best selling authors\n",
        "plt.subplot(1,2,2)\n",
        "best_selling_authors=df.groupby('author')['user_id'].nunique().nlargest(5)\n",
        "sns.barplot(x=best_selling_authors.values,y=best_selling_authors.index,palette='Paired')\n",
        "plt.title('Top 5 Best Selling Authors',fontsize=18)\n",
        "plt.xlabel('User Count',fontsize=15)\n",
        "plt.ylabel('Author',fontsize=15)\n",
        "plt.tight_layout()\n",
        "plt.grid(True)"
      ]
    },
    {
      "cell_type": "markdown",
      "metadata": {
        "id": "K5QZ13OEpz2H"
      },
      "source": [
        "##### 1. Why did you pick the specific chart?"
      ]
    },
    {
      "cell_type": "markdown",
      "metadata": {
        "id": "XESiWehPqBRc"
      },
      "source": [
        "A bar chart represents categories by bars with heights or lengths proportional to the values that they represent. It also shows comparisons among discrete categories."
      ]
    },
    {
      "cell_type": "markdown",
      "metadata": {
        "id": "lQ7QKXXCp7Bj"
      },
      "source": [
        "##### 2. What is/are the insight(s) found from the chart?"
      ]
    },
    {
      "cell_type": "markdown",
      "metadata": {
        "id": "C_j1G7yiqdRP"
      },
      "source": [
        "First plot showes that William Shakespeare has most number of titles listed in the dataset followed by Agatha Christie.\n",
        "\n",
        "The second plot showes the most number of ratings earned by authors and Stephen King aced it with more than 2000 ratings"
      ]
    },
    {
      "cell_type": "markdown",
      "metadata": {
        "id": "KSlN3yHqYklG"
      },
      "source": [
        "#### Chart - 2 Bar Chart to Visualize Best Seller-Books"
      ]
    },
    {
      "cell_type": "code",
      "execution_count": 42,
      "metadata": {
        "colab": {
          "base_uri": "https://localhost:8080/",
          "height": 501
        },
        "id": "5OaxMYMHMxzb",
        "outputId": "6e45b976-4413-4fc6-bd8e-f3ecb3f840f3"
      },
      "outputs": [
        {
          "output_type": "display_data",
          "data": {
            "text/plain": [
              "<Figure size 500x500 with 1 Axes>"
            ],
            "image/png": "[encoded data removed]"
          },
          "metadata": {}
        }
      ],
      "source": [
        "# Chart - 2 visualization code\n",
        "# Best selling books \n",
        "plt.figure(figsize=(5,5))\n",
        "best_sellers=df.groupby('title')['user_id'].nunique().nlargest(10)\n",
        "sns.barplot(x=best_sellers.values,y=best_sellers.index)\n",
        "plt.title('Top 10 Best Seller-Books', color='red', fontsize=20)\n",
        "plt.xlabel('Count',fontsize=15)\n",
        "plt.ylabel('Title',fontsize=15)\n",
        "plt.grid(True)"
      ]
    },
    {
      "cell_type": "markdown",
      "metadata": {
        "id": "t6dVpIINYklI"
      },
      "source": [
        "##### 1. Why did you pick the specific chart?"
      ]
    },
    {
      "cell_type": "markdown",
      "metadata": {
        "id": "2-joc6NYgafH"
      },
      "source": [
        "A bar chart represents categories by bars with heights or lengths proportional to the values that they represent. It also shows comparisons among discrete categories."
      ]
    },
    {
      "cell_type": "markdown",
      "metadata": {
        "id": "ijmpgYnKYklI"
      },
      "source": [
        "##### 2. What is/are the insight(s) found from the chart?"
      ]
    },
    {
      "cell_type": "markdown",
      "metadata": {
        "id": "PSx9atu2YklI"
      },
      "source": [
        "The plot showes the number of users for popular books and 'The Lovely Bones: A Novel' attracts the most number of ratings which is more than 700 followed by 'Wild Animus'."
      ]
    },
    {
      "cell_type": "markdown",
      "metadata": {
        "id": "4Of9eVA-YrdM"
      },
      "source": [
        "#### Chart - 3 Plotting Popular Publishers"
      ]
    },
    {
      "cell_type": "code",
      "execution_count": 43,
      "metadata": {
        "colab": {
          "base_uri": "https://localhost:8080/",
          "height": 424
        },
        "id": "GCLGQ-IBgkqo",
        "outputId": "abafd474-25e8-4f1a-bf65-5e0576c7a3b9"
      },
      "outputs": [
        {
          "output_type": "display_data",
          "data": {
            "text/plain": [
              "<Figure size 600x400 with 1 Axes>"
            ],
            "image/png": "[encoded data removed]"
          },
          "metadata": {}
        }
      ],
      "source": [
        "# Chart - 3 visualization code\n",
        "# Most Popular Publishers\n",
        "plt.figure(figsize=(6,4))\n",
        "popular_publishers=df.groupby('publisher')['title'].count().nlargest(10)\n",
        "sns.barplot(x=popular_publishers.values,y=popular_publishers.index)\n",
        "plt.title('Top 10 Most Popular Publishers', color='red', fontsize=20)\n",
        "plt.xlabel('Count',fontsize=15)\n",
        "plt.ylabel('Publisher',fontsize=15)\n",
        "plt.grid(True)"
      ]
    },
    {
      "cell_type": "markdown",
      "metadata": {
        "id": "iky9q4vBYrdO"
      },
      "source": [
        "##### 1. Why did you pick the specific chart?"
      ]
    },
    {
      "cell_type": "markdown",
      "metadata": {
        "id": "FzFUu7zrgh1_"
      },
      "source": [
        "A bar chart represents categories by bars with heights or lengths proportional to the values that they represent. It also shows comparisons among discrete categories."
      ]
    },
    {
      "cell_type": "markdown",
      "metadata": {
        "id": "F6T5p64dYrdO"
      },
      "source": [
        "##### 2. What is/are the insight(s) found from the chart?"
      ]
    },
    {
      "cell_type": "markdown",
      "metadata": {
        "id": "Xx8WAJvtYrdO"
      },
      "source": [
        "In the above bar chart showing number of books published by the publishers Ballantine Books is on the top with more than 12000 books followed by Pocket."
      ]
    },
    {
      "cell_type": "markdown",
      "metadata": {
        "id": "bamQiAODYuh1"
      },
      "source": [
        "#### Chart - 4 Bar plot showing top Countries"
      ]
    },
    {
      "cell_type": "code",
      "execution_count": 44,
      "metadata": {
        "colab": {
          "base_uri": "https://localhost:8080/",
          "height": 486
        },
        "id": "fEjOjaDJVkiB",
        "outputId": "a80a8443-f3cf-45ca-df21-6bdc43fe8001"
      },
      "outputs": [
        {
          "output_type": "display_data",
          "data": {
            "text/plain": [
              "<Figure size 640x480 with 1 Axes>"
            ],
            "image/png": "[encoded data removed]"
          },
          "metadata": {}
        }
      ],
      "source": [
        "# Chart - 4 visualization code: Countries with number of users\n",
        "\n",
        "country=df.groupby('country')['user_id'].nunique().nlargest(10)\n",
        "sns.barplot(x=country.values,y=country.index)\n",
        "plt.title('Top 10 Countries of Users', color='red',fontsize=20)\n",
        "plt.xlabel('Count',fontsize=15)\n",
        "plt.ylabel('Country',fontsize=15)\n",
        "plt.grid(True)"
      ]
    },
    {
      "cell_type": "markdown",
      "metadata": {
        "id": "QHF8YVU7Yuh3"
      },
      "source": [
        "##### 1. Why did you pick the specific chart?"
      ]
    },
    {
      "cell_type": "markdown",
      "metadata": {
        "id": "kq3LDkthglR5"
      },
      "source": [
        "A bar chart represents categories by bars with heights or lengths proportional to the values that they represent. It also shows comparisons among discrete categories."
      ]
    },
    {
      "cell_type": "markdown",
      "metadata": {
        "id": "GwzvFGzlYuh3"
      },
      "source": [
        "##### 2. What is/are the insight(s) found from the chart?"
      ]
    },
    {
      "cell_type": "markdown",
      "metadata": {
        "id": "uyqkiB8YYuh3"
      },
      "source": [
        "From the above bar chart we can deduce that most of the users hail from the USA. And Canada is at second place."
      ]
    },
    {
      "cell_type": "markdown",
      "metadata": {
        "id": "OH-pJp9IphqM"
      },
      "source": [
        "#### Chart - 5 Distribution Plot for Rating"
      ]
    },
    {
      "cell_type": "code",
      "execution_count": 45,
      "metadata": {
        "colab": {
          "base_uri": "https://localhost:8080/"
        },
        "id": "sPP88WXhmgXP",
        "outputId": "d6b04588-35e9-46c8-c97c-63aff6249a96"
      },
      "outputs": [
        {
          "output_type": "execute_result",
          "data": {
            "text/plain": [
              "8     91730\n",
              "10    71058\n",
              "7     66376\n",
              "9     60728\n",
              "5     45284\n",
              "6     31686\n",
              "4      7613\n",
              "3      5117\n",
              "2      2375\n",
              "1      1481\n",
              "Name: rating, dtype: int64"
            ]
          },
          "metadata": {},
          "execution_count": 45
        }
      ],
      "source": [
        "# Counting the Values in rating column\n",
        "df['rating'].value_counts()"
      ]
    },
    {
      "cell_type": "markdown",
      "metadata": {
        "id": "AnncSvgTmycy"
      },
      "source": [
        "For explicit ratings, 8 is the most common rating followed by 10."
      ]
    },
    {
      "cell_type": "code",
      "source": [
        "# Chart - 5 visualization code\n",
        "# Distribution of Ratings\n",
        "fig, ax1 = plt.subplots()\n",
        "ax2 = ax1.twinx()\n",
        "\n",
        "sns.distplot(df['rating'], kde=False, ax=ax1, color='red')\n",
        "sns.distplot(df['rating'], hist=False, ax=ax2, kde_kws={'bw':0.4})\n",
        "plt.title('Rating Distribution', color='red', fontsize=20)\n",
        "plt.xlabel('Ratings',fontsize=15)\n",
        "plt.ylabel('Density',fontsize=15)"
      ],
      "metadata": {
        "colab": {
          "base_uri": "https://localhost:8080/",
          "height": 497
        },
        "id": "bvXPEEBVkuXo",
        "outputId": "5880c085-6f2f-4d9c-e785-79f72d5760be"
      },
      "execution_count": 46,
      "outputs": [
        {
          "output_type": "execute_result",
          "data": {
            "text/plain": [
              "Text(0, 0.5, 'Density')"
            ]
          },
          "metadata": {},
          "execution_count": 46
        },
        {
          "output_type": "display_data",
          "data": {
            "text/plain": [
              "<Figure size 640x480 with 2 Axes>"
            ],
            "image/png": "[encoded data removed]"
          },
          "metadata": {}
        }
      ]
    },
    {
      "cell_type": "markdown",
      "metadata": {
        "id": "bbFf2-_FphqN"
      },
      "source": [
        "##### 1. Why did you pick the specific chart?"
      ]
    },
    {
      "cell_type": "markdown",
      "metadata": {
        "id": "loh7H2nzphqN"
      },
      "source": [
        "Distribution plot visually assesses the distribution of data and expresses the pattern according to which the values are distributed. We generally use a histogram or distribution plot to understand the pattern."
      ]
    },
    {
      "cell_type": "markdown",
      "metadata": {
        "id": "_ouA3fa0phqN"
      },
      "source": [
        "##### 2. What is/are the insight(s) found from the chart?"
      ]
    },
    {
      "cell_type": "markdown",
      "metadata": {
        "id": "VECbqPI7phqN"
      },
      "source": [
        "The rating distribution comes out to be negatively skewed as higher ratings are more frequent in the dataset."
      ]
    },
    {
      "cell_type": "markdown",
      "metadata": {
        "id": "PIIx-8_IphqN"
      },
      "source": [
        "#### Chart - 6 Word Cloud Representing Words in the Title"
      ]
    },
    {
      "cell_type": "code",
      "execution_count": 47,
      "metadata": {
        "colab": {
          "base_uri": "https://localhost:8080/",
          "height": 703
        },
        "id": "lqAIGUfyphqO",
        "outputId": "6b17d459-4c02-473d-ead2-681144f6169a"
      },
      "outputs": [
        {
          "output_type": "display_data",
          "data": {
            "text/plain": [
              "<Figure size 1500x800 with 1 Axes>"
            ],
            "image/png": "[encoded data removed]"
          },
          "metadata": {}
        }
      ],
      "source": [
        "# Chart - 6 visualization code: WordCloud\n",
        "titles = df['title'].unique()\n",
        "\n",
        "plt.subplots(figsize=(15,8))\n",
        "wordcloud = WordCloud(background_color='#000', width=650, height=550,\n",
        "                      stopwords=STOPWORDS,).generate(\" \".join(titles))\n",
        "plt.imshow(wordcloud)\n",
        "plt.axis('off')\n",
        "plt.savefig('graph.png')\n",
        "\n",
        "plt.figtext(.5,.91,'Data Cloud of All Titles', color='red', fontsize=25, ha='center')\n",
        "plt.show()"
      ]
    },
    {
      "cell_type": "markdown",
      "metadata": {
        "id": "t27r6nlMphqO"
      },
      "source": [
        "##### 1. Why did you pick the specific chart?"
      ]
    },
    {
      "cell_type": "markdown",
      "metadata": {
        "id": "iv6ro40sphqO"
      },
      "source": [
        "Word Clouds are visual representations of words that give greater prominence to words that appear more frequently"
      ]
    },
    {
      "cell_type": "markdown",
      "metadata": {
        "id": "r2jJGEOYphqO"
      },
      "source": [
        "##### 2. What is/are the insight(s) found from the chart?"
      ]
    },
    {
      "cell_type": "markdown",
      "metadata": {
        "id": "Po6ZPi4hphqO"
      },
      "source": [
        "Clearly, 'Book', 'Novel', 'Life' etc. are the most frequent words in the dataset. And important terms also affect the recommendations."
      ]
    },
    {
      "cell_type": "markdown",
      "metadata": {
        "id": "VfCC591jGiD4"
      },
      "source": [
        "## ***5. Recommendation Systems Implementation***"
      ]
    },
    {
      "cell_type": "markdown",
      "source": [
        "Collaborative filtering makes automatic predictions about the interests of a user by collecting preferences or taste information from many users.\n",
        "\n",
        "Content-Based filtering uses only information about the description and attributes of the items user has previously consumed to model user's preferences.\n",
        "\n",
        "Since item description and information like genre etc. are not available so we can not guess the content only from title of the book as sometimes titles are ambiguous. So I am using Collaborative filtering model.\n",
        "\n"
      ],
      "metadata": {
        "id": "ZDe1VOGkFO17"
      }
    },
    {
      "cell_type": "markdown",
      "metadata": {
        "id": "OB4l2ZhMeS1U"
      },
      "source": [
        "### **1. Memory-Based Recommendation Systems**"
      ]
    },
    {
      "cell_type": "markdown",
      "source": [
        "This approach uses the memory of previous users interactions to compute user (or item) similarities based on based items they have interacted."
      ],
      "metadata": {
        "id": "gEkshxX3HcPR"
      }
    },
    {
      "cell_type": "markdown",
      "metadata": {
        "id": "_0AXUuBeGjCv"
      },
      "source": [
        "#### **1. Popularity Based Recommendation System**"
      ]
    },
    {
      "cell_type": "markdown",
      "source": [
        "This recommender gives the trending items for all the users without considering their preferecnes."
      ],
      "metadata": {
        "id": "fklIgg4mN-1J"
      }
    },
    {
      "cell_type": "code",
      "execution_count": 48,
      "metadata": {
        "id": "i1haaj7CXUo1"
      },
      "outputs": [],
      "source": [
        "# Code to create a Class of Popularity Based Recommendation System\n",
        "\n",
        "class PopularRecommender:\n",
        "    \n",
        "  def __init__(self, df):\n",
        "    #Creating attributes\n",
        "    self.df = df\n",
        "        \n",
        "  # Code to create a method of the class that gets the  recommendations    \n",
        "  def popular_books(self, df, n=10):\n",
        "\n",
        "    '''\n",
        "    This method takes books-ratings-users dataframe and no. of books (default = 10) to be returned as arguments and returns a \n",
        "    dataframe of recommended books with columns 'isbn', 'title', 'author', 'image_url_m', 'num_of_votes', 'average_ratings', and 'popularity'\n",
        "    '''\n",
        "    # Counting the number of votes for eaach book\n",
        "    rating_count=self.df.groupby(\"title\").count()[\"rating\"].reset_index()\n",
        "    rating_count.rename(columns={\"rating\":\"num_of_votes\"},inplace=True)\n",
        "\n",
        "    # calculating the average rating for each book\n",
        "    rating_average=self.df.groupby(\"title\")[\"rating\"].mean().reset_index()\n",
        "    rating_average.rename(columns={\"rating\":\"average_ratings\"},inplace=True)\n",
        "\n",
        "    popular_books=rating_count.merge(rating_average,on=\"title\")\n",
        "\n",
        "    C=popular_books[\"average_ratings\"].mean()\n",
        "    m=popular_books[\"num_of_votes\"].quantile(0.90)\n",
        "    # m = minimum no of votes to be listed\n",
        "    # C = the mean rating across all the books\n",
        "      \n",
        "    def weighted_rate(x):\n",
        "      '''this function returns weighted rating\n",
        "      '''\n",
        "      v=x[\"num_of_votes\"]\n",
        "      R=x[\"average_ratings\"]\n",
        "      return ((v*R) + (m*C)) / (v+m)\n",
        "\n",
        "\n",
        "\n",
        "    popular_books=popular_books[popular_books[\"num_of_votes\"] >=100]\n",
        "    popular_books[\"popularity\"]=popular_books.apply(weighted_rate,axis=1)\n",
        "\n",
        "    popular_books = popular_books.merge(self.df, how = 'left', left_on = 'title', right_on = 'title')[['isbn', 'title', 'author',\n",
        "                                                                                                            'image_url_m', 'num_of_votes', 'average_ratings',\n",
        "                                                                                                            'popularity']]\n",
        "    popular_books=popular_books.drop_duplicates(subset='title').sort_values(by=\"popularity\",ascending=False)\n",
        "\n",
        "    return popular_books.head(n)\n"
      ]
    },
    {
      "cell_type": "code",
      "execution_count": 49,
      "metadata": {
        "colab": {
          "base_uri": "https://localhost:8080/",
          "height": 528
        },
        "id": "tTUdKvIMvaSj",
        "outputId": "aa41536e-01fe-4550-cfdf-1923b4ab09e9"
      },
      "outputs": [
        {
          "output_type": "execute_result",
          "data": {
            "text/plain": [
              "             isbn                                              title  \\\n",
              "30554  039527222X     The Two Towers (The Lord of the Rings, Part 2)   \n",
              "28752  0395272211  The Return of the King (The Lord of the Rings,...   \n",
              "9165   0439139597       Harry Potter and the Goblet of Fire (Book 4)   \n",
              "9895   0590353403     Harry Potter and the Sorcerer's Stone (Book 1)   \n",
              "9620   0439136369  Harry Potter and the Prisoner of Azkaban (Book 3)   \n",
              "9409   043935806X  Harry Potter and the Order of the Phoenix (Boo...   \n",
              "31208  0060935464                              To Kill a Mockingbird   \n",
              "10070  059035342X  Harry Potter and the Sorcerer's Stone (Harry P...   \n",
              "6812   0812550706      Ender's Game (Ender Wiggins Saga (Paperback))   \n",
              "21762  0618002227  The Fellowship of the Ring (The Lord of the Ri...   \n",
              "\n",
              "                 author                                        image_url_m  \\\n",
              "30554  J. R. R. Tolkien  http://images.amazon.com/images/P/039527222X.0...   \n",
              "28752  J. R. R. Tolkien  http://images.amazon.com/images/P/0395272211.0...   \n",
              "9165      J. K. Rowling  http://images.amazon.com/images/P/0439139597.0...   \n",
              "9895      J. K. Rowling  http://images.amazon.com/images/P/0590353403.0...   \n",
              "9620      J. K. Rowling  http://images.amazon.com/images/P/0439136369.0...   \n",
              "9409      J. K. Rowling  http://images.amazon.com/images/P/043935806X.0...   \n",
              "31208        Harper Lee  http://images.amazon.com/images/P/0060935464.0...   \n",
              "10070     J. K. Rowling  http://images.amazon.com/images/P/059035342X.0...   \n",
              "6812   Orson Scott Card  http://images.amazon.com/images/P/0812550706.0...   \n",
              "21762  J. R. R. Tolkien  http://images.amazon.com/images/P/0618002227.0...   \n",
              "\n",
              "       num_of_votes  average_ratings  popularity  \n",
              "30554           136         9.330882    9.266762  \n",
              "28752           102         9.254902    9.173958  \n",
              "9165            244         9.114754    9.082785  \n",
              "9895            175         9.057143    9.014519  \n",
              "9620            275         9.040000    9.012905  \n",
              "9409            211         9.047393    9.012100  \n",
              "31208           267         8.977528    8.950785  \n",
              "10070           315         8.936508    8.914417  \n",
              "6812            150         8.920000    8.874926  \n",
              "21762           204         8.887255    8.854610  "
            ],
            "text/html": [
              "\n",
              "  <div id=\"df-3a0454b5-b12a-44ff-ab3c-5228f7e9feef\">\n",
              "    <div class=\"colab-df-container\">\n",
              "      <div>\n",
              "<style scoped>\n",
              "    .dataframe tbody tr th:only-of-type {\n",
              "        vertical-align: middle;\n",
              "    }\n",
              "\n",
              "    .dataframe tbody tr th {\n",
              "        vertical-align: top;\n",
              "    }\n",
              "\n",
              "    .dataframe thead th {\n",
              "        text-align: right;\n",
              "    }\n",
              "</style>\n",
              "<table border=\"1\" class=\"dataframe\">\n",
              "  <thead>\n",
              "    <tr style=\"text-align: right;\">\n",
              "      <th></th>\n",
              "      <th>isbn</th>\n",
              "      <th>title</th>\n",
              "      <th>author</th>\n",
              "      <th>image_url_m</th>\n",
              "      <th>num_of_votes</th>\n",
              "      <th>average_ratings</th>\n",
              "      <th>popularity</th>\n",
              "    </tr>\n",
              "  </thead>\n",
              "  <tbody>\n",
              "    <tr>\n",
              "      <th>30554</th>\n",
              "      <td>039527222X</td>\n",
              "      <td>The Two Towers (The Lord of the Rings, Part 2)</td>\n",
              "      <td>J. R. R. Tolkien</td>\n",
              "      <td>http://images.amazon.com/images/P/039527222X.0...</td>\n",
              "      <td>136</td>\n",
              "      <td>9.330882</td>\n",
              "      <td>9.266762</td>\n",
              "    </tr>\n",
              "    <tr>\n",
              "      <th>28752</th>\n",
              "      <td>0395272211</td>\n",
              "      <td>The Return of the King (The Lord of the Rings,...</td>\n",
              "      <td>J. R. R. Tolkien</td>\n",
              "      <td>http://images.amazon.com/images/P/0395272211.0...</td>\n",
              "      <td>102</td>\n",
              "      <td>9.254902</td>\n",
              "      <td>9.173958</td>\n",
              "    </tr>\n",
              "    <tr>\n",
              "      <th>9165</th>\n",
              "      <td>0439139597</td>\n",
              "      <td>Harry Potter and the Goblet of Fire (Book 4)</td>\n",
              "      <td>J. K. Rowling</td>\n",
              "      <td>http://images.amazon.com/images/P/0439139597.0...</td>\n",
              "      <td>244</td>\n",
              "      <td>9.114754</td>\n",
              "      <td>9.082785</td>\n",
              "    </tr>\n",
              "    <tr>\n",
              "      <th>9895</th>\n",
              "      <td>0590353403</td>\n",
              "      <td>Harry Potter and the Sorcerer's Stone (Book 1)</td>\n",
              "      <td>J. K. Rowling</td>\n",
              "      <td>http://images.amazon.com/images/P/0590353403.0...</td>\n",
              "      <td>175</td>\n",
              "      <td>9.057143</td>\n",
              "      <td>9.014519</td>\n",
              "    </tr>\n",
              "    <tr>\n",
              "      <th>9620</th>\n",
              "      <td>0439136369</td>\n",
              "      <td>Harry Potter and the Prisoner of Azkaban (Book 3)</td>\n",
              "      <td>J. K. Rowling</td>\n",
              "      <td>http://images.amazon.com/images/P/0439136369.0...</td>\n",
              "      <td>275</td>\n",
              "      <td>9.040000</td>\n",
              "      <td>9.012905</td>\n",
              "    </tr>\n",
              "    <tr>\n",
              "      <th>9409</th>\n",
              "      <td>043935806X</td>\n",
              "      <td>Harry Potter and the Order of the Phoenix (Boo...</td>\n",
              "      <td>J. K. Rowling</td>\n",
              "      <td>http://images.amazon.com/images/P/043935806X.0...</td>\n",
              "      <td>211</td>\n",
              "      <td>9.047393</td>\n",
              "      <td>9.012100</td>\n",
              "    </tr>\n",
              "    <tr>\n",
              "      <th>31208</th>\n",
              "      <td>0060935464</td>\n",
              "      <td>To Kill a Mockingbird</td>\n",
              "      <td>Harper Lee</td>\n",
              "      <td>http://images.amazon.com/images/P/0060935464.0...</td>\n",
              "      <td>267</td>\n",
              "      <td>8.977528</td>\n",
              "      <td>8.950785</td>\n",
              "    </tr>\n",
              "    <tr>\n",
              "      <th>10070</th>\n",
              "      <td>059035342X</td>\n",
              "      <td>Harry Potter and the Sorcerer's Stone (Harry P...</td>\n",
              "      <td>J. K. Rowling</td>\n",
              "      <td>http://images.amazon.com/images/P/059035342X.0...</td>\n",
              "      <td>315</td>\n",
              "      <td>8.936508</td>\n",
              "      <td>8.914417</td>\n",
              "    </tr>\n",
              "    <tr>\n",
              "      <th>6812</th>\n",
              "      <td>0812550706</td>\n",
              "      <td>Ender's Game (Ender Wiggins Saga (Paperback))</td>\n",
              "      <td>Orson Scott Card</td>\n",
              "      <td>http://images.amazon.com/images/P/0812550706.0...</td>\n",
              "      <td>150</td>\n",
              "      <td>8.920000</td>\n",
              "      <td>8.874926</td>\n",
              "    </tr>\n",
              "    <tr>\n",
              "      <th>21762</th>\n",
              "      <td>0618002227</td>\n",
              "      <td>The Fellowship of the Ring (The Lord of the Ri...</td>\n",
              "      <td>J. R. R. Tolkien</td>\n",
              "      <td>http://images.amazon.com/images/P/0618002227.0...</td>\n",
              "      <td>204</td>\n",
              "      <td>8.887255</td>\n",
              "      <td>8.854610</td>\n",
              "    </tr>\n",
              "  </tbody>\n",
              "</table>\n",
              "</div>\n",
              "      <button class=\"colab-df-convert\" onclick=\"convertToInteractive('df-3a0454b5-b12a-44ff-ab3c-5228f7e9feef')\"\n",
              "              title=\"Convert this dataframe to an interactive table.\"\n",
              "              style=\"display:none;\">\n",
              "        \n",
              "  <svg xmlns=\"http://www.w3.org/2000/svg\" height=\"24px\"viewBox=\"0 0 24 24\"\n",
              "       width=\"24px\">\n",
              "    <path d=\"M0 0h24v24H0V0z\" fill=\"none\"/>\n",
              "    <path d=\"M18.56 5.44l.94 2.06.94-2.06 2.06-.94-2.06-.94-.94-2.06-.94 2.06-2.06.94zm-11 1L8.5 8.5l.94-2.06 2.06-.94-2.06-.94L8.5 2.5l-.94 2.06-2.06.94zm10 10l.94 2.06.94-2.06 2.06-.94-2.06-.94-.94-2.06-.94 2.06-2.06.94z\"/><path d=\"M17.41 7.96l-1.37-1.37c-.4-.4-.92-.59-1.43-.59-.52 0-1.04.2-1.43.59L10.3 9.45l-7.72 7.72c-.78.78-.78 2.05 0 2.83L4 21.41c.39.39.9.59 1.41.59.51 0 1.02-.2 1.41-.59l7.78-7.78 2.81-2.81c.8-.78.8-2.07 0-2.86zM5.41 20L4 18.59l7.72-7.72 1.47 1.35L5.41 20z\"/>\n",
              "  </svg>\n",
              "      </button>\n",
              "      \n",
              "  <style>\n",
              "    .colab-df-container {\n",
              "      display:flex;\n",
              "      flex-wrap:wrap;\n",
              "      gap: 12px;\n",
              "    }\n",
              "\n",
              "    .colab-df-convert {\n",
              "      background-color: #E8F0FE;\n",
              "      border: none;\n",
              "      border-radius: 50%;\n",
              "      cursor: pointer;\n",
              "      display: none;\n",
              "      fill: #1967D2;\n",
              "      height: 32px;\n",
              "      padding: 0 0 0 0;\n",
              "      width: 32px;\n",
              "    }\n",
              "\n",
              "    .colab-df-convert:hover {\n",
              "      background-color: #E2EBFA;\n",
              "      box-shadow: 0px 1px 2px rgba(60, 64, 67, 0.3), 0px 1px 3px 1px rgba(60, 64, 67, 0.15);\n",
              "      fill: #174EA6;\n",
              "    }\n",
              "\n",
              "    [theme=dark] .colab-df-convert {\n",
              "      background-color: #3B4455;\n",
              "      fill: #D2E3FC;\n",
              "    }\n",
              "\n",
              "    [theme=dark] .colab-df-convert:hover {\n",
              "      background-color: #434B5C;\n",
              "      box-shadow: 0px 1px 3px 1px rgba(0, 0, 0, 0.15);\n",
              "      filter: drop-shadow(0px 1px 2px rgba(0, 0, 0, 0.3));\n",
              "      fill: #FFFFFF;\n",
              "    }\n",
              "  </style>\n",
              "\n",
              "      <script>\n",
              "        const buttonEl =\n",
              "          document.querySelector('#df-3a0454b5-b12a-44ff-ab3c-5228f7e9feef button.colab-df-convert');\n",
              "        buttonEl.style.display =\n",
              "          google.colab.kernel.accessAllowed ? 'block' : 'none';\n",
              "\n",
              "        async function convertToInteractive(key) {\n",
              "          const element = document.querySelector('#df-3a0454b5-b12a-44ff-ab3c-5228f7e9feef');\n",
              "          const dataTable =\n",
              "            await google.colab.kernel.invokeFunction('convertToInteractive',\n",
              "                                                     [key], {});\n",
              "          if (!dataTable) return;\n",
              "\n",
              "          const docLinkHtml = 'Like what you see? Visit the ' +\n",
              "            '<a target=\"_blank\" href=https://colab.research.google.com/notebooks/data_table.ipynb>data table notebook</a>'\n",
              "            + ' to learn more about interactive tables.';\n",
              "          element.innerHTML = '';\n",
              "          dataTable['output_type'] = 'display_data';\n",
              "          await google.colab.output.renderOutput(dataTable, element);\n",
              "          const docLink = document.createElement('div');\n",
              "          docLink.innerHTML = docLinkHtml;\n",
              "          element.appendChild(docLink);\n",
              "        }\n",
              "      </script>\n",
              "    </div>\n",
              "  </div>\n",
              "  "
            ]
          },
          "metadata": {},
          "execution_count": 49
        }
      ],
      "source": [
        "\n",
        "#Creating object of the class   \n",
        "recommender_model = PopularRecommender(df)\n",
        " \n",
        "# Getting the recommendations\n",
        "recommender_model.popular_books(df)"
      ]
    },
    {
      "cell_type": "markdown",
      "metadata": {
        "id": "NN9Saq72G5-I"
      },
      "source": [
        "#### **2. Item-Based Recommendation System**"
      ]
    },
    {
      "cell_type": "markdown",
      "source": [
        "This recommendation system recommends items that are similar to some selected item based on the users that have interacted with them."
      ],
      "metadata": {
        "id": "h5fs1MGDOY6O"
      }
    },
    {
      "cell_type": "markdown",
      "metadata": {
        "id": "v-gDbNQ3MvSH"
      },
      "source": [
        "##### **Data Preprocessing**"
      ]
    },
    {
      "cell_type": "code",
      "execution_count": 50,
      "metadata": {
        "colab": {
          "base_uri": "https://localhost:8080/",
          "height": 250
        },
        "id": "pnumQKlxpxpK",
        "outputId": "85260850-57a0-4634-d329-e600c2dcf546"
      },
      "outputs": [
        {
          "output_type": "execute_result",
          "data": {
            "text/plain": [
              "          isbn                                              title  \\\n",
              "8   0399135782                             The Kitchen God's Wife   \n",
              "10  0440234743                                      The Testament   \n",
              "11  0452264464               Beloved (Plume Contemporary Fiction)   \n",
              "12  0609804618  Our Dumb Century: The Onion Presents 100 Years...   \n",
              "14  0971880107                                        Wild Animus   \n",
              "\n",
              "           author           publisher  \\\n",
              "8         Amy Tan    Putnam Pub Group   \n",
              "10   John Grisham                Dell   \n",
              "11  Toni Morrison               Plume   \n",
              "12      The Onion  Three Rivers Press   \n",
              "14   Rich Shapero             Too Far   \n",
              "\n",
              "                                          image_url_m  user_id  rating country  \n",
              "8   http://images.amazon.com/images/P/0399135782.0...    11676       9  OTHERS  \n",
              "10  http://images.amazon.com/images/P/0440234743.0...    11676       9  OTHERS  \n",
              "11  http://images.amazon.com/images/P/0452264464.0...    11676       8  OTHERS  \n",
              "12  http://images.amazon.com/images/P/0609804618.0...    11676       7  OTHERS  \n",
              "14  http://images.amazon.com/images/P/0971880107.0...    11676       6  OTHERS  "
            ],
            "text/html": [
              "\n",
              "  <div id=\"df-ae11c205-6bad-4493-b7aa-ae67b9d94ef7\">\n",
              "    <div class=\"colab-df-container\">\n",
              "      <div>\n",
              "<style scoped>\n",
              "    .dataframe tbody tr th:only-of-type {\n",
              "        vertical-align: middle;\n",
              "    }\n",
              "\n",
              "    .dataframe tbody tr th {\n",
              "        vertical-align: top;\n",
              "    }\n",
              "\n",
              "    .dataframe thead th {\n",
              "        text-align: right;\n",
              "    }\n",
              "</style>\n",
              "<table border=\"1\" class=\"dataframe\">\n",
              "  <thead>\n",
              "    <tr style=\"text-align: right;\">\n",
              "      <th></th>\n",
              "      <th>isbn</th>\n",
              "      <th>title</th>\n",
              "      <th>author</th>\n",
              "      <th>publisher</th>\n",
              "      <th>image_url_m</th>\n",
              "      <th>user_id</th>\n",
              "      <th>rating</th>\n",
              "      <th>country</th>\n",
              "    </tr>\n",
              "  </thead>\n",
              "  <tbody>\n",
              "    <tr>\n",
              "      <th>8</th>\n",
              "      <td>0399135782</td>\n",
              "      <td>The Kitchen God's Wife</td>\n",
              "      <td>Amy Tan</td>\n",
              "      <td>Putnam Pub Group</td>\n",
              "      <td>http://images.amazon.com/images/P/0399135782.0...</td>\n",
              "      <td>11676</td>\n",
              "      <td>9</td>\n",
              "      <td>OTHERS</td>\n",
              "    </tr>\n",
              "    <tr>\n",
              "      <th>10</th>\n",
              "      <td>0440234743</td>\n",
              "      <td>The Testament</td>\n",
              "      <td>John Grisham</td>\n",
              "      <td>Dell</td>\n",
              "      <td>http://images.amazon.com/images/P/0440234743.0...</td>\n",
              "      <td>11676</td>\n",
              "      <td>9</td>\n",
              "      <td>OTHERS</td>\n",
              "    </tr>\n",
              "    <tr>\n",
              "      <th>11</th>\n",
              "      <td>0452264464</td>\n",
              "      <td>Beloved (Plume Contemporary Fiction)</td>\n",
              "      <td>Toni Morrison</td>\n",
              "      <td>Plume</td>\n",
              "      <td>http://images.amazon.com/images/P/0452264464.0...</td>\n",
              "      <td>11676</td>\n",
              "      <td>8</td>\n",
              "      <td>OTHERS</td>\n",
              "    </tr>\n",
              "    <tr>\n",
              "      <th>12</th>\n",
              "      <td>0609804618</td>\n",
              "      <td>Our Dumb Century: The Onion Presents 100 Years...</td>\n",
              "      <td>The Onion</td>\n",
              "      <td>Three Rivers Press</td>\n",
              "      <td>http://images.amazon.com/images/P/0609804618.0...</td>\n",
              "      <td>11676</td>\n",
              "      <td>7</td>\n",
              "      <td>OTHERS</td>\n",
              "    </tr>\n",
              "    <tr>\n",
              "      <th>14</th>\n",
              "      <td>0971880107</td>\n",
              "      <td>Wild Animus</td>\n",
              "      <td>Rich Shapero</td>\n",
              "      <td>Too Far</td>\n",
              "      <td>http://images.amazon.com/images/P/0971880107.0...</td>\n",
              "      <td>11676</td>\n",
              "      <td>6</td>\n",
              "      <td>OTHERS</td>\n",
              "    </tr>\n",
              "  </tbody>\n",
              "</table>\n",
              "</div>\n",
              "      <button class=\"colab-df-convert\" onclick=\"convertToInteractive('df-ae11c205-6bad-4493-b7aa-ae67b9d94ef7')\"\n",
              "              title=\"Convert this dataframe to an interactive table.\"\n",
              "              style=\"display:none;\">\n",
              "        \n",
              "  <svg xmlns=\"http://www.w3.org/2000/svg\" height=\"24px\"viewBox=\"0 0 24 24\"\n",
              "       width=\"24px\">\n",
              "    <path d=\"M0 0h24v24H0V0z\" fill=\"none\"/>\n",
              "    <path d=\"M18.56 5.44l.94 2.06.94-2.06 2.06-.94-2.06-.94-.94-2.06-.94 2.06-2.06.94zm-11 1L8.5 8.5l.94-2.06 2.06-.94-2.06-.94L8.5 2.5l-.94 2.06-2.06.94zm10 10l.94 2.06.94-2.06 2.06-.94-2.06-.94-.94-2.06-.94 2.06-2.06.94z\"/><path d=\"M17.41 7.96l-1.37-1.37c-.4-.4-.92-.59-1.43-.59-.52 0-1.04.2-1.43.59L10.3 9.45l-7.72 7.72c-.78.78-.78 2.05 0 2.83L4 21.41c.39.39.9.59 1.41.59.51 0 1.02-.2 1.41-.59l7.78-7.78 2.81-2.81c.8-.78.8-2.07 0-2.86zM5.41 20L4 18.59l7.72-7.72 1.47 1.35L5.41 20z\"/>\n",
              "  </svg>\n",
              "      </button>\n",
              "      \n",
              "  <style>\n",
              "    .colab-df-container {\n",
              "      display:flex;\n",
              "      flex-wrap:wrap;\n",
              "      gap: 12px;\n",
              "    }\n",
              "\n",
              "    .colab-df-convert {\n",
              "      background-color: #E8F0FE;\n",
              "      border: none;\n",
              "      border-radius: 50%;\n",
              "      cursor: pointer;\n",
              "      display: none;\n",
              "      fill: #1967D2;\n",
              "      height: 32px;\n",
              "      padding: 0 0 0 0;\n",
              "      width: 32px;\n",
              "    }\n",
              "\n",
              "    .colab-df-convert:hover {\n",
              "      background-color: #E2EBFA;\n",
              "      box-shadow: 0px 1px 2px rgba(60, 64, 67, 0.3), 0px 1px 3px 1px rgba(60, 64, 67, 0.15);\n",
              "      fill: #174EA6;\n",
              "    }\n",
              "\n",
              "    [theme=dark] .colab-df-convert {\n",
              "      background-color: #3B4455;\n",
              "      fill: #D2E3FC;\n",
              "    }\n",
              "\n",
              "    [theme=dark] .colab-df-convert:hover {\n",
              "      background-color: #434B5C;\n",
              "      box-shadow: 0px 1px 3px 1px rgba(0, 0, 0, 0.15);\n",
              "      filter: drop-shadow(0px 1px 2px rgba(0, 0, 0, 0.3));\n",
              "      fill: #FFFFFF;\n",
              "    }\n",
              "  </style>\n",
              "\n",
              "      <script>\n",
              "        const buttonEl =\n",
              "          document.querySelector('#df-ae11c205-6bad-4493-b7aa-ae67b9d94ef7 button.colab-df-convert');\n",
              "        buttonEl.style.display =\n",
              "          google.colab.kernel.accessAllowed ? 'block' : 'none';\n",
              "\n",
              "        async function convertToInteractive(key) {\n",
              "          const element = document.querySelector('#df-ae11c205-6bad-4493-b7aa-ae67b9d94ef7');\n",
              "          const dataTable =\n",
              "            await google.colab.kernel.invokeFunction('convertToInteractive',\n",
              "                                                     [key], {});\n",
              "          if (!dataTable) return;\n",
              "\n",
              "          const docLinkHtml = 'Like what you see? Visit the ' +\n",
              "            '<a target=\"_blank\" href=https://colab.research.google.com/notebooks/data_table.ipynb>data table notebook</a>'\n",
              "            + ' to learn more about interactive tables.';\n",
              "          element.innerHTML = '';\n",
              "          dataTable['output_type'] = 'display_data';\n",
              "          await google.colab.output.renderOutput(dataTable, element);\n",
              "          const docLink = document.createElement('div');\n",
              "          docLink.innerHTML = docLinkHtml;\n",
              "          element.appendChild(docLink);\n",
              "        }\n",
              "      </script>\n",
              "    </div>\n",
              "  </div>\n",
              "  "
            ]
          },
          "metadata": {},
          "execution_count": 50
        }
      ],
      "source": [
        "# Users that are read enough\n",
        "x=df.groupby('user_id').count()['rating']>5\n",
        "read_users=x[x].index\n",
        "filtered_rating = df[df['user_id'].isin(read_users)]\n",
        "\n",
        "# Books that are rated enough\n",
        "y = filtered_rating.groupby('title').count()['rating']>=10\n",
        "famous_books = y[y].index\n",
        "\n",
        "# And the final dataframe is\n",
        "final_df = filtered_rating[filtered_rating['title'].isin(famous_books)]\n",
        "final_df.head()"
      ]
    },
    {
      "cell_type": "code",
      "execution_count": 51,
      "metadata": {
        "colab": {
          "base_uri": "https://localhost:8080/"
        },
        "id": "IlHD3KQBsfFY",
        "outputId": "b32e0f1c-89a4-4a41-fa91-f181877e78c7"
      },
      "outputs": [
        {
          "output_type": "execute_result",
          "data": {
            "text/plain": [
              "(103043, 8)"
            ]
          },
          "metadata": {},
          "execution_count": 51
        }
      ],
      "source": [
        "final_df.shape"
      ]
    },
    {
      "cell_type": "code",
      "execution_count": 52,
      "metadata": {
        "id": "bmM5FMfj2B5V"
      },
      "outputs": [],
      "source": [
        "# Creating Pivot table\n",
        "pt = final_df.pivot_table(index = 'title', columns = 'user_id', values = 'rating')\n",
        "pt.fillna(0,inplace=True)"
      ]
    },
    {
      "cell_type": "code",
      "execution_count": 53,
      "metadata": {
        "colab": {
          "base_uri": "https://localhost:8080/"
        },
        "id": "dcV2HPb853-E",
        "outputId": "9575b400-4e28-4c32-ddcc-8e0c582810bd"
      },
      "outputs": [
        {
          "output_type": "execute_result",
          "data": {
            "text/plain": [
              "(4116, 4116)"
            ]
          },
          "metadata": {},
          "execution_count": 53
        }
      ],
      "source": [
        "# Getting Smilarity Scores\n",
        "similarity_scores = cosine_similarity(pt)\n",
        "similarity_scores.shape"
      ]
    },
    {
      "cell_type": "markdown",
      "metadata": {
        "id": "6iZW-XttHv7u"
      },
      "source": [
        "##### **Building the Recommender**"
      ]
    },
    {
      "cell_type": "code",
      "execution_count": 54,
      "metadata": {
        "id": "Ern9kVkk6QUv"
      },
      "outputs": [],
      "source": [
        "# Writing a function for recommendation system\n",
        "\n",
        "def recommend(title, n=5):\n",
        "\n",
        "  '''\n",
        "  This fucntion takes book-title and number of recommendations to be returned as arguments\n",
        "  and returns a dataframe of recommended books with columns 'isbn', 'title', 'author' and 'image_url_m'\n",
        "  '''\n",
        "\n",
        "  # index fetch\n",
        "  index = np.where(pt.index==title)[0][0]\n",
        "  similar_items = sorted(list(enumerate(similarity_scores[index])),key=lambda x:x[1],reverse=True)[1:n+1]\n",
        "\n",
        "  # Storing titles of similar books\n",
        "  names = []\n",
        "  for i in similar_items:\n",
        "    names.append(pt.index[i[0]])\n",
        "\n",
        "  #getting recommended dataframe\n",
        "  recommendations = df[df['title'].isin(names)][['isbn', 'title', 'author', 'image_url_m']].drop_duplicates(subset='title')   \n",
        "    \n",
        "  return recommendations"
      ]
    },
    {
      "cell_type": "code",
      "execution_count": 55,
      "metadata": {
        "colab": {
          "base_uri": "https://localhost:8080/",
          "height": 206
        },
        "id": "gI7xCt6aCSb_",
        "outputId": "3e244f4e-632c-4431-ddcb-12e3549538a8"
      },
      "outputs": [
        {
          "output_type": "execute_result",
          "data": {
            "text/plain": [
              "            isbn                  title               author  \\\n",
              "74    0451526341            Animal Farm        George Orwell   \n",
              "721   0060809833        Brave New World        Aldous Huxley   \n",
              "907   0060935464  To Kill a Mockingbird           Harper Lee   \n",
              "1336  0684801523       The Great Gatsby  F. Scott Fitzgerald   \n",
              "1694  0452262933                   1984        George Orwell   \n",
              "\n",
              "                                            image_url_m  \n",
              "74    http://images.amazon.com/images/P/0451526341.0...  \n",
              "721   http://images.amazon.com/images/P/0060809833.0...  \n",
              "907   http://images.amazon.com/images/P/0060935464.0...  \n",
              "1336  http://images.amazon.com/images/P/0684801523.0...  \n",
              "1694  http://images.amazon.com/images/P/0452262933.0...  "
            ],
            "text/html": [
              "\n",
              "  <div id=\"df-33fe8007-3f24-47d0-b6cd-949bdcc4a2b7\">\n",
              "    <div class=\"colab-df-container\">\n",
              "      <div>\n",
              "<style scoped>\n",
              "    .dataframe tbody tr th:only-of-type {\n",
              "        vertical-align: middle;\n",
              "    }\n",
              "\n",
              "    .dataframe tbody tr th {\n",
              "        vertical-align: top;\n",
              "    }\n",
              "\n",
              "    .dataframe thead th {\n",
              "        text-align: right;\n",
              "    }\n",
              "</style>\n",
              "<table border=\"1\" class=\"dataframe\">\n",
              "  <thead>\n",
              "    <tr style=\"text-align: right;\">\n",
              "      <th></th>\n",
              "      <th>isbn</th>\n",
              "      <th>title</th>\n",
              "      <th>author</th>\n",
              "      <th>image_url_m</th>\n",
              "    </tr>\n",
              "  </thead>\n",
              "  <tbody>\n",
              "    <tr>\n",
              "      <th>74</th>\n",
              "      <td>0451526341</td>\n",
              "      <td>Animal Farm</td>\n",
              "      <td>George Orwell</td>\n",
              "      <td>http://images.amazon.com/images/P/0451526341.0...</td>\n",
              "    </tr>\n",
              "    <tr>\n",
              "      <th>721</th>\n",
              "      <td>0060809833</td>\n",
              "      <td>Brave New World</td>\n",
              "      <td>Aldous Huxley</td>\n",
              "      <td>http://images.amazon.com/images/P/0060809833.0...</td>\n",
              "    </tr>\n",
              "    <tr>\n",
              "      <th>907</th>\n",
              "      <td>0060935464</td>\n",
              "      <td>To Kill a Mockingbird</td>\n",
              "      <td>Harper Lee</td>\n",
              "      <td>http://images.amazon.com/images/P/0060935464.0...</td>\n",
              "    </tr>\n",
              "    <tr>\n",
              "      <th>1336</th>\n",
              "      <td>0684801523</td>\n",
              "      <td>The Great Gatsby</td>\n",
              "      <td>F. Scott Fitzgerald</td>\n",
              "      <td>http://images.amazon.com/images/P/0684801523.0...</td>\n",
              "    </tr>\n",
              "    <tr>\n",
              "      <th>1694</th>\n",
              "      <td>0452262933</td>\n",
              "      <td>1984</td>\n",
              "      <td>George Orwell</td>\n",
              "      <td>http://images.amazon.com/images/P/0452262933.0...</td>\n",
              "    </tr>\n",
              "  </tbody>\n",
              "</table>\n",
              "</div>\n",
              "      <button class=\"colab-df-convert\" onclick=\"convertToInteractive('df-33fe8007-3f24-47d0-b6cd-949bdcc4a2b7')\"\n",
              "              title=\"Convert this dataframe to an interactive table.\"\n",
              "              style=\"display:none;\">\n",
              "        \n",
              "  <svg xmlns=\"http://www.w3.org/2000/svg\" height=\"24px\"viewBox=\"0 0 24 24\"\n",
              "       width=\"24px\">\n",
              "    <path d=\"M0 0h24v24H0V0z\" fill=\"none\"/>\n",
              "    <path d=\"M18.56 5.44l.94 2.06.94-2.06 2.06-.94-2.06-.94-.94-2.06-.94 2.06-2.06.94zm-11 1L8.5 8.5l.94-2.06 2.06-.94-2.06-.94L8.5 2.5l-.94 2.06-2.06.94zm10 10l.94 2.06.94-2.06 2.06-.94-2.06-.94-.94-2.06-.94 2.06-2.06.94z\"/><path d=\"M17.41 7.96l-1.37-1.37c-.4-.4-.92-.59-1.43-.59-.52 0-1.04.2-1.43.59L10.3 9.45l-7.72 7.72c-.78.78-.78 2.05 0 2.83L4 21.41c.39.39.9.59 1.41.59.51 0 1.02-.2 1.41-.59l7.78-7.78 2.81-2.81c.8-.78.8-2.07 0-2.86zM5.41 20L4 18.59l7.72-7.72 1.47 1.35L5.41 20z\"/>\n",
              "  </svg>\n",
              "      </button>\n",
              "      \n",
              "  <style>\n",
              "    .colab-df-container {\n",
              "      display:flex;\n",
              "      flex-wrap:wrap;\n",
              "      gap: 12px;\n",
              "    }\n",
              "\n",
              "    .colab-df-convert {\n",
              "      background-color: #E8F0FE;\n",
              "      border: none;\n",
              "      border-radius: 50%;\n",
              "      cursor: pointer;\n",
              "      display: none;\n",
              "      fill: #1967D2;\n",
              "      height: 32px;\n",
              "      padding: 0 0 0 0;\n",
              "      width: 32px;\n",
              "    }\n",
              "\n",
              "    .colab-df-convert:hover {\n",
              "      background-color: #E2EBFA;\n",
              "      box-shadow: 0px 1px 2px rgba(60, 64, 67, 0.3), 0px 1px 3px 1px rgba(60, 64, 67, 0.15);\n",
              "      fill: #174EA6;\n",
              "    }\n",
              "\n",
              "    [theme=dark] .colab-df-convert {\n",
              "      background-color: #3B4455;\n",
              "      fill: #D2E3FC;\n",
              "    }\n",
              "\n",
              "    [theme=dark] .colab-df-convert:hover {\n",
              "      background-color: #434B5C;\n",
              "      box-shadow: 0px 1px 3px 1px rgba(0, 0, 0, 0.15);\n",
              "      filter: drop-shadow(0px 1px 2px rgba(0, 0, 0, 0.3));\n",
              "      fill: #FFFFFF;\n",
              "    }\n",
              "  </style>\n",
              "\n",
              "      <script>\n",
              "        const buttonEl =\n",
              "          document.querySelector('#df-33fe8007-3f24-47d0-b6cd-949bdcc4a2b7 button.colab-df-convert');\n",
              "        buttonEl.style.display =\n",
              "          google.colab.kernel.accessAllowed ? 'block' : 'none';\n",
              "\n",
              "        async function convertToInteractive(key) {\n",
              "          const element = document.querySelector('#df-33fe8007-3f24-47d0-b6cd-949bdcc4a2b7');\n",
              "          const dataTable =\n",
              "            await google.colab.kernel.invokeFunction('convertToInteractive',\n",
              "                                                     [key], {});\n",
              "          if (!dataTable) return;\n",
              "\n",
              "          const docLinkHtml = 'Like what you see? Visit the ' +\n",
              "            '<a target=\"_blank\" href=https://colab.research.google.com/notebooks/data_table.ipynb>data table notebook</a>'\n",
              "            + ' to learn more about interactive tables.';\n",
              "          element.innerHTML = '';\n",
              "          dataTable['output_type'] = 'display_data';\n",
              "          await google.colab.output.renderOutput(dataTable, element);\n",
              "          const docLink = document.createElement('div');\n",
              "          docLink.innerHTML = docLinkHtml;\n",
              "          element.appendChild(docLink);\n",
              "        }\n",
              "      </script>\n",
              "    </div>\n",
              "  </div>\n",
              "  "
            ]
          },
          "metadata": {},
          "execution_count": 55
        }
      ],
      "source": [
        "# Making Recommendations...\n",
        "recommend('The Catcher in the Rye')"
      ]
    },
    {
      "cell_type": "code",
      "source": [],
      "metadata": {
        "id": "UHmH8rpBRf6m"
      },
      "execution_count": 55,
      "outputs": []
    }
  ]
}