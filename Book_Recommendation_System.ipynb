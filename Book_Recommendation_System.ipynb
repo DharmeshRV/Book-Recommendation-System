{
  "nbformat": 4,
  "nbformat_minor": 0,
  "metadata": {
    "colab": {
      "provenance": [],
      "authorship_tag": "ABX9TyOs3FxPh8pwxfdg6uT7YNci",
      "include_colab_link": true
    },
    "kernelspec": {
      "name": "python3",
      "display_name": "Python 3"
    },
    "language_info": {
      "name": "python"
    }
  },
  "cells": [
    {
      "cell_type": "markdown",
      "metadata": {
        "id": "view-in-github",
        "colab_type": "text"
      },
      "source": [
        "<a href=\"https://colab.research.google.com/github/DharmeshRV/Book-Recommendation-System/blob/main/Book_Recommendation_System.ipynb\" target=\"_parent\"><img src=\"https://colab.research.google.com/assets/colab-badge.svg\" alt=\"Open In Colab\"/></a>"
      ]
    },
    {
      "cell_type": "markdown",
      "source": [
        "# **Project Name    - Book Recommendation System**\n",
        "\n"
      ],
      "metadata": {
        "id": "vncDsAP0Gaoa"
      }
    },
    {
      "cell_type": "markdown",
      "source": [
        "##### **Project Type**    - Unsupervised\n",
        "##### **Contribution**    - Individual\n",
        "##### **Name -** Dharmesh Kumar"
      ],
      "metadata": {
        "id": "beRrZCGUAJYm"
      }
    },
    {
      "cell_type": "markdown",
      "source": [
        "# **Project Summary -**"
      ],
      "metadata": {
        "id": "FJNUwmbgGyua"
      }
    },
    {
      "cell_type": "markdown",
      "source": [
        "Recommender systems are used since last few decades but with the rapid digitalization - where books, news, movies, clothes and even food and grocery are available online - the recommender systems have become necessary devices in attracting the customers and helping them find the products of thier interest. From e-commerce (suggest to buyers articles that could interest them) to online advertisement (suggest to user the right content, marhcing thier preferences) recommender systems today are unavoidable in our daily online journeys.\n",
        "\n",
        "**1. Stating the Problem**\n",
        "\n",
        "* Understanding the Problem\n",
        "* Understanding the variables in data\n",
        "\n",
        "**2. Data Wrangling**\n",
        "\n",
        "* Filling the Missing Values\n",
        "* Processing 'Location' values\n",
        "* Merging the Dataframes\n",
        "* Checking for Duplicated values\n",
        "\n",
        "**3. Exploratory Data Analysis**\n",
        "* Exploring Popular Authors, Publishers and Best-seller Books\n",
        "* Visualizing Countries\n",
        "* Understanding the Rating Distribution\n",
        "\n",
        "**4. Recommendation Systems Implementation**\n",
        "* Memory-Based Recommendation Systems\n",
        "   * Popularity Based Recommendation System\n",
        "   * Item-Based Recommendation System\n",
        "* Model-Based Recommendation System\n",
        "   * User-based Collaborative Filtering Recommender\n",
        "   * Model Evaluation\n",
        "\n",
        "**5. Conclusions**"
      ],
      "metadata": {
        "id": "F6v_1wHtG2nS"
      }
    },
    {
      "cell_type": "markdown",
      "source": [
        "# **GitHub Link -**"
      ],
      "metadata": {
        "id": "w6K7xa23Elo4"
      }
    },
    {
      "cell_type": "markdown",
      "source": [
        "https://github.com/DharmeshRV/Book-Recommendation-System"
      ],
      "metadata": {
        "id": "h1o69JH3Eqqn"
      }
    },
    {
      "cell_type": "markdown",
      "source": [
        "# **Problem Statement**\n"
      ],
      "metadata": {
        "id": "yQaldy8SH6Dl"
      }
    },
    {
      "cell_type": "markdown",
      "source": [
        "In a very general way, recommender systems are algorithms aimed at suggesting relevant items to users (items  being movies to watch, text to read, products to buy or anything else depending on industries).\n",
        "\n",
        "Recommender systems are really critical in some industries as they can generate a huge amount of income when they are efficient or also be a way to stand out significantly from competitors. The main objective is to create a book recommendation system for users.\n",
        "\n",
        "**Content**\n",
        "\n",
        "The Book dataset contains 3 files.\n",
        "\n",
        "\n",
        "● Books\n",
        "\n",
        "Books are identified by their respective ISBN. Invalid ISBNs have already been removed from the dataset. Moreover, some content-based information is given (Book-Title, Book-Author, Year-Of-Publication, Publisher), obtained from Amazon Web Services. Note that in the case of several authors, only the first is provided. URLs linking to cover images are also given, appearing in three different flavors (Image-URL-S, Image-URL-M, Image-URL-L), i.e., small, medium, large. These URLs point to the Amazon website.\n",
        "\n",
        "● Ratings\n",
        "\n",
        "Contains the book rating information. Ratings (Book-Rating) are either explicit, expressed on a scale from 1-10 (higher values denoting higher appreciation), or implicit, expressed by 0.\n",
        "\n",
        "● Users\n",
        "\n",
        "Contains the users. Note that user IDs (User-ID) have been anonymized and map to integers. Demographic data is provided (Location, Age) if available. Otherwise, these fields contain NULL values."
      ],
      "metadata": {
        "id": "DpeJGUA3kjGy"
      }
    },
    {
      "cell_type": "markdown",
      "source": [
        "# ***Let's Begin !***"
      ],
      "metadata": {
        "id": "O_i_v8NEhb9l"
      }
    },
    {
      "cell_type": "markdown",
      "metadata": {
        "id": "HhfV-JJviCcP"
      },
      "source": [
        "## ***1. Know Your Data***"
      ]
    },
    {
      "cell_type": "markdown",
      "source": [
        "### Import Libraries"
      ],
      "metadata": {
        "id": "Y3lxredqlCYt"
      }
    },
    {
      "cell_type": "code",
      "source": [
        "# Import Libraries\n",
        "import numpy as np\n",
        "import pandas as pd\n",
        "import matplotlib.pyplot as plt\n",
        "import seaborn as sns\n",
        "from wordcloud import WordCloud, STOPWORDS, ImageColorGenerator\n",
        "from sklearn.metrics.pairwise import cosine_similarity\n",
        "from sklearn.model_selection import train_test_split\n",
        "from scipy.sparse.linalg import svds\n",
        "import random\n",
        "import warnings\n",
        "warnings.filterwarnings('ignore')"
      ],
      "metadata": {
        "id": "M8Vqi-pPk-HR"
      },
      "execution_count": 1,
      "outputs": []
    },
    {
      "cell_type": "markdown",
      "source": [
        "### Dataset Loading"
      ],
      "metadata": {
        "id": "3RnN4peoiCZX"
      }
    },
    {
      "cell_type": "code",
      "source": [
        "# Mounting the drive\n",
        "from google.colab import drive\n",
        "drive.mount('/content/drive')"
      ],
      "metadata": {
        "colab": {
          "base_uri": "https://localhost:8080/"
        },
        "id": "_tYtJsp4Gio_",
        "outputId": "96c58f11-4087-4270-89fb-51f97e2534e3"
      },
      "execution_count": 2,
      "outputs": [
        {
          "output_type": "stream",
          "name": "stdout",
          "text": [
            "Mounted at /content/drive\n"
          ]
        }
      ]
    },
    {
      "cell_type": "code",
      "execution_count": 3,
      "metadata": {
        "id": "4CkvbW_SlZ_R"
      },
      "outputs": [],
      "source": [
        "# Loading Book data\n",
        "books_df=pd.read_csv('/content/drive/MyDrive/Colab Notebooks/Almabetter_Data Science/Capstone Projects/Book Recommendation System - Dharmesh Kumar/Books.csv')\n",
        "ratings_df=pd.read_csv('/content/drive/MyDrive/Colab Notebooks/Almabetter_Data Science/Capstone Projects/Book Recommendation System - Dharmesh Kumar/Ratings.csv')\n",
        "users_df=pd.read_csv('/content/drive/MyDrive/Colab Notebooks/Almabetter_Data Science/Capstone Projects/Book Recommendation System - Dharmesh Kumar/Users.csv')"
      ]
    },
    {
      "cell_type": "markdown",
      "source": [
        "### Dataset First View"
      ],
      "metadata": {
        "id": "x71ZqKXriCWQ"
      }
    },
    {
      "cell_type": "code",
      "source": [
        "# Books Dataset First Look\n",
        "books_df.head()"
      ],
      "metadata": {
        "id": "LWNFOSvLl09H",
        "colab": {
          "base_uri": "https://localhost:8080/",
          "height": 478
        },
        "outputId": "c5975a54-2a69-4501-9610-4c49641624ab"
      },
      "execution_count": 4,
      "outputs": [
        {
          "output_type": "execute_result",
          "data": {
            "text/plain": [
              "         ISBN                                         Book-Title  \\\n",
              "0  0195153448                                Classical Mythology   \n",
              "1  0002005018                                       Clara Callan   \n",
              "2  0060973129                               Decision in Normandy   \n",
              "3  0374157065  Flu: The Story of the Great Influenza Pandemic...   \n",
              "4  0393045218                             The Mummies of Urumchi   \n",
              "\n",
              "            Book-Author Year-Of-Publication                   Publisher  \\\n",
              "0    Mark P. O. Morford                2002     Oxford University Press   \n",
              "1  Richard Bruce Wright                2001       HarperFlamingo Canada   \n",
              "2          Carlo D'Este                1991             HarperPerennial   \n",
              "3      Gina Bari Kolata                1999        Farrar Straus Giroux   \n",
              "4       E. J. W. Barber                1999  W. W. Norton &amp; Company   \n",
              "\n",
              "                                         Image-URL-S  \\\n",
              "0  http://images.amazon.com/images/P/0195153448.0...   \n",
              "1  http://images.amazon.com/images/P/0002005018.0...   \n",
              "2  http://images.amazon.com/images/P/0060973129.0...   \n",
              "3  http://images.amazon.com/images/P/0374157065.0...   \n",
              "4  http://images.amazon.com/images/P/0393045218.0...   \n",
              "\n",
              "                                         Image-URL-M  \\\n",
              "0  http://images.amazon.com/images/P/0195153448.0...   \n",
              "1  http://images.amazon.com/images/P/0002005018.0...   \n",
              "2  http://images.amazon.com/images/P/0060973129.0...   \n",
              "3  http://images.amazon.com/images/P/0374157065.0...   \n",
              "4  http://images.amazon.com/images/P/0393045218.0...   \n",
              "\n",
              "                                         Image-URL-L  \n",
              "0  http://images.amazon.com/images/P/0195153448.0...  \n",
              "1  http://images.amazon.com/images/P/0002005018.0...  \n",
              "2  http://images.amazon.com/images/P/0060973129.0...  \n",
              "3  http://images.amazon.com/images/P/0374157065.0...  \n",
              "4  http://images.amazon.com/images/P/0393045218.0...  "
            ],
            "text/html": [
              "\n",
              "  <div id=\"df-c7350a68-78bb-4f52-9344-8e8bcf56d12c\">\n",
              "    <div class=\"colab-df-container\">\n",
              "      <div>\n",
              "<style scoped>\n",
              "    .dataframe tbody tr th:only-of-type {\n",
              "        vertical-align: middle;\n",
              "    }\n",
              "\n",
              "    .dataframe tbody tr th {\n",
              "        vertical-align: top;\n",
              "    }\n",
              "\n",
              "    .dataframe thead th {\n",
              "        text-align: right;\n",
              "    }\n",
              "</style>\n",
              "<table border=\"1\" class=\"dataframe\">\n",
              "  <thead>\n",
              "    <tr style=\"text-align: right;\">\n",
              "      <th></th>\n",
              "      <th>ISBN</th>\n",
              "      <th>Book-Title</th>\n",
              "      <th>Book-Author</th>\n",
              "      <th>Year-Of-Publication</th>\n",
              "      <th>Publisher</th>\n",
              "      <th>Image-URL-S</th>\n",
              "      <th>Image-URL-M</th>\n",
              "      <th>Image-URL-L</th>\n",
              "    </tr>\n",
              "  </thead>\n",
              "  <tbody>\n",
              "    <tr>\n",
              "      <th>0</th>\n",
              "      <td>0195153448</td>\n",
              "      <td>Classical Mythology</td>\n",
              "      <td>Mark P. O. Morford</td>\n",
              "      <td>2002</td>\n",
              "      <td>Oxford University Press</td>\n",
              "      <td>http://images.amazon.com/images/P/0195153448.0...</td>\n",
              "      <td>http://images.amazon.com/images/P/0195153448.0...</td>\n",
              "      <td>http://images.amazon.com/images/P/0195153448.0...</td>\n",
              "    </tr>\n",
              "    <tr>\n",
              "      <th>1</th>\n",
              "      <td>0002005018</td>\n",
              "      <td>Clara Callan</td>\n",
              "      <td>Richard Bruce Wright</td>\n",
              "      <td>2001</td>\n",
              "      <td>HarperFlamingo Canada</td>\n",
              "      <td>http://images.amazon.com/images/P/0002005018.0...</td>\n",
              "      <td>http://images.amazon.com/images/P/0002005018.0...</td>\n",
              "      <td>http://images.amazon.com/images/P/0002005018.0...</td>\n",
              "    </tr>\n",
              "    <tr>\n",
              "      <th>2</th>\n",
              "      <td>0060973129</td>\n",
              "      <td>Decision in Normandy</td>\n",
              "      <td>Carlo D'Este</td>\n",
              "      <td>1991</td>\n",
              "      <td>HarperPerennial</td>\n",
              "      <td>http://images.amazon.com/images/P/0060973129.0...</td>\n",
              "      <td>http://images.amazon.com/images/P/0060973129.0...</td>\n",
              "      <td>http://images.amazon.com/images/P/0060973129.0...</td>\n",
              "    </tr>\n",
              "    <tr>\n",
              "      <th>3</th>\n",
              "      <td>0374157065</td>\n",
              "      <td>Flu: The Story of the Great Influenza Pandemic...</td>\n",
              "      <td>Gina Bari Kolata</td>\n",
              "      <td>1999</td>\n",
              "      <td>Farrar Straus Giroux</td>\n",
              "      <td>http://images.amazon.com/images/P/0374157065.0...</td>\n",
              "      <td>http://images.amazon.com/images/P/0374157065.0...</td>\n",
              "      <td>http://images.amazon.com/images/P/0374157065.0...</td>\n",
              "    </tr>\n",
              "    <tr>\n",
              "      <th>4</th>\n",
              "      <td>0393045218</td>\n",
              "      <td>The Mummies of Urumchi</td>\n",
              "      <td>E. J. W. Barber</td>\n",
              "      <td>1999</td>\n",
              "      <td>W. W. Norton &amp;amp; Company</td>\n",
              "      <td>http://images.amazon.com/images/P/0393045218.0...</td>\n",
              "      <td>http://images.amazon.com/images/P/0393045218.0...</td>\n",
              "      <td>http://images.amazon.com/images/P/0393045218.0...</td>\n",
              "    </tr>\n",
              "  </tbody>\n",
              "</table>\n",
              "</div>\n",
              "      <button class=\"colab-df-convert\" onclick=\"convertToInteractive('df-c7350a68-78bb-4f52-9344-8e8bcf56d12c')\"\n",
              "              title=\"Convert this dataframe to an interactive table.\"\n",
              "              style=\"display:none;\">\n",
              "        \n",
              "  <svg xmlns=\"http://www.w3.org/2000/svg\" height=\"24px\"viewBox=\"0 0 24 24\"\n",
              "       width=\"24px\">\n",
              "    <path d=\"M0 0h24v24H0V0z\" fill=\"none\"/>\n",
              "    <path d=\"M18.56 5.44l.94 2.06.94-2.06 2.06-.94-2.06-.94-.94-2.06-.94 2.06-2.06.94zm-11 1L8.5 8.5l.94-2.06 2.06-.94-2.06-.94L8.5 2.5l-.94 2.06-2.06.94zm10 10l.94 2.06.94-2.06 2.06-.94-2.06-.94-.94-2.06-.94 2.06-2.06.94z\"/><path d=\"M17.41 7.96l-1.37-1.37c-.4-.4-.92-.59-1.43-.59-.52 0-1.04.2-1.43.59L10.3 9.45l-7.72 7.72c-.78.78-.78 2.05 0 2.83L4 21.41c.39.39.9.59 1.41.59.51 0 1.02-.2 1.41-.59l7.78-7.78 2.81-2.81c.8-.78.8-2.07 0-2.86zM5.41 20L4 18.59l7.72-7.72 1.47 1.35L5.41 20z\"/>\n",
              "  </svg>\n",
              "      </button>\n",
              "      \n",
              "  <style>\n",
              "    .colab-df-container {\n",
              "      display:flex;\n",
              "      flex-wrap:wrap;\n",
              "      gap: 12px;\n",
              "    }\n",
              "\n",
              "    .colab-df-convert {\n",
              "      background-color: #E8F0FE;\n",
              "      border: none;\n",
              "      border-radius: 50%;\n",
              "      cursor: pointer;\n",
              "      display: none;\n",
              "      fill: #1967D2;\n",
              "      height: 32px;\n",
              "      padding: 0 0 0 0;\n",
              "      width: 32px;\n",
              "    }\n",
              "\n",
              "    .colab-df-convert:hover {\n",
              "      background-color: #E2EBFA;\n",
              "      box-shadow: 0px 1px 2px rgba(60, 64, 67, 0.3), 0px 1px 3px 1px rgba(60, 64, 67, 0.15);\n",
              "      fill: #174EA6;\n",
              "    }\n",
              "\n",
              "    [theme=dark] .colab-df-convert {\n",
              "      background-color: #3B4455;\n",
              "      fill: #D2E3FC;\n",
              "    }\n",
              "\n",
              "    [theme=dark] .colab-df-convert:hover {\n",
              "      background-color: #434B5C;\n",
              "      box-shadow: 0px 1px 3px 1px rgba(0, 0, 0, 0.15);\n",
              "      filter: drop-shadow(0px 1px 2px rgba(0, 0, 0, 0.3));\n",
              "      fill: #FFFFFF;\n",
              "    }\n",
              "  </style>\n",
              "\n",
              "      <script>\n",
              "        const buttonEl =\n",
              "          document.querySelector('#df-c7350a68-78bb-4f52-9344-8e8bcf56d12c button.colab-df-convert');\n",
              "        buttonEl.style.display =\n",
              "          google.colab.kernel.accessAllowed ? 'block' : 'none';\n",
              "\n",
              "        async function convertToInteractive(key) {\n",
              "          const element = document.querySelector('#df-c7350a68-78bb-4f52-9344-8e8bcf56d12c');\n",
              "          const dataTable =\n",
              "            await google.colab.kernel.invokeFunction('convertToInteractive',\n",
              "                                                     [key], {});\n",
              "          if (!dataTable) return;\n",
              "\n",
              "          const docLinkHtml = 'Like what you see? Visit the ' +\n",
              "            '<a target=\"_blank\" href=https://colab.research.google.com/notebooks/data_table.ipynb>data table notebook</a>'\n",
              "            + ' to learn more about interactive tables.';\n",
              "          element.innerHTML = '';\n",
              "          dataTable['output_type'] = 'display_data';\n",
              "          await google.colab.output.renderOutput(dataTable, element);\n",
              "          const docLink = document.createElement('div');\n",
              "          docLink.innerHTML = docLinkHtml;\n",
              "          element.appendChild(docLink);\n",
              "        }\n",
              "      </script>\n",
              "    </div>\n",
              "  </div>\n",
              "  "
            ]
          },
          "metadata": {},
          "execution_count": 4
        }
      ]
    },
    {
      "cell_type": "code",
      "source": [
        "# Ratings Dataset First Look\n",
        "ratings_df.head()"
      ],
      "metadata": {
        "colab": {
          "base_uri": "https://localhost:8080/",
          "height": 206
        },
        "id": "Fd8Sz9ltH2Wz",
        "outputId": "45df7d86-cfc2-4cbc-fee7-8d57230b495e"
      },
      "execution_count": 5,
      "outputs": [
        {
          "output_type": "execute_result",
          "data": {
            "text/plain": [
              "   User-ID        ISBN  Book-Rating\n",
              "0   276725  034545104X            0\n",
              "1   276726  0155061224            5\n",
              "2   276727  0446520802            0\n",
              "3   276729  052165615X            3\n",
              "4   276729  0521795028            6"
            ],
            "text/html": [
              "\n",
              "  <div id=\"df-d0a36fe8-7dcd-4fc9-b471-2fcb2f45f040\">\n",
              "    <div class=\"colab-df-container\">\n",
              "      <div>\n",
              "<style scoped>\n",
              "    .dataframe tbody tr th:only-of-type {\n",
              "        vertical-align: middle;\n",
              "    }\n",
              "\n",
              "    .dataframe tbody tr th {\n",
              "        vertical-align: top;\n",
              "    }\n",
              "\n",
              "    .dataframe thead th {\n",
              "        text-align: right;\n",
              "    }\n",
              "</style>\n",
              "<table border=\"1\" class=\"dataframe\">\n",
              "  <thead>\n",
              "    <tr style=\"text-align: right;\">\n",
              "      <th></th>\n",
              "      <th>User-ID</th>\n",
              "      <th>ISBN</th>\n",
              "      <th>Book-Rating</th>\n",
              "    </tr>\n",
              "  </thead>\n",
              "  <tbody>\n",
              "    <tr>\n",
              "      <th>0</th>\n",
              "      <td>276725</td>\n",
              "      <td>034545104X</td>\n",
              "      <td>0</td>\n",
              "    </tr>\n",
              "    <tr>\n",
              "      <th>1</th>\n",
              "      <td>276726</td>\n",
              "      <td>0155061224</td>\n",
              "      <td>5</td>\n",
              "    </tr>\n",
              "    <tr>\n",
              "      <th>2</th>\n",
              "      <td>276727</td>\n",
              "      <td>0446520802</td>\n",
              "      <td>0</td>\n",
              "    </tr>\n",
              "    <tr>\n",
              "      <th>3</th>\n",
              "      <td>276729</td>\n",
              "      <td>052165615X</td>\n",
              "      <td>3</td>\n",
              "    </tr>\n",
              "    <tr>\n",
              "      <th>4</th>\n",
              "      <td>276729</td>\n",
              "      <td>0521795028</td>\n",
              "      <td>6</td>\n",
              "    </tr>\n",
              "  </tbody>\n",
              "</table>\n",
              "</div>\n",
              "      <button class=\"colab-df-convert\" onclick=\"convertToInteractive('df-d0a36fe8-7dcd-4fc9-b471-2fcb2f45f040')\"\n",
              "              title=\"Convert this dataframe to an interactive table.\"\n",
              "              style=\"display:none;\">\n",
              "        \n",
              "  <svg xmlns=\"http://www.w3.org/2000/svg\" height=\"24px\"viewBox=\"0 0 24 24\"\n",
              "       width=\"24px\">\n",
              "    <path d=\"M0 0h24v24H0V0z\" fill=\"none\"/>\n",
              "    <path d=\"M18.56 5.44l.94 2.06.94-2.06 2.06-.94-2.06-.94-.94-2.06-.94 2.06-2.06.94zm-11 1L8.5 8.5l.94-2.06 2.06-.94-2.06-.94L8.5 2.5l-.94 2.06-2.06.94zm10 10l.94 2.06.94-2.06 2.06-.94-2.06-.94-.94-2.06-.94 2.06-2.06.94z\"/><path d=\"M17.41 7.96l-1.37-1.37c-.4-.4-.92-.59-1.43-.59-.52 0-1.04.2-1.43.59L10.3 9.45l-7.72 7.72c-.78.78-.78 2.05 0 2.83L4 21.41c.39.39.9.59 1.41.59.51 0 1.02-.2 1.41-.59l7.78-7.78 2.81-2.81c.8-.78.8-2.07 0-2.86zM5.41 20L4 18.59l7.72-7.72 1.47 1.35L5.41 20z\"/>\n",
              "  </svg>\n",
              "      </button>\n",
              "      \n",
              "  <style>\n",
              "    .colab-df-container {\n",
              "      display:flex;\n",
              "      flex-wrap:wrap;\n",
              "      gap: 12px;\n",
              "    }\n",
              "\n",
              "    .colab-df-convert {\n",
              "      background-color: #E8F0FE;\n",
              "      border: none;\n",
              "      border-radius: 50%;\n",
              "      cursor: pointer;\n",
              "      display: none;\n",
              "      fill: #1967D2;\n",
              "      height: 32px;\n",
              "      padding: 0 0 0 0;\n",
              "      width: 32px;\n",
              "    }\n",
              "\n",
              "    .colab-df-convert:hover {\n",
              "      background-color: #E2EBFA;\n",
              "      box-shadow: 0px 1px 2px rgba(60, 64, 67, 0.3), 0px 1px 3px 1px rgba(60, 64, 67, 0.15);\n",
              "      fill: #174EA6;\n",
              "    }\n",
              "\n",
              "    [theme=dark] .colab-df-convert {\n",
              "      background-color: #3B4455;\n",
              "      fill: #D2E3FC;\n",
              "    }\n",
              "\n",
              "    [theme=dark] .colab-df-convert:hover {\n",
              "      background-color: #434B5C;\n",
              "      box-shadow: 0px 1px 3px 1px rgba(0, 0, 0, 0.15);\n",
              "      filter: drop-shadow(0px 1px 2px rgba(0, 0, 0, 0.3));\n",
              "      fill: #FFFFFF;\n",
              "    }\n",
              "  </style>\n",
              "\n",
              "      <script>\n",
              "        const buttonEl =\n",
              "          document.querySelector('#df-d0a36fe8-7dcd-4fc9-b471-2fcb2f45f040 button.colab-df-convert');\n",
              "        buttonEl.style.display =\n",
              "          google.colab.kernel.accessAllowed ? 'block' : 'none';\n",
              "\n",
              "        async function convertToInteractive(key) {\n",
              "          const element = document.querySelector('#df-d0a36fe8-7dcd-4fc9-b471-2fcb2f45f040');\n",
              "          const dataTable =\n",
              "            await google.colab.kernel.invokeFunction('convertToInteractive',\n",
              "                                                     [key], {});\n",
              "          if (!dataTable) return;\n",
              "\n",
              "          const docLinkHtml = 'Like what you see? Visit the ' +\n",
              "            '<a target=\"_blank\" href=https://colab.research.google.com/notebooks/data_table.ipynb>data table notebook</a>'\n",
              "            + ' to learn more about interactive tables.';\n",
              "          element.innerHTML = '';\n",
              "          dataTable['output_type'] = 'display_data';\n",
              "          await google.colab.output.renderOutput(dataTable, element);\n",
              "          const docLink = document.createElement('div');\n",
              "          docLink.innerHTML = docLinkHtml;\n",
              "          element.appendChild(docLink);\n",
              "        }\n",
              "      </script>\n",
              "    </div>\n",
              "  </div>\n",
              "  "
            ]
          },
          "metadata": {},
          "execution_count": 5
        }
      ]
    },
    {
      "cell_type": "code",
      "source": [
        "# Users Dataset First Look\n",
        "users_df.head()"
      ],
      "metadata": {
        "colab": {
          "base_uri": "https://localhost:8080/",
          "height": 206
        },
        "id": "1V5hfBssIAUG",
        "outputId": "d99b65dd-9f62-479e-ad85-f7f3272e67fc"
      },
      "execution_count": 6,
      "outputs": [
        {
          "output_type": "execute_result",
          "data": {
            "text/plain": [
              "   User-ID                            Location   Age\n",
              "0        1                  nyc, new york, usa   NaN\n",
              "1        2           stockton, california, usa  18.0\n",
              "2        3     moscow, yukon territory, russia   NaN\n",
              "3        4           porto, v.n.gaia, portugal  17.0\n",
              "4        5  farnborough, hants, united kingdom   NaN"
            ],
            "text/html": [
              "\n",
              "  <div id=\"df-cf64a875-588c-4321-9bf2-9bebca58f411\">\n",
              "    <div class=\"colab-df-container\">\n",
              "      <div>\n",
              "<style scoped>\n",
              "    .dataframe tbody tr th:only-of-type {\n",
              "        vertical-align: middle;\n",
              "    }\n",
              "\n",
              "    .dataframe tbody tr th {\n",
              "        vertical-align: top;\n",
              "    }\n",
              "\n",
              "    .dataframe thead th {\n",
              "        text-align: right;\n",
              "    }\n",
              "</style>\n",
              "<table border=\"1\" class=\"dataframe\">\n",
              "  <thead>\n",
              "    <tr style=\"text-align: right;\">\n",
              "      <th></th>\n",
              "      <th>User-ID</th>\n",
              "      <th>Location</th>\n",
              "      <th>Age</th>\n",
              "    </tr>\n",
              "  </thead>\n",
              "  <tbody>\n",
              "    <tr>\n",
              "      <th>0</th>\n",
              "      <td>1</td>\n",
              "      <td>nyc, new york, usa</td>\n",
              "      <td>NaN</td>\n",
              "    </tr>\n",
              "    <tr>\n",
              "      <th>1</th>\n",
              "      <td>2</td>\n",
              "      <td>stockton, california, usa</td>\n",
              "      <td>18.0</td>\n",
              "    </tr>\n",
              "    <tr>\n",
              "      <th>2</th>\n",
              "      <td>3</td>\n",
              "      <td>moscow, yukon territory, russia</td>\n",
              "      <td>NaN</td>\n",
              "    </tr>\n",
              "    <tr>\n",
              "      <th>3</th>\n",
              "      <td>4</td>\n",
              "      <td>porto, v.n.gaia, portugal</td>\n",
              "      <td>17.0</td>\n",
              "    </tr>\n",
              "    <tr>\n",
              "      <th>4</th>\n",
              "      <td>5</td>\n",
              "      <td>farnborough, hants, united kingdom</td>\n",
              "      <td>NaN</td>\n",
              "    </tr>\n",
              "  </tbody>\n",
              "</table>\n",
              "</div>\n",
              "      <button class=\"colab-df-convert\" onclick=\"convertToInteractive('df-cf64a875-588c-4321-9bf2-9bebca58f411')\"\n",
              "              title=\"Convert this dataframe to an interactive table.\"\n",
              "              style=\"display:none;\">\n",
              "        \n",
              "  <svg xmlns=\"http://www.w3.org/2000/svg\" height=\"24px\"viewBox=\"0 0 24 24\"\n",
              "       width=\"24px\">\n",
              "    <path d=\"M0 0h24v24H0V0z\" fill=\"none\"/>\n",
              "    <path d=\"M18.56 5.44l.94 2.06.94-2.06 2.06-.94-2.06-.94-.94-2.06-.94 2.06-2.06.94zm-11 1L8.5 8.5l.94-2.06 2.06-.94-2.06-.94L8.5 2.5l-.94 2.06-2.06.94zm10 10l.94 2.06.94-2.06 2.06-.94-2.06-.94-.94-2.06-.94 2.06-2.06.94z\"/><path d=\"M17.41 7.96l-1.37-1.37c-.4-.4-.92-.59-1.43-.59-.52 0-1.04.2-1.43.59L10.3 9.45l-7.72 7.72c-.78.78-.78 2.05 0 2.83L4 21.41c.39.39.9.59 1.41.59.51 0 1.02-.2 1.41-.59l7.78-7.78 2.81-2.81c.8-.78.8-2.07 0-2.86zM5.41 20L4 18.59l7.72-7.72 1.47 1.35L5.41 20z\"/>\n",
              "  </svg>\n",
              "      </button>\n",
              "      \n",
              "  <style>\n",
              "    .colab-df-container {\n",
              "      display:flex;\n",
              "      flex-wrap:wrap;\n",
              "      gap: 12px;\n",
              "    }\n",
              "\n",
              "    .colab-df-convert {\n",
              "      background-color: #E8F0FE;\n",
              "      border: none;\n",
              "      border-radius: 50%;\n",
              "      cursor: pointer;\n",
              "      display: none;\n",
              "      fill: #1967D2;\n",
              "      height: 32px;\n",
              "      padding: 0 0 0 0;\n",
              "      width: 32px;\n",
              "    }\n",
              "\n",
              "    .colab-df-convert:hover {\n",
              "      background-color: #E2EBFA;\n",
              "      box-shadow: 0px 1px 2px rgba(60, 64, 67, 0.3), 0px 1px 3px 1px rgba(60, 64, 67, 0.15);\n",
              "      fill: #174EA6;\n",
              "    }\n",
              "\n",
              "    [theme=dark] .colab-df-convert {\n",
              "      background-color: #3B4455;\n",
              "      fill: #D2E3FC;\n",
              "    }\n",
              "\n",
              "    [theme=dark] .colab-df-convert:hover {\n",
              "      background-color: #434B5C;\n",
              "      box-shadow: 0px 1px 3px 1px rgba(0, 0, 0, 0.15);\n",
              "      filter: drop-shadow(0px 1px 2px rgba(0, 0, 0, 0.3));\n",
              "      fill: #FFFFFF;\n",
              "    }\n",
              "  </style>\n",
              "\n",
              "      <script>\n",
              "        const buttonEl =\n",
              "          document.querySelector('#df-cf64a875-588c-4321-9bf2-9bebca58f411 button.colab-df-convert');\n",
              "        buttonEl.style.display =\n",
              "          google.colab.kernel.accessAllowed ? 'block' : 'none';\n",
              "\n",
              "        async function convertToInteractive(key) {\n",
              "          const element = document.querySelector('#df-cf64a875-588c-4321-9bf2-9bebca58f411');\n",
              "          const dataTable =\n",
              "            await google.colab.kernel.invokeFunction('convertToInteractive',\n",
              "                                                     [key], {});\n",
              "          if (!dataTable) return;\n",
              "\n",
              "          const docLinkHtml = 'Like what you see? Visit the ' +\n",
              "            '<a target=\"_blank\" href=https://colab.research.google.com/notebooks/data_table.ipynb>data table notebook</a>'\n",
              "            + ' to learn more about interactive tables.';\n",
              "          element.innerHTML = '';\n",
              "          dataTable['output_type'] = 'display_data';\n",
              "          await google.colab.output.renderOutput(dataTable, element);\n",
              "          const docLink = document.createElement('div');\n",
              "          docLink.innerHTML = docLinkHtml;\n",
              "          element.appendChild(docLink);\n",
              "        }\n",
              "      </script>\n",
              "    </div>\n",
              "  </div>\n",
              "  "
            ]
          },
          "metadata": {},
          "execution_count": 6
        }
      ]
    },
    {
      "cell_type": "markdown",
      "source": [
        "### Dataset Rows & Columns count"
      ],
      "metadata": {
        "id": "7hBIi_osiCS2"
      }
    },
    {
      "cell_type": "code",
      "source": [
        "# Dataset Rows & Columns count\n",
        "print('Shape of books dataset is:',books_df.shape,'\\nShape of ratings dataset is:',ratings_df.shape,\n",
        "      '\\nShape of user dataset is:',users_df.shape)"
      ],
      "metadata": {
        "id": "Kllu7SJgmLij",
        "colab": {
          "base_uri": "https://localhost:8080/"
        },
        "outputId": "f583e81c-e4ca-4da4-8ece-d838816eba58"
      },
      "execution_count": 7,
      "outputs": [
        {
          "output_type": "stream",
          "name": "stdout",
          "text": [
            "Shape of books dataset is: (271360, 8) \n",
            "Shape of ratings dataset is: (1149780, 3) \n",
            "Shape of user dataset is: (278858, 3)\n"
          ]
        }
      ]
    },
    {
      "cell_type": "markdown",
      "source": [
        "### Dataset Information"
      ],
      "metadata": {
        "id": "JlHwYmJAmNHm"
      }
    },
    {
      "cell_type": "code",
      "source": [
        "# Books Dataset Info\n",
        "books_df.info()"
      ],
      "metadata": {
        "id": "e9hRXRi6meOf",
        "colab": {
          "base_uri": "https://localhost:8080/"
        },
        "outputId": "ef2fa631-2dbd-4b0c-a27b-6fb924038abd"
      },
      "execution_count": 8,
      "outputs": [
        {
          "output_type": "stream",
          "name": "stdout",
          "text": [
            "<class 'pandas.core.frame.DataFrame'>\n",
            "RangeIndex: 271360 entries, 0 to 271359\n",
            "Data columns (total 8 columns):\n",
            " #   Column               Non-Null Count   Dtype \n",
            "---  ------               --------------   ----- \n",
            " 0   ISBN                 271360 non-null  object\n",
            " 1   Book-Title           271360 non-null  object\n",
            " 2   Book-Author          271359 non-null  object\n",
            " 3   Year-Of-Publication  271360 non-null  object\n",
            " 4   Publisher            271358 non-null  object\n",
            " 5   Image-URL-S          271360 non-null  object\n",
            " 6   Image-URL-M          271360 non-null  object\n",
            " 7   Image-URL-L          271357 non-null  object\n",
            "dtypes: object(8)\n",
            "memory usage: 16.6+ MB\n"
          ]
        }
      ]
    },
    {
      "cell_type": "code",
      "source": [
        "# Ratings Dataset info\n",
        "ratings_df.info()"
      ],
      "metadata": {
        "colab": {
          "base_uri": "https://localhost:8080/"
        },
        "id": "NsaMs0QERfv_",
        "outputId": "0027d290-ad18-4e6b-bdb7-a2d0e5d41017"
      },
      "execution_count": 9,
      "outputs": [
        {
          "output_type": "stream",
          "name": "stdout",
          "text": [
            "<class 'pandas.core.frame.DataFrame'>\n",
            "RangeIndex: 1149780 entries, 0 to 1149779\n",
            "Data columns (total 3 columns):\n",
            " #   Column       Non-Null Count    Dtype \n",
            "---  ------       --------------    ----- \n",
            " 0   User-ID      1149780 non-null  int64 \n",
            " 1   ISBN         1149780 non-null  object\n",
            " 2   Book-Rating  1149780 non-null  int64 \n",
            "dtypes: int64(2), object(1)\n",
            "memory usage: 26.3+ MB\n"
          ]
        }
      ]
    },
    {
      "cell_type": "code",
      "source": [
        "# Users Dataset info\n",
        "users_df.info()"
      ],
      "metadata": {
        "colab": {
          "base_uri": "https://localhost:8080/"
        },
        "id": "pYLcwiWgRfci",
        "outputId": "09770fd1-9e9a-4dbf-e4a1-8ebedd1285b1"
      },
      "execution_count": 10,
      "outputs": [
        {
          "output_type": "stream",
          "name": "stdout",
          "text": [
            "<class 'pandas.core.frame.DataFrame'>\n",
            "RangeIndex: 278858 entries, 0 to 278857\n",
            "Data columns (total 3 columns):\n",
            " #   Column    Non-Null Count   Dtype  \n",
            "---  ------    --------------   -----  \n",
            " 0   User-ID   278858 non-null  int64  \n",
            " 1   Location  278858 non-null  object \n",
            " 2   Age       168096 non-null  float64\n",
            "dtypes: float64(1), int64(1), object(1)\n",
            "memory usage: 6.4+ MB\n"
          ]
        }
      ]
    },
    {
      "cell_type": "markdown",
      "source": [
        "#### Duplicate Values"
      ],
      "metadata": {
        "id": "35m5QtbWiB9F"
      }
    },
    {
      "cell_type": "code",
      "source": [
        "# Dataset Duplicate Value Count\n",
        "print('Duplicate rows in Books dataset are:',books_df.duplicated().sum(),\n",
        "      '\\nDuplicate rows in ratings dataset are:',ratings_df.duplicated().sum(),\n",
        "      '\\nDuplicate rows in users dataset are:',users_df.duplicated().sum())"
      ],
      "metadata": {
        "id": "1sLdpKYkmox0",
        "colab": {
          "base_uri": "https://localhost:8080/"
        },
        "outputId": "a73fdfeb-507b-4e29-e841-4f4ce069a952"
      },
      "execution_count": 11,
      "outputs": [
        {
          "output_type": "stream",
          "name": "stdout",
          "text": [
            "Duplicate rows in Books dataset are: 0 \n",
            "Duplicate rows in ratings dataset are: 0 \n",
            "Duplicate rows in users dataset are: 0\n"
          ]
        }
      ]
    },
    {
      "cell_type": "markdown",
      "source": [
        "#### Missing Values/Null Values"
      ],
      "metadata": {
        "id": "PoPl-ycgm1ru"
      }
    },
    {
      "cell_type": "code",
      "source": [
        "# Missing Values/Null Values Count\n",
        "print('Missing Values in Books dataset are:\\n',books_df.isna().sum(),\n",
        "      '\\n\\nMissing Values in ratings dataset are:\\n',ratings_df.isna().sum(),\n",
        "      '\\n\\nMissing Values in users dataset are:\\n',users_df.isna().sum())"
      ],
      "metadata": {
        "id": "GgHWkxvamxVg",
        "colab": {
          "base_uri": "https://localhost:8080/"
        },
        "outputId": "a9c9bff9-3593-4121-fcef-7f51da82280e"
      },
      "execution_count": 12,
      "outputs": [
        {
          "output_type": "stream",
          "name": "stdout",
          "text": [
            "Missing Values in Books dataset are:\n",
            " ISBN                   0\n",
            "Book-Title             0\n",
            "Book-Author            1\n",
            "Year-Of-Publication    0\n",
            "Publisher              2\n",
            "Image-URL-S            0\n",
            "Image-URL-M            0\n",
            "Image-URL-L            3\n",
            "dtype: int64 \n",
            "\n",
            "Missing Values in ratings dataset are:\n",
            " User-ID        0\n",
            "ISBN           0\n",
            "Book-Rating    0\n",
            "dtype: int64 \n",
            "\n",
            "Missing Values in users dataset are:\n",
            " User-ID          0\n",
            "Location         0\n",
            "Age         110762\n",
            "dtype: int64\n"
          ]
        }
      ]
    },
    {
      "cell_type": "code",
      "source": [
        "# Visualizing the missing values in users dataset\n",
        "\n",
        "plt.figure(figsize=(5,4))\n",
        "sns.heatmap(users_df.isnull(),cmap='plasma',annot=False,yticklabels=False)\n",
        "plt.title(\" Visualising Missing Values\")"
      ],
      "metadata": {
        "id": "3q5wnI3om9sJ",
        "colab": {
          "base_uri": "https://localhost:8080/",
          "height": 409
        },
        "outputId": "7459a260-45dc-440c-982d-5b2daeec9320"
      },
      "execution_count": 13,
      "outputs": [
        {
          "output_type": "execute_result",
          "data": {
            "text/plain": [
              "Text(0.5, 1.0, ' Visualising Missing Values')"
            ]
          },
          "metadata": {},
          "execution_count": 13
        },
        {
          "output_type": "display_data",
          "data": {
            "text/plain": [
              "<Figure size 500x400 with 2 Axes>"
            ],
            "image/png": "[encoded data removed]"
          },
          "metadata": {}
        }
      ]
    },
    {
      "cell_type": "markdown",
      "source": [
        "### What did you know about your dataset?"
      ],
      "metadata": {
        "id": "H0kj-8xxnORC"
      }
    },
    {
      "cell_type": "markdown",
      "source": [
        "Using the given data we are going to develop a recommender system which would accurately give book recommendation to the users.\n",
        "\n",
        "Books dataset has information of books in 271360 rows and 8 columns. 1 author, 2 publishers and 3 Image-URL_L are missing. There are no duplicated rows in the dataset.\n",
        "\n",
        "Ratings dataset contains the book rating information in 1149780 rows and 3 columns. The dataset has no missing or duplicate value.\n",
        "\n",
        "Users dataset contains the users info. in 278858 rows and 3 columns. The age column has 110762 many (39.7%) null values with no duplicated rows in the dataset."
      ],
      "metadata": {
        "id": "gfoNAAC-nUe_"
      }
    },
    {
      "cell_type": "markdown",
      "metadata": {
        "id": "nA9Y7ga8ng1Z"
      },
      "source": [
        "## ***2. Understanding Your Variables***"
      ]
    },
    {
      "cell_type": "code",
      "execution_count": 14,
      "metadata": {
        "colab": {
          "base_uri": "https://localhost:8080/"
        },
        "id": "j7xfkqrt5Ag5",
        "outputId": "7e878c58-69c0-4a8c-e048-ac40fc2c24d0"
      },
      "outputs": [
        {
          "output_type": "stream",
          "name": "stdout",
          "text": [
            "Columns in books dataset are:\n",
            " Index(['ISBN', 'Book-Title', 'Book-Author', 'Year-Of-Publication', 'Publisher',\n",
            "       'Image-URL-S', 'Image-URL-M', 'Image-URL-L'],\n",
            "      dtype='object') \n",
            "\n",
            "Columns in ratings dataset are:\n",
            " Index(['User-ID', 'ISBN', 'Book-Rating'], dtype='object') \n",
            "\n",
            "Columns in users dataset are:\n",
            " Index(['User-ID', 'Location', 'Age'], dtype='object')\n"
          ]
        }
      ],
      "source": [
        "# Dataset Columns\n",
        "print('Columns in books dataset are:\\n',books_df.columns,\n",
        "      '\\n\\nColumns in ratings dataset are:\\n',ratings_df.columns,\n",
        "      '\\n\\nColumns in users dataset are:\\n',users_df.columns)"
      ]
    },
    {
      "cell_type": "code",
      "execution_count": 15,
      "metadata": {
        "colab": {
          "base_uri": "https://localhost:8080/",
          "height": 273
        },
        "id": "DnOaZdaE5Q5t",
        "outputId": "dd6a1aa9-20e0-4a85-a7b0-de31cfa9de7c"
      },
      "outputs": [
        {
          "output_type": "execute_result",
          "data": {
            "text/plain": [
              "              ISBN      Book-Title      Book-Author  Year-Of-Publication  \\\n",
              "count       271360          271360           271359               271360   \n",
              "unique      271360          242135           102023                  202   \n",
              "top     0195153448  Selected Poems  Agatha Christie                 2002   \n",
              "freq             1              27              632                13903   \n",
              "\n",
              "        Publisher                                        Image-URL-S  \\\n",
              "count      271358                                             271360   \n",
              "unique      16807                                             271044   \n",
              "top     Harlequin  http://images.amazon.com/images/P/185326119X.0...   \n",
              "freq         7535                                                  2   \n",
              "\n",
              "                                              Image-URL-M  \\\n",
              "count                                              271360   \n",
              "unique                                             271044   \n",
              "top     http://images.amazon.com/images/P/185326119X.0...   \n",
              "freq                                                    2   \n",
              "\n",
              "                                              Image-URL-L  \n",
              "count                                              271357  \n",
              "unique                                             271041  \n",
              "top     http://images.amazon.com/images/P/225307649X.0...  \n",
              "freq                                                    2  "
            ],
            "text/html": [
              "\n",
              "  <div id=\"df-da06ed81-a2d6-40db-b791-d6dd806facc4\">\n",
              "    <div class=\"colab-df-container\">\n",
              "      <div>\n",
              "<style scoped>\n",
              "    .dataframe tbody tr th:only-of-type {\n",
              "        vertical-align: middle;\n",
              "    }\n",
              "\n",
              "    .dataframe tbody tr th {\n",
              "        vertical-align: top;\n",
              "    }\n",
              "\n",
              "    .dataframe thead th {\n",
              "        text-align: right;\n",
              "    }\n",
              "</style>\n",
              "<table border=\"1\" class=\"dataframe\">\n",
              "  <thead>\n",
              "    <tr style=\"text-align: right;\">\n",
              "      <th></th>\n",
              "      <th>ISBN</th>\n",
              "      <th>Book-Title</th>\n",
              "      <th>Book-Author</th>\n",
              "      <th>Year-Of-Publication</th>\n",
              "      <th>Publisher</th>\n",
              "      <th>Image-URL-S</th>\n",
              "      <th>Image-URL-M</th>\n",
              "      <th>Image-URL-L</th>\n",
              "    </tr>\n",
              "  </thead>\n",
              "  <tbody>\n",
              "    <tr>\n",
              "      <th>count</th>\n",
              "      <td>271360</td>\n",
              "      <td>271360</td>\n",
              "      <td>271359</td>\n",
              "      <td>271360</td>\n",
              "      <td>271358</td>\n",
              "      <td>271360</td>\n",
              "      <td>271360</td>\n",
              "      <td>271357</td>\n",
              "    </tr>\n",
              "    <tr>\n",
              "      <th>unique</th>\n",
              "      <td>271360</td>\n",
              "      <td>242135</td>\n",
              "      <td>102023</td>\n",
              "      <td>202</td>\n",
              "      <td>16807</td>\n",
              "      <td>271044</td>\n",
              "      <td>271044</td>\n",
              "      <td>271041</td>\n",
              "    </tr>\n",
              "    <tr>\n",
              "      <th>top</th>\n",
              "      <td>0195153448</td>\n",
              "      <td>Selected Poems</td>\n",
              "      <td>Agatha Christie</td>\n",
              "      <td>2002</td>\n",
              "      <td>Harlequin</td>\n",
              "      <td>http://images.amazon.com/images/P/185326119X.0...</td>\n",
              "      <td>http://images.amazon.com/images/P/185326119X.0...</td>\n",
              "      <td>http://images.amazon.com/images/P/225307649X.0...</td>\n",
              "    </tr>\n",
              "    <tr>\n",
              "      <th>freq</th>\n",
              "      <td>1</td>\n",
              "      <td>27</td>\n",
              "      <td>632</td>\n",
              "      <td>13903</td>\n",
              "      <td>7535</td>\n",
              "      <td>2</td>\n",
              "      <td>2</td>\n",
              "      <td>2</td>\n",
              "    </tr>\n",
              "  </tbody>\n",
              "</table>\n",
              "</div>\n",
              "      <button class=\"colab-df-convert\" onclick=\"convertToInteractive('df-da06ed81-a2d6-40db-b791-d6dd806facc4')\"\n",
              "              title=\"Convert this dataframe to an interactive table.\"\n",
              "              style=\"display:none;\">\n",
              "        \n",
              "  <svg xmlns=\"http://www.w3.org/2000/svg\" height=\"24px\"viewBox=\"0 0 24 24\"\n",
              "       width=\"24px\">\n",
              "    <path d=\"M0 0h24v24H0V0z\" fill=\"none\"/>\n",
              "    <path d=\"M18.56 5.44l.94 2.06.94-2.06 2.06-.94-2.06-.94-.94-2.06-.94 2.06-2.06.94zm-11 1L8.5 8.5l.94-2.06 2.06-.94-2.06-.94L8.5 2.5l-.94 2.06-2.06.94zm10 10l.94 2.06.94-2.06 2.06-.94-2.06-.94-.94-2.06-.94 2.06-2.06.94z\"/><path d=\"M17.41 7.96l-1.37-1.37c-.4-.4-.92-.59-1.43-.59-.52 0-1.04.2-1.43.59L10.3 9.45l-7.72 7.72c-.78.78-.78 2.05 0 2.83L4 21.41c.39.39.9.59 1.41.59.51 0 1.02-.2 1.41-.59l7.78-7.78 2.81-2.81c.8-.78.8-2.07 0-2.86zM5.41 20L4 18.59l7.72-7.72 1.47 1.35L5.41 20z\"/>\n",
              "  </svg>\n",
              "      </button>\n",
              "      \n",
              "  <style>\n",
              "    .colab-df-container {\n",
              "      display:flex;\n",
              "      flex-wrap:wrap;\n",
              "      gap: 12px;\n",
              "    }\n",
              "\n",
              "    .colab-df-convert {\n",
              "      background-color: #E8F0FE;\n",
              "      border: none;\n",
              "      border-radius: 50%;\n",
              "      cursor: pointer;\n",
              "      display: none;\n",
              "      fill: #1967D2;\n",
              "      height: 32px;\n",
              "      padding: 0 0 0 0;\n",
              "      width: 32px;\n",
              "    }\n",
              "\n",
              "    .colab-df-convert:hover {\n",
              "      background-color: #E2EBFA;\n",
              "      box-shadow: 0px 1px 2px rgba(60, 64, 67, 0.3), 0px 1px 3px 1px rgba(60, 64, 67, 0.15);\n",
              "      fill: #174EA6;\n",
              "    }\n",
              "\n",
              "    [theme=dark] .colab-df-convert {\n",
              "      background-color: #3B4455;\n",
              "      fill: #D2E3FC;\n",
              "    }\n",
              "\n",
              "    [theme=dark] .colab-df-convert:hover {\n",
              "      background-color: #434B5C;\n",
              "      box-shadow: 0px 1px 3px 1px rgba(0, 0, 0, 0.15);\n",
              "      filter: drop-shadow(0px 1px 2px rgba(0, 0, 0, 0.3));\n",
              "      fill: #FFFFFF;\n",
              "    }\n",
              "  </style>\n",
              "\n",
              "      <script>\n",
              "        const buttonEl =\n",
              "          document.querySelector('#df-da06ed81-a2d6-40db-b791-d6dd806facc4 button.colab-df-convert');\n",
              "        buttonEl.style.display =\n",
              "          google.colab.kernel.accessAllowed ? 'block' : 'none';\n",
              "\n",
              "        async function convertToInteractive(key) {\n",
              "          const element = document.querySelector('#df-da06ed81-a2d6-40db-b791-d6dd806facc4');\n",
              "          const dataTable =\n",
              "            await google.colab.kernel.invokeFunction('convertToInteractive',\n",
              "                                                     [key], {});\n",
              "          if (!dataTable) return;\n",
              "\n",
              "          const docLinkHtml = 'Like what you see? Visit the ' +\n",
              "            '<a target=\"_blank\" href=https://colab.research.google.com/notebooks/data_table.ipynb>data table notebook</a>'\n",
              "            + ' to learn more about interactive tables.';\n",
              "          element.innerHTML = '';\n",
              "          dataTable['output_type'] = 'display_data';\n",
              "          await google.colab.output.renderOutput(dataTable, element);\n",
              "          const docLink = document.createElement('div');\n",
              "          docLink.innerHTML = docLinkHtml;\n",
              "          element.appendChild(docLink);\n",
              "        }\n",
              "      </script>\n",
              "    </div>\n",
              "  </div>\n",
              "  "
            ]
          },
          "metadata": {},
          "execution_count": 15
        }
      ],
      "source": [
        "# Books Dataset Describe\n",
        "books_df.describe()"
      ]
    },
    {
      "cell_type": "code",
      "execution_count": 16,
      "metadata": {
        "colab": {
          "base_uri": "https://localhost:8080/",
          "height": 300
        },
        "id": "w4c0SYs1YOg8",
        "outputId": "f311d06b-6a9a-4e7f-f212-777dc058f4bf"
      },
      "outputs": [
        {
          "output_type": "execute_result",
          "data": {
            "text/plain": [
              "            User-ID   Book-Rating\n",
              "count  1.149780e+06  1.149780e+06\n",
              "mean   1.403864e+05  2.866950e+00\n",
              "std    8.056228e+04  3.854184e+00\n",
              "min    2.000000e+00  0.000000e+00\n",
              "25%    7.034500e+04  0.000000e+00\n",
              "50%    1.410100e+05  0.000000e+00\n",
              "75%    2.110280e+05  7.000000e+00\n",
              "max    2.788540e+05  1.000000e+01"
            ],
            "text/html": [
              "\n",
              "  <div id=\"df-599abd69-10c7-4a48-b10b-7c50d28c0e38\">\n",
              "    <div class=\"colab-df-container\">\n",
              "      <div>\n",
              "<style scoped>\n",
              "    .dataframe tbody tr th:only-of-type {\n",
              "        vertical-align: middle;\n",
              "    }\n",
              "\n",
              "    .dataframe tbody tr th {\n",
              "        vertical-align: top;\n",
              "    }\n",
              "\n",
              "    .dataframe thead th {\n",
              "        text-align: right;\n",
              "    }\n",
              "</style>\n",
              "<table border=\"1\" class=\"dataframe\">\n",
              "  <thead>\n",
              "    <tr style=\"text-align: right;\">\n",
              "      <th></th>\n",
              "      <th>User-ID</th>\n",
              "      <th>Book-Rating</th>\n",
              "    </tr>\n",
              "  </thead>\n",
              "  <tbody>\n",
              "    <tr>\n",
              "      <th>count</th>\n",
              "      <td>1.149780e+06</td>\n",
              "      <td>1.149780e+06</td>\n",
              "    </tr>\n",
              "    <tr>\n",
              "      <th>mean</th>\n",
              "      <td>1.403864e+05</td>\n",
              "      <td>2.866950e+00</td>\n",
              "    </tr>\n",
              "    <tr>\n",
              "      <th>std</th>\n",
              "      <td>8.056228e+04</td>\n",
              "      <td>3.854184e+00</td>\n",
              "    </tr>\n",
              "    <tr>\n",
              "      <th>min</th>\n",
              "      <td>2.000000e+00</td>\n",
              "      <td>0.000000e+00</td>\n",
              "    </tr>\n",
              "    <tr>\n",
              "      <th>25%</th>\n",
              "      <td>7.034500e+04</td>\n",
              "      <td>0.000000e+00</td>\n",
              "    </tr>\n",
              "    <tr>\n",
              "      <th>50%</th>\n",
              "      <td>1.410100e+05</td>\n",
              "      <td>0.000000e+00</td>\n",
              "    </tr>\n",
              "    <tr>\n",
              "      <th>75%</th>\n",
              "      <td>2.110280e+05</td>\n",
              "      <td>7.000000e+00</td>\n",
              "    </tr>\n",
              "    <tr>\n",
              "      <th>max</th>\n",
              "      <td>2.788540e+05</td>\n",
              "      <td>1.000000e+01</td>\n",
              "    </tr>\n",
              "  </tbody>\n",
              "</table>\n",
              "</div>\n",
              "      <button class=\"colab-df-convert\" onclick=\"convertToInteractive('df-599abd69-10c7-4a48-b10b-7c50d28c0e38')\"\n",
              "              title=\"Convert this dataframe to an interactive table.\"\n",
              "              style=\"display:none;\">\n",
              "        \n",
              "  <svg xmlns=\"http://www.w3.org/2000/svg\" height=\"24px\"viewBox=\"0 0 24 24\"\n",
              "       width=\"24px\">\n",
              "    <path d=\"M0 0h24v24H0V0z\" fill=\"none\"/>\n",
              "    <path d=\"M18.56 5.44l.94 2.06.94-2.06 2.06-.94-2.06-.94-.94-2.06-.94 2.06-2.06.94zm-11 1L8.5 8.5l.94-2.06 2.06-.94-2.06-.94L8.5 2.5l-.94 2.06-2.06.94zm10 10l.94 2.06.94-2.06 2.06-.94-2.06-.94-.94-2.06-.94 2.06-2.06.94z\"/><path d=\"M17.41 7.96l-1.37-1.37c-.4-.4-.92-.59-1.43-.59-.52 0-1.04.2-1.43.59L10.3 9.45l-7.72 7.72c-.78.78-.78 2.05 0 2.83L4 21.41c.39.39.9.59 1.41.59.51 0 1.02-.2 1.41-.59l7.78-7.78 2.81-2.81c.8-.78.8-2.07 0-2.86zM5.41 20L4 18.59l7.72-7.72 1.47 1.35L5.41 20z\"/>\n",
              "  </svg>\n",
              "      </button>\n",
              "      \n",
              "  <style>\n",
              "    .colab-df-container {\n",
              "      display:flex;\n",
              "      flex-wrap:wrap;\n",
              "      gap: 12px;\n",
              "    }\n",
              "\n",
              "    .colab-df-convert {\n",
              "      background-color: #E8F0FE;\n",
              "      border: none;\n",
              "      border-radius: 50%;\n",
              "      cursor: pointer;\n",
              "      display: none;\n",
              "      fill: #1967D2;\n",
              "      height: 32px;\n",
              "      padding: 0 0 0 0;\n",
              "      width: 32px;\n",
              "    }\n",
              "\n",
              "    .colab-df-convert:hover {\n",
              "      background-color: #E2EBFA;\n",
              "      box-shadow: 0px 1px 2px rgba(60, 64, 67, 0.3), 0px 1px 3px 1px rgba(60, 64, 67, 0.15);\n",
              "      fill: #174EA6;\n",
              "    }\n",
              "\n",
              "    [theme=dark] .colab-df-convert {\n",
              "      background-color: #3B4455;\n",
              "      fill: #D2E3FC;\n",
              "    }\n",
              "\n",
              "    [theme=dark] .colab-df-convert:hover {\n",
              "      background-color: #434B5C;\n",
              "      box-shadow: 0px 1px 3px 1px rgba(0, 0, 0, 0.15);\n",
              "      filter: drop-shadow(0px 1px 2px rgba(0, 0, 0, 0.3));\n",
              "      fill: #FFFFFF;\n",
              "    }\n",
              "  </style>\n",
              "\n",
              "      <script>\n",
              "        const buttonEl =\n",
              "          document.querySelector('#df-599abd69-10c7-4a48-b10b-7c50d28c0e38 button.colab-df-convert');\n",
              "        buttonEl.style.display =\n",
              "          google.colab.kernel.accessAllowed ? 'block' : 'none';\n",
              "\n",
              "        async function convertToInteractive(key) {\n",
              "          const element = document.querySelector('#df-599abd69-10c7-4a48-b10b-7c50d28c0e38');\n",
              "          const dataTable =\n",
              "            await google.colab.kernel.invokeFunction('convertToInteractive',\n",
              "                                                     [key], {});\n",
              "          if (!dataTable) return;\n",
              "\n",
              "          const docLinkHtml = 'Like what you see? Visit the ' +\n",
              "            '<a target=\"_blank\" href=https://colab.research.google.com/notebooks/data_table.ipynb>data table notebook</a>'\n",
              "            + ' to learn more about interactive tables.';\n",
              "          element.innerHTML = '';\n",
              "          dataTable['output_type'] = 'display_data';\n",
              "          await google.colab.output.renderOutput(dataTable, element);\n",
              "          const docLink = document.createElement('div');\n",
              "          docLink.innerHTML = docLinkHtml;\n",
              "          element.appendChild(docLink);\n",
              "        }\n",
              "      </script>\n",
              "    </div>\n",
              "  </div>\n",
              "  "
            ]
          },
          "metadata": {},
          "execution_count": 16
        }
      ],
      "source": [
        "# Ratings Dataset Describe\n",
        "ratings_df.describe()"
      ]
    },
    {
      "cell_type": "markdown",
      "metadata": {
        "id": "rTJu2ghXoVId"
      },
      "source": [
        "Here, in Book_Rating column 50% ratings are 0 i.e., implicitly rated books. So, we need to extract explicit ratings for better results."
      ]
    },
    {
      "cell_type": "code",
      "execution_count": 17,
      "metadata": {
        "colab": {
          "base_uri": "https://localhost:8080/",
          "height": 300
        },
        "id": "6ubj-jyxYOpp",
        "outputId": "7b26ae3f-1c0e-4c69-d606-5205a2a52aab"
      },
      "outputs": [
        {
          "output_type": "execute_result",
          "data": {
            "text/plain": [
              "            User-ID            Age\n",
              "count  278858.00000  168096.000000\n",
              "mean   139429.50000      34.751434\n",
              "std     80499.51502      14.428097\n",
              "min         1.00000       0.000000\n",
              "25%     69715.25000      24.000000\n",
              "50%    139429.50000      32.000000\n",
              "75%    209143.75000      44.000000\n",
              "max    278858.00000     244.000000"
            ],
            "text/html": [
              "\n",
              "  <div id=\"df-4d161a85-6d3c-4011-b486-51891468308b\">\n",
              "    <div class=\"colab-df-container\">\n",
              "      <div>\n",
              "<style scoped>\n",
              "    .dataframe tbody tr th:only-of-type {\n",
              "        vertical-align: middle;\n",
              "    }\n",
              "\n",
              "    .dataframe tbody tr th {\n",
              "        vertical-align: top;\n",
              "    }\n",
              "\n",
              "    .dataframe thead th {\n",
              "        text-align: right;\n",
              "    }\n",
              "</style>\n",
              "<table border=\"1\" class=\"dataframe\">\n",
              "  <thead>\n",
              "    <tr style=\"text-align: right;\">\n",
              "      <th></th>\n",
              "      <th>User-ID</th>\n",
              "      <th>Age</th>\n",
              "    </tr>\n",
              "  </thead>\n",
              "  <tbody>\n",
              "    <tr>\n",
              "      <th>count</th>\n",
              "      <td>278858.00000</td>\n",
              "      <td>168096.000000</td>\n",
              "    </tr>\n",
              "    <tr>\n",
              "      <th>mean</th>\n",
              "      <td>139429.50000</td>\n",
              "      <td>34.751434</td>\n",
              "    </tr>\n",
              "    <tr>\n",
              "      <th>std</th>\n",
              "      <td>80499.51502</td>\n",
              "      <td>14.428097</td>\n",
              "    </tr>\n",
              "    <tr>\n",
              "      <th>min</th>\n",
              "      <td>1.00000</td>\n",
              "      <td>0.000000</td>\n",
              "    </tr>\n",
              "    <tr>\n",
              "      <th>25%</th>\n",
              "      <td>69715.25000</td>\n",
              "      <td>24.000000</td>\n",
              "    </tr>\n",
              "    <tr>\n",
              "      <th>50%</th>\n",
              "      <td>139429.50000</td>\n",
              "      <td>32.000000</td>\n",
              "    </tr>\n",
              "    <tr>\n",
              "      <th>75%</th>\n",
              "      <td>209143.75000</td>\n",
              "      <td>44.000000</td>\n",
              "    </tr>\n",
              "    <tr>\n",
              "      <th>max</th>\n",
              "      <td>278858.00000</td>\n",
              "      <td>244.000000</td>\n",
              "    </tr>\n",
              "  </tbody>\n",
              "</table>\n",
              "</div>\n",
              "      <button class=\"colab-df-convert\" onclick=\"convertToInteractive('df-4d161a85-6d3c-4011-b486-51891468308b')\"\n",
              "              title=\"Convert this dataframe to an interactive table.\"\n",
              "              style=\"display:none;\">\n",
              "        \n",
              "  <svg xmlns=\"http://www.w3.org/2000/svg\" height=\"24px\"viewBox=\"0 0 24 24\"\n",
              "       width=\"24px\">\n",
              "    <path d=\"M0 0h24v24H0V0z\" fill=\"none\"/>\n",
              "    <path d=\"M18.56 5.44l.94 2.06.94-2.06 2.06-.94-2.06-.94-.94-2.06-.94 2.06-2.06.94zm-11 1L8.5 8.5l.94-2.06 2.06-.94-2.06-.94L8.5 2.5l-.94 2.06-2.06.94zm10 10l.94 2.06.94-2.06 2.06-.94-2.06-.94-.94-2.06-.94 2.06-2.06.94z\"/><path d=\"M17.41 7.96l-1.37-1.37c-.4-.4-.92-.59-1.43-.59-.52 0-1.04.2-1.43.59L10.3 9.45l-7.72 7.72c-.78.78-.78 2.05 0 2.83L4 21.41c.39.39.9.59 1.41.59.51 0 1.02-.2 1.41-.59l7.78-7.78 2.81-2.81c.8-.78.8-2.07 0-2.86zM5.41 20L4 18.59l7.72-7.72 1.47 1.35L5.41 20z\"/>\n",
              "  </svg>\n",
              "      </button>\n",
              "      \n",
              "  <style>\n",
              "    .colab-df-container {\n",
              "      display:flex;\n",
              "      flex-wrap:wrap;\n",
              "      gap: 12px;\n",
              "    }\n",
              "\n",
              "    .colab-df-convert {\n",
              "      background-color: #E8F0FE;\n",
              "      border: none;\n",
              "      border-radius: 50%;\n",
              "      cursor: pointer;\n",
              "      display: none;\n",
              "      fill: #1967D2;\n",
              "      height: 32px;\n",
              "      padding: 0 0 0 0;\n",
              "      width: 32px;\n",
              "    }\n",
              "\n",
              "    .colab-df-convert:hover {\n",
              "      background-color: #E2EBFA;\n",
              "      box-shadow: 0px 1px 2px rgba(60, 64, 67, 0.3), 0px 1px 3px 1px rgba(60, 64, 67, 0.15);\n",
              "      fill: #174EA6;\n",
              "    }\n",
              "\n",
              "    [theme=dark] .colab-df-convert {\n",
              "      background-color: #3B4455;\n",
              "      fill: #D2E3FC;\n",
              "    }\n",
              "\n",
              "    [theme=dark] .colab-df-convert:hover {\n",
              "      background-color: #434B5C;\n",
              "      box-shadow: 0px 1px 3px 1px rgba(0, 0, 0, 0.15);\n",
              "      filter: drop-shadow(0px 1px 2px rgba(0, 0, 0, 0.3));\n",
              "      fill: #FFFFFF;\n",
              "    }\n",
              "  </style>\n",
              "\n",
              "      <script>\n",
              "        const buttonEl =\n",
              "          document.querySelector('#df-4d161a85-6d3c-4011-b486-51891468308b button.colab-df-convert');\n",
              "        buttonEl.style.display =\n",
              "          google.colab.kernel.accessAllowed ? 'block' : 'none';\n",
              "\n",
              "        async function convertToInteractive(key) {\n",
              "          const element = document.querySelector('#df-4d161a85-6d3c-4011-b486-51891468308b');\n",
              "          const dataTable =\n",
              "            await google.colab.kernel.invokeFunction('convertToInteractive',\n",
              "                                                     [key], {});\n",
              "          if (!dataTable) return;\n",
              "\n",
              "          const docLinkHtml = 'Like what you see? Visit the ' +\n",
              "            '<a target=\"_blank\" href=https://colab.research.google.com/notebooks/data_table.ipynb>data table notebook</a>'\n",
              "            + ' to learn more about interactive tables.';\n",
              "          element.innerHTML = '';\n",
              "          dataTable['output_type'] = 'display_data';\n",
              "          await google.colab.output.renderOutput(dataTable, element);\n",
              "          const docLink = document.createElement('div');\n",
              "          docLink.innerHTML = docLinkHtml;\n",
              "          element.appendChild(docLink);\n",
              "        }\n",
              "      </script>\n",
              "    </div>\n",
              "  </div>\n",
              "  "
            ]
          },
          "metadata": {},
          "execution_count": 17
        }
      ],
      "source": [
        "# Users Dataset Describe\n",
        "users_df.describe()"
      ]
    },
    {
      "cell_type": "markdown",
      "metadata": {
        "id": "362INl9raU-j"
      },
      "source": [
        "There are outliers in the age column as the min. age is 0 and max. age is 244 years."
      ]
    },
    {
      "cell_type": "markdown",
      "metadata": {
        "id": "u3PMJOP6ngxN"
      },
      "source": [
        "### Check Unique Values for each variable."
      ]
    },
    {
      "cell_type": "code",
      "execution_count": 18,
      "metadata": {
        "colab": {
          "base_uri": "https://localhost:8080/"
        },
        "id": "zms12Yq5n-jE",
        "outputId": "f73bd0bc-5829-403b-cdb7-7007ce8f63be"
      },
      "outputs": [
        {
          "output_type": "stream",
          "name": "stdout",
          "text": [
            "(271360, 8) \n",
            "\n"
          ]
        },
        {
          "output_type": "execute_result",
          "data": {
            "text/plain": [
              "ISBN                   271360\n",
              "Book-Title             242135\n",
              "Book-Author            102023\n",
              "Year-Of-Publication       202\n",
              "Publisher               16807\n",
              "Image-URL-S            271044\n",
              "Image-URL-M            271044\n",
              "Image-URL-L            271041\n",
              "dtype: int64"
            ]
          },
          "metadata": {},
          "execution_count": 18
        }
      ],
      "source": [
        "# Check Unique Values for each variable in books dataset.\n",
        "print(books_df.shape,'\\n')\n",
        "books_df.nunique()"
      ]
    },
    {
      "cell_type": "markdown",
      "metadata": {
        "id": "N5DKurMQp7gq"
      },
      "source": [
        "Unique values in ISBN are more than that in Book-Title. This means some titles have multiple ISBNs because the year of release (revised editions),versions or publishing companies may be different. I'll drop the duplicated titles later if their users and ratings are same."
      ]
    },
    {
      "cell_type": "code",
      "execution_count": 19,
      "metadata": {
        "colab": {
          "base_uri": "https://localhost:8080/"
        },
        "id": "Nir45HOzpJby",
        "outputId": "a67b71aa-99a7-4aad-bded-db39ac96283a"
      },
      "outputs": [
        {
          "output_type": "stream",
          "name": "stdout",
          "text": [
            "(1149780, 3) \n",
            "\n"
          ]
        },
        {
          "output_type": "execute_result",
          "data": {
            "text/plain": [
              "User-ID        105283\n",
              "ISBN           340556\n",
              "Book-Rating        11\n",
              "dtype: int64"
            ]
          },
          "metadata": {},
          "execution_count": 19
        }
      ],
      "source": [
        "# Check Unique Values for each variable in ratings dataset.\n",
        "print(ratings_df.shape,'\\n')\n",
        "ratings_df.nunique()"
      ]
    },
    {
      "cell_type": "code",
      "execution_count": 20,
      "metadata": {
        "colab": {
          "base_uri": "https://localhost:8080/"
        },
        "id": "jbZYazj8pTLS",
        "outputId": "51814605-0716-470b-be40-a83a13777f5f"
      },
      "outputs": [
        {
          "output_type": "stream",
          "name": "stdout",
          "text": [
            "(278858, 3) \n",
            "\n"
          ]
        },
        {
          "output_type": "execute_result",
          "data": {
            "text/plain": [
              "User-ID     278858\n",
              "Location     57339\n",
              "Age            165\n",
              "dtype: int64"
            ]
          },
          "metadata": {},
          "execution_count": 20
        }
      ],
      "source": [
        "# Check Unique Values for each variable in users dataset.\n",
        "print(users_df.shape,'\\n')\n",
        "users_df.nunique()"
      ]
    },
    {
      "cell_type": "markdown",
      "metadata": {
        "id": "dauF4eBmngu3"
      },
      "source": [
        "## ***3. Data Wrangling***"
      ]
    },
    {
      "cell_type": "markdown",
      "metadata": {
        "id": "Wte6Rx0ebXQu"
      },
      "source": [
        "### Renaming the Columns"
      ]
    },
    {
      "cell_type": "code",
      "execution_count": 21,
      "metadata": {
        "id": "wk-9a2fpoLcV"
      },
      "outputs": [],
      "source": [
        "# Write your code to make your dataset analysis ready.\n",
        "\n",
        "# first I rename the columns in the dataframes \n",
        "books_df.rename(columns={'ISBN':'isbn','Book-Title':'title','Book-Author':'author','Publisher':'publisher','Image-URL-M':'image_url_m',\n",
        "                         'Image-URL-L':'image_url_l'},inplace=True)\n",
        "\n",
        "ratings_df.rename(columns={'User-ID':'user_id','ISBN':'isbn','Book-Rating':'rating'},inplace=True)\n",
        "\n",
        "users_df.rename(columns={'User-ID':'user_id'},inplace=True)"
      ]
    },
    {
      "cell_type": "markdown",
      "metadata": {
        "id": "C-MohuoGh0cs"
      },
      "source": [
        "###Filling the Missing Values in 'author' and 'publisher' Columns "
      ]
    },
    {
      "cell_type": "code",
      "execution_count": 22,
      "metadata": {
        "colab": {
          "base_uri": "https://localhost:8080/",
          "height": 266
        },
        "id": "a1eA8pjWZzW7",
        "outputId": "3d71db74-57bb-4fd0-8727-484624a6fbaa"
      },
      "outputs": [
        {
          "output_type": "execute_result",
          "data": {
            "text/plain": [
              "              isbn                                              title author  \\\n",
              "187689  9627982032  The Credit Suisse Guide to Managing Your Perso...    NaN   \n",
              "\n",
              "       Year-Of-Publication                       publisher  \\\n",
              "187689                1995  Edinburgh Financial Publishing   \n",
              "\n",
              "                                              Image-URL-S  \\\n",
              "187689  http://images.amazon.com/images/P/9627982032.0...   \n",
              "\n",
              "                                              image_url_m  \\\n",
              "187689  http://images.amazon.com/images/P/9627982032.0...   \n",
              "\n",
              "                                              image_url_l  \n",
              "187689  http://images.amazon.com/images/P/9627982032.0...  "
            ],
            "text/html": [
              "\n",
              "  <div id=\"df-22cf1056-6dd5-4245-8dc4-e156ad8ec4d3\">\n",
              "    <div class=\"colab-df-container\">\n",
              "      <div>\n",
              "<style scoped>\n",
              "    .dataframe tbody tr th:only-of-type {\n",
              "        vertical-align: middle;\n",
              "    }\n",
              "\n",
              "    .dataframe tbody tr th {\n",
              "        vertical-align: top;\n",
              "    }\n",
              "\n",
              "    .dataframe thead th {\n",
              "        text-align: right;\n",
              "    }\n",
              "</style>\n",
              "<table border=\"1\" class=\"dataframe\">\n",
              "  <thead>\n",
              "    <tr style=\"text-align: right;\">\n",
              "      <th></th>\n",
              "      <th>isbn</th>\n",
              "      <th>title</th>\n",
              "      <th>author</th>\n",
              "      <th>Year-Of-Publication</th>\n",
              "      <th>publisher</th>\n",
              "      <th>Image-URL-S</th>\n",
              "      <th>image_url_m</th>\n",
              "      <th>image_url_l</th>\n",
              "    </tr>\n",
              "  </thead>\n",
              "  <tbody>\n",
              "    <tr>\n",
              "      <th>187689</th>\n",
              "      <td>9627982032</td>\n",
              "      <td>The Credit Suisse Guide to Managing Your Perso...</td>\n",
              "      <td>NaN</td>\n",
              "      <td>1995</td>\n",
              "      <td>Edinburgh Financial Publishing</td>\n",
              "      <td>http://images.amazon.com/images/P/9627982032.0...</td>\n",
              "      <td>http://images.amazon.com/images/P/9627982032.0...</td>\n",
              "      <td>http://images.amazon.com/images/P/9627982032.0...</td>\n",
              "    </tr>\n",
              "  </tbody>\n",
              "</table>\n",
              "</div>\n",
              "      <button class=\"colab-df-convert\" onclick=\"convertToInteractive('df-22cf1056-6dd5-4245-8dc4-e156ad8ec4d3')\"\n",
              "              title=\"Convert this dataframe to an interactive table.\"\n",
              "              style=\"display:none;\">\n",
              "        \n",
              "  <svg xmlns=\"http://www.w3.org/2000/svg\" height=\"24px\"viewBox=\"0 0 24 24\"\n",
              "       width=\"24px\">\n",
              "    <path d=\"M0 0h24v24H0V0z\" fill=\"none\"/>\n",
              "    <path d=\"M18.56 5.44l.94 2.06.94-2.06 2.06-.94-2.06-.94-.94-2.06-.94 2.06-2.06.94zm-11 1L8.5 8.5l.94-2.06 2.06-.94-2.06-.94L8.5 2.5l-.94 2.06-2.06.94zm10 10l.94 2.06.94-2.06 2.06-.94-2.06-.94-.94-2.06-.94 2.06-2.06.94z\"/><path d=\"M17.41 7.96l-1.37-1.37c-.4-.4-.92-.59-1.43-.59-.52 0-1.04.2-1.43.59L10.3 9.45l-7.72 7.72c-.78.78-.78 2.05 0 2.83L4 21.41c.39.39.9.59 1.41.59.51 0 1.02-.2 1.41-.59l7.78-7.78 2.81-2.81c.8-.78.8-2.07 0-2.86zM5.41 20L4 18.59l7.72-7.72 1.47 1.35L5.41 20z\"/>\n",
              "  </svg>\n",
              "      </button>\n",
              "      \n",
              "  <style>\n",
              "    .colab-df-container {\n",
              "      display:flex;\n",
              "      flex-wrap:wrap;\n",
              "      gap: 12px;\n",
              "    }\n",
              "\n",
              "    .colab-df-convert {\n",
              "      background-color: #E8F0FE;\n",
              "      border: none;\n",
              "      border-radius: 50%;\n",
              "      cursor: pointer;\n",
              "      display: none;\n",
              "      fill: #1967D2;\n",
              "      height: 32px;\n",
              "      padding: 0 0 0 0;\n",
              "      width: 32px;\n",
              "    }\n",
              "\n",
              "    .colab-df-convert:hover {\n",
              "      background-color: #E2EBFA;\n",
              "      box-shadow: 0px 1px 2px rgba(60, 64, 67, 0.3), 0px 1px 3px 1px rgba(60, 64, 67, 0.15);\n",
              "      fill: #174EA6;\n",
              "    }\n",
              "\n",
              "    [theme=dark] .colab-df-convert {\n",
              "      background-color: #3B4455;\n",
              "      fill: #D2E3FC;\n",
              "    }\n",
              "\n",
              "    [theme=dark] .colab-df-convert:hover {\n",
              "      background-color: #434B5C;\n",
              "      box-shadow: 0px 1px 3px 1px rgba(0, 0, 0, 0.15);\n",
              "      filter: drop-shadow(0px 1px 2px rgba(0, 0, 0, 0.3));\n",
              "      fill: #FFFFFF;\n",
              "    }\n",
              "  </style>\n",
              "\n",
              "      <script>\n",
              "        const buttonEl =\n",
              "          document.querySelector('#df-22cf1056-6dd5-4245-8dc4-e156ad8ec4d3 button.colab-df-convert');\n",
              "        buttonEl.style.display =\n",
              "          google.colab.kernel.accessAllowed ? 'block' : 'none';\n",
              "\n",
              "        async function convertToInteractive(key) {\n",
              "          const element = document.querySelector('#df-22cf1056-6dd5-4245-8dc4-e156ad8ec4d3');\n",
              "          const dataTable =\n",
              "            await google.colab.kernel.invokeFunction('convertToInteractive',\n",
              "                                                     [key], {});\n",
              "          if (!dataTable) return;\n",
              "\n",
              "          const docLinkHtml = 'Like what you see? Visit the ' +\n",
              "            '<a target=\"_blank\" href=https://colab.research.google.com/notebooks/data_table.ipynb>data table notebook</a>'\n",
              "            + ' to learn more about interactive tables.';\n",
              "          element.innerHTML = '';\n",
              "          dataTable['output_type'] = 'display_data';\n",
              "          await google.colab.output.renderOutput(dataTable, element);\n",
              "          const docLink = document.createElement('div');\n",
              "          docLink.innerHTML = docLinkHtml;\n",
              "          element.appendChild(docLink);\n",
              "        }\n",
              "      </script>\n",
              "    </div>\n",
              "  </div>\n",
              "  "
            ]
          },
          "metadata": {},
          "execution_count": 22
        }
      ],
      "source": [
        "# Checking the missing book-author\n",
        "books_df[books_df['author'].isna()]\n"
      ]
    },
    {
      "cell_type": "code",
      "execution_count": 23,
      "metadata": {
        "id": "4apXXJIqisC4"
      },
      "outputs": [],
      "source": [
        "# Filling the null value\n",
        "books_df.loc[187689, 'author'] = 'Larissa Anne Downes'"
      ]
    },
    {
      "cell_type": "code",
      "execution_count": 24,
      "metadata": {
        "colab": {
          "base_uri": "https://localhost:8080/",
          "height": 228
        },
        "id": "CDVm3ZkhoHgA",
        "outputId": "e4abe07c-7a7b-4fc5-da17-1092d475e15f"
      },
      "outputs": [
        {
          "output_type": "execute_result",
          "data": {
            "text/plain": [
              "              isbn            title           author Year-Of-Publication  \\\n",
              "128890  193169656X      Tyrant Moon  Elaine Corvidae                2002   \n",
              "129037  1931696993  Finders Keepers  Linnea Sinclair                2001   \n",
              "\n",
              "       publisher                                        Image-URL-S  \\\n",
              "128890       NaN  http://images.amazon.com/images/P/193169656X.0...   \n",
              "129037       NaN  http://images.amazon.com/images/P/1931696993.0...   \n",
              "\n",
              "                                              image_url_m  \\\n",
              "128890  http://images.amazon.com/images/P/193169656X.0...   \n",
              "129037  http://images.amazon.com/images/P/1931696993.0...   \n",
              "\n",
              "                                              image_url_l  \n",
              "128890  http://images.amazon.com/images/P/193169656X.0...  \n",
              "129037  http://images.amazon.com/images/P/1931696993.0...  "
            ],
            "text/html": [
              "\n",
              "  <div id=\"df-48a4e7bf-07e4-465b-909b-b9e2e2e44886\">\n",
              "    <div class=\"colab-df-container\">\n",
              "      <div>\n",
              "<style scoped>\n",
              "    .dataframe tbody tr th:only-of-type {\n",
              "        vertical-align: middle;\n",
              "    }\n",
              "\n",
              "    .dataframe tbody tr th {\n",
              "        vertical-align: top;\n",
              "    }\n",
              "\n",
              "    .dataframe thead th {\n",
              "        text-align: right;\n",
              "    }\n",
              "</style>\n",
              "<table border=\"1\" class=\"dataframe\">\n",
              "  <thead>\n",
              "    <tr style=\"text-align: right;\">\n",
              "      <th></th>\n",
              "      <th>isbn</th>\n",
              "      <th>title</th>\n",
              "      <th>author</th>\n",
              "      <th>Year-Of-Publication</th>\n",
              "      <th>publisher</th>\n",
              "      <th>Image-URL-S</th>\n",
              "      <th>image_url_m</th>\n",
              "      <th>image_url_l</th>\n",
              "    </tr>\n",
              "  </thead>\n",
              "  <tbody>\n",
              "    <tr>\n",
              "      <th>128890</th>\n",
              "      <td>193169656X</td>\n",
              "      <td>Tyrant Moon</td>\n",
              "      <td>Elaine Corvidae</td>\n",
              "      <td>2002</td>\n",
              "      <td>NaN</td>\n",
              "      <td>http://images.amazon.com/images/P/193169656X.0...</td>\n",
              "      <td>http://images.amazon.com/images/P/193169656X.0...</td>\n",
              "      <td>http://images.amazon.com/images/P/193169656X.0...</td>\n",
              "    </tr>\n",
              "    <tr>\n",
              "      <th>129037</th>\n",
              "      <td>1931696993</td>\n",
              "      <td>Finders Keepers</td>\n",
              "      <td>Linnea Sinclair</td>\n",
              "      <td>2001</td>\n",
              "      <td>NaN</td>\n",
              "      <td>http://images.amazon.com/images/P/1931696993.0...</td>\n",
              "      <td>http://images.amazon.com/images/P/1931696993.0...</td>\n",
              "      <td>http://images.amazon.com/images/P/1931696993.0...</td>\n",
              "    </tr>\n",
              "  </tbody>\n",
              "</table>\n",
              "</div>\n",
              "      <button class=\"colab-df-convert\" onclick=\"convertToInteractive('df-48a4e7bf-07e4-465b-909b-b9e2e2e44886')\"\n",
              "              title=\"Convert this dataframe to an interactive table.\"\n",
              "              style=\"display:none;\">\n",
              "        \n",
              "  <svg xmlns=\"http://www.w3.org/2000/svg\" height=\"24px\"viewBox=\"0 0 24 24\"\n",
              "       width=\"24px\">\n",
              "    <path d=\"M0 0h24v24H0V0z\" fill=\"none\"/>\n",
              "    <path d=\"M18.56 5.44l.94 2.06.94-2.06 2.06-.94-2.06-.94-.94-2.06-.94 2.06-2.06.94zm-11 1L8.5 8.5l.94-2.06 2.06-.94-2.06-.94L8.5 2.5l-.94 2.06-2.06.94zm10 10l.94 2.06.94-2.06 2.06-.94-2.06-.94-.94-2.06-.94 2.06-2.06.94z\"/><path d=\"M17.41 7.96l-1.37-1.37c-.4-.4-.92-.59-1.43-.59-.52 0-1.04.2-1.43.59L10.3 9.45l-7.72 7.72c-.78.78-.78 2.05 0 2.83L4 21.41c.39.39.9.59 1.41.59.51 0 1.02-.2 1.41-.59l7.78-7.78 2.81-2.81c.8-.78.8-2.07 0-2.86zM5.41 20L4 18.59l7.72-7.72 1.47 1.35L5.41 20z\"/>\n",
              "  </svg>\n",
              "      </button>\n",
              "      \n",
              "  <style>\n",
              "    .colab-df-container {\n",
              "      display:flex;\n",
              "      flex-wrap:wrap;\n",
              "      gap: 12px;\n",
              "    }\n",
              "\n",
              "    .colab-df-convert {\n",
              "      background-color: #E8F0FE;\n",
              "      border: none;\n",
              "      border-radius: 50%;\n",
              "      cursor: pointer;\n",
              "      display: none;\n",
              "      fill: #1967D2;\n",
              "      height: 32px;\n",
              "      padding: 0 0 0 0;\n",
              "      width: 32px;\n",
              "    }\n",
              "\n",
              "    .colab-df-convert:hover {\n",
              "      background-color: #E2EBFA;\n",
              "      box-shadow: 0px 1px 2px rgba(60, 64, 67, 0.3), 0px 1px 3px 1px rgba(60, 64, 67, 0.15);\n",
              "      fill: #174EA6;\n",
              "    }\n",
              "\n",
              "    [theme=dark] .colab-df-convert {\n",
              "      background-color: #3B4455;\n",
              "      fill: #D2E3FC;\n",
              "    }\n",
              "\n",
              "    [theme=dark] .colab-df-convert:hover {\n",
              "      background-color: #434B5C;\n",
              "      box-shadow: 0px 1px 3px 1px rgba(0, 0, 0, 0.15);\n",
              "      filter: drop-shadow(0px 1px 2px rgba(0, 0, 0, 0.3));\n",
              "      fill: #FFFFFF;\n",
              "    }\n",
              "  </style>\n",
              "\n",
              "      <script>\n",
              "        const buttonEl =\n",
              "          document.querySelector('#df-48a4e7bf-07e4-465b-909b-b9e2e2e44886 button.colab-df-convert');\n",
              "        buttonEl.style.display =\n",
              "          google.colab.kernel.accessAllowed ? 'block' : 'none';\n",
              "\n",
              "        async function convertToInteractive(key) {\n",
              "          const element = document.querySelector('#df-48a4e7bf-07e4-465b-909b-b9e2e2e44886');\n",
              "          const dataTable =\n",
              "            await google.colab.kernel.invokeFunction('convertToInteractive',\n",
              "                                                     [key], {});\n",
              "          if (!dataTable) return;\n",
              "\n",
              "          const docLinkHtml = 'Like what you see? Visit the ' +\n",
              "            '<a target=\"_blank\" href=https://colab.research.google.com/notebooks/data_table.ipynb>data table notebook</a>'\n",
              "            + ' to learn more about interactive tables.';\n",
              "          element.innerHTML = '';\n",
              "          dataTable['output_type'] = 'display_data';\n",
              "          await google.colab.output.renderOutput(dataTable, element);\n",
              "          const docLink = document.createElement('div');\n",
              "          docLink.innerHTML = docLinkHtml;\n",
              "          element.appendChild(docLink);\n",
              "        }\n",
              "      </script>\n",
              "    </div>\n",
              "  </div>\n",
              "  "
            ]
          },
          "metadata": {},
          "execution_count": 24
        }
      ],
      "source": [
        "# Finding missing Publishers\n",
        "books_df[books_df['publisher'].isna()]"
      ]
    },
    {
      "cell_type": "code",
      "execution_count": 25,
      "metadata": {
        "id": "sY0Sf7Qv08fr"
      },
      "outputs": [],
      "source": [
        "# Replacing NaNs with publisher names\n",
        "books_df.loc[128890, 'publisher'] = 'NovelBooks, Inc'\n",
        "books_df.loc[129037, 'publisher'] = 'NovelBooks, Inc'"
      ]
    },
    {
      "cell_type": "markdown",
      "metadata": {
        "id": "JCm34x90b0tZ"
      },
      "source": [
        "### Getting the Country names of the Users"
      ]
    },
    {
      "cell_type": "code",
      "execution_count": 26,
      "metadata": {
        "id": "lvKyKIey-1Wv"
      },
      "outputs": [],
      "source": [
        "# Extracting the country names from users_df\n",
        "for i in users_df:\n",
        "    users_df['country']=users_df.Location.str.extract(r'\\,+\\s?(\\w*\\s?\\w*)\\\"*$')"
      ]
    },
    {
      "cell_type": "code",
      "execution_count": 27,
      "metadata": {
        "colab": {
          "base_uri": "https://localhost:8080/"
        },
        "id": "LDZdFEKroRWJ",
        "outputId": "3f4212cb-fc24-4ebc-a888-5d2ce058a7ab"
      },
      "outputs": [
        {
          "output_type": "stream",
          "name": "stdout",
          "text": [
            "{'', nan, 'holy see', 'greece', 'cayman islands', 'samoa', 'london', 'italien', 'suisse', 'dominican republic', 'colombia', 'auckland', 'lesotho', 'bahrain', 'prince william', 'pa', 'english', 'uusa', 'faroe islands', 'malawi', 'nh', 'israel', 'uzbekistan', 'caribbean sea', 'oman', 'armenia', 'burlington', 'moçambique', 'grenada', 'netherlands antilles', 'hennipen', 'doodedoo', 'l', 'georgia', 'united state', 'calabria', 'malaysia', 'gabon', 'bahamas', 'switzerland', 'united kindgonm', 'san marino', 'syria', 'le canada', 'aruba', 'turkmenistan', 'solomon islands', 'worcester', 'russian federation', 'input error', 'russia', 'roma', 'vorce', 'de', 'unite states', 'united states', 'france', 'barbados', 'yanhill', 'iran', 'carter', 'macedonia', 'nederlands', 'swazilandia', 'egypt', 'sri lanka', 'buncombe', 'geermany', 'galiza', 'mordor', 'denmark', 'nl', 'méxico', 'unknown', 'nrw', 'iceland', 'euskal herria', 'europa', 'guatemala', 'slo', 'india', 'clackamas', 'europe', 'fulton', 'new london', 'tajikistan', 'angola', 'van wert', 'collin', 'turkei', 'united stated', 'northern ireland', 'u k', 'togo', 'newzealand', 'ust', 'country', 'sierra leone', 'burkina faso', 'xinyu', 'thing', 'venezuela', 'vietnam', 'nigeria', 'belgi', 'california', 'lkjlj', 'minnehaha', '02458', 'phippines', 'onondaga nation', 'autralia', 'england uk', 'yugoslavia', 'heaven', 'albania', 'burma', 'adsgfdr', 'north carolina', 'ua', 'pistlavakia', 'orense', 'monterrey', 'algérie', 'saint luica', 'equatorial geuinea', 'peru', 'ventura county', 'victoria', 'bucks', 'philippines', 'turkey', 'czech republic', 'norway', 'catalunya', 'bladen', 'prc', 'burkinafasu', 'españa', '19104', 'singapore', 'cnina', 'morocco', 'brunei darussalam', 'portugal', 'qatar', 'myanmar', 'cape town', 'algeria', 'missouri', 'west yorkshire', 'lecce', 'livingston', 'germay', 'vicenza', 'ahrensburg', 'aotearoa', 'shelby', 'philippinies', 'xxxxxx', 'brazil', 'phillipines', 'belize', 'türkiye', 'cadd0', 'congo', 'liaoning', 'palau', 'chian', 'sardegna', 'croatia', 'catalunya spain', 'oakland', 'puerto rico', 'chile', 'hornyonic', 'kuwait', 'rmi', '30064', 'australii', 'ysa', 'u', 'botswana', 'indonesia', 'mexico', 'smith', 'lebanon', 'macau', 'jersey', 'slovak republik', 'brasil', 'bbbzzzzz', 'indiai', 'maricopa', 'c', 'uruguay', 'my', 'catalonia', 'nicaragua', '_ brasil', 'lazio', 'polk', 'berguedà', 'der', 'quit', 'south africa', 'australia', 'united staes', 'hong kong', 'euskadi', 'canada eh', 'lee', 'san mateo', 'azerbaijan', 'cook', 'maracopa', 'guinea', 'basque country', 'la belgique', 'slovenia', 'japan', 'china', 'tunisia', 'evil empire', 'cherokee', 'alachua', 'cambodia', 'dekalb', 'allen', 'mauritania', '23232', 'asturies', 'bermuda', 'ukrain', 'butler', 'pakistan', 'jamaica', 'csa', 'sardinia', 'nz', 'guam', 'strongbadia', 'hampden', 'lleida', 'the', 'urugua', 'guyana', 'goteborg', 'toscana', 'yemen', 'bkk', 'palm beach', 'canda', 'hungary', 'belgium', 'the netherlands', 'liberia', 'frome', 'slovakia', 'niger', 'afghanistan', 'kyrgyzstan', 'east africa', 'texas', 'usa', 'unit', 'suriname', 'perãº', 'bell', 'djibouti', 'a', 'in', 'ireland', 'austbritania', 'basilicata', 'honduras', 'canada', 'mérida', 'pinallas', 'mongolia', 'fortaleza', 'italy', 'monaco', 'baxter', 'cn', 'channel islands', 'tanzania', 'cyprus', 'united kingdom', 'fiji', 'santa barbara', 'vatican city', 'saudi arabia', 'bulgaria', 'poland', 'orange co', 'san bernardino', 'rutherford', 'bangladesh', 'scotland', 'pender', 'vanuatu', 'cape may', 'az', 'queensland', 'laos', 'comoros', 'kenya', 'bih', 'no more', 'none', 'zhengjiang', 'universe', 'eritrea', 'wales', 'tonga', 'milano', 'united sates', 'spotsylvania', 'namibia', 'uganda', 'guernsey', 'la argentina', 'belgique', 'marshall islands', 'gb', 'courtenay', 'spain', 'thailand', 'windham', 'ecuador', 'ama lurra', 'cameroon', 'z', 'maroc', 'latvia', 'zimbabwe', 'harvatija', 'baltimore', 'kosovo', 'american samoa', 'saudia arabia', 'distrito federal', 'valtesse', 'sudan', 'united kindgdom', 'le madagascar', 'osceola', 'hillsborough', 'brunei', 'phils', 'aroostook', 'srilanka', 'jackson', '85021', 'cuba', 'madagascar', 'copenhagen', 'phila', 'estonia', 'davidson', 'wood', 'hidalgo', 'saint lucia', 'paraguay', 'rosello', 'rice', 'nyc', 'maldives', 'liushi', 'morgan', 'rsa', 'washtenaw', 'space', 'madrid', 'iraq', 'swaziland', 'cananda', 'new zealand', 'romania', 'mauritius', 'bosnia', 'argentina', 'philippine', 'essex', 'johnson', 'camden', 'taiwan', 'panama', 'neverland', 'chinaöð¹ú', 'ethiopia', 'chad', 'benin', 'bernalillo', 'tdzimi', 'andorra', 'rwanda', 'nepal', 'somewherein space', 'yakima', 'korea', 'england', 'uk', 'marrion', 'north korea', 'luxembourg', 'kazakhstan', 'palestine', 'fort bend', 'bhutan', 'saint loius', 'solano', 'bademn würtemberg', 'nowhere', 'belarus', 'ouranos', 'libya', 'ksa', 'austria', 'henry', 'rosario', 'la svizzera', 'whatcom', 'mali', '01776', 'clinton', 'alderney', 'ferrara', 'somalia', 'lithuania', 'la suisse', 'senegal', 'can', 'lane', 'cape verde', 'houston', 'micronesia', 'bavaria', 'el salvador', 'san franicsco', 'ukraine', 'thailoand', 'bfe', 'dauphin', 'malaysian', 'x', 'öð¹ú', 'diy', 'america', 'galiza neghra', 'petrolwar nation', 'framingham', 'pippo', 'pueblo', 'wonderful usa', 'effingham', 'ohio', 'pasco', 'malta', 'la france', 'côte d', 'rapides', 'antarctica', 'granville', 'germany', 'hamilton', 'serbia', 'bolivia', 'uyo', 'south korea', 'zambia', 'tobago', 'lj', 'lake', 'kiribati', 'fifi', 'netherlands', 'richmond country', 'the gambia', 'deutsches reich', 'dominica', 'itlay', 'mozambique', 'nyhamnsläge', 'haiti', 'polska', 'dublin', 'fairyland', 'maine', 'pr', 'hernando', 'us', 'deutschland', 'ghana', 'tyrtyrt', 'fontana', 'hongkong', 'dfg', 'finland', 'china öð¹ú', 'isreal', 'kern', 'holland', 'ussurfing', 'monroe', 'ventura', 'fred', '87510', 'italia', 'queenspark', 'costa rica', 'jordan', 'moldova', 'the philippines', 'travelling', 'sicilia', 'trinidad', 'aaa', 'uae', 'lombardia', 'kz', 'il canada', 'sweden', 'united statea', 'lornsenland', 'id', 'yunling', 'cass', 'k1c7b1'}\n"
          ]
        }
      ],
      "source": [
        "# Displaying the country names\n",
        "print(set(users_df['country']))"
      ]
    },
    {
      "cell_type": "code",
      "execution_count": 28,
      "metadata": {
        "id": "OyDlXxpKVkiA"
      },
      "outputs": [],
      "source": [
        "# Correcting the misspelled country names\n",
        "\n",
        "users_df.loc[users_df['country'].isin(['australii','autralia','western australia']), 'country'] = 'Australia'\n",
        "\n",
        "users_df.loc[users_df['country'].isin(['texas','oakland','nyc','ohio','north carolina','houston','unite states','yanhill','united sates',\n",
        "                                       'united staes','united state','united statea','united stated','america','united stated of america',\n",
        "                                       'jersey','united states','united states of america','us','us of a','us virgin islands','usa  canada',\n",
        "                                       'usa currently living in england','uusa','usaa','wonderful usa','california','orange co','ysa']), 'country'] = 'USA'\n",
        "\n",
        "users_df.loc[users_df['country'].isin(['the netherlands','nederlands','netherlands','netherlands antilles','neverland','nl']),'country'] = 'netherlands'\n",
        "\n",
        "users_df.loc[users_df['country'].isin(['in','india','indiai']),'country'] = 'India'\n",
        "\n",
        "users_df.loc[users_df['country'].isin(['europa','europe']),'country'] = 'europe'\n",
        "\n",
        "users_df.loc[users_df['country'].isin(['can','canada','canada eh','cananda','canda','le canada','il canada']),'country'] = 'canada'\n",
        "\n",
        "users_df.loc[users_df['country'].isin(['geermany','germany','germay','deutsches reich','deutschland']),'country'] = 'germany'   \n",
        "\n",
        "users_df.loc[users_df['country'].isin(['northern ireland','new london','london','england','england uk','english','united kindgdom',\n",
        "                                       'united kindgonm','worcester','united kingdom','u k','west yorkshire','wales']), 'country'] = 'UK' \n",
        "\n",
        "users_df.loc[users_df['country'].isin(['the philippines','philippines','philippinies','phillipines','phils','phippines']),'country']='Philippines' \n",
        "\n",
        "users_df.loc[users_df['country'].isin(['l','1','k1c7b1','01776','02458','19104','23232','30064','85021','87510','','xxxxxx','universe','nowhere',\n",
        "                                       \n",
        "                                       'x','y','a','the','unknown',np.nan,'n/a','aaa','z','somewherein space']), 'country'] = 'others'\n",
        "\n",
        "users_df.loc[users_df['country'].isin([ 'italia','italien','itlay','italy']), 'country'] = 'Italy'\n",
        "\n",
        "users_df.loc[users_df['country'].isin(['xinyu','prc','china','china öð¹ú','öð¹ú','chinaöð¹ú','chian','zhengjiang','yunling']), 'country'] = 'China'\n",
        "\n",
        "users_df['country'].replace(['rsa','urugua','ukrain','turkei','türkiye','niger','nz','newzealand','moçambique','la belgique','la argentina','isreal','fifi',\n",
        "                             'le madagascar','la france','the gambia','the netherlands','srilanka','saudia arabia','brasil','_ brasil','malaysian',\n",
        "                             'hongkong','russian federation'], ['south africa','uruguay','ukraine','turkey','turkey','nigeria','new zealand','new zealand','mozambique',\n",
        "                                                                'Belgium','argentina','israel','fiji','madagascar','france','gambia','netherlands',\n",
        "                                                                'sri lanka','saudi arabia','brazil','brazil','malaysia','hong kong','russia'],inplace=True)\n",
        " \n"
      ]
    },
    {
      "cell_type": "code",
      "execution_count": 29,
      "metadata": {
        "id": "BCwMXQ4QWSK4"
      },
      "outputs": [],
      "source": [
        "# Converting the country names to uppercase\n",
        "users_df['country']=users_df['country'].str.upper()\n",
        "\n",
        "# Dropping the 'Location' column\n",
        "users_df.drop('Location',axis=1,inplace=True)"
      ]
    },
    {
      "cell_type": "code",
      "execution_count": 30,
      "metadata": {
        "colab": {
          "base_uri": "https://localhost:8080/"
        },
        "id": "DlWNAptaIJvS",
        "outputId": "87c1a634-08ea-4d95-d8b6-308b97710f44"
      },
      "outputs": [
        {
          "output_type": "stream",
          "name": "stdout",
          "text": [
            "['USA' 'RUSSIA' 'PORTUGAL' 'UK' 'CANADA' 'SPAIN' 'AUSTRALIA' 'BRAZIL'\n",
            " 'OTHERS' 'GERMANY' 'MEXICO' 'CHINA' 'ITALY' 'DISTRITO FEDERAL' 'FRANCE'\n",
            " 'NETHERLANDS' 'IRAQ' 'FINLAND' 'NEW ZEALAND' 'INDIA' 'GHANA'\n",
            " 'SWITZERLAND' 'SLOVENIA' 'IRAN' 'PERU' 'VIETNAM' 'SRI LANKA' 'PAKISTAN'\n",
            " 'DENMARK' 'BELGIUM' 'MALAYSIA' 'TURKEY' 'PHILIPPINES' 'GREECE' 'COLOMBIA'\n",
            " 'NORWAY' 'KUWAIT' 'CHILE' 'QUIT' 'LJ' 'TAIWAN' 'ESPAÑA' 'SWEDEN'\n",
            " 'ARGENTINA' 'NIGERIA' 'BULGARIA' 'AUSTRIA' 'ROMANIA' 'SINGAPORE'\n",
            " 'ALBANIA' 'EGYPT' 'TUNISIA' 'UZBEKISTAN' 'QATAR' 'SYRIA' 'SAUDI ARABIA'\n",
            " 'INDONESIA' 'SUDAN' 'POLAND' 'THAILAND' 'IRELAND' 'VENEZUELA' 'PARAGUAY'\n",
            " 'MOZAMBIQUE' 'MOROCCO' 'AFGHANISTAN' 'ESTONIA' 'CLACKAMAS' 'LESOTHO'\n",
            " 'YUGOSLAVIA' 'SLOVAKIA' 'COSTA RICA' 'BASQUE COUNTRY' 'ETHIOPIA'\n",
            " 'CROATIA' 'ISRAEL' 'JAPAN' 'ICELAND' 'SOUTH AFRICA' 'CUBA' 'CALABRIA'\n",
            " 'ALDERNEY' 'PUERTO RICO' 'HONG KONG' 'LATVIA' 'LUXEMBOURG' 'BELARUS'\n",
            " 'CAPE VERDE' 'LITHUANIA' 'GUYANA' 'SCOTLAND' 'JORDAN' 'ANGOLA' 'ALGERIA'\n",
            " 'ANDORRA' 'KYRGYZSTAN' 'PANAMA' 'CSA' 'ECUADOR' 'KAZAKHSTAN'\n",
            " 'DOMINICAN REPUBLIC' 'BRUNEI' 'BANGLADESH' 'MONTERREY' 'BAHRAIN'\n",
            " 'URUGUAY' 'HONDURAS' 'GEORGIA' 'DOMINICA' 'MALTA' 'FAROE ISLANDS'\n",
            " 'EAST AFRICA' 'SIERRA LEONE' 'GUATEMALA' 'MALI' 'CZECH REPUBLIC' 'SPACE'\n",
            " 'SOUTH KOREA' 'RWANDA' 'YEMEN' 'CYPRUS' 'ERITREA' 'BAHAMAS' 'CAMEROON'\n",
            " 'NICARAGUA' 'ZAMBIA' 'BOLIVIA' 'MAROC' 'BELIZE' 'NAMIBIA' 'MACEDONIA'\n",
            " 'BOTSWANA' 'QUEENSPARK' 'MONACO' 'SAMOA' 'GUERNSEY' 'EUSKAL HERRIA'\n",
            " 'BERMUDA' 'BARBADOS' 'TRINIDAD' 'ARMENIA' 'HUNGARY' 'CAYMAN ISLANDS'\n",
            " 'UKRAINE' 'MINNEHAHA' 'AZERBAIJAN' 'GALIZA' 'DE' 'SURINAME' 'DOODEDOO'\n",
            " 'JAMAICA' 'CARIBBEAN SEA' 'CATALUNYA' 'KOSOVO' 'SOMALIA' 'MOLDOVA'\n",
            " 'TANZANIA' 'BURMA' 'KSA' 'TAJIKISTAN' 'NEPAL' 'VALTESSE' 'LEBANON'\n",
            " 'MALDIVES' 'TDZIMI' 'OMAN' 'LLEIDA' 'ANTARCTICA' 'PALAU' 'BELGIQUE'\n",
            " 'CATALONIA' 'MICRONESIA' 'KENYA' 'COLLIN' 'GRENADA' 'BHUTAN' 'BAXTER'\n",
            " 'EVIL EMPIRE' 'MONGOLIA' 'HENNIPEN' 'EQUATORIAL GEUINEA' 'RICE' 'POLSKA'\n",
            " 'MISSOURI' 'GOTEBORG' 'SENEGAL' 'BBBZZZZZ' 'SAINT LUCIA' 'ZIMBABWE'\n",
            " 'CASS' 'BALTIMORE' 'HAMPDEN' 'UST' 'AMA LURRA' 'POLK' 'HAMILTON' 'FIJI'\n",
            " 'BERNALILLO' 'EFFINGHAM' 'LAKE' 'CATALUNYA SPAIN' 'WINDHAM' 'LAOS'\n",
            " 'BURKINA FASO' 'PHILIPPINE' 'AUCKLAND' 'C' 'GABON' 'PASCO' 'FERRARA'\n",
            " 'MORGAN' 'MILANO' 'EUROPE' 'SLO' 'LKJLJ' 'NORTH KOREA' 'MARRION'\n",
            " 'MAURITIUS' 'BENIN' 'CNINA' 'HOLY SEE' 'HAITI' 'CN' 'HOLLAND' 'JACKSON'\n",
            " 'CHEROKEE' 'LAZIO' 'DEKALB' 'MARICOPA' 'UA' 'ALGÉRIE' 'SAN MARINO' 'NRW'\n",
            " 'NYHAMNSLÄGE' 'ARUBA' 'RICHMOND COUNTRY' 'EL SALVADOR' 'CÔTE D'\n",
            " 'SAINT LOIUS' 'FRAMINGHAM' 'MONROE' 'HORNYONIC' 'OURANOS'\n",
            " 'SAN BERNARDINO' 'MALAWI' 'CHANNEL ISLANDS' 'SOLOMON ISLANDS' 'WASHTENAW'\n",
            " 'LIBYA' 'AZ' 'SUISSE' 'UGANDA' 'MACAU' 'FROME' 'BRUNEI DARUSSALAM'\n",
            " 'CAPE TOWN' 'AROOSTOOK' 'CHAD' 'DJIBOUTI' 'PRINCE WILLIAM'\n",
            " 'BADEMN WÜRTEMBERG' 'MARSHALL ISLANDS' 'LA SUISSE' 'GB' 'WOOD' 'RMI'\n",
            " 'HEAVEN' 'SERBIA' 'MÉXICO' 'CONGO' 'OSCEOLA' 'VAN WERT' 'LORNSENLAND'\n",
            " 'DUBLIN' 'PR' 'NONE' 'LIBERIA' 'CARTER' 'MYANMAR' 'RAPIDES'\n",
            " 'AMERICAN SAMOA' 'ESSEX' 'SICILIA' 'ALACHUA' 'LOMBARDIA' 'CAMBODIA'\n",
            " 'VANUATU' 'TURKMENISTAN' 'MÉRIDA' 'HILLSBOROUGH' 'MY' 'SAN FRANICSCO'\n",
            " 'TRAVELLING' 'TOGO' 'BELGI' 'PINALLAS' 'ID' 'ORENSE' 'RUTHERFORD' 'PA'\n",
            " 'BELL' 'COUNTRY' 'CAMDEN' 'DFG' 'STRONGBADIA' 'BFE' 'LIAONING' 'CLINTON'\n",
            " 'VENTURA COUNTY' 'BERGUEDÀ' 'BASILICATA' 'DIY' 'INPUT ERROR' 'BLADEN'\n",
            " 'SARDEGNA' 'THAILOAND' 'ROSARIO' 'PERÃº' 'AOTEAROA' 'BURKINAFASU'\n",
            " 'ADSGFDR' 'HENRY' 'KZ' 'UNIT' 'ROSELLO' 'GRANVILLE' 'PETROLWAR NATION'\n",
            " 'GUAM' 'HARVATIJA' 'COPENHAGEN' 'SARDINIA' 'U' 'LECCE' 'VENTURA' 'SHELBY'\n",
            " 'FRED' 'TONGA' 'ROMA' 'COOK' 'MORDOR' 'FONTANA' 'KIRIBATI'\n",
            " 'ONONDAGA NATION' 'QUEENSLAND' 'AUSTBRITANIA' 'SOLANO' 'VORCE' 'PENDER'\n",
            " 'VICENZA' 'MARACOPA' 'PALESTINE' 'PHILA' 'GUINEA' 'SMITH' 'PUEBLO'\n",
            " 'PIPPO' 'UYO' 'SPOTSYLVANIA' 'DER' 'SWAZILAND' 'LIVINGSTON' 'USSURFING'\n",
            " 'BOSNIA' 'CADD0' 'EUSKADI' 'KOREA' 'NH' 'UAE' 'BURLINGTON' 'MADAGASCAR'\n",
            " 'SWAZILANDIA' 'JOHNSON' 'MAINE' 'BUNCOMBE' 'BUCKS' 'SANTA BARBARA'\n",
            " 'SLOVAK REPUBLIK' 'FORTALEZA' 'PISTLAVAKIA' 'BAVARIA' 'PALM BEACH'\n",
            " 'COURTENAY' 'MAURITANIA' 'LEE' 'COMOROS' 'HIDALGO' 'SAN MATEO' 'DAVIDSON'\n",
            " 'SAINT LUICA' 'TOBAGO' 'VATICAN CITY' 'WHATCOM' 'MADRID' 'TOSCANA'\n",
            " 'BUTLER' 'ALLEN' 'FAIRYLAND' 'THING' 'AHRENSBURG' 'KERN' 'CAPE MAY'\n",
            " 'GAMBIA' 'TYRTYRT' 'LIUSHI' 'BIH' 'FORT BEND' 'FULTON' 'YAKIMA' 'NO MORE'\n",
            " 'DAUPHIN' 'LANE' 'GALIZA NEGHRA' 'ASTURIES' 'VICTORIA' 'BKK'\n",
            " 'LA SVIZZERA' 'HERNANDO']\n"
          ]
        }
      ],
      "source": [
        "# Let's see the contry names\n",
        "print(users_df['country'].unique())"
      ]
    },
    {
      "cell_type": "markdown",
      "metadata": {
        "id": "_SKOxJ_ZeLdD"
      },
      "source": [
        "###Merging the Dataframes"
      ]
    },
    {
      "cell_type": "markdown",
      "metadata": {
        "id": "31dM-eX5vb7l"
      },
      "source": [
        "First, books_df and ratings_df are merged on 'isbn' column then this dataframe is merged to users_df on 'user_id' column."
      ]
    },
    {
      "cell_type": "code",
      "execution_count": 31,
      "metadata": {
        "id": "dK3xDhSOuFkh"
      },
      "outputs": [],
      "source": [
        "# Uppercasing the ISBN numbers\n",
        "books_df['isbn']=books_df['isbn'].str.upper()\n",
        "ratings_df['isbn']=ratings_df['isbn'].str.upper()"
      ]
    },
    {
      "cell_type": "code",
      "execution_count": 32,
      "metadata": {
        "id": "VER84ELUqQ6S"
      },
      "outputs": [],
      "source": [
        "# Now retaining explicit ratings only\n",
        "ratings_df = ratings_df[ratings_df['rating']!=0]"
      ]
    },
    {
      "cell_type": "code",
      "execution_count": 33,
      "metadata": {
        "id": "itY9kHxlw0TO"
      },
      "outputs": [],
      "source": [
        "# Merging books_df and ratings_df\n",
        "book_rating_df = pd.merge(books_df, ratings_df, on = 'isbn')\n",
        "\n",
        "# Merging book_rating_df and users_df\n",
        "df = pd.merge(book_rating_df, users_df, on = 'user_id')"
      ]
    },
    {
      "cell_type": "code",
      "execution_count": 34,
      "metadata": {
        "colab": {
          "base_uri": "https://localhost:8080/"
        },
        "id": "0zFM_Vwow0P_",
        "outputId": "67b7ce4d-6f5f-4c97-8704-2892e0de57c8"
      },
      "outputs": [
        {
          "output_type": "execute_result",
          "data": {
            "text/plain": [
              "(389342, 12)"
            ]
          },
          "metadata": {},
          "execution_count": 34
        }
      ],
      "source": [
        "# Shape of the new dataframe\n",
        "df.shape"
      ]
    },
    {
      "cell_type": "code",
      "execution_count": 35,
      "metadata": {
        "colab": {
          "base_uri": "https://localhost:8080/",
          "height": 513
        },
        "id": "V4WkvkUCw0G-",
        "outputId": "e6827437-04eb-4d48-c06b-49e2c4f05abb"
      },
      "outputs": [
        {
          "output_type": "execute_result",
          "data": {
            "text/plain": [
              "         isbn                                         title  \\\n",
              "0  0002005018                                  Clara Callan   \n",
              "1  074322678X       Where You'll Find Me: And Other Stories   \n",
              "2  0887841740                            The Middle Stories   \n",
              "3  1552041778                                      Jane Doe   \n",
              "4  1567407781  The Witchfinder (Amos Walker Mystery Series)   \n",
              "\n",
              "                 author Year-Of-Publication                 publisher  \\\n",
              "0  Richard Bruce Wright                2001     HarperFlamingo Canada   \n",
              "1           Ann Beattie                2002                  Scribner   \n",
              "2           Sheila Heti                2004     House of Anansi Press   \n",
              "3          R. J. Kaiser                1999                Mira Books   \n",
              "4     Loren D. Estleman                1998  Brilliance Audio - Trade   \n",
              "\n",
              "                                         Image-URL-S  \\\n",
              "0  http://images.amazon.com/images/P/0002005018.0...   \n",
              "1  http://images.amazon.com/images/P/074322678X.0...   \n",
              "2  http://images.amazon.com/images/P/0887841740.0...   \n",
              "3  http://images.amazon.com/images/P/1552041778.0...   \n",
              "4  http://images.amazon.com/images/P/1567407781.0...   \n",
              "\n",
              "                                         image_url_m  \\\n",
              "0  http://images.amazon.com/images/P/0002005018.0...   \n",
              "1  http://images.amazon.com/images/P/074322678X.0...   \n",
              "2  http://images.amazon.com/images/P/0887841740.0...   \n",
              "3  http://images.amazon.com/images/P/1552041778.0...   \n",
              "4  http://images.amazon.com/images/P/1567407781.0...   \n",
              "\n",
              "                                         image_url_l  user_id  rating  Age  \\\n",
              "0  http://images.amazon.com/images/P/0002005018.0...        8       5  NaN   \n",
              "1  http://images.amazon.com/images/P/074322678X.0...        8       5  NaN   \n",
              "2  http://images.amazon.com/images/P/0887841740.0...        8       5  NaN   \n",
              "3  http://images.amazon.com/images/P/1552041778.0...        8       5  NaN   \n",
              "4  http://images.amazon.com/images/P/1567407781.0...        8       6  NaN   \n",
              "\n",
              "  country  \n",
              "0  CANADA  \n",
              "1  CANADA  \n",
              "2  CANADA  \n",
              "3  CANADA  \n",
              "4  CANADA  "
            ],
            "text/html": [
              "\n",
              "  <div id=\"df-3674114a-076a-47ac-87bd-bc4accfb7d54\">\n",
              "    <div class=\"colab-df-container\">\n",
              "      <div>\n",
              "<style scoped>\n",
              "    .dataframe tbody tr th:only-of-type {\n",
              "        vertical-align: middle;\n",
              "    }\n",
              "\n",
              "    .dataframe tbody tr th {\n",
              "        vertical-align: top;\n",
              "    }\n",
              "\n",
              "    .dataframe thead th {\n",
              "        text-align: right;\n",
              "    }\n",
              "</style>\n",
              "<table border=\"1\" class=\"dataframe\">\n",
              "  <thead>\n",
              "    <tr style=\"text-align: right;\">\n",
              "      <th></th>\n",
              "      <th>isbn</th>\n",
              "      <th>title</th>\n",
              "      <th>author</th>\n",
              "      <th>Year-Of-Publication</th>\n",
              "      <th>publisher</th>\n",
              "      <th>Image-URL-S</th>\n",
              "      <th>image_url_m</th>\n",
              "      <th>image_url_l</th>\n",
              "      <th>user_id</th>\n",
              "      <th>rating</th>\n",
              "      <th>Age</th>\n",
              "      <th>country</th>\n",
              "    </tr>\n",
              "  </thead>\n",
              "  <tbody>\n",
              "    <tr>\n",
              "      <th>0</th>\n",
              "      <td>0002005018</td>\n",
              "      <td>Clara Callan</td>\n",
              "      <td>Richard Bruce Wright</td>\n",
              "      <td>2001</td>\n",
              "      <td>HarperFlamingo Canada</td>\n",
              "      <td>http://images.amazon.com/images/P/0002005018.0...</td>\n",
              "      <td>http://images.amazon.com/images/P/0002005018.0...</td>\n",
              "      <td>http://images.amazon.com/images/P/0002005018.0...</td>\n",
              "      <td>8</td>\n",
              "      <td>5</td>\n",
              "      <td>NaN</td>\n",
              "      <td>CANADA</td>\n",
              "    </tr>\n",
              "    <tr>\n",
              "      <th>1</th>\n",
              "      <td>074322678X</td>\n",
              "      <td>Where You'll Find Me: And Other Stories</td>\n",
              "      <td>Ann Beattie</td>\n",
              "      <td>2002</td>\n",
              "      <td>Scribner</td>\n",
              "      <td>http://images.amazon.com/images/P/074322678X.0...</td>\n",
              "      <td>http://images.amazon.com/images/P/074322678X.0...</td>\n",
              "      <td>http://images.amazon.com/images/P/074322678X.0...</td>\n",
              "      <td>8</td>\n",
              "      <td>5</td>\n",
              "      <td>NaN</td>\n",
              "      <td>CANADA</td>\n",
              "    </tr>\n",
              "    <tr>\n",
              "      <th>2</th>\n",
              "      <td>0887841740</td>\n",
              "      <td>The Middle Stories</td>\n",
              "      <td>Sheila Heti</td>\n",
              "      <td>2004</td>\n",
              "      <td>House of Anansi Press</td>\n",
              "      <td>http://images.amazon.com/images/P/0887841740.0...</td>\n",
              "      <td>http://images.amazon.com/images/P/0887841740.0...</td>\n",
              "      <td>http://images.amazon.com/images/P/0887841740.0...</td>\n",
              "      <td>8</td>\n",
              "      <td>5</td>\n",
              "      <td>NaN</td>\n",
              "      <td>CANADA</td>\n",
              "    </tr>\n",
              "    <tr>\n",
              "      <th>3</th>\n",
              "      <td>1552041778</td>\n",
              "      <td>Jane Doe</td>\n",
              "      <td>R. J. Kaiser</td>\n",
              "      <td>1999</td>\n",
              "      <td>Mira Books</td>\n",
              "      <td>http://images.amazon.com/images/P/1552041778.0...</td>\n",
              "      <td>http://images.amazon.com/images/P/1552041778.0...</td>\n",
              "      <td>http://images.amazon.com/images/P/1552041778.0...</td>\n",
              "      <td>8</td>\n",
              "      <td>5</td>\n",
              "      <td>NaN</td>\n",
              "      <td>CANADA</td>\n",
              "    </tr>\n",
              "    <tr>\n",
              "      <th>4</th>\n",
              "      <td>1567407781</td>\n",
              "      <td>The Witchfinder (Amos Walker Mystery Series)</td>\n",
              "      <td>Loren D. Estleman</td>\n",
              "      <td>1998</td>\n",
              "      <td>Brilliance Audio - Trade</td>\n",
              "      <td>http://images.amazon.com/images/P/1567407781.0...</td>\n",
              "      <td>http://images.amazon.com/images/P/1567407781.0...</td>\n",
              "      <td>http://images.amazon.com/images/P/1567407781.0...</td>\n",
              "      <td>8</td>\n",
              "      <td>6</td>\n",
              "      <td>NaN</td>\n",
              "      <td>CANADA</td>\n",
              "    </tr>\n",
              "  </tbody>\n",
              "</table>\n",
              "</div>\n",
              "      <button class=\"colab-df-convert\" onclick=\"convertToInteractive('df-3674114a-076a-47ac-87bd-bc4accfb7d54')\"\n",
              "              title=\"Convert this dataframe to an interactive table.\"\n",
              "              style=\"display:none;\">\n",
              "        \n",
              "  <svg xmlns=\"http://www.w3.org/2000/svg\" height=\"24px\"viewBox=\"0 0 24 24\"\n",
              "       width=\"24px\">\n",
              "    <path d=\"M0 0h24v24H0V0z\" fill=\"none\"/>\n",
              "    <path d=\"M18.56 5.44l.94 2.06.94-2.06 2.06-.94-2.06-.94-.94-2.06-.94 2.06-2.06.94zm-11 1L8.5 8.5l.94-2.06 2.06-.94-2.06-.94L8.5 2.5l-.94 2.06-2.06.94zm10 10l.94 2.06.94-2.06 2.06-.94-2.06-.94-.94-2.06-.94 2.06-2.06.94z\"/><path d=\"M17.41 7.96l-1.37-1.37c-.4-.4-.92-.59-1.43-.59-.52 0-1.04.2-1.43.59L10.3 9.45l-7.72 7.72c-.78.78-.78 2.05 0 2.83L4 21.41c.39.39.9.59 1.41.59.51 0 1.02-.2 1.41-.59l7.78-7.78 2.81-2.81c.8-.78.8-2.07 0-2.86zM5.41 20L4 18.59l7.72-7.72 1.47 1.35L5.41 20z\"/>\n",
              "  </svg>\n",
              "      </button>\n",
              "      \n",
              "  <style>\n",
              "    .colab-df-container {\n",
              "      display:flex;\n",
              "      flex-wrap:wrap;\n",
              "      gap: 12px;\n",
              "    }\n",
              "\n",
              "    .colab-df-convert {\n",
              "      background-color: #E8F0FE;\n",
              "      border: none;\n",
              "      border-radius: 50%;\n",
              "      cursor: pointer;\n",
              "      display: none;\n",
              "      fill: #1967D2;\n",
              "      height: 32px;\n",
              "      padding: 0 0 0 0;\n",
              "      width: 32px;\n",
              "    }\n",
              "\n",
              "    .colab-df-convert:hover {\n",
              "      background-color: #E2EBFA;\n",
              "      box-shadow: 0px 1px 2px rgba(60, 64, 67, 0.3), 0px 1px 3px 1px rgba(60, 64, 67, 0.15);\n",
              "      fill: #174EA6;\n",
              "    }\n",
              "\n",
              "    [theme=dark] .colab-df-convert {\n",
              "      background-color: #3B4455;\n",
              "      fill: #D2E3FC;\n",
              "    }\n",
              "\n",
              "    [theme=dark] .colab-df-convert:hover {\n",
              "      background-color: #434B5C;\n",
              "      box-shadow: 0px 1px 3px 1px rgba(0, 0, 0, 0.15);\n",
              "      filter: drop-shadow(0px 1px 2px rgba(0, 0, 0, 0.3));\n",
              "      fill: #FFFFFF;\n",
              "    }\n",
              "  </style>\n",
              "\n",
              "      <script>\n",
              "        const buttonEl =\n",
              "          document.querySelector('#df-3674114a-076a-47ac-87bd-bc4accfb7d54 button.colab-df-convert');\n",
              "        buttonEl.style.display =\n",
              "          google.colab.kernel.accessAllowed ? 'block' : 'none';\n",
              "\n",
              "        async function convertToInteractive(key) {\n",
              "          const element = document.querySelector('#df-3674114a-076a-47ac-87bd-bc4accfb7d54');\n",
              "          const dataTable =\n",
              "            await google.colab.kernel.invokeFunction('convertToInteractive',\n",
              "                                                     [key], {});\n",
              "          if (!dataTable) return;\n",
              "\n",
              "          const docLinkHtml = 'Like what you see? Visit the ' +\n",
              "            '<a target=\"_blank\" href=https://colab.research.google.com/notebooks/data_table.ipynb>data table notebook</a>'\n",
              "            + ' to learn more about interactive tables.';\n",
              "          element.innerHTML = '';\n",
              "          dataTable['output_type'] = 'display_data';\n",
              "          await google.colab.output.renderOutput(dataTable, element);\n",
              "          const docLink = document.createElement('div');\n",
              "          docLink.innerHTML = docLinkHtml;\n",
              "          element.appendChild(docLink);\n",
              "        }\n",
              "      </script>\n",
              "    </div>\n",
              "  </div>\n",
              "  "
            ]
          },
          "metadata": {},
          "execution_count": 35
        }
      ],
      "source": [
        "# Let's see what the dataframe looks like\n",
        "df.head()"
      ]
    },
    {
      "cell_type": "code",
      "execution_count": 36,
      "metadata": {
        "colab": {
          "base_uri": "https://localhost:8080/"
        },
        "id": "tySnhAr3lEtR",
        "outputId": "845a6d81-b070-4300-dc6f-d75d27485463"
      },
      "outputs": [
        {
          "output_type": "stream",
          "name": "stdout",
          "text": [
            "<class 'pandas.core.frame.DataFrame'>\n",
            "Int64Index: 389342 entries, 0 to 389341\n",
            "Data columns (total 12 columns):\n",
            " #   Column               Non-Null Count   Dtype  \n",
            "---  ------               --------------   -----  \n",
            " 0   isbn                 389342 non-null  object \n",
            " 1   title                389342 non-null  object \n",
            " 2   author               389342 non-null  object \n",
            " 3   Year-Of-Publication  389342 non-null  object \n",
            " 4   publisher            389342 non-null  object \n",
            " 5   Image-URL-S          389342 non-null  object \n",
            " 6   image_url_m          389342 non-null  object \n",
            " 7   image_url_l          389341 non-null  object \n",
            " 8   user_id              389342 non-null  int64  \n",
            " 9   rating               389342 non-null  int64  \n",
            " 10  Age                  273295 non-null  float64\n",
            " 11  country              389342 non-null  object \n",
            "dtypes: float64(1), int64(2), object(9)\n",
            "memory usage: 38.6+ MB\n"
          ]
        }
      ],
      "source": [
        "# Dataset Info\n",
        "df.info()"
      ]
    },
    {
      "cell_type": "code",
      "execution_count": 37,
      "metadata": {
        "colab": {
          "base_uri": "https://localhost:8080/"
        },
        "id": "EGOrCHDfofNW",
        "outputId": "e4816f01-c14a-4f1d-8dca-c17f1b074e0f"
      },
      "outputs": [
        {
          "output_type": "stream",
          "name": "stdout",
          "text": [
            "Unique values in isbn are: 149717\n",
            "Unique values in title are: 135568\n",
            "Unique values in author are: 62114\n",
            "Unique values in Year-Of-Publication are: 181\n",
            "Unique values in publisher are: 11575\n",
            "Unique values in Image-URL-S are: 149716\n",
            "Unique values in image_url_m are: 149716\n",
            "Unique values in image_url_l are: 149715\n",
            "Unique values in user_id are: 68091\n",
            "Unique values in rating are: 10\n",
            "Unique values in Age are: 132\n",
            "Unique values in country are: 176\n"
          ]
        }
      ],
      "source": [
        "# Number of unique values in the columns\n",
        "for i in df.columns:\n",
        "  print('Unique values in',i,'are:',df[i].nunique())"
      ]
    },
    {
      "cell_type": "markdown",
      "metadata": {
        "id": "21ZiWlekjYYf"
      },
      "source": [
        "###Dropping Duplicated Rows"
      ]
    },
    {
      "cell_type": "code",
      "execution_count": 38,
      "metadata": {
        "colab": {
          "base_uri": "https://localhost:8080/"
        },
        "id": "Ymki1SIsqk6U",
        "outputId": "fd977679-c8b1-439c-f3a2-978741c0531d"
      },
      "outputs": [
        {
          "output_type": "execute_result",
          "data": {
            "text/plain": [
              "5894"
            ]
          },
          "metadata": {},
          "execution_count": 38
        }
      ],
      "source": [
        "# Getting the rows where 'title', 'author', 'user_id' and 'rating' values are duplicated\n",
        "df[['title','author','user_id','rating']].duplicated().sum()"
      ]
    },
    {
      "cell_type": "code",
      "execution_count": 39,
      "metadata": {
        "id": "oNJhVmhK3oCX"
      },
      "outputs": [],
      "source": [
        "# Dropping these duplicated rows\n",
        "df = df.drop_duplicates(subset = ['title','author','user_id','rating'], keep = 'first').reset_index(drop = True)"
      ]
    },
    {
      "cell_type": "code",
      "execution_count": 40,
      "metadata": {
        "colab": {
          "base_uri": "https://localhost:8080/",
          "height": 319
        },
        "id": "pBujv1Gzs-py",
        "outputId": "117f1169-6665-4fd7-9677-719483b049a6"
      },
      "outputs": [
        {
          "output_type": "execute_result",
          "data": {
            "text/plain": [
              "         isbn                                         title  \\\n",
              "0  0002005018                                  Clara Callan   \n",
              "1  074322678X       Where You'll Find Me: And Other Stories   \n",
              "2  0887841740                            The Middle Stories   \n",
              "3  1552041778                                      Jane Doe   \n",
              "4  1567407781  The Witchfinder (Amos Walker Mystery Series)   \n",
              "\n",
              "                 author                 publisher  \\\n",
              "0  Richard Bruce Wright     HarperFlamingo Canada   \n",
              "1           Ann Beattie                  Scribner   \n",
              "2           Sheila Heti     House of Anansi Press   \n",
              "3          R. J. Kaiser                Mira Books   \n",
              "4     Loren D. Estleman  Brilliance Audio - Trade   \n",
              "\n",
              "                                         image_url_m  user_id  rating country  \n",
              "0  http://images.amazon.com/images/P/0002005018.0...        8       5  CANADA  \n",
              "1  http://images.amazon.com/images/P/074322678X.0...        8       5  CANADA  \n",
              "2  http://images.amazon.com/images/P/0887841740.0...        8       5  CANADA  \n",
              "3  http://images.amazon.com/images/P/1552041778.0...        8       5  CANADA  \n",
              "4  http://images.amazon.com/images/P/1567407781.0...        8       6  CANADA  "
            ],
            "text/html": [
              "\n",
              "  <div id=\"df-867729ce-de2b-4466-a464-4cd13cbf3d52\">\n",
              "    <div class=\"colab-df-container\">\n",
              "      <div>\n",
              "<style scoped>\n",
              "    .dataframe tbody tr th:only-of-type {\n",
              "        vertical-align: middle;\n",
              "    }\n",
              "\n",
              "    .dataframe tbody tr th {\n",
              "        vertical-align: top;\n",
              "    }\n",
              "\n",
              "    .dataframe thead th {\n",
              "        text-align: right;\n",
              "    }\n",
              "</style>\n",
              "<table border=\"1\" class=\"dataframe\">\n",
              "  <thead>\n",
              "    <tr style=\"text-align: right;\">\n",
              "      <th></th>\n",
              "      <th>isbn</th>\n",
              "      <th>title</th>\n",
              "      <th>author</th>\n",
              "      <th>publisher</th>\n",
              "      <th>image_url_m</th>\n",
              "      <th>user_id</th>\n",
              "      <th>rating</th>\n",
              "      <th>country</th>\n",
              "    </tr>\n",
              "  </thead>\n",
              "  <tbody>\n",
              "    <tr>\n",
              "      <th>0</th>\n",
              "      <td>0002005018</td>\n",
              "      <td>Clara Callan</td>\n",
              "      <td>Richard Bruce Wright</td>\n",
              "      <td>HarperFlamingo Canada</td>\n",
              "      <td>http://images.amazon.com/images/P/0002005018.0...</td>\n",
              "      <td>8</td>\n",
              "      <td>5</td>\n",
              "      <td>CANADA</td>\n",
              "    </tr>\n",
              "    <tr>\n",
              "      <th>1</th>\n",
              "      <td>074322678X</td>\n",
              "      <td>Where You'll Find Me: And Other Stories</td>\n",
              "      <td>Ann Beattie</td>\n",
              "      <td>Scribner</td>\n",
              "      <td>http://images.amazon.com/images/P/074322678X.0...</td>\n",
              "      <td>8</td>\n",
              "      <td>5</td>\n",
              "      <td>CANADA</td>\n",
              "    </tr>\n",
              "    <tr>\n",
              "      <th>2</th>\n",
              "      <td>0887841740</td>\n",
              "      <td>The Middle Stories</td>\n",
              "      <td>Sheila Heti</td>\n",
              "      <td>House of Anansi Press</td>\n",
              "      <td>http://images.amazon.com/images/P/0887841740.0...</td>\n",
              "      <td>8</td>\n",
              "      <td>5</td>\n",
              "      <td>CANADA</td>\n",
              "    </tr>\n",
              "    <tr>\n",
              "      <th>3</th>\n",
              "      <td>1552041778</td>\n",
              "      <td>Jane Doe</td>\n",
              "      <td>R. J. Kaiser</td>\n",
              "      <td>Mira Books</td>\n",
              "      <td>http://images.amazon.com/images/P/1552041778.0...</td>\n",
              "      <td>8</td>\n",
              "      <td>5</td>\n",
              "      <td>CANADA</td>\n",
              "    </tr>\n",
              "    <tr>\n",
              "      <th>4</th>\n",
              "      <td>1567407781</td>\n",
              "      <td>The Witchfinder (Amos Walker Mystery Series)</td>\n",
              "      <td>Loren D. Estleman</td>\n",
              "      <td>Brilliance Audio - Trade</td>\n",
              "      <td>http://images.amazon.com/images/P/1567407781.0...</td>\n",
              "      <td>8</td>\n",
              "      <td>6</td>\n",
              "      <td>CANADA</td>\n",
              "    </tr>\n",
              "  </tbody>\n",
              "</table>\n",
              "</div>\n",
              "      <button class=\"colab-df-convert\" onclick=\"convertToInteractive('df-867729ce-de2b-4466-a464-4cd13cbf3d52')\"\n",
              "              title=\"Convert this dataframe to an interactive table.\"\n",
              "              style=\"display:none;\">\n",
              "        \n",
              "  <svg xmlns=\"http://www.w3.org/2000/svg\" height=\"24px\"viewBox=\"0 0 24 24\"\n",
              "       width=\"24px\">\n",
              "    <path d=\"M0 0h24v24H0V0z\" fill=\"none\"/>\n",
              "    <path d=\"M18.56 5.44l.94 2.06.94-2.06 2.06-.94-2.06-.94-.94-2.06-.94 2.06-2.06.94zm-11 1L8.5 8.5l.94-2.06 2.06-.94-2.06-.94L8.5 2.5l-.94 2.06-2.06.94zm10 10l.94 2.06.94-2.06 2.06-.94-2.06-.94-.94-2.06-.94 2.06-2.06.94z\"/><path d=\"M17.41 7.96l-1.37-1.37c-.4-.4-.92-.59-1.43-.59-.52 0-1.04.2-1.43.59L10.3 9.45l-7.72 7.72c-.78.78-.78 2.05 0 2.83L4 21.41c.39.39.9.59 1.41.59.51 0 1.02-.2 1.41-.59l7.78-7.78 2.81-2.81c.8-.78.8-2.07 0-2.86zM5.41 20L4 18.59l7.72-7.72 1.47 1.35L5.41 20z\"/>\n",
              "  </svg>\n",
              "      </button>\n",
              "      \n",
              "  <style>\n",
              "    .colab-df-container {\n",
              "      display:flex;\n",
              "      flex-wrap:wrap;\n",
              "      gap: 12px;\n",
              "    }\n",
              "\n",
              "    .colab-df-convert {\n",
              "      background-color: #E8F0FE;\n",
              "      border: none;\n",
              "      border-radius: 50%;\n",
              "      cursor: pointer;\n",
              "      display: none;\n",
              "      fill: #1967D2;\n",
              "      height: 32px;\n",
              "      padding: 0 0 0 0;\n",
              "      width: 32px;\n",
              "    }\n",
              "\n",
              "    .colab-df-convert:hover {\n",
              "      background-color: #E2EBFA;\n",
              "      box-shadow: 0px 1px 2px rgba(60, 64, 67, 0.3), 0px 1px 3px 1px rgba(60, 64, 67, 0.15);\n",
              "      fill: #174EA6;\n",
              "    }\n",
              "\n",
              "    [theme=dark] .colab-df-convert {\n",
              "      background-color: #3B4455;\n",
              "      fill: #D2E3FC;\n",
              "    }\n",
              "\n",
              "    [theme=dark] .colab-df-convert:hover {\n",
              "      background-color: #434B5C;\n",
              "      box-shadow: 0px 1px 3px 1px rgba(0, 0, 0, 0.15);\n",
              "      filter: drop-shadow(0px 1px 2px rgba(0, 0, 0, 0.3));\n",
              "      fill: #FFFFFF;\n",
              "    }\n",
              "  </style>\n",
              "\n",
              "      <script>\n",
              "        const buttonEl =\n",
              "          document.querySelector('#df-867729ce-de2b-4466-a464-4cd13cbf3d52 button.colab-df-convert');\n",
              "        buttonEl.style.display =\n",
              "          google.colab.kernel.accessAllowed ? 'block' : 'none';\n",
              "\n",
              "        async function convertToInteractive(key) {\n",
              "          const element = document.querySelector('#df-867729ce-de2b-4466-a464-4cd13cbf3d52');\n",
              "          const dataTable =\n",
              "            await google.colab.kernel.invokeFunction('convertToInteractive',\n",
              "                                                     [key], {});\n",
              "          if (!dataTable) return;\n",
              "\n",
              "          const docLinkHtml = 'Like what you see? Visit the ' +\n",
              "            '<a target=\"_blank\" href=https://colab.research.google.com/notebooks/data_table.ipynb>data table notebook</a>'\n",
              "            + ' to learn more about interactive tables.';\n",
              "          element.innerHTML = '';\n",
              "          dataTable['output_type'] = 'display_data';\n",
              "          await google.colab.output.renderOutput(dataTable, element);\n",
              "          const docLink = document.createElement('div');\n",
              "          docLink.innerHTML = docLinkHtml;\n",
              "          element.appendChild(docLink);\n",
              "        }\n",
              "      </script>\n",
              "    </div>\n",
              "  </div>\n",
              "  "
            ]
          },
          "metadata": {},
          "execution_count": 40
        }
      ],
      "source": [
        "'''\n",
        "Here I am retaining only important columns and\n",
        "dropping 'Year-Of-Publication', 'Image-URL-S', Image-URL-L', and 'age' ones.\n",
        "'''\n",
        "df = df[['isbn', 'title', 'author', 'publisher', 'image_url_m', 'user_id', 'rating', 'country']]\n",
        "df.head()"
      ]
    },
    {
      "cell_type": "markdown",
      "metadata": {
        "id": "MSa1f5Uengrz"
      },
      "source": [
        "### What all manipulations have you done and insights you found?"
      ]
    },
    {
      "cell_type": "markdown",
      "metadata": {
        "id": "LbyXE7I1olp8"
      },
      "source": [
        "First I renamed some of the columns to easy-to-use names and filled the missing values in 'author' and 'publisher' columns as there were only 1 and 2 null values.\n",
        "\n",
        "Then I fetched the countries of the users, corrected the spellings and grouped some of the locations in respective countries.\n",
        "\n",
        "Further, I merged the books dataframe with ratings retaining explicit ratings only and then merged it with the users data.\n",
        "\n",
        "Some of the titles had multiple ISBNs. So, next I got the rows where 'title', 'author', 'user_id' and 'rating' values are duplicated and dropped them.\n",
        "\n",
        "I also dropped not-so-useful columns such as 'Year-Of-Publication', 'Image-URL-S', 'image_url_l' as well as 'Age' because it had a lot of null values.\n",
        "\n"
      ]
    },
    {
      "cell_type": "markdown",
      "metadata": {
        "id": "GF8Ens_Soomf"
      },
      "source": [
        "## ***4. Data Visualization, Storytelling & Experimenting with charts : Understand the relationships between variables***"
      ]
    },
    {
      "cell_type": "markdown",
      "metadata": {
        "id": "0wOQAZs5pc--"
      },
      "source": [
        "#### Chart - 1 Bar Chart to Visualize Popular Authors"
      ]
    },
    {
      "cell_type": "code",
      "execution_count": 41,
      "metadata": {
        "colab": {
          "base_uri": "https://localhost:8080/",
          "height": 316
        },
        "id": "I-F_GDUtjgrb",
        "outputId": "35c2a371-1dab-427b-9070-2ccbb28882c2"
      },
      "outputs": [
        {
          "output_type": "display_data",
          "data": {
            "text/plain": [
              "<Figure size 1000x300 with 2 Axes>"
            ],
            "image/png": "[encoded data removed]"
          },
          "metadata": {}
        }
      ],
      "source": [
        "# Chart - 1 visualization code\n",
        "# Popular Authors in the dataset\n",
        "fig=plt.figure(figsize=(10,3))\n",
        "# Authors with the most number of  books \n",
        "plt.subplot(1,2,1)\n",
        "plt.suptitle(\"5 MOST POPULAR AUTHORS\", color='red' ,fontsize=20)\n",
        "popular_authors=df.groupby('author')['title'].nunique().nlargest(5)\n",
        "sns.barplot(x=popular_authors.values,y=popular_authors.index,palette='Paired')\n",
        "plt.title('Top 5 Authors with the Most Publishings',fontsize=18)\n",
        "plt.xlabel('Book Count',fontsize=15)\n",
        "plt.ylabel('Author',fontsize=15)\n",
        "plt.grid(True)\n",
        "\n",
        "# Best selling authors\n",
        "plt.subplot(1,2,2)\n",
        "best_selling_authors=df.groupby('author')['user_id'].nunique().nlargest(5)\n",
        "sns.barplot(x=best_selling_authors.values,y=best_selling_authors.index,palette='Paired')\n",
        "plt.title('Top 5 Best Selling Authors',fontsize=18)\n",
        "plt.xlabel('User Count',fontsize=15)\n",
        "plt.ylabel('Author',fontsize=15)\n",
        "plt.tight_layout()\n",
        "plt.grid(True)"
      ]
    },
    {
      "cell_type": "markdown",
      "metadata": {
        "id": "K5QZ13OEpz2H"
      },
      "source": [
        "##### 1. Why did you pick the specific chart?"
      ]
    },
    {
      "cell_type": "markdown",
      "metadata": {
        "id": "XESiWehPqBRc"
      },
      "source": [
        "A bar chart represents categories by bars with heights or lengths proportional to the values that they represent. It also shows comparisons among discrete categories."
      ]
    },
    {
      "cell_type": "markdown",
      "metadata": {
        "id": "lQ7QKXXCp7Bj"
      },
      "source": [
        "##### 2. What is/are the insight(s) found from the chart?"
      ]
    },
    {
      "cell_type": "markdown",
      "metadata": {
        "id": "C_j1G7yiqdRP"
      },
      "source": [
        "First plot showes that William Shakespeare has most number of titles listed in the dataset followed by Agatha Christie.\n",
        "\n",
        "The second plot showes the most number of ratings earned by authors and Stephen King aced it with more than 2000 ratings"
      ]
    },
    {
      "cell_type": "markdown",
      "metadata": {
        "id": "KSlN3yHqYklG"
      },
      "source": [
        "#### Chart - 2 Bar Chart to Visualize Best Seller-Books"
      ]
    },
    {
      "cell_type": "code",
      "execution_count": 42,
      "metadata": {
        "colab": {
          "base_uri": "https://localhost:8080/",
          "height": 501
        },
        "id": "5OaxMYMHMxzb",
        "outputId": "d306d14a-cb01-42b9-9d3d-99f1814d9dd6"
      },
      "outputs": [
        {
          "output_type": "display_data",
          "data": {
            "text/plain": [
              "<Figure size 500x500 with 1 Axes>"
            ],
            "image/png": "[encoded data removed]"
          },
          "metadata": {}
        }
      ],
      "source": [
        "# Chart - 2 visualization code\n",
        "# Best selling books \n",
        "plt.figure(figsize=(5,5))\n",
        "best_sellers=df.groupby('title')['user_id'].nunique().nlargest(10)\n",
        "sns.barplot(x=best_sellers.values,y=best_sellers.index)\n",
        "plt.title('Top 10 Best Seller-Books', color='red', fontsize=20)\n",
        "plt.xlabel('Count',fontsize=15)\n",
        "plt.ylabel('Title',fontsize=15)\n",
        "plt.grid(True)"
      ]
    },
    {
      "cell_type": "markdown",
      "metadata": {
        "id": "t6dVpIINYklI"
      },
      "source": [
        "##### 1. Why did you pick the specific chart?"
      ]
    },
    {
      "cell_type": "markdown",
      "metadata": {
        "id": "2-joc6NYgafH"
      },
      "source": [
        "A bar chart represents categories by bars with heights or lengths proportional to the values that they represent. It also shows comparisons among discrete categories."
      ]
    },
    {
      "cell_type": "markdown",
      "metadata": {
        "id": "ijmpgYnKYklI"
      },
      "source": [
        "##### 2. What is/are the insight(s) found from the chart?"
      ]
    },
    {
      "cell_type": "markdown",
      "metadata": {
        "id": "PSx9atu2YklI"
      },
      "source": [
        "The plot showes the number of users for popular books and 'The Lovely Bones: A Novel' attracts the most number of ratings which is more than 700 followed by 'Wild Animus'."
      ]
    },
    {
      "cell_type": "markdown",
      "metadata": {
        "id": "4Of9eVA-YrdM"
      },
      "source": [
        "#### Chart - 3 Plotting Popular Publishers"
      ]
    },
    {
      "cell_type": "code",
      "execution_count": 43,
      "metadata": {
        "colab": {
          "base_uri": "https://localhost:8080/",
          "height": 424
        },
        "id": "GCLGQ-IBgkqo",
        "outputId": "01c35a7e-b184-4adb-8cbd-276fce1ed607"
      },
      "outputs": [
        {
          "output_type": "display_data",
          "data": {
            "text/plain": [
              "<Figure size 600x400 with 1 Axes>"
            ],
            "image/png": "[encoded data removed]"
          },
          "metadata": {}
        }
      ],
      "source": [
        "# Chart - 3 visualization code\n",
        "# Most Popular Publishers\n",
        "plt.figure(figsize=(6,4))\n",
        "popular_publishers=df.groupby('publisher')['title'].count().nlargest(10)\n",
        "sns.barplot(x=popular_publishers.values,y=popular_publishers.index)\n",
        "plt.title('Top 10 Most Popular Publishers', color='red', fontsize=20)\n",
        "plt.xlabel('Count',fontsize=15)\n",
        "plt.ylabel('Publisher',fontsize=15)\n",
        "plt.grid(True)"
      ]
    },
    {
      "cell_type": "markdown",
      "metadata": {
        "id": "iky9q4vBYrdO"
      },
      "source": [
        "##### 1. Why did you pick the specific chart?"
      ]
    },
    {
      "cell_type": "markdown",
      "metadata": {
        "id": "FzFUu7zrgh1_"
      },
      "source": [
        "A bar chart represents categories by bars with heights or lengths proportional to the values that they represent. It also shows comparisons among discrete categories."
      ]
    },
    {
      "cell_type": "markdown",
      "metadata": {
        "id": "F6T5p64dYrdO"
      },
      "source": [
        "##### 2. What is/are the insight(s) found from the chart?"
      ]
    },
    {
      "cell_type": "markdown",
      "metadata": {
        "id": "Xx8WAJvtYrdO"
      },
      "source": [
        "In the above bar chart showing number of books published by the publishers Ballantine Books is on the top with more than 12000 books followed by Pocket."
      ]
    },
    {
      "cell_type": "markdown",
      "metadata": {
        "id": "bamQiAODYuh1"
      },
      "source": [
        "#### Chart - 4 Bar plot showing top Countries"
      ]
    },
    {
      "cell_type": "code",
      "execution_count": 44,
      "metadata": {
        "colab": {
          "base_uri": "https://localhost:8080/",
          "height": 486
        },
        "id": "fEjOjaDJVkiB",
        "outputId": "5c8bc500-36f3-48f9-a4e4-06c99ac752aa"
      },
      "outputs": [
        {
          "output_type": "display_data",
          "data": {
            "text/plain": [
              "<Figure size 640x480 with 1 Axes>"
            ],
            "image/png": "[encoded data removed]"
          },
          "metadata": {}
        }
      ],
      "source": [
        "# Chart - 4 visualization code: Countries with number of users\n",
        "\n",
        "country=df.groupby('country')['user_id'].nunique().nlargest(10)\n",
        "sns.barplot(x=country.values,y=country.index)\n",
        "plt.title('Top 10 Countries of Users', color='red',fontsize=20)\n",
        "plt.xlabel('Count',fontsize=15)\n",
        "plt.ylabel('Country',fontsize=15)\n",
        "plt.grid(True)"
      ]
    },
    {
      "cell_type": "markdown",
      "metadata": {
        "id": "QHF8YVU7Yuh3"
      },
      "source": [
        "##### 1. Why did you pick the specific chart?"
      ]
    },
    {
      "cell_type": "markdown",
      "metadata": {
        "id": "kq3LDkthglR5"
      },
      "source": [
        "A bar chart represents categories by bars with heights or lengths proportional to the values that they represent. It also shows comparisons among discrete categories."
      ]
    },
    {
      "cell_type": "markdown",
      "metadata": {
        "id": "GwzvFGzlYuh3"
      },
      "source": [
        "##### 2. What is/are the insight(s) found from the chart?"
      ]
    },
    {
      "cell_type": "markdown",
      "metadata": {
        "id": "uyqkiB8YYuh3"
      },
      "source": [
        "From the above bar chart we can deduce that most of the users hail from the USA. And Canada is at second place."
      ]
    },
    {
      "cell_type": "markdown",
      "metadata": {
        "id": "OH-pJp9IphqM"
      },
      "source": [
        "#### Chart - 5 Distribution Plot for Rating"
      ]
    },
    {
      "cell_type": "code",
      "execution_count": 45,
      "metadata": {
        "colab": {
          "base_uri": "https://localhost:8080/"
        },
        "id": "sPP88WXhmgXP",
        "outputId": "dadd053b-9409-4679-dbf8-821bd10370f2"
      },
      "outputs": [
        {
          "output_type": "execute_result",
          "data": {
            "text/plain": [
              "8     91730\n",
              "10    71058\n",
              "7     66376\n",
              "9     60728\n",
              "5     45284\n",
              "6     31686\n",
              "4      7613\n",
              "3      5117\n",
              "2      2375\n",
              "1      1481\n",
              "Name: rating, dtype: int64"
            ]
          },
          "metadata": {},
          "execution_count": 45
        }
      ],
      "source": [
        "# Counting the Values in rating column\n",
        "df['rating'].value_counts()"
      ]
    },
    {
      "cell_type": "markdown",
      "metadata": {
        "id": "AnncSvgTmycy"
      },
      "source": [
        "For explicit ratings, 8 is the most common rating followed by 10."
      ]
    },
    {
      "cell_type": "code",
      "source": [
        "# Chart - 5 visualization code\n",
        "# Distribution of Ratings\n",
        "fig, ax1 = plt.subplots()\n",
        "ax2 = ax1.twinx()\n",
        "\n",
        "sns.distplot(df['rating'], kde=False, ax=ax1, color='red')\n",
        "sns.distplot(df['rating'], hist=False, ax=ax2, kde_kws={'bw':0.4})\n",
        "plt.title('Rating Distribution', color='red', fontsize=20)\n",
        "plt.xlabel('Ratings',fontsize=15)\n",
        "plt.ylabel('Density',fontsize=15)"
      ],
      "metadata": {
        "colab": {
          "base_uri": "https://localhost:8080/",
          "height": 498
        },
        "id": "bvXPEEBVkuXo",
        "outputId": "dc1f13c7-3545-424f-eb10-fcc31b1a7cbc"
      },
      "execution_count": 46,
      "outputs": [
        {
          "output_type": "execute_result",
          "data": {
            "text/plain": [
              "Text(0, 0.5, 'Density')"
            ]
          },
          "metadata": {},
          "execution_count": 46
        },
        {
          "output_type": "display_data",
          "data": {
            "text/plain": [
              "<Figure size 640x480 with 2 Axes>"
            ],
            "image/png": "[encoded data removed]"
          },
          "metadata": {}
        }
      ]
    },
    {
      "cell_type": "markdown",
      "metadata": {
        "id": "bbFf2-_FphqN"
      },
      "source": [
        "##### 1. Why did you pick the specific chart?"
      ]
    },
    {
      "cell_type": "markdown",
      "metadata": {
        "id": "loh7H2nzphqN"
      },
      "source": [
        "Distribution plot visually assesses the distribution of data and expresses the pattern according to which the values are distributed. We generally use a histogram or distribution plot to understand the pattern."
      ]
    },
    {
      "cell_type": "markdown",
      "metadata": {
        "id": "_ouA3fa0phqN"
      },
      "source": [
        "##### 2. What is/are the insight(s) found from the chart?"
      ]
    },
    {
      "cell_type": "markdown",
      "metadata": {
        "id": "VECbqPI7phqN"
      },
      "source": [
        "The rating distribution comes out to be negatively skewed as higher ratings are more frequent in the dataset."
      ]
    },
    {
      "cell_type": "markdown",
      "metadata": {
        "id": "PIIx-8_IphqN"
      },
      "source": [
        "#### Chart - 6 Word Cloud Representing Words in the Title"
      ]
    },
    {
      "cell_type": "code",
      "execution_count": 47,
      "metadata": {
        "colab": {
          "base_uri": "https://localhost:8080/",
          "height": 703
        },
        "id": "lqAIGUfyphqO",
        "outputId": "b86a3e22-baea-437c-d612-b96416a27ae0"
      },
      "outputs": [
        {
          "output_type": "display_data",
          "data": {
            "text/plain": [
              "<Figure size 1500x800 with 1 Axes>"
            ],
            "image/png": "[encoded data removed]"
          },
          "metadata": {}
        }
      ],
      "source": [
        "# Chart - 6 visualization code: WordCloud\n",
        "titles = df['title'].unique()\n",
        "\n",
        "plt.subplots(figsize=(15,8))\n",
        "wordcloud = WordCloud(background_color='#000', width=650, height=550,\n",
        "                      stopwords=STOPWORDS,).generate(\" \".join(titles))\n",
        "plt.imshow(wordcloud)\n",
        "plt.axis('off')\n",
        "plt.savefig('graph.png')\n",
        "\n",
        "plt.figtext(.5,.91,'Data Cloud of All Titles', color='red', fontsize=25, ha='center')\n",
        "plt.show()"
      ]
    },
    {
      "cell_type": "markdown",
      "metadata": {
        "id": "t27r6nlMphqO"
      },
      "source": [
        "##### 1. Why did you pick the specific chart?"
      ]
    },
    {
      "cell_type": "markdown",
      "metadata": {
        "id": "iv6ro40sphqO"
      },
      "source": [
        "Word Clouds are visual representations of words that give greater prominence to words that appear more frequently"
      ]
    },
    {
      "cell_type": "markdown",
      "metadata": {
        "id": "r2jJGEOYphqO"
      },
      "source": [
        "##### 2. What is/are the insight(s) found from the chart?"
      ]
    },
    {
      "cell_type": "markdown",
      "metadata": {
        "id": "Po6ZPi4hphqO"
      },
      "source": [
        "Clearly, 'Book', 'Novel', 'Life' etc. are the most frequent words in the dataset. And important terms also affect the recommendations."
      ]
    },
    {
      "cell_type": "markdown",
      "metadata": {
        "id": "VfCC591jGiD4"
      },
      "source": [
        "## ***5. Recommendation Systems Implementation***"
      ]
    },
    {
      "cell_type": "markdown",
      "source": [
        "Collaborative filtering makes automatic predictions about the interests of a user by collecting preferences or taste information from many users.\n",
        "\n",
        "Content-Based filtering uses only information about the description and attributes of the items user has previously consumed to model user's preferences.\n",
        "\n",
        "Since item description and information like genre etc. are not available so we can not guess the content only from title of the book as sometimes titles are ambiguous. So I am using Collaborative filtering model.\n",
        "\n"
      ],
      "metadata": {
        "id": "ZDe1VOGkFO17"
      }
    },
    {
      "cell_type": "markdown",
      "metadata": {
        "id": "OB4l2ZhMeS1U"
      },
      "source": [
        "### **1. Memory-Based Recommendation Systems**"
      ]
    },
    {
      "cell_type": "markdown",
      "source": [
        "This approach uses the memory of previous users interactions to compute user (or item) similarities based on based items they have interacted."
      ],
      "metadata": {
        "id": "gEkshxX3HcPR"
      }
    },
    {
      "cell_type": "markdown",
      "metadata": {
        "id": "_0AXUuBeGjCv"
      },
      "source": [
        "#### **1. Popularity Based Recommendation System**"
      ]
    },
    {
      "cell_type": "markdown",
      "source": [
        "This recommender gives the trending items for all the users without considering their preferecnes."
      ],
      "metadata": {
        "id": "fklIgg4mN-1J"
      }
    },
    {
      "cell_type": "code",
      "execution_count": 48,
      "metadata": {
        "id": "i1haaj7CXUo1"
      },
      "outputs": [],
      "source": [
        "# Code to create a Class of Popularity Based Recommendation System\n",
        "\n",
        "class PopularRecommender:\n",
        "    \n",
        "  def __init__(self, df):\n",
        "    #Creating attributes\n",
        "    self.df = df\n",
        "        \n",
        "  # Code to create a method of the class that gets the  recommendations    \n",
        "  def popular_books(self, df, n=10):\n",
        "\n",
        "    '''\n",
        "    This method takes books-ratings-users dataframe and no. of books (default = 10) to be returned as arguments and returns a \n",
        "    dataframe of recommended books with columns 'isbn', 'title', 'author', 'image_url_m', 'num_of_votes', 'average_ratings', and 'popularity'\n",
        "    '''\n",
        "    # Counting the number of votes for eaach book\n",
        "    rating_count=self.df.groupby(\"title\").count()[\"rating\"].reset_index()\n",
        "    rating_count.rename(columns={\"rating\":\"num_of_votes\"},inplace=True)\n",
        "\n",
        "    # calculating the average rating for each book\n",
        "    rating_average=self.df.groupby(\"title\")[\"rating\"].mean().reset_index()\n",
        "    rating_average.rename(columns={\"rating\":\"average_ratings\"},inplace=True)\n",
        "\n",
        "    popular_books=rating_count.merge(rating_average,on=\"title\")\n",
        "\n",
        "    C=popular_books[\"average_ratings\"].mean()\n",
        "    m=popular_books[\"num_of_votes\"].quantile(0.90)\n",
        "    # m = minimum no of votes to be listed\n",
        "    # C = the mean rating across all the books\n",
        "      \n",
        "    def weighted_rate(x):\n",
        "      '''this function returns weighted rating\n",
        "      '''\n",
        "      v=x[\"num_of_votes\"]\n",
        "      R=x[\"average_ratings\"]\n",
        "      return ((v*R) + (m*C)) / (v+m)\n",
        "\n",
        "\n",
        "\n",
        "    popular_books=popular_books[popular_books[\"num_of_votes\"] >=100]\n",
        "    popular_books[\"popularity\"]=popular_books.apply(weighted_rate,axis=1)\n",
        "\n",
        "    popular_books = popular_books.merge(self.df, how = 'left', left_on = 'title', right_on = 'title')[['isbn', 'title', 'author',\n",
        "                                                                                                            'image_url_m', 'num_of_votes', 'average_ratings',\n",
        "                                                                                                            'popularity']]\n",
        "    popular_books=popular_books.drop_duplicates(subset='title').sort_values(by=\"popularity\",ascending=False)\n",
        "\n",
        "    return popular_books.head(n)\n"
      ]
    },
    {
      "cell_type": "code",
      "execution_count": 49,
      "metadata": {
        "colab": {
          "base_uri": "https://localhost:8080/",
          "height": 563
        },
        "id": "tTUdKvIMvaSj",
        "outputId": "ec574a1b-1f7b-4e61-e8d4-1560c15369ee"
      },
      "outputs": [
        {
          "output_type": "execute_result",
          "data": {
            "text/plain": [
              "             isbn                                              title  \\\n",
              "30554  039527222X     The Two Towers (The Lord of the Rings, Part 2)   \n",
              "28752  0395272211  The Return of the King (The Lord of the Rings,...   \n",
              "9165   0439139597       Harry Potter and the Goblet of Fire (Book 4)   \n",
              "9895   0590353403     Harry Potter and the Sorcerer's Stone (Book 1)   \n",
              "9620   0439136369  Harry Potter and the Prisoner of Azkaban (Book 3)   \n",
              "9409   043935806X  Harry Potter and the Order of the Phoenix (Boo...   \n",
              "31208  0060935464                              To Kill a Mockingbird   \n",
              "10070  059035342X  Harry Potter and the Sorcerer's Stone (Harry P...   \n",
              "6812   0812550706      Ender's Game (Ender Wiggins Saga (Paperback))   \n",
              "21762  0618002227  The Fellowship of the Ring (The Lord of the Ri...   \n",
              "\n",
              "                 author                                        image_url_m  \\\n",
              "30554  J. R. R. Tolkien  http://images.amazon.com/images/P/039527222X.0...   \n",
              "28752  J. R. R. Tolkien  http://images.amazon.com/images/P/0395272211.0...   \n",
              "9165      J. K. Rowling  http://images.amazon.com/images/P/0439139597.0...   \n",
              "9895      J. K. Rowling  http://images.amazon.com/images/P/0590353403.0...   \n",
              "9620      J. K. Rowling  http://images.amazon.com/images/P/0439136369.0...   \n",
              "9409      J. K. Rowling  http://images.amazon.com/images/P/043935806X.0...   \n",
              "31208        Harper Lee  http://images.amazon.com/images/P/0060935464.0...   \n",
              "10070     J. K. Rowling  http://images.amazon.com/images/P/059035342X.0...   \n",
              "6812   Orson Scott Card  http://images.amazon.com/images/P/0812550706.0...   \n",
              "21762  J. R. R. Tolkien  http://images.amazon.com/images/P/0618002227.0...   \n",
              "\n",
              "       num_of_votes  average_ratings  popularity  \n",
              "30554           136         9.330882    9.266762  \n",
              "28752           102         9.254902    9.173958  \n",
              "9165            244         9.114754    9.082785  \n",
              "9895            175         9.057143    9.014519  \n",
              "9620            275         9.040000    9.012905  \n",
              "9409            211         9.047393    9.012100  \n",
              "31208           267         8.977528    8.950785  \n",
              "10070           315         8.936508    8.914417  \n",
              "6812            150         8.920000    8.874926  \n",
              "21762           204         8.887255    8.854610  "
            ],
            "text/html": [
              "\n",
              "  <div id=\"df-5129bbb4-fc6b-444e-a1dc-7e588200287a\">\n",
              "    <div class=\"colab-df-container\">\n",
              "      <div>\n",
              "<style scoped>\n",
              "    .dataframe tbody tr th:only-of-type {\n",
              "        vertical-align: middle;\n",
              "    }\n",
              "\n",
              "    .dataframe tbody tr th {\n",
              "        vertical-align: top;\n",
              "    }\n",
              "\n",
              "    .dataframe thead th {\n",
              "        text-align: right;\n",
              "    }\n",
              "</style>\n",
              "<table border=\"1\" class=\"dataframe\">\n",
              "  <thead>\n",
              "    <tr style=\"text-align: right;\">\n",
              "      <th></th>\n",
              "      <th>isbn</th>\n",
              "      <th>title</th>\n",
              "      <th>author</th>\n",
              "      <th>image_url_m</th>\n",
              "      <th>num_of_votes</th>\n",
              "      <th>average_ratings</th>\n",
              "      <th>popularity</th>\n",
              "    </tr>\n",
              "  </thead>\n",
              "  <tbody>\n",
              "    <tr>\n",
              "      <th>30554</th>\n",
              "      <td>039527222X</td>\n",
              "      <td>The Two Towers (The Lord of the Rings, Part 2)</td>\n",
              "      <td>J. R. R. Tolkien</td>\n",
              "      <td>http://images.amazon.com/images/P/039527222X.0...</td>\n",
              "      <td>136</td>\n",
              "      <td>9.330882</td>\n",
              "      <td>9.266762</td>\n",
              "    </tr>\n",
              "    <tr>\n",
              "      <th>28752</th>\n",
              "      <td>0395272211</td>\n",
              "      <td>The Return of the King (The Lord of the Rings,...</td>\n",
              "      <td>J. R. R. Tolkien</td>\n",
              "      <td>http://images.amazon.com/images/P/0395272211.0...</td>\n",
              "      <td>102</td>\n",
              "      <td>9.254902</td>\n",
              "      <td>9.173958</td>\n",
              "    </tr>\n",
              "    <tr>\n",
              "      <th>9165</th>\n",
              "      <td>0439139597</td>\n",
              "      <td>Harry Potter and the Goblet of Fire (Book 4)</td>\n",
              "      <td>J. K. Rowling</td>\n",
              "      <td>http://images.amazon.com/images/P/0439139597.0...</td>\n",
              "      <td>244</td>\n",
              "      <td>9.114754</td>\n",
              "      <td>9.082785</td>\n",
              "    </tr>\n",
              "    <tr>\n",
              "      <th>9895</th>\n",
              "      <td>0590353403</td>\n",
              "      <td>Harry Potter and the Sorcerer's Stone (Book 1)</td>\n",
              "      <td>J. K. Rowling</td>\n",
              "      <td>http://images.amazon.com/images/P/0590353403.0...</td>\n",
              "      <td>175</td>\n",
              "      <td>9.057143</td>\n",
              "      <td>9.014519</td>\n",
              "    </tr>\n",
              "    <tr>\n",
              "      <th>9620</th>\n",
              "      <td>0439136369</td>\n",
              "      <td>Harry Potter and the Prisoner of Azkaban (Book 3)</td>\n",
              "      <td>J. K. Rowling</td>\n",
              "      <td>http://images.amazon.com/images/P/0439136369.0...</td>\n",
              "      <td>275</td>\n",
              "      <td>9.040000</td>\n",
              "      <td>9.012905</td>\n",
              "    </tr>\n",
              "    <tr>\n",
              "      <th>9409</th>\n",
              "      <td>043935806X</td>\n",
              "      <td>Harry Potter and the Order of the Phoenix (Boo...</td>\n",
              "      <td>J. K. Rowling</td>\n",
              "      <td>http://images.amazon.com/images/P/043935806X.0...</td>\n",
              "      <td>211</td>\n",
              "      <td>9.047393</td>\n",
              "      <td>9.012100</td>\n",
              "    </tr>\n",
              "    <tr>\n",
              "      <th>31208</th>\n",
              "      <td>0060935464</td>\n",
              "      <td>To Kill a Mockingbird</td>\n",
              "      <td>Harper Lee</td>\n",
              "      <td>http://images.amazon.com/images/P/0060935464.0...</td>\n",
              "      <td>267</td>\n",
              "      <td>8.977528</td>\n",
              "      <td>8.950785</td>\n",
              "    </tr>\n",
              "    <tr>\n",
              "      <th>10070</th>\n",
              "      <td>059035342X</td>\n",
              "      <td>Harry Potter and the Sorcerer's Stone (Harry P...</td>\n",
              "      <td>J. K. Rowling</td>\n",
              "      <td>http://images.amazon.com/images/P/059035342X.0...</td>\n",
              "      <td>315</td>\n",
              "      <td>8.936508</td>\n",
              "      <td>8.914417</td>\n",
              "    </tr>\n",
              "    <tr>\n",
              "      <th>6812</th>\n",
              "      <td>0812550706</td>\n",
              "      <td>Ender's Game (Ender Wiggins Saga (Paperback))</td>\n",
              "      <td>Orson Scott Card</td>\n",
              "      <td>http://images.amazon.com/images/P/0812550706.0...</td>\n",
              "      <td>150</td>\n",
              "      <td>8.920000</td>\n",
              "      <td>8.874926</td>\n",
              "    </tr>\n",
              "    <tr>\n",
              "      <th>21762</th>\n",
              "      <td>0618002227</td>\n",
              "      <td>The Fellowship of the Ring (The Lord of the Ri...</td>\n",
              "      <td>J. R. R. Tolkien</td>\n",
              "      <td>http://images.amazon.com/images/P/0618002227.0...</td>\n",
              "      <td>204</td>\n",
              "      <td>8.887255</td>\n",
              "      <td>8.854610</td>\n",
              "    </tr>\n",
              "  </tbody>\n",
              "</table>\n",
              "</div>\n",
              "      <button class=\"colab-df-convert\" onclick=\"convertToInteractive('df-5129bbb4-fc6b-444e-a1dc-7e588200287a')\"\n",
              "              title=\"Convert this dataframe to an interactive table.\"\n",
              "              style=\"display:none;\">\n",
              "        \n",
              "  <svg xmlns=\"http://www.w3.org/2000/svg\" height=\"24px\"viewBox=\"0 0 24 24\"\n",
              "       width=\"24px\">\n",
              "    <path d=\"M0 0h24v24H0V0z\" fill=\"none\"/>\n",
              "    <path d=\"M18.56 5.44l.94 2.06.94-2.06 2.06-.94-2.06-.94-.94-2.06-.94 2.06-2.06.94zm-11 1L8.5 8.5l.94-2.06 2.06-.94-2.06-.94L8.5 2.5l-.94 2.06-2.06.94zm10 10l.94 2.06.94-2.06 2.06-.94-2.06-.94-.94-2.06-.94 2.06-2.06.94z\"/><path d=\"M17.41 7.96l-1.37-1.37c-.4-.4-.92-.59-1.43-.59-.52 0-1.04.2-1.43.59L10.3 9.45l-7.72 7.72c-.78.78-.78 2.05 0 2.83L4 21.41c.39.39.9.59 1.41.59.51 0 1.02-.2 1.41-.59l7.78-7.78 2.81-2.81c.8-.78.8-2.07 0-2.86zM5.41 20L4 18.59l7.72-7.72 1.47 1.35L5.41 20z\"/>\n",
              "  </svg>\n",
              "      </button>\n",
              "      \n",
              "  <style>\n",
              "    .colab-df-container {\n",
              "      display:flex;\n",
              "      flex-wrap:wrap;\n",
              "      gap: 12px;\n",
              "    }\n",
              "\n",
              "    .colab-df-convert {\n",
              "      background-color: #E8F0FE;\n",
              "      border: none;\n",
              "      border-radius: 50%;\n",
              "      cursor: pointer;\n",
              "      display: none;\n",
              "      fill: #1967D2;\n",
              "      height: 32px;\n",
              "      padding: 0 0 0 0;\n",
              "      width: 32px;\n",
              "    }\n",
              "\n",
              "    .colab-df-convert:hover {\n",
              "      background-color: #E2EBFA;\n",
              "      box-shadow: 0px 1px 2px rgba(60, 64, 67, 0.3), 0px 1px 3px 1px rgba(60, 64, 67, 0.15);\n",
              "      fill: #174EA6;\n",
              "    }\n",
              "\n",
              "    [theme=dark] .colab-df-convert {\n",
              "      background-color: #3B4455;\n",
              "      fill: #D2E3FC;\n",
              "    }\n",
              "\n",
              "    [theme=dark] .colab-df-convert:hover {\n",
              "      background-color: #434B5C;\n",
              "      box-shadow: 0px 1px 3px 1px rgba(0, 0, 0, 0.15);\n",
              "      filter: drop-shadow(0px 1px 2px rgba(0, 0, 0, 0.3));\n",
              "      fill: #FFFFFF;\n",
              "    }\n",
              "  </style>\n",
              "\n",
              "      <script>\n",
              "        const buttonEl =\n",
              "          document.querySelector('#df-5129bbb4-fc6b-444e-a1dc-7e588200287a button.colab-df-convert');\n",
              "        buttonEl.style.display =\n",
              "          google.colab.kernel.accessAllowed ? 'block' : 'none';\n",
              "\n",
              "        async function convertToInteractive(key) {\n",
              "          const element = document.querySelector('#df-5129bbb4-fc6b-444e-a1dc-7e588200287a');\n",
              "          const dataTable =\n",
              "            await google.colab.kernel.invokeFunction('convertToInteractive',\n",
              "                                                     [key], {});\n",
              "          if (!dataTable) return;\n",
              "\n",
              "          const docLinkHtml = 'Like what you see? Visit the ' +\n",
              "            '<a target=\"_blank\" href=https://colab.research.google.com/notebooks/data_table.ipynb>data table notebook</a>'\n",
              "            + ' to learn more about interactive tables.';\n",
              "          element.innerHTML = '';\n",
              "          dataTable['output_type'] = 'display_data';\n",
              "          await google.colab.output.renderOutput(dataTable, element);\n",
              "          const docLink = document.createElement('div');\n",
              "          docLink.innerHTML = docLinkHtml;\n",
              "          element.appendChild(docLink);\n",
              "        }\n",
              "      </script>\n",
              "    </div>\n",
              "  </div>\n",
              "  "
            ]
          },
          "metadata": {},
          "execution_count": 49
        }
      ],
      "source": [
        "\n",
        "#Creating object of the class   \n",
        "recommender_model = PopularRecommender(df)\n",
        " \n",
        "# Getting the recommendations\n",
        "recommender_model.popular_books(df)"
      ]
    },
    {
      "cell_type": "markdown",
      "metadata": {
        "id": "NN9Saq72G5-I"
      },
      "source": [
        "#### **2. Item-Based Recommendation System**"
      ]
    },
    {
      "cell_type": "markdown",
      "source": [
        "This recommendation system recommends items that are similar to some selected item based on the users that have interacted with them."
      ],
      "metadata": {
        "id": "h5fs1MGDOY6O"
      }
    },
    {
      "cell_type": "markdown",
      "metadata": {
        "id": "v-gDbNQ3MvSH"
      },
      "source": [
        "##### **Data Preprocessing**"
      ]
    },
    {
      "cell_type": "code",
      "execution_count": 50,
      "metadata": {
        "colab": {
          "base_uri": "https://localhost:8080/",
          "height": 337
        },
        "id": "pnumQKlxpxpK",
        "outputId": "0b50e159-03cf-4757-a49b-cb05504d7e6e"
      },
      "outputs": [
        {
          "output_type": "execute_result",
          "data": {
            "text/plain": [
              "          isbn                                              title  \\\n",
              "8   0399135782                             The Kitchen God's Wife   \n",
              "10  0440234743                                      The Testament   \n",
              "11  0452264464               Beloved (Plume Contemporary Fiction)   \n",
              "12  0609804618  Our Dumb Century: The Onion Presents 100 Years...   \n",
              "14  0971880107                                        Wild Animus   \n",
              "\n",
              "           author           publisher  \\\n",
              "8         Amy Tan    Putnam Pub Group   \n",
              "10   John Grisham                Dell   \n",
              "11  Toni Morrison               Plume   \n",
              "12      The Onion  Three Rivers Press   \n",
              "14   Rich Shapero             Too Far   \n",
              "\n",
              "                                          image_url_m  user_id  rating country  \n",
              "8   http://images.amazon.com/images/P/0399135782.0...    11676       9  OTHERS  \n",
              "10  http://images.amazon.com/images/P/0440234743.0...    11676       9  OTHERS  \n",
              "11  http://images.amazon.com/images/P/0452264464.0...    11676       8  OTHERS  \n",
              "12  http://images.amazon.com/images/P/0609804618.0...    11676       7  OTHERS  \n",
              "14  http://images.amazon.com/images/P/0971880107.0...    11676       6  OTHERS  "
            ],
            "text/html": [
              "\n",
              "  <div id=\"df-b7c6275c-117a-42f2-abbf-7a22866ccdb7\">\n",
              "    <div class=\"colab-df-container\">\n",
              "      <div>\n",
              "<style scoped>\n",
              "    .dataframe tbody tr th:only-of-type {\n",
              "        vertical-align: middle;\n",
              "    }\n",
              "\n",
              "    .dataframe tbody tr th {\n",
              "        vertical-align: top;\n",
              "    }\n",
              "\n",
              "    .dataframe thead th {\n",
              "        text-align: right;\n",
              "    }\n",
              "</style>\n",
              "<table border=\"1\" class=\"dataframe\">\n",
              "  <thead>\n",
              "    <tr style=\"text-align: right;\">\n",
              "      <th></th>\n",
              "      <th>isbn</th>\n",
              "      <th>title</th>\n",
              "      <th>author</th>\n",
              "      <th>publisher</th>\n",
              "      <th>image_url_m</th>\n",
              "      <th>user_id</th>\n",
              "      <th>rating</th>\n",
              "      <th>country</th>\n",
              "    </tr>\n",
              "  </thead>\n",
              "  <tbody>\n",
              "    <tr>\n",
              "      <th>8</th>\n",
              "      <td>0399135782</td>\n",
              "      <td>The Kitchen God's Wife</td>\n",
              "      <td>Amy Tan</td>\n",
              "      <td>Putnam Pub Group</td>\n",
              "      <td>http://images.amazon.com/images/P/0399135782.0...</td>\n",
              "      <td>11676</td>\n",
              "      <td>9</td>\n",
              "      <td>OTHERS</td>\n",
              "    </tr>\n",
              "    <tr>\n",
              "      <th>10</th>\n",
              "      <td>0440234743</td>\n",
              "      <td>The Testament</td>\n",
              "      <td>John Grisham</td>\n",
              "      <td>Dell</td>\n",
              "      <td>http://images.amazon.com/images/P/0440234743.0...</td>\n",
              "      <td>11676</td>\n",
              "      <td>9</td>\n",
              "      <td>OTHERS</td>\n",
              "    </tr>\n",
              "    <tr>\n",
              "      <th>11</th>\n",
              "      <td>0452264464</td>\n",
              "      <td>Beloved (Plume Contemporary Fiction)</td>\n",
              "      <td>Toni Morrison</td>\n",
              "      <td>Plume</td>\n",
              "      <td>http://images.amazon.com/images/P/0452264464.0...</td>\n",
              "      <td>11676</td>\n",
              "      <td>8</td>\n",
              "      <td>OTHERS</td>\n",
              "    </tr>\n",
              "    <tr>\n",
              "      <th>12</th>\n",
              "      <td>0609804618</td>\n",
              "      <td>Our Dumb Century: The Onion Presents 100 Years...</td>\n",
              "      <td>The Onion</td>\n",
              "      <td>Three Rivers Press</td>\n",
              "      <td>http://images.amazon.com/images/P/0609804618.0...</td>\n",
              "      <td>11676</td>\n",
              "      <td>7</td>\n",
              "      <td>OTHERS</td>\n",
              "    </tr>\n",
              "    <tr>\n",
              "      <th>14</th>\n",
              "      <td>0971880107</td>\n",
              "      <td>Wild Animus</td>\n",
              "      <td>Rich Shapero</td>\n",
              "      <td>Too Far</td>\n",
              "      <td>http://images.amazon.com/images/P/0971880107.0...</td>\n",
              "      <td>11676</td>\n",
              "      <td>6</td>\n",
              "      <td>OTHERS</td>\n",
              "    </tr>\n",
              "  </tbody>\n",
              "</table>\n",
              "</div>\n",
              "      <button class=\"colab-df-convert\" onclick=\"convertToInteractive('df-b7c6275c-117a-42f2-abbf-7a22866ccdb7')\"\n",
              "              title=\"Convert this dataframe to an interactive table.\"\n",
              "              style=\"display:none;\">\n",
              "        \n",
              "  <svg xmlns=\"http://www.w3.org/2000/svg\" height=\"24px\"viewBox=\"0 0 24 24\"\n",
              "       width=\"24px\">\n",
              "    <path d=\"M0 0h24v24H0V0z\" fill=\"none\"/>\n",
              "    <path d=\"M18.56 5.44l.94 2.06.94-2.06 2.06-.94-2.06-.94-.94-2.06-.94 2.06-2.06.94zm-11 1L8.5 8.5l.94-2.06 2.06-.94-2.06-.94L8.5 2.5l-.94 2.06-2.06.94zm10 10l.94 2.06.94-2.06 2.06-.94-2.06-.94-.94-2.06-.94 2.06-2.06.94z\"/><path d=\"M17.41 7.96l-1.37-1.37c-.4-.4-.92-.59-1.43-.59-.52 0-1.04.2-1.43.59L10.3 9.45l-7.72 7.72c-.78.78-.78 2.05 0 2.83L4 21.41c.39.39.9.59 1.41.59.51 0 1.02-.2 1.41-.59l7.78-7.78 2.81-2.81c.8-.78.8-2.07 0-2.86zM5.41 20L4 18.59l7.72-7.72 1.47 1.35L5.41 20z\"/>\n",
              "  </svg>\n",
              "      </button>\n",
              "      \n",
              "  <style>\n",
              "    .colab-df-container {\n",
              "      display:flex;\n",
              "      flex-wrap:wrap;\n",
              "      gap: 12px;\n",
              "    }\n",
              "\n",
              "    .colab-df-convert {\n",
              "      background-color: #E8F0FE;\n",
              "      border: none;\n",
              "      border-radius: 50%;\n",
              "      cursor: pointer;\n",
              "      display: none;\n",
              "      fill: #1967D2;\n",
              "      height: 32px;\n",
              "      padding: 0 0 0 0;\n",
              "      width: 32px;\n",
              "    }\n",
              "\n",
              "    .colab-df-convert:hover {\n",
              "      background-color: #E2EBFA;\n",
              "      box-shadow: 0px 1px 2px rgba(60, 64, 67, 0.3), 0px 1px 3px 1px rgba(60, 64, 67, 0.15);\n",
              "      fill: #174EA6;\n",
              "    }\n",
              "\n",
              "    [theme=dark] .colab-df-convert {\n",
              "      background-color: #3B4455;\n",
              "      fill: #D2E3FC;\n",
              "    }\n",
              "\n",
              "    [theme=dark] .colab-df-convert:hover {\n",
              "      background-color: #434B5C;\n",
              "      box-shadow: 0px 1px 3px 1px rgba(0, 0, 0, 0.15);\n",
              "      filter: drop-shadow(0px 1px 2px rgba(0, 0, 0, 0.3));\n",
              "      fill: #FFFFFF;\n",
              "    }\n",
              "  </style>\n",
              "\n",
              "      <script>\n",
              "        const buttonEl =\n",
              "          document.querySelector('#df-b7c6275c-117a-42f2-abbf-7a22866ccdb7 button.colab-df-convert');\n",
              "        buttonEl.style.display =\n",
              "          google.colab.kernel.accessAllowed ? 'block' : 'none';\n",
              "\n",
              "        async function convertToInteractive(key) {\n",
              "          const element = document.querySelector('#df-b7c6275c-117a-42f2-abbf-7a22866ccdb7');\n",
              "          const dataTable =\n",
              "            await google.colab.kernel.invokeFunction('convertToInteractive',\n",
              "                                                     [key], {});\n",
              "          if (!dataTable) return;\n",
              "\n",
              "          const docLinkHtml = 'Like what you see? Visit the ' +\n",
              "            '<a target=\"_blank\" href=https://colab.research.google.com/notebooks/data_table.ipynb>data table notebook</a>'\n",
              "            + ' to learn more about interactive tables.';\n",
              "          element.innerHTML = '';\n",
              "          dataTable['output_type'] = 'display_data';\n",
              "          await google.colab.output.renderOutput(dataTable, element);\n",
              "          const docLink = document.createElement('div');\n",
              "          docLink.innerHTML = docLinkHtml;\n",
              "          element.appendChild(docLink);\n",
              "        }\n",
              "      </script>\n",
              "    </div>\n",
              "  </div>\n",
              "  "
            ]
          },
          "metadata": {},
          "execution_count": 50
        }
      ],
      "source": [
        "# Users that are read enough\n",
        "x=df.groupby('user_id').count()['rating']>5\n",
        "read_users=x[x].index\n",
        "filtered_rating = df[df['user_id'].isin(read_users)]\n",
        "\n",
        "# Books that are rated enough\n",
        "y = filtered_rating.groupby('title').count()['rating']>=10\n",
        "famous_books = y[y].index\n",
        "\n",
        "# And the final dataframe is\n",
        "final_df = filtered_rating[filtered_rating['title'].isin(famous_books)]\n",
        "final_df.head()"
      ]
    },
    {
      "cell_type": "code",
      "execution_count": 51,
      "metadata": {
        "colab": {
          "base_uri": "https://localhost:8080/"
        },
        "id": "IlHD3KQBsfFY",
        "outputId": "d815c4ec-fd12-4fe3-e0f8-2a9100b71227"
      },
      "outputs": [
        {
          "output_type": "execute_result",
          "data": {
            "text/plain": [
              "(103043, 8)"
            ]
          },
          "metadata": {},
          "execution_count": 51
        }
      ],
      "source": [
        "final_df.shape"
      ]
    },
    {
      "cell_type": "code",
      "execution_count": 52,
      "metadata": {
        "id": "bmM5FMfj2B5V"
      },
      "outputs": [],
      "source": [
        "# Creating Pivot table\n",
        "pt = final_df.pivot_table(index = 'title', columns = 'user_id', values = 'rating')\n",
        "pt.fillna(0,inplace=True)"
      ]
    },
    {
      "cell_type": "code",
      "execution_count": 53,
      "metadata": {
        "colab": {
          "base_uri": "https://localhost:8080/"
        },
        "id": "dcV2HPb853-E",
        "outputId": "04f689f0-c386-4ea0-f443-7118e80d32da"
      },
      "outputs": [
        {
          "output_type": "execute_result",
          "data": {
            "text/plain": [
              "(4116, 4116)"
            ]
          },
          "metadata": {},
          "execution_count": 53
        }
      ],
      "source": [
        "# Getting Smilarity Scores\n",
        "similarity_scores = cosine_similarity(pt)\n",
        "similarity_scores.shape"
      ]
    },
    {
      "cell_type": "markdown",
      "metadata": {
        "id": "6iZW-XttHv7u"
      },
      "source": [
        "##### **Building the Recommender**"
      ]
    },
    {
      "cell_type": "code",
      "execution_count": 54,
      "metadata": {
        "id": "Ern9kVkk6QUv"
      },
      "outputs": [],
      "source": [
        "# Writing a function for recommendation system\n",
        "\n",
        "def recommend(title, n=5):\n",
        "\n",
        "  '''\n",
        "  This fucntion takes book-title and number of recommendations to be returned as arguments\n",
        "  and returns a dataframe of recommended books with columns 'isbn', 'title', 'author' and 'image_url_m'\n",
        "  '''\n",
        "\n",
        "  # index fetch\n",
        "  index = np.where(pt.index==title)[0][0]\n",
        "  similar_items = sorted(list(enumerate(similarity_scores[index])),key=lambda x:x[1],reverse=True)[1:n+1]\n",
        "\n",
        "  # Storing titles of similar books\n",
        "  names = []\n",
        "  for i in similar_items:\n",
        "    names.append(pt.index[i[0]])\n",
        "\n",
        "  #getting recommended dataframe\n",
        "  recommendations = df[df['title'].isin(names)][['isbn', 'title', 'author', 'image_url_m']].drop_duplicates(subset='title')   \n",
        "    \n",
        "  return recommendations"
      ]
    },
    {
      "cell_type": "code",
      "execution_count": 55,
      "metadata": {
        "colab": {
          "base_uri": "https://localhost:8080/",
          "height": 206
        },
        "id": "gI7xCt6aCSb_",
        "outputId": "62d02e89-9bd9-4de7-f99b-80e04b62ff04"
      },
      "outputs": [
        {
          "output_type": "execute_result",
          "data": {
            "text/plain": [
              "            isbn                  title               author  \\\n",
              "74    0451526341            Animal Farm        George Orwell   \n",
              "721   0060809833        Brave New World        Aldous Huxley   \n",
              "907   0060935464  To Kill a Mockingbird           Harper Lee   \n",
              "1336  0684801523       The Great Gatsby  F. Scott Fitzgerald   \n",
              "1694  0452262933                   1984        George Orwell   \n",
              "\n",
              "                                            image_url_m  \n",
              "74    http://images.amazon.com/images/P/0451526341.0...  \n",
              "721   http://images.amazon.com/images/P/0060809833.0...  \n",
              "907   http://images.amazon.com/images/P/0060935464.0...  \n",
              "1336  http://images.amazon.com/images/P/0684801523.0...  \n",
              "1694  http://images.amazon.com/images/P/0452262933.0...  "
            ],
            "text/html": [
              "\n",
              "  <div id=\"df-6062cefd-bc6e-4ac9-8e4b-0de36c5a8b45\">\n",
              "    <div class=\"colab-df-container\">\n",
              "      <div>\n",
              "<style scoped>\n",
              "    .dataframe tbody tr th:only-of-type {\n",
              "        vertical-align: middle;\n",
              "    }\n",
              "\n",
              "    .dataframe tbody tr th {\n",
              "        vertical-align: top;\n",
              "    }\n",
              "\n",
              "    .dataframe thead th {\n",
              "        text-align: right;\n",
              "    }\n",
              "</style>\n",
              "<table border=\"1\" class=\"dataframe\">\n",
              "  <thead>\n",
              "    <tr style=\"text-align: right;\">\n",
              "      <th></th>\n",
              "      <th>isbn</th>\n",
              "      <th>title</th>\n",
              "      <th>author</th>\n",
              "      <th>image_url_m</th>\n",
              "    </tr>\n",
              "  </thead>\n",
              "  <tbody>\n",
              "    <tr>\n",
              "      <th>74</th>\n",
              "      <td>0451526341</td>\n",
              "      <td>Animal Farm</td>\n",
              "      <td>George Orwell</td>\n",
              "      <td>http://images.amazon.com/images/P/0451526341.0...</td>\n",
              "    </tr>\n",
              "    <tr>\n",
              "      <th>721</th>\n",
              "      <td>0060809833</td>\n",
              "      <td>Brave New World</td>\n",
              "      <td>Aldous Huxley</td>\n",
              "      <td>http://images.amazon.com/images/P/0060809833.0...</td>\n",
              "    </tr>\n",
              "    <tr>\n",
              "      <th>907</th>\n",
              "      <td>0060935464</td>\n",
              "      <td>To Kill a Mockingbird</td>\n",
              "      <td>Harper Lee</td>\n",
              "      <td>http://images.amazon.com/images/P/0060935464.0...</td>\n",
              "    </tr>\n",
              "    <tr>\n",
              "      <th>1336</th>\n",
              "      <td>0684801523</td>\n",
              "      <td>The Great Gatsby</td>\n",
              "      <td>F. Scott Fitzgerald</td>\n",
              "      <td>http://images.amazon.com/images/P/0684801523.0...</td>\n",
              "    </tr>\n",
              "    <tr>\n",
              "      <th>1694</th>\n",
              "      <td>0452262933</td>\n",
              "      <td>1984</td>\n",
              "      <td>George Orwell</td>\n",
              "      <td>http://images.amazon.com/images/P/0452262933.0...</td>\n",
              "    </tr>\n",
              "  </tbody>\n",
              "</table>\n",
              "</div>\n",
              "      <button class=\"colab-df-convert\" onclick=\"convertToInteractive('df-6062cefd-bc6e-4ac9-8e4b-0de36c5a8b45')\"\n",
              "              title=\"Convert this dataframe to an interactive table.\"\n",
              "              style=\"display:none;\">\n",
              "        \n",
              "  <svg xmlns=\"http://www.w3.org/2000/svg\" height=\"24px\"viewBox=\"0 0 24 24\"\n",
              "       width=\"24px\">\n",
              "    <path d=\"M0 0h24v24H0V0z\" fill=\"none\"/>\n",
              "    <path d=\"M18.56 5.44l.94 2.06.94-2.06 2.06-.94-2.06-.94-.94-2.06-.94 2.06-2.06.94zm-11 1L8.5 8.5l.94-2.06 2.06-.94-2.06-.94L8.5 2.5l-.94 2.06-2.06.94zm10 10l.94 2.06.94-2.06 2.06-.94-2.06-.94-.94-2.06-.94 2.06-2.06.94z\"/><path d=\"M17.41 7.96l-1.37-1.37c-.4-.4-.92-.59-1.43-.59-.52 0-1.04.2-1.43.59L10.3 9.45l-7.72 7.72c-.78.78-.78 2.05 0 2.83L4 21.41c.39.39.9.59 1.41.59.51 0 1.02-.2 1.41-.59l7.78-7.78 2.81-2.81c.8-.78.8-2.07 0-2.86zM5.41 20L4 18.59l7.72-7.72 1.47 1.35L5.41 20z\"/>\n",
              "  </svg>\n",
              "      </button>\n",
              "      \n",
              "  <style>\n",
              "    .colab-df-container {\n",
              "      display:flex;\n",
              "      flex-wrap:wrap;\n",
              "      gap: 12px;\n",
              "    }\n",
              "\n",
              "    .colab-df-convert {\n",
              "      background-color: #E8F0FE;\n",
              "      border: none;\n",
              "      border-radius: 50%;\n",
              "      cursor: pointer;\n",
              "      display: none;\n",
              "      fill: #1967D2;\n",
              "      height: 32px;\n",
              "      padding: 0 0 0 0;\n",
              "      width: 32px;\n",
              "    }\n",
              "\n",
              "    .colab-df-convert:hover {\n",
              "      background-color: #E2EBFA;\n",
              "      box-shadow: 0px 1px 2px rgba(60, 64, 67, 0.3), 0px 1px 3px 1px rgba(60, 64, 67, 0.15);\n",
              "      fill: #174EA6;\n",
              "    }\n",
              "\n",
              "    [theme=dark] .colab-df-convert {\n",
              "      background-color: #3B4455;\n",
              "      fill: #D2E3FC;\n",
              "    }\n",
              "\n",
              "    [theme=dark] .colab-df-convert:hover {\n",
              "      background-color: #434B5C;\n",
              "      box-shadow: 0px 1px 3px 1px rgba(0, 0, 0, 0.15);\n",
              "      filter: drop-shadow(0px 1px 2px rgba(0, 0, 0, 0.3));\n",
              "      fill: #FFFFFF;\n",
              "    }\n",
              "  </style>\n",
              "\n",
              "      <script>\n",
              "        const buttonEl =\n",
              "          document.querySelector('#df-6062cefd-bc6e-4ac9-8e4b-0de36c5a8b45 button.colab-df-convert');\n",
              "        buttonEl.style.display =\n",
              "          google.colab.kernel.accessAllowed ? 'block' : 'none';\n",
              "\n",
              "        async function convertToInteractive(key) {\n",
              "          const element = document.querySelector('#df-6062cefd-bc6e-4ac9-8e4b-0de36c5a8b45');\n",
              "          const dataTable =\n",
              "            await google.colab.kernel.invokeFunction('convertToInteractive',\n",
              "                                                     [key], {});\n",
              "          if (!dataTable) return;\n",
              "\n",
              "          const docLinkHtml = 'Like what you see? Visit the ' +\n",
              "            '<a target=\"_blank\" href=https://colab.research.google.com/notebooks/data_table.ipynb>data table notebook</a>'\n",
              "            + ' to learn more about interactive tables.';\n",
              "          element.innerHTML = '';\n",
              "          dataTable['output_type'] = 'display_data';\n",
              "          await google.colab.output.renderOutput(dataTable, element);\n",
              "          const docLink = document.createElement('div');\n",
              "          docLink.innerHTML = docLinkHtml;\n",
              "          element.appendChild(docLink);\n",
              "        }\n",
              "      </script>\n",
              "    </div>\n",
              "  </div>\n",
              "  "
            ]
          },
          "metadata": {},
          "execution_count": 55
        }
      ],
      "source": [
        "# Making Recommendations...\n",
        "recommend('The Catcher in the Rye')"
      ]
    },
    {
      "cell_type": "markdown",
      "metadata": {
        "id": "dJ2tPlVmpsJ0"
      },
      "source": [
        "###**2 Model-Based Recommendation System**\n"
      ]
    },
    {
      "cell_type": "markdown",
      "metadata": {
        "id": "3pujJ8mZIb-9"
      },
      "source": [
        "In this approach, models are developed using different machine learning algorithms to recommend items to users. And I'll use a popular Latent Factor Model called Singular Value Decomposition or SVD."
      ]
    },
    {
      "cell_type": "markdown",
      "metadata": {
        "id": "3YG-rfe2IU5z"
      },
      "source": [
        "#### **Data Preprocessing**"
      ]
    },
    {
      "cell_type": "markdown",
      "source": [
        "#####*Feature Engineering*"
      ],
      "metadata": {
        "id": "UyQDPhsMNVRH"
      }
    },
    {
      "cell_type": "code",
      "execution_count": 56,
      "metadata": {
        "colab": {
          "base_uri": "https://localhost:8080/"
        },
        "id": "-mHN3K4HfIDX",
        "outputId": "077f537f-c884-45d4-ad23-0a51657513a1"
      },
      "outputs": [
        {
          "output_type": "stream",
          "name": "stdout",
          "text": [
            "The number of books that are explicitely rated are 185842\n",
            "Number of  books rated by atleast 5 users: 11267\n"
          ]
        }
      ],
      "source": [
        "#Filtering books with more than 5 reviews\n",
        "\n",
        "print('The number of books that are explicitely rated are',ratings_df['isbn'].nunique())\n",
        "ratings_count_df=ratings_df.groupby(\"isbn\")['user_id'].count().to_frame('No-of-rated-users').reset_index()\n",
        "selected_books =list(ratings_count_df.loc[ratings_count_df['No-of-rated-users']>5,'isbn'].unique())\n",
        "print('Number of  books rated by atleast 5 users:',len(selected_books))\n",
        "famous_books_df=ratings_df.loc[ratings_df['isbn'].isin(selected_books)]"
      ]
    },
    {
      "cell_type": "code",
      "execution_count": 57,
      "metadata": {
        "colab": {
          "base_uri": "https://localhost:8080/"
        },
        "id": "Q4zh69E0oNxm",
        "outputId": "f0838fab-aead-4a70-ceb5-c04006abf16b"
      },
      "outputs": [
        {
          "output_type": "execute_result",
          "data": {
            "text/plain": [
              "(183230, 3)"
            ]
          },
          "metadata": {},
          "execution_count": 57
        }
      ],
      "source": [
        "# Shape of the dataframe\n",
        "famous_books_df.shape"
      ]
    },
    {
      "cell_type": "code",
      "execution_count": 58,
      "metadata": {
        "colab": {
          "base_uri": "https://localhost:8080/",
          "height": 206
        },
        "id": "I4_cUu_oxixp",
        "outputId": "723ff26e-a0f2-4222-faa7-12092bcf4a71"
      },
      "outputs": [
        {
          "output_type": "execute_result",
          "data": {
            "text/plain": [
              "    user_id        isbn  rating\n",
              "8    276744  038550120X       7\n",
              "16   276747  0060517794       9\n",
              "19   276747  0671537458       9\n",
              "20   276747  0679776818       8\n",
              "28   276754  0684867621       8"
            ],
            "text/html": [
              "\n",
              "  <div id=\"df-a620ddbc-6247-4a5a-96c4-5c52e77564c7\">\n",
              "    <div class=\"colab-df-container\">\n",
              "      <div>\n",
              "<style scoped>\n",
              "    .dataframe tbody tr th:only-of-type {\n",
              "        vertical-align: middle;\n",
              "    }\n",
              "\n",
              "    .dataframe tbody tr th {\n",
              "        vertical-align: top;\n",
              "    }\n",
              "\n",
              "    .dataframe thead th {\n",
              "        text-align: right;\n",
              "    }\n",
              "</style>\n",
              "<table border=\"1\" class=\"dataframe\">\n",
              "  <thead>\n",
              "    <tr style=\"text-align: right;\">\n",
              "      <th></th>\n",
              "      <th>user_id</th>\n",
              "      <th>isbn</th>\n",
              "      <th>rating</th>\n",
              "    </tr>\n",
              "  </thead>\n",
              "  <tbody>\n",
              "    <tr>\n",
              "      <th>8</th>\n",
              "      <td>276744</td>\n",
              "      <td>038550120X</td>\n",
              "      <td>7</td>\n",
              "    </tr>\n",
              "    <tr>\n",
              "      <th>16</th>\n",
              "      <td>276747</td>\n",
              "      <td>0060517794</td>\n",
              "      <td>9</td>\n",
              "    </tr>\n",
              "    <tr>\n",
              "      <th>19</th>\n",
              "      <td>276747</td>\n",
              "      <td>0671537458</td>\n",
              "      <td>9</td>\n",
              "    </tr>\n",
              "    <tr>\n",
              "      <th>20</th>\n",
              "      <td>276747</td>\n",
              "      <td>0679776818</td>\n",
              "      <td>8</td>\n",
              "    </tr>\n",
              "    <tr>\n",
              "      <th>28</th>\n",
              "      <td>276754</td>\n",
              "      <td>0684867621</td>\n",
              "      <td>8</td>\n",
              "    </tr>\n",
              "  </tbody>\n",
              "</table>\n",
              "</div>\n",
              "      <button class=\"colab-df-convert\" onclick=\"convertToInteractive('df-a620ddbc-6247-4a5a-96c4-5c52e77564c7')\"\n",
              "              title=\"Convert this dataframe to an interactive table.\"\n",
              "              style=\"display:none;\">\n",
              "        \n",
              "  <svg xmlns=\"http://www.w3.org/2000/svg\" height=\"24px\"viewBox=\"0 0 24 24\"\n",
              "       width=\"24px\">\n",
              "    <path d=\"M0 0h24v24H0V0z\" fill=\"none\"/>\n",
              "    <path d=\"M18.56 5.44l.94 2.06.94-2.06 2.06-.94-2.06-.94-.94-2.06-.94 2.06-2.06.94zm-11 1L8.5 8.5l.94-2.06 2.06-.94-2.06-.94L8.5 2.5l-.94 2.06-2.06.94zm10 10l.94 2.06.94-2.06 2.06-.94-2.06-.94-.94-2.06-.94 2.06-2.06.94z\"/><path d=\"M17.41 7.96l-1.37-1.37c-.4-.4-.92-.59-1.43-.59-.52 0-1.04.2-1.43.59L10.3 9.45l-7.72 7.72c-.78.78-.78 2.05 0 2.83L4 21.41c.39.39.9.59 1.41.59.51 0 1.02-.2 1.41-.59l7.78-7.78 2.81-2.81c.8-.78.8-2.07 0-2.86zM5.41 20L4 18.59l7.72-7.72 1.47 1.35L5.41 20z\"/>\n",
              "  </svg>\n",
              "      </button>\n",
              "      \n",
              "  <style>\n",
              "    .colab-df-container {\n",
              "      display:flex;\n",
              "      flex-wrap:wrap;\n",
              "      gap: 12px;\n",
              "    }\n",
              "\n",
              "    .colab-df-convert {\n",
              "      background-color: #E8F0FE;\n",
              "      border: none;\n",
              "      border-radius: 50%;\n",
              "      cursor: pointer;\n",
              "      display: none;\n",
              "      fill: #1967D2;\n",
              "      height: 32px;\n",
              "      padding: 0 0 0 0;\n",
              "      width: 32px;\n",
              "    }\n",
              "\n",
              "    .colab-df-convert:hover {\n",
              "      background-color: #E2EBFA;\n",
              "      box-shadow: 0px 1px 2px rgba(60, 64, 67, 0.3), 0px 1px 3px 1px rgba(60, 64, 67, 0.15);\n",
              "      fill: #174EA6;\n",
              "    }\n",
              "\n",
              "    [theme=dark] .colab-df-convert {\n",
              "      background-color: #3B4455;\n",
              "      fill: #D2E3FC;\n",
              "    }\n",
              "\n",
              "    [theme=dark] .colab-df-convert:hover {\n",
              "      background-color: #434B5C;\n",
              "      box-shadow: 0px 1px 3px 1px rgba(0, 0, 0, 0.15);\n",
              "      filter: drop-shadow(0px 1px 2px rgba(0, 0, 0, 0.3));\n",
              "      fill: #FFFFFF;\n",
              "    }\n",
              "  </style>\n",
              "\n",
              "      <script>\n",
              "        const buttonEl =\n",
              "          document.querySelector('#df-a620ddbc-6247-4a5a-96c4-5c52e77564c7 button.colab-df-convert');\n",
              "        buttonEl.style.display =\n",
              "          google.colab.kernel.accessAllowed ? 'block' : 'none';\n",
              "\n",
              "        async function convertToInteractive(key) {\n",
              "          const element = document.querySelector('#df-a620ddbc-6247-4a5a-96c4-5c52e77564c7');\n",
              "          const dataTable =\n",
              "            await google.colab.kernel.invokeFunction('convertToInteractive',\n",
              "                                                     [key], {});\n",
              "          if (!dataTable) return;\n",
              "\n",
              "          const docLinkHtml = 'Like what you see? Visit the ' +\n",
              "            '<a target=\"_blank\" href=https://colab.research.google.com/notebooks/data_table.ipynb>data table notebook</a>'\n",
              "            + ' to learn more about interactive tables.';\n",
              "          element.innerHTML = '';\n",
              "          dataTable['output_type'] = 'display_data';\n",
              "          await google.colab.output.renderOutput(dataTable, element);\n",
              "          const docLink = document.createElement('div');\n",
              "          docLink.innerHTML = docLinkHtml;\n",
              "          element.appendChild(docLink);\n",
              "        }\n",
              "      </script>\n",
              "    </div>\n",
              "  </div>\n",
              "  "
            ]
          },
          "metadata": {},
          "execution_count": 58
        }
      ],
      "source": [
        "famous_books_df.head()"
      ]
    },
    {
      "cell_type": "code",
      "execution_count": 59,
      "metadata": {
        "colab": {
          "base_uri": "https://localhost:8080/"
        },
        "id": "6w6AqJnmQ9aW",
        "outputId": "fefa4caf-4cce-4c08-ec05-5538fd453d1e"
      },
      "outputs": [
        {
          "output_type": "stream",
          "name": "stdout",
          "text": [
            "Number of  users who have rated atleast 5 books are : 6099\n",
            "The shape of data fame with filtered number of interactions :  (118116, 3)\n"
          ]
        }
      ],
      "source": [
        "# Keeping books with selected users\n",
        "\n",
        "# Keeps Users who have rated more than five books\n",
        "books_count_df=famous_books_df.groupby(\"user_id\")['isbn'].count().to_frame('No-of-books-rated').reset_index()\n",
        "selected_users = list(books_count_df.loc[books_count_df['No-of-books-rated']>5,'user_id'].unique())\n",
        "print('Number of  users who have rated atleast 5 books are :',len(selected_users))\n",
        "\n",
        "#dataframe with filtered number of interactions\n",
        "filter_df=famous_books_df.loc[famous_books_df['user_id'].isin(selected_users)]\n",
        "print('The shape of data fame with filtered number of interactions : ',filter_df.shape)"
      ]
    },
    {
      "cell_type": "markdown",
      "metadata": {
        "id": "DeBbWP3uwF8n"
      },
      "source": [
        "#####*Train Test Split*"
      ]
    },
    {
      "cell_type": "code",
      "execution_count": 60,
      "metadata": {
        "colab": {
          "base_uri": "https://localhost:8080/"
        },
        "id": "tinGUOg_Ux93",
        "outputId": "cfbcc601-393b-4b08-91cf-55899aaa6381"
      },
      "outputs": [
        {
          "output_type": "stream",
          "name": "stdout",
          "text": [
            "# interactions on Train set: 94492\n",
            "# interactions on Test set: 23624\n"
          ]
        }
      ],
      "source": [
        "train_df, test_df = train_test_split(filter_df,\n",
        "                                   stratify=filter_df['user_id'], \n",
        "                                   test_size=0.20,\n",
        "                                   random_state=0)\n",
        "\n",
        "print('# interactions on Train set: %d' % len(train_df))\n",
        "print('# interactions on Test set: %d' % len(test_df))"
      ]
    },
    {
      "cell_type": "markdown",
      "metadata": {
        "id": "y6JjsGGDI198"
      },
      "source": [
        "#####*Creating Pivot Table*"
      ]
    },
    {
      "cell_type": "code",
      "execution_count": 61,
      "metadata": {
        "colab": {
          "base_uri": "https://localhost:8080/",
          "height": 331
        },
        "id": "_mFhGncqOlwI",
        "outputId": "c7acd79c-4c79-4976-e93d-84b0d9811669"
      },
      "outputs": [
        {
          "output_type": "execute_result",
          "data": {
            "text/plain": [
              "isbn     0002005018  0002251760  0002259001  0002259834  0002558122  \\\n",
              "user_id                                                               \n",
              "114             0.0         0.0         0.0         0.0         0.0   \n",
              "243             0.0         0.0         0.0         0.0         0.0   \n",
              "244             0.0         0.0         0.0         0.0         0.0   \n",
              "254             0.0         0.0         0.0         0.0         0.0   \n",
              "388             0.0         0.0         0.0         0.0         0.0   \n",
              "\n",
              "isbn     0006172768  0006374921  0006475973  0006480764  000648302X  ...  \\\n",
              "user_id                                                              ...   \n",
              "114             0.0         0.0         0.0         0.0         0.0  ...   \n",
              "243             0.0         0.0         0.0         0.0         0.0  ...   \n",
              "244             0.0         0.0         0.0         0.0         0.0  ...   \n",
              "254             0.0         0.0         0.0         0.0         0.0  ...   \n",
              "388             0.0         0.0         0.0         0.0         0.0  ...   \n",
              "\n",
              "isbn     9724113361  9724120503  9724127001  9726101794  9726106141  \\\n",
              "user_id                                                               \n",
              "114             0.0         0.0         0.0         0.0         0.0   \n",
              "243             0.0         0.0         0.0         0.0         0.0   \n",
              "244             0.0         0.0         0.0         0.0         0.0   \n",
              "254             0.0         0.0         0.0         0.0         0.0   \n",
              "388             0.0         0.0         0.0         0.0         0.0   \n",
              "\n",
              "isbn     9726116902  9727591965  9727722458  9770390107900  9771129085131  \n",
              "user_id                                                                    \n",
              "114             0.0         0.0         0.0            0.0            0.0  \n",
              "243             0.0         0.0         0.0            0.0            0.0  \n",
              "244             0.0         0.0         0.0            0.0            0.0  \n",
              "254             0.0         0.0         0.0            0.0            0.0  \n",
              "388             0.0         0.0         0.0            0.0            0.0  \n",
              "\n",
              "[5 rows x 11126 columns]"
            ],
            "text/html": [
              "\n",
              "  <div id=\"df-debdf752-fdc9-486e-b0a0-1207c3196c74\">\n",
              "    <div class=\"colab-df-container\">\n",
              "      <div>\n",
              "<style scoped>\n",
              "    .dataframe tbody tr th:only-of-type {\n",
              "        vertical-align: middle;\n",
              "    }\n",
              "\n",
              "    .dataframe tbody tr th {\n",
              "        vertical-align: top;\n",
              "    }\n",
              "\n",
              "    .dataframe thead th {\n",
              "        text-align: right;\n",
              "    }\n",
              "</style>\n",
              "<table border=\"1\" class=\"dataframe\">\n",
              "  <thead>\n",
              "    <tr style=\"text-align: right;\">\n",
              "      <th>isbn</th>\n",
              "      <th>0002005018</th>\n",
              "      <th>0002251760</th>\n",
              "      <th>0002259001</th>\n",
              "      <th>0002259834</th>\n",
              "      <th>0002558122</th>\n",
              "      <th>0006172768</th>\n",
              "      <th>0006374921</th>\n",
              "      <th>0006475973</th>\n",
              "      <th>0006480764</th>\n",
              "      <th>000648302X</th>\n",
              "      <th>...</th>\n",
              "      <th>9724113361</th>\n",
              "      <th>9724120503</th>\n",
              "      <th>9724127001</th>\n",
              "      <th>9726101794</th>\n",
              "      <th>9726106141</th>\n",
              "      <th>9726116902</th>\n",
              "      <th>9727591965</th>\n",
              "      <th>9727722458</th>\n",
              "      <th>9770390107900</th>\n",
              "      <th>9771129085131</th>\n",
              "    </tr>\n",
              "    <tr>\n",
              "      <th>user_id</th>\n",
              "      <th></th>\n",
              "      <th></th>\n",
              "      <th></th>\n",
              "      <th></th>\n",
              "      <th></th>\n",
              "      <th></th>\n",
              "      <th></th>\n",
              "      <th></th>\n",
              "      <th></th>\n",
              "      <th></th>\n",
              "      <th></th>\n",
              "      <th></th>\n",
              "      <th></th>\n",
              "      <th></th>\n",
              "      <th></th>\n",
              "      <th></th>\n",
              "      <th></th>\n",
              "      <th></th>\n",
              "      <th></th>\n",
              "      <th></th>\n",
              "      <th></th>\n",
              "    </tr>\n",
              "  </thead>\n",
              "  <tbody>\n",
              "    <tr>\n",
              "      <th>114</th>\n",
              "      <td>0.0</td>\n",
              "      <td>0.0</td>\n",
              "      <td>0.0</td>\n",
              "      <td>0.0</td>\n",
              "      <td>0.0</td>\n",
              "      <td>0.0</td>\n",
              "      <td>0.0</td>\n",
              "      <td>0.0</td>\n",
              "      <td>0.0</td>\n",
              "      <td>0.0</td>\n",
              "      <td>...</td>\n",
              "      <td>0.0</td>\n",
              "      <td>0.0</td>\n",
              "      <td>0.0</td>\n",
              "      <td>0.0</td>\n",
              "      <td>0.0</td>\n",
              "      <td>0.0</td>\n",
              "      <td>0.0</td>\n",
              "      <td>0.0</td>\n",
              "      <td>0.0</td>\n",
              "      <td>0.0</td>\n",
              "    </tr>\n",
              "    <tr>\n",
              "      <th>243</th>\n",
              "      <td>0.0</td>\n",
              "      <td>0.0</td>\n",
              "      <td>0.0</td>\n",
              "      <td>0.0</td>\n",
              "      <td>0.0</td>\n",
              "      <td>0.0</td>\n",
              "      <td>0.0</td>\n",
              "      <td>0.0</td>\n",
              "      <td>0.0</td>\n",
              "      <td>0.0</td>\n",
              "      <td>...</td>\n",
              "      <td>0.0</td>\n",
              "      <td>0.0</td>\n",
              "      <td>0.0</td>\n",
              "      <td>0.0</td>\n",
              "      <td>0.0</td>\n",
              "      <td>0.0</td>\n",
              "      <td>0.0</td>\n",
              "      <td>0.0</td>\n",
              "      <td>0.0</td>\n",
              "      <td>0.0</td>\n",
              "    </tr>\n",
              "    <tr>\n",
              "      <th>244</th>\n",
              "      <td>0.0</td>\n",
              "      <td>0.0</td>\n",
              "      <td>0.0</td>\n",
              "      <td>0.0</td>\n",
              "      <td>0.0</td>\n",
              "      <td>0.0</td>\n",
              "      <td>0.0</td>\n",
              "      <td>0.0</td>\n",
              "      <td>0.0</td>\n",
              "      <td>0.0</td>\n",
              "      <td>...</td>\n",
              "      <td>0.0</td>\n",
              "      <td>0.0</td>\n",
              "      <td>0.0</td>\n",
              "      <td>0.0</td>\n",
              "      <td>0.0</td>\n",
              "      <td>0.0</td>\n",
              "      <td>0.0</td>\n",
              "      <td>0.0</td>\n",
              "      <td>0.0</td>\n",
              "      <td>0.0</td>\n",
              "    </tr>\n",
              "    <tr>\n",
              "      <th>254</th>\n",
              "      <td>0.0</td>\n",
              "      <td>0.0</td>\n",
              "      <td>0.0</td>\n",
              "      <td>0.0</td>\n",
              "      <td>0.0</td>\n",
              "      <td>0.0</td>\n",
              "      <td>0.0</td>\n",
              "      <td>0.0</td>\n",
              "      <td>0.0</td>\n",
              "      <td>0.0</td>\n",
              "      <td>...</td>\n",
              "      <td>0.0</td>\n",
              "      <td>0.0</td>\n",
              "      <td>0.0</td>\n",
              "      <td>0.0</td>\n",
              "      <td>0.0</td>\n",
              "      <td>0.0</td>\n",
              "      <td>0.0</td>\n",
              "      <td>0.0</td>\n",
              "      <td>0.0</td>\n",
              "      <td>0.0</td>\n",
              "    </tr>\n",
              "    <tr>\n",
              "      <th>388</th>\n",
              "      <td>0.0</td>\n",
              "      <td>0.0</td>\n",
              "      <td>0.0</td>\n",
              "      <td>0.0</td>\n",
              "      <td>0.0</td>\n",
              "      <td>0.0</td>\n",
              "      <td>0.0</td>\n",
              "      <td>0.0</td>\n",
              "      <td>0.0</td>\n",
              "      <td>0.0</td>\n",
              "      <td>...</td>\n",
              "      <td>0.0</td>\n",
              "      <td>0.0</td>\n",
              "      <td>0.0</td>\n",
              "      <td>0.0</td>\n",
              "      <td>0.0</td>\n",
              "      <td>0.0</td>\n",
              "      <td>0.0</td>\n",
              "      <td>0.0</td>\n",
              "      <td>0.0</td>\n",
              "      <td>0.0</td>\n",
              "    </tr>\n",
              "  </tbody>\n",
              "</table>\n",
              "<p>5 rows × 11126 columns</p>\n",
              "</div>\n",
              "      <button class=\"colab-df-convert\" onclick=\"convertToInteractive('df-debdf752-fdc9-486e-b0a0-1207c3196c74')\"\n",
              "              title=\"Convert this dataframe to an interactive table.\"\n",
              "              style=\"display:none;\">\n",
              "        \n",
              "  <svg xmlns=\"http://www.w3.org/2000/svg\" height=\"24px\"viewBox=\"0 0 24 24\"\n",
              "       width=\"24px\">\n",
              "    <path d=\"M0 0h24v24H0V0z\" fill=\"none\"/>\n",
              "    <path d=\"M18.56 5.44l.94 2.06.94-2.06 2.06-.94-2.06-.94-.94-2.06-.94 2.06-2.06.94zm-11 1L8.5 8.5l.94-2.06 2.06-.94-2.06-.94L8.5 2.5l-.94 2.06-2.06.94zm10 10l.94 2.06.94-2.06 2.06-.94-2.06-.94-.94-2.06-.94 2.06-2.06.94z\"/><path d=\"M17.41 7.96l-1.37-1.37c-.4-.4-.92-.59-1.43-.59-.52 0-1.04.2-1.43.59L10.3 9.45l-7.72 7.72c-.78.78-.78 2.05 0 2.83L4 21.41c.39.39.9.59 1.41.59.51 0 1.02-.2 1.41-.59l7.78-7.78 2.81-2.81c.8-.78.8-2.07 0-2.86zM5.41 20L4 18.59l7.72-7.72 1.47 1.35L5.41 20z\"/>\n",
              "  </svg>\n",
              "      </button>\n",
              "      \n",
              "  <style>\n",
              "    .colab-df-container {\n",
              "      display:flex;\n",
              "      flex-wrap:wrap;\n",
              "      gap: 12px;\n",
              "    }\n",
              "\n",
              "    .colab-df-convert {\n",
              "      background-color: #E8F0FE;\n",
              "      border: none;\n",
              "      border-radius: 50%;\n",
              "      cursor: pointer;\n",
              "      display: none;\n",
              "      fill: #1967D2;\n",
              "      height: 32px;\n",
              "      padding: 0 0 0 0;\n",
              "      width: 32px;\n",
              "    }\n",
              "\n",
              "    .colab-df-convert:hover {\n",
              "      background-color: #E2EBFA;\n",
              "      box-shadow: 0px 1px 2px rgba(60, 64, 67, 0.3), 0px 1px 3px 1px rgba(60, 64, 67, 0.15);\n",
              "      fill: #174EA6;\n",
              "    }\n",
              "\n",
              "    [theme=dark] .colab-df-convert {\n",
              "      background-color: #3B4455;\n",
              "      fill: #D2E3FC;\n",
              "    }\n",
              "\n",
              "    [theme=dark] .colab-df-convert:hover {\n",
              "      background-color: #434B5C;\n",
              "      box-shadow: 0px 1px 3px 1px rgba(0, 0, 0, 0.15);\n",
              "      filter: drop-shadow(0px 1px 2px rgba(0, 0, 0, 0.3));\n",
              "      fill: #FFFFFF;\n",
              "    }\n",
              "  </style>\n",
              "\n",
              "      <script>\n",
              "        const buttonEl =\n",
              "          document.querySelector('#df-debdf752-fdc9-486e-b0a0-1207c3196c74 button.colab-df-convert');\n",
              "        buttonEl.style.display =\n",
              "          google.colab.kernel.accessAllowed ? 'block' : 'none';\n",
              "\n",
              "        async function convertToInteractive(key) {\n",
              "          const element = document.querySelector('#df-debdf752-fdc9-486e-b0a0-1207c3196c74');\n",
              "          const dataTable =\n",
              "            await google.colab.kernel.invokeFunction('convertToInteractive',\n",
              "                                                     [key], {});\n",
              "          if (!dataTable) return;\n",
              "\n",
              "          const docLinkHtml = 'Like what you see? Visit the ' +\n",
              "            '<a target=\"_blank\" href=https://colab.research.google.com/notebooks/data_table.ipynb>data table notebook</a>'\n",
              "            + ' to learn more about interactive tables.';\n",
              "          element.innerHTML = '';\n",
              "          dataTable['output_type'] = 'display_data';\n",
              "          await google.colab.output.renderOutput(dataTable, element);\n",
              "          const docLink = document.createElement('div');\n",
              "          docLink.innerHTML = docLinkHtml;\n",
              "          element.appendChild(docLink);\n",
              "        }\n",
              "      </script>\n",
              "    </div>\n",
              "  </div>\n",
              "  "
            ]
          },
          "metadata": {},
          "execution_count": 61
        }
      ],
      "source": [
        "#Creating a sparse pivot table with users in rows and ISBN number of books in columns\n",
        "users_books_pivot_matrix_df = train_df.pivot(index='user_id', \n",
        "                                                          columns='isbn', \n",
        "                                                          values='rating').fillna(0)\n",
        "\n",
        "users_books_pivot_matrix_df.head()"
      ]
    },
    {
      "cell_type": "code",
      "execution_count": 62,
      "metadata": {
        "colab": {
          "base_uri": "https://localhost:8080/"
        },
        "id": "eR_2pTMJOlwI",
        "outputId": "8e7e3752-a886-4e9f-b0b6-60819b40f939"
      },
      "outputs": [
        {
          "output_type": "execute_result",
          "data": {
            "text/plain": [
              "array([[0., 0., 0., ..., 0., 0., 0.],\n",
              "       [0., 0., 0., ..., 0., 0., 0.],\n",
              "       [0., 0., 0., ..., 0., 0., 0.],\n",
              "       ...,\n",
              "       [0., 0., 0., ..., 0., 0., 0.],\n",
              "       [0., 0., 0., ..., 0., 0., 0.],\n",
              "       [0., 0., 0., ..., 0., 0., 0.]])"
            ]
          },
          "metadata": {},
          "execution_count": 62
        }
      ],
      "source": [
        "#Creating a matrix with the values of users_books_pivot_matrix_df\n",
        "\n",
        "ratings_matrix = users_books_pivot_matrix_df.values\n",
        "ratings_matrix[:10]"
      ]
    },
    {
      "cell_type": "code",
      "execution_count": 63,
      "metadata": {
        "colab": {
          "base_uri": "https://localhost:8080/"
        },
        "id": "QwJZiJnfOlwJ",
        "outputId": "dc0b5d78-769f-45a9-c224-8326b106744d"
      },
      "outputs": [
        {
          "output_type": "execute_result",
          "data": {
            "text/plain": [
              "[114, 243, 244, 254, 388, 446, 503, 505, 507, 638]"
            ]
          },
          "metadata": {},
          "execution_count": 63
        }
      ],
      "source": [
        "#Storing the User-IDs in a list\n",
        "user_ids = list(users_books_pivot_matrix_df.index)\n",
        "user_ids[:10]"
      ]
    },
    {
      "cell_type": "markdown",
      "metadata": {
        "id": "EbBJfw25YX-I"
      },
      "source": [
        "#####*Singular Value Decomposition*"
      ]
    },
    {
      "cell_type": "code",
      "execution_count": 64,
      "metadata": {
        "id": "h1-UGbWGOlwJ"
      },
      "outputs": [],
      "source": [
        "# The number of factors to factor the user-item matrix.\n",
        "NUMBER_OF_FACTORS_MF = 15\n",
        "\n",
        "#Performs matrix factorization of the original user item matrix\n",
        "U, sigma, Vt = svds(ratings_matrix, k = NUMBER_OF_FACTORS_MF)"
      ]
    },
    {
      "cell_type": "code",
      "execution_count": 65,
      "metadata": {
        "id": "avC6cfXiOlwK"
      },
      "outputs": [],
      "source": [
        "#converting sigma to a diagonal matrix\n",
        "sigma = np.diag(sigma)"
      ]
    },
    {
      "cell_type": "code",
      "execution_count": 66,
      "metadata": {
        "colab": {
          "base_uri": "https://localhost:8080/"
        },
        "id": "Rge_ab2H6VGf",
        "outputId": "03d493bf-72f3-4a72-cecb-afced7f6b420"
      },
      "outputs": [
        {
          "output_type": "stream",
          "name": "stdout",
          "text": [
            "Shape of the ratings_matrix:  (6099, 11126) \n",
            "Shape of the matrix U:  (6099, 15) \n",
            "Shape of the matrix sigma:  (15, 15) \n",
            "Shape of the matrix Vt:  (15, 11126)\n"
          ]
        }
      ],
      "source": [
        "# Getting shapes of the factorized matrices\n",
        "print('Shape of the ratings_matrix: ',ratings_matrix.shape,\n",
        "    '\\nShape of the matrix U: ',U.shape,\n",
        "      '\\nShape of the matrix sigma: ',sigma.shape,\n",
        "      '\\nShape of the matrix Vt: ',Vt.shape)"
      ]
    },
    {
      "cell_type": "markdown",
      "metadata": {
        "id": "PWUv4X7rOlwK"
      },
      "source": [
        " After the factorization, we try to to reconstruct the original matrix by multiplying its factors. The resulting matrix is not sparse any more. It has generated rating predictions for books with which users have not yet interacted which we will use to recommend relevant books to the user."
      ]
    },
    {
      "cell_type": "code",
      "execution_count": 67,
      "metadata": {
        "colab": {
          "base_uri": "https://localhost:8080/"
        },
        "id": "xoBPJjP_XUow",
        "outputId": "2c88b076-e410-4f25-c728-168b8d2e24f5"
      },
      "outputs": [
        {
          "output_type": "execute_result",
          "data": {
            "text/plain": [
              "array([[ 1.91866993e-03,  1.26370058e-02,  2.23771174e-03, ...,\n",
              "        -1.89393722e-03,  1.01916508e-04, -3.10211607e-05],\n",
              "       [ 8.03988652e-03,  1.32555227e-02,  1.42959551e-02, ...,\n",
              "         4.31698703e-03,  1.87814020e-04, -4.43298567e-05],\n",
              "       [ 6.86327820e-03,  7.61810984e-03,  5.39829503e-03, ...,\n",
              "         1.47309608e-03,  8.44268521e-05, -8.49587200e-06],\n",
              "       ...,\n",
              "       [-1.66139396e-02, -1.23648689e-03,  1.55700690e-02, ...,\n",
              "        -2.07265760e-03,  3.97692566e-04, -1.16478171e-04],\n",
              "       [ 9.53558804e-03, -1.82682547e-02, -2.32658648e-05, ...,\n",
              "         4.78578376e-02, -3.67664434e-04,  2.69200824e-06],\n",
              "       [ 7.15603889e-03,  9.22147480e-03,  6.65359294e-03, ...,\n",
              "         9.79007118e-03,  8.49532717e-05, -8.83296106e-06]])"
            ]
          },
          "metadata": {},
          "execution_count": 67
        }
      ],
      "source": [
        "# Rating matrix reconstruction using the matrices obtained after factorizing\n",
        "predicted_ratings_matrix = np.dot(np.dot(U, sigma), Vt) \n",
        "predicted_ratings_matrix "
      ]
    },
    {
      "cell_type": "code",
      "execution_count": 68,
      "metadata": {
        "colab": {
          "base_uri": "https://localhost:8080/",
          "height": 331
        },
        "id": "C9wMPD_GXUoz",
        "outputId": "2b70c06a-a8f2-4212-c3c5-6482693f4a34",
        "scrolled": true
      },
      "outputs": [
        {
          "output_type": "execute_result",
          "data": {
            "text/plain": [
              "              114       243       244       254       388       446     \\\n",
              "isbn                                                                     \n",
              "0002005018  0.001919  0.008040  0.006863 -0.012585  0.002200 -0.000321   \n",
              "0002251760  0.012637  0.013256  0.007618  0.106678  0.001165  0.000973   \n",
              "0002259001  0.002238  0.014296  0.005398  0.003830  0.001634  0.000682   \n",
              "0002259834 -0.000227  0.000350  0.001538  0.003436  0.000152  0.000069   \n",
              "0002558122 -0.002212  0.000483  0.003740 -0.011088  0.001517 -0.000712   \n",
              "\n",
              "              503       505       507       638     ...    278221    278314  \\\n",
              "isbn                                                ...                       \n",
              "0002005018  0.008032  0.001046 -0.006969  0.007001  ...  0.002819  0.002715   \n",
              "0002251760  0.005788  0.011338  0.015999 -0.009317  ...  0.003028 -0.000451   \n",
              "0002259001  0.005927 -0.001278  0.006500 -0.003842  ...  0.005725 -0.000214   \n",
              "0002259834  0.000653 -0.000259  0.001629  0.001363  ...  0.000478  0.000002   \n",
              "0002558122  0.006058  0.001633 -0.011675  0.005387  ...  0.000301  0.002849   \n",
              "\n",
              "              278356    278390    278418    278535    278554    278582  \\\n",
              "isbn                                                                     \n",
              "0002005018 -0.002201  0.005729  0.005225  0.001481 -0.000828 -0.016614   \n",
              "0002251760  0.012342  0.005669  0.022407 -0.015751  0.004796 -0.001236   \n",
              "0002259001 -0.003803  0.003008  0.000782  0.000024  0.001433  0.015570   \n",
              "0002259834  0.000310 -0.000493  0.000121 -0.001329  0.000138  0.000388   \n",
              "0002558122 -0.001815  0.003130  0.005377  0.004079 -0.001628 -0.018443   \n",
              "\n",
              "              278633    278843  \n",
              "isbn                            \n",
              "0002005018  0.009536  0.007156  \n",
              "0002251760 -0.018268  0.009221  \n",
              "0002259001 -0.000023  0.006654  \n",
              "0002259834 -0.001189  0.000940  \n",
              "0002558122  0.007181  0.003867  \n",
              "\n",
              "[5 rows x 6099 columns]"
            ],
            "text/html": [
              "\n",
              "  <div id=\"df-c37cab30-5ee2-4b8c-b1e1-381e95e23e19\">\n",
              "    <div class=\"colab-df-container\">\n",
              "      <div>\n",
              "<style scoped>\n",
              "    .dataframe tbody tr th:only-of-type {\n",
              "        vertical-align: middle;\n",
              "    }\n",
              "\n",
              "    .dataframe tbody tr th {\n",
              "        vertical-align: top;\n",
              "    }\n",
              "\n",
              "    .dataframe thead th {\n",
              "        text-align: right;\n",
              "    }\n",
              "</style>\n",
              "<table border=\"1\" class=\"dataframe\">\n",
              "  <thead>\n",
              "    <tr style=\"text-align: right;\">\n",
              "      <th></th>\n",
              "      <th>114</th>\n",
              "      <th>243</th>\n",
              "      <th>244</th>\n",
              "      <th>254</th>\n",
              "      <th>388</th>\n",
              "      <th>446</th>\n",
              "      <th>503</th>\n",
              "      <th>505</th>\n",
              "      <th>507</th>\n",
              "      <th>638</th>\n",
              "      <th>...</th>\n",
              "      <th>278221</th>\n",
              "      <th>278314</th>\n",
              "      <th>278356</th>\n",
              "      <th>278390</th>\n",
              "      <th>278418</th>\n",
              "      <th>278535</th>\n",
              "      <th>278554</th>\n",
              "      <th>278582</th>\n",
              "      <th>278633</th>\n",
              "      <th>278843</th>\n",
              "    </tr>\n",
              "    <tr>\n",
              "      <th>isbn</th>\n",
              "      <th></th>\n",
              "      <th></th>\n",
              "      <th></th>\n",
              "      <th></th>\n",
              "      <th></th>\n",
              "      <th></th>\n",
              "      <th></th>\n",
              "      <th></th>\n",
              "      <th></th>\n",
              "      <th></th>\n",
              "      <th></th>\n",
              "      <th></th>\n",
              "      <th></th>\n",
              "      <th></th>\n",
              "      <th></th>\n",
              "      <th></th>\n",
              "      <th></th>\n",
              "      <th></th>\n",
              "      <th></th>\n",
              "      <th></th>\n",
              "      <th></th>\n",
              "    </tr>\n",
              "  </thead>\n",
              "  <tbody>\n",
              "    <tr>\n",
              "      <th>0002005018</th>\n",
              "      <td>0.001919</td>\n",
              "      <td>0.008040</td>\n",
              "      <td>0.006863</td>\n",
              "      <td>-0.012585</td>\n",
              "      <td>0.002200</td>\n",
              "      <td>-0.000321</td>\n",
              "      <td>0.008032</td>\n",
              "      <td>0.001046</td>\n",
              "      <td>-0.006969</td>\n",
              "      <td>0.007001</td>\n",
              "      <td>...</td>\n",
              "      <td>0.002819</td>\n",
              "      <td>0.002715</td>\n",
              "      <td>-0.002201</td>\n",
              "      <td>0.005729</td>\n",
              "      <td>0.005225</td>\n",
              "      <td>0.001481</td>\n",
              "      <td>-0.000828</td>\n",
              "      <td>-0.016614</td>\n",
              "      <td>0.009536</td>\n",
              "      <td>0.007156</td>\n",
              "    </tr>\n",
              "    <tr>\n",
              "      <th>0002251760</th>\n",
              "      <td>0.012637</td>\n",
              "      <td>0.013256</td>\n",
              "      <td>0.007618</td>\n",
              "      <td>0.106678</td>\n",
              "      <td>0.001165</td>\n",
              "      <td>0.000973</td>\n",
              "      <td>0.005788</td>\n",
              "      <td>0.011338</td>\n",
              "      <td>0.015999</td>\n",
              "      <td>-0.009317</td>\n",
              "      <td>...</td>\n",
              "      <td>0.003028</td>\n",
              "      <td>-0.000451</td>\n",
              "      <td>0.012342</td>\n",
              "      <td>0.005669</td>\n",
              "      <td>0.022407</td>\n",
              "      <td>-0.015751</td>\n",
              "      <td>0.004796</td>\n",
              "      <td>-0.001236</td>\n",
              "      <td>-0.018268</td>\n",
              "      <td>0.009221</td>\n",
              "    </tr>\n",
              "    <tr>\n",
              "      <th>0002259001</th>\n",
              "      <td>0.002238</td>\n",
              "      <td>0.014296</td>\n",
              "      <td>0.005398</td>\n",
              "      <td>0.003830</td>\n",
              "      <td>0.001634</td>\n",
              "      <td>0.000682</td>\n",
              "      <td>0.005927</td>\n",
              "      <td>-0.001278</td>\n",
              "      <td>0.006500</td>\n",
              "      <td>-0.003842</td>\n",
              "      <td>...</td>\n",
              "      <td>0.005725</td>\n",
              "      <td>-0.000214</td>\n",
              "      <td>-0.003803</td>\n",
              "      <td>0.003008</td>\n",
              "      <td>0.000782</td>\n",
              "      <td>0.000024</td>\n",
              "      <td>0.001433</td>\n",
              "      <td>0.015570</td>\n",
              "      <td>-0.000023</td>\n",
              "      <td>0.006654</td>\n",
              "    </tr>\n",
              "    <tr>\n",
              "      <th>0002259834</th>\n",
              "      <td>-0.000227</td>\n",
              "      <td>0.000350</td>\n",
              "      <td>0.001538</td>\n",
              "      <td>0.003436</td>\n",
              "      <td>0.000152</td>\n",
              "      <td>0.000069</td>\n",
              "      <td>0.000653</td>\n",
              "      <td>-0.000259</td>\n",
              "      <td>0.001629</td>\n",
              "      <td>0.001363</td>\n",
              "      <td>...</td>\n",
              "      <td>0.000478</td>\n",
              "      <td>0.000002</td>\n",
              "      <td>0.000310</td>\n",
              "      <td>-0.000493</td>\n",
              "      <td>0.000121</td>\n",
              "      <td>-0.001329</td>\n",
              "      <td>0.000138</td>\n",
              "      <td>0.000388</td>\n",
              "      <td>-0.001189</td>\n",
              "      <td>0.000940</td>\n",
              "    </tr>\n",
              "    <tr>\n",
              "      <th>0002558122</th>\n",
              "      <td>-0.002212</td>\n",
              "      <td>0.000483</td>\n",
              "      <td>0.003740</td>\n",
              "      <td>-0.011088</td>\n",
              "      <td>0.001517</td>\n",
              "      <td>-0.000712</td>\n",
              "      <td>0.006058</td>\n",
              "      <td>0.001633</td>\n",
              "      <td>-0.011675</td>\n",
              "      <td>0.005387</td>\n",
              "      <td>...</td>\n",
              "      <td>0.000301</td>\n",
              "      <td>0.002849</td>\n",
              "      <td>-0.001815</td>\n",
              "      <td>0.003130</td>\n",
              "      <td>0.005377</td>\n",
              "      <td>0.004079</td>\n",
              "      <td>-0.001628</td>\n",
              "      <td>-0.018443</td>\n",
              "      <td>0.007181</td>\n",
              "      <td>0.003867</td>\n",
              "    </tr>\n",
              "  </tbody>\n",
              "</table>\n",
              "<p>5 rows × 6099 columns</p>\n",
              "</div>\n",
              "      <button class=\"colab-df-convert\" onclick=\"convertToInteractive('df-c37cab30-5ee2-4b8c-b1e1-381e95e23e19')\"\n",
              "              title=\"Convert this dataframe to an interactive table.\"\n",
              "              style=\"display:none;\">\n",
              "        \n",
              "  <svg xmlns=\"http://www.w3.org/2000/svg\" height=\"24px\"viewBox=\"0 0 24 24\"\n",
              "       width=\"24px\">\n",
              "    <path d=\"M0 0h24v24H0V0z\" fill=\"none\"/>\n",
              "    <path d=\"M18.56 5.44l.94 2.06.94-2.06 2.06-.94-2.06-.94-.94-2.06-.94 2.06-2.06.94zm-11 1L8.5 8.5l.94-2.06 2.06-.94-2.06-.94L8.5 2.5l-.94 2.06-2.06.94zm10 10l.94 2.06.94-2.06 2.06-.94-2.06-.94-.94-2.06-.94 2.06-2.06.94z\"/><path d=\"M17.41 7.96l-1.37-1.37c-.4-.4-.92-.59-1.43-.59-.52 0-1.04.2-1.43.59L10.3 9.45l-7.72 7.72c-.78.78-.78 2.05 0 2.83L4 21.41c.39.39.9.59 1.41.59.51 0 1.02-.2 1.41-.59l7.78-7.78 2.81-2.81c.8-.78.8-2.07 0-2.86zM5.41 20L4 18.59l7.72-7.72 1.47 1.35L5.41 20z\"/>\n",
              "  </svg>\n",
              "      </button>\n",
              "      \n",
              "  <style>\n",
              "    .colab-df-container {\n",
              "      display:flex;\n",
              "      flex-wrap:wrap;\n",
              "      gap: 12px;\n",
              "    }\n",
              "\n",
              "    .colab-df-convert {\n",
              "      background-color: #E8F0FE;\n",
              "      border: none;\n",
              "      border-radius: 50%;\n",
              "      cursor: pointer;\n",
              "      display: none;\n",
              "      fill: #1967D2;\n",
              "      height: 32px;\n",
              "      padding: 0 0 0 0;\n",
              "      width: 32px;\n",
              "    }\n",
              "\n",
              "    .colab-df-convert:hover {\n",
              "      background-color: #E2EBFA;\n",
              "      box-shadow: 0px 1px 2px rgba(60, 64, 67, 0.3), 0px 1px 3px 1px rgba(60, 64, 67, 0.15);\n",
              "      fill: #174EA6;\n",
              "    }\n",
              "\n",
              "    [theme=dark] .colab-df-convert {\n",
              "      background-color: #3B4455;\n",
              "      fill: #D2E3FC;\n",
              "    }\n",
              "\n",
              "    [theme=dark] .colab-df-convert:hover {\n",
              "      background-color: #434B5C;\n",
              "      box-shadow: 0px 1px 3px 1px rgba(0, 0, 0, 0.15);\n",
              "      filter: drop-shadow(0px 1px 2px rgba(0, 0, 0, 0.3));\n",
              "      fill: #FFFFFF;\n",
              "    }\n",
              "  </style>\n",
              "\n",
              "      <script>\n",
              "        const buttonEl =\n",
              "          document.querySelector('#df-c37cab30-5ee2-4b8c-b1e1-381e95e23e19 button.colab-df-convert');\n",
              "        buttonEl.style.display =\n",
              "          google.colab.kernel.accessAllowed ? 'block' : 'none';\n",
              "\n",
              "        async function convertToInteractive(key) {\n",
              "          const element = document.querySelector('#df-c37cab30-5ee2-4b8c-b1e1-381e95e23e19');\n",
              "          const dataTable =\n",
              "            await google.colab.kernel.invokeFunction('convertToInteractive',\n",
              "                                                     [key], {});\n",
              "          if (!dataTable) return;\n",
              "\n",
              "          const docLinkHtml = 'Like what you see? Visit the ' +\n",
              "            '<a target=\"_blank\" href=https://colab.research.google.com/notebooks/data_table.ipynb>data table notebook</a>'\n",
              "            + ' to learn more about interactive tables.';\n",
              "          element.innerHTML = '';\n",
              "          dataTable['output_type'] = 'display_data';\n",
              "          await google.colab.output.renderOutput(dataTable, element);\n",
              "          const docLink = document.createElement('div');\n",
              "          docLink.innerHTML = docLinkHtml;\n",
              "          element.appendChild(docLink);\n",
              "        }\n",
              "      </script>\n",
              "    </div>\n",
              "  </div>\n",
              "  "
            ]
          },
          "metadata": {},
          "execution_count": 68
        }
      ],
      "source": [
        "# Converting the reconstructed matrix back to a Pandas dataframe\n",
        "predicted_ratings_df = pd.DataFrame(predicted_ratings_matrix , columns = users_books_pivot_matrix_df.columns, index=user_ids).transpose()\n",
        "predicted_ratings_df.head()"
      ]
    },
    {
      "cell_type": "markdown",
      "metadata": {
        "id": "X9gLBwOYJmFC"
      },
      "source": [
        "#### **Building the (User-Based) Recommendation Model**"
      ]
    },
    {
      "cell_type": "code",
      "execution_count": 69,
      "metadata": {
        "id": "CGaNTkGfLZwc"
      },
      "outputs": [],
      "source": [
        "# Code to create a class of collaborative Filtering based Recommender model\n",
        "class CFRecommender:\n",
        "    #Storing model name\n",
        "    MODEL_NAME = 'Collaborative Filtering'\n",
        "    \n",
        "    def __init__(self, cf_predictions_df, items_df=None):\n",
        "        #Creating attributes\n",
        "        self.cf_predictions_df = cf_predictions_df\n",
        "        self.items_df = items_df\n",
        "        \n",
        "    def get_model_name(self):\n",
        "        '''This will return the model name'''\n",
        "        return self.MODEL_NAME\n",
        "        \n",
        "    def recommend_items(self, user_id, items_to_ignore=[], topn=10, verbose=False):\n",
        "        # Get and sort the user's predictions\n",
        "        sorted_user_predictions = self.cf_predictions_df[user_id].sort_values(ascending=False).reset_index().rename(columns={user_id: 'rating'})\n",
        "\n",
        "        # Recommend the highest predicted rating content that the user hasn't seen yet.\n",
        "        recommendations_df = sorted_user_predictions[~sorted_user_predictions['isbn'].isin(items_to_ignore)].sort_values('rating', ascending = False).head(topn)\n",
        "\n",
        "        if verbose:\n",
        "            #runs only if verbose=True\n",
        "            if self.items_df is None:\n",
        "                raise Exception('\"items_df\" is required in verbose mode')\n",
        "            #Merging \n",
        "            recommendations_df = recommendations_df.merge(self.items_df, how = 'left', \n",
        "                                                          left_on = 'isbn', \n",
        "                                                          right_on = 'isbn')[[\"isbn\",'title',\t'author', 'publisher', 'image_url_m']]\n",
        "\n",
        "        return recommendations_df\n",
        "\n"
      ]
    },
    {
      "cell_type": "code",
      "execution_count": 70,
      "metadata": {
        "id": "AJxbkG5y9a4Z"
      },
      "outputs": [],
      "source": [
        "#Creating an object of the class   \n",
        "cf_recommender_model = CFRecommender(predicted_ratings_df, books_df)"
      ]
    },
    {
      "cell_type": "code",
      "execution_count": 71,
      "metadata": {
        "id": "-bkKPPyAlE1q"
      },
      "outputs": [],
      "source": [
        "# Defining a function to get interacted items\n",
        "def get_items_interacted(person_id, interactions_df):\n",
        "    '''\n",
        "    This function takes user id as input and returns interacted items\n",
        "    '''\n",
        "    interacted_items = interactions_df.loc[person_id]['isbn']\n",
        "    # Repetation is avoided by taking set\n",
        "    return set(interacted_items if type(interacted_items) == pd.Series else [interacted_items])"
      ]
    },
    {
      "cell_type": "code",
      "execution_count": 72,
      "metadata": {
        "id": "E1WK8yh2lcRM"
      },
      "outputs": [],
      "source": [
        "#Indexing by personId to speed up the searches during evaluation\n",
        "full_indexed_df =filter_df.set_index('user_id')\n",
        "train_indexed_df = train_df.set_index('user_id')\n",
        "test_indexed_df = test_df.set_index('user_id')"
      ]
    },
    {
      "cell_type": "code",
      "execution_count": 73,
      "metadata": {
        "colab": {
          "base_uri": "https://localhost:8080/",
          "height": 476
        },
        "id": "HWHvUZywlWJY",
        "outputId": "57538a94-6449-4f5b-e663-3c3b6ff4550a"
      },
      "outputs": [
        {
          "output_type": "execute_result",
          "data": {
            "text/plain": [
              "         isbn                                              title  \\\n",
              "0  0385504209                                  The Da Vinci Code   \n",
              "1  0446310786                              To Kill a Mockingbird   \n",
              "2  0312278586                         The Nanny Diaries: A Novel   \n",
              "3  0345370775                                      Jurassic Park   \n",
              "4  0060392452  Stupid White Men ...and Other Sorry Excuses fo...   \n",
              "5  1400031354  Tears of the Giraffe (No.1 Ladies Detective Ag...   \n",
              "6  0060934417                                 Bel Canto: A Novel   \n",
              "7  0609804138              The Sweet Potato Queens' Book of Love   \n",
              "8  0440236673                                       The Brethren   \n",
              "9  0446611212                                   Violets Are Blue   \n",
              "\n",
              "                   author                   publisher  \\\n",
              "0               Dan Brown                   Doubleday   \n",
              "1              Harper Lee  Little Brown &amp; Company   \n",
              "2         Emma McLaughlin          St. Martin's Press   \n",
              "3        Michael Crichton            Ballantine Books   \n",
              "4           Michael Moore                 Regan Books   \n",
              "5  Alexander McCall Smith                      Anchor   \n",
              "6            Ann Patchett                   Perennial   \n",
              "7      JILL CONNER BROWNE          Three Rivers Press   \n",
              "8            John Grisham                      Island   \n",
              "9         James Patterson               Warner Vision   \n",
              "\n",
              "                                         image_url_m  \n",
              "0  http://images.amazon.com/images/P/0385504209.0...  \n",
              "1  http://images.amazon.com/images/P/0446310786.0...  \n",
              "2  http://images.amazon.com/images/P/0312278586.0...  \n",
              "3  http://images.amazon.com/images/P/0345370775.0...  \n",
              "4  http://images.amazon.com/images/P/0060392452.0...  \n",
              "5  http://images.amazon.com/images/P/1400031354.0...  \n",
              "6  http://images.amazon.com/images/P/0060934417.0...  \n",
              "7  http://images.amazon.com/images/P/0609804138.0...  \n",
              "8  http://images.amazon.com/images/P/0440236673.0...  \n",
              "9  http://images.amazon.com/images/P/0446611212.0...  "
            ],
            "text/html": [
              "\n",
              "  <div id=\"df-fb119dbd-7d84-4cc7-aa4e-8f4d1e827edd\">\n",
              "    <div class=\"colab-df-container\">\n",
              "      <div>\n",
              "<style scoped>\n",
              "    .dataframe tbody tr th:only-of-type {\n",
              "        vertical-align: middle;\n",
              "    }\n",
              "\n",
              "    .dataframe tbody tr th {\n",
              "        vertical-align: top;\n",
              "    }\n",
              "\n",
              "    .dataframe thead th {\n",
              "        text-align: right;\n",
              "    }\n",
              "</style>\n",
              "<table border=\"1\" class=\"dataframe\">\n",
              "  <thead>\n",
              "    <tr style=\"text-align: right;\">\n",
              "      <th></th>\n",
              "      <th>isbn</th>\n",
              "      <th>title</th>\n",
              "      <th>author</th>\n",
              "      <th>publisher</th>\n",
              "      <th>image_url_m</th>\n",
              "    </tr>\n",
              "  </thead>\n",
              "  <tbody>\n",
              "    <tr>\n",
              "      <th>0</th>\n",
              "      <td>0385504209</td>\n",
              "      <td>The Da Vinci Code</td>\n",
              "      <td>Dan Brown</td>\n",
              "      <td>Doubleday</td>\n",
              "      <td>http://images.amazon.com/images/P/0385504209.0...</td>\n",
              "    </tr>\n",
              "    <tr>\n",
              "      <th>1</th>\n",
              "      <td>0446310786</td>\n",
              "      <td>To Kill a Mockingbird</td>\n",
              "      <td>Harper Lee</td>\n",
              "      <td>Little Brown &amp;amp; Company</td>\n",
              "      <td>http://images.amazon.com/images/P/0446310786.0...</td>\n",
              "    </tr>\n",
              "    <tr>\n",
              "      <th>2</th>\n",
              "      <td>0312278586</td>\n",
              "      <td>The Nanny Diaries: A Novel</td>\n",
              "      <td>Emma McLaughlin</td>\n",
              "      <td>St. Martin's Press</td>\n",
              "      <td>http://images.amazon.com/images/P/0312278586.0...</td>\n",
              "    </tr>\n",
              "    <tr>\n",
              "      <th>3</th>\n",
              "      <td>0345370775</td>\n",
              "      <td>Jurassic Park</td>\n",
              "      <td>Michael Crichton</td>\n",
              "      <td>Ballantine Books</td>\n",
              "      <td>http://images.amazon.com/images/P/0345370775.0...</td>\n",
              "    </tr>\n",
              "    <tr>\n",
              "      <th>4</th>\n",
              "      <td>0060392452</td>\n",
              "      <td>Stupid White Men ...and Other Sorry Excuses fo...</td>\n",
              "      <td>Michael Moore</td>\n",
              "      <td>Regan Books</td>\n",
              "      <td>http://images.amazon.com/images/P/0060392452.0...</td>\n",
              "    </tr>\n",
              "    <tr>\n",
              "      <th>5</th>\n",
              "      <td>1400031354</td>\n",
              "      <td>Tears of the Giraffe (No.1 Ladies Detective Ag...</td>\n",
              "      <td>Alexander McCall Smith</td>\n",
              "      <td>Anchor</td>\n",
              "      <td>http://images.amazon.com/images/P/1400031354.0...</td>\n",
              "    </tr>\n",
              "    <tr>\n",
              "      <th>6</th>\n",
              "      <td>0060934417</td>\n",
              "      <td>Bel Canto: A Novel</td>\n",
              "      <td>Ann Patchett</td>\n",
              "      <td>Perennial</td>\n",
              "      <td>http://images.amazon.com/images/P/0060934417.0...</td>\n",
              "    </tr>\n",
              "    <tr>\n",
              "      <th>7</th>\n",
              "      <td>0609804138</td>\n",
              "      <td>The Sweet Potato Queens' Book of Love</td>\n",
              "      <td>JILL CONNER BROWNE</td>\n",
              "      <td>Three Rivers Press</td>\n",
              "      <td>http://images.amazon.com/images/P/0609804138.0...</td>\n",
              "    </tr>\n",
              "    <tr>\n",
              "      <th>8</th>\n",
              "      <td>0440236673</td>\n",
              "      <td>The Brethren</td>\n",
              "      <td>John Grisham</td>\n",
              "      <td>Island</td>\n",
              "      <td>http://images.amazon.com/images/P/0440236673.0...</td>\n",
              "    </tr>\n",
              "    <tr>\n",
              "      <th>9</th>\n",
              "      <td>0446611212</td>\n",
              "      <td>Violets Are Blue</td>\n",
              "      <td>James Patterson</td>\n",
              "      <td>Warner Vision</td>\n",
              "      <td>http://images.amazon.com/images/P/0446611212.0...</td>\n",
              "    </tr>\n",
              "  </tbody>\n",
              "</table>\n",
              "</div>\n",
              "      <button class=\"colab-df-convert\" onclick=\"convertToInteractive('df-fb119dbd-7d84-4cc7-aa4e-8f4d1e827edd')\"\n",
              "              title=\"Convert this dataframe to an interactive table.\"\n",
              "              style=\"display:none;\">\n",
              "        \n",
              "  <svg xmlns=\"http://www.w3.org/2000/svg\" height=\"24px\"viewBox=\"0 0 24 24\"\n",
              "       width=\"24px\">\n",
              "    <path d=\"M0 0h24v24H0V0z\" fill=\"none\"/>\n",
              "    <path d=\"M18.56 5.44l.94 2.06.94-2.06 2.06-.94-2.06-.94-.94-2.06-.94 2.06-2.06.94zm-11 1L8.5 8.5l.94-2.06 2.06-.94-2.06-.94L8.5 2.5l-.94 2.06-2.06.94zm10 10l.94 2.06.94-2.06 2.06-.94-2.06-.94-.94-2.06-.94 2.06-2.06.94z\"/><path d=\"M17.41 7.96l-1.37-1.37c-.4-.4-.92-.59-1.43-.59-.52 0-1.04.2-1.43.59L10.3 9.45l-7.72 7.72c-.78.78-.78 2.05 0 2.83L4 21.41c.39.39.9.59 1.41.59.51 0 1.02-.2 1.41-.59l7.78-7.78 2.81-2.81c.8-.78.8-2.07 0-2.86zM5.41 20L4 18.59l7.72-7.72 1.47 1.35L5.41 20z\"/>\n",
              "  </svg>\n",
              "      </button>\n",
              "      \n",
              "  <style>\n",
              "    .colab-df-container {\n",
              "      display:flex;\n",
              "      flex-wrap:wrap;\n",
              "      gap: 12px;\n",
              "    }\n",
              "\n",
              "    .colab-df-convert {\n",
              "      background-color: #E8F0FE;\n",
              "      border: none;\n",
              "      border-radius: 50%;\n",
              "      cursor: pointer;\n",
              "      display: none;\n",
              "      fill: #1967D2;\n",
              "      height: 32px;\n",
              "      padding: 0 0 0 0;\n",
              "      width: 32px;\n",
              "    }\n",
              "\n",
              "    .colab-df-convert:hover {\n",
              "      background-color: #E2EBFA;\n",
              "      box-shadow: 0px 1px 2px rgba(60, 64, 67, 0.3), 0px 1px 3px 1px rgba(60, 64, 67, 0.15);\n",
              "      fill: #174EA6;\n",
              "    }\n",
              "\n",
              "    [theme=dark] .colab-df-convert {\n",
              "      background-color: #3B4455;\n",
              "      fill: #D2E3FC;\n",
              "    }\n",
              "\n",
              "    [theme=dark] .colab-df-convert:hover {\n",
              "      background-color: #434B5C;\n",
              "      box-shadow: 0px 1px 3px 1px rgba(0, 0, 0, 0.15);\n",
              "      filter: drop-shadow(0px 1px 2px rgba(0, 0, 0, 0.3));\n",
              "      fill: #FFFFFF;\n",
              "    }\n",
              "  </style>\n",
              "\n",
              "      <script>\n",
              "        const buttonEl =\n",
              "          document.querySelector('#df-fb119dbd-7d84-4cc7-aa4e-8f4d1e827edd button.colab-df-convert');\n",
              "        buttonEl.style.display =\n",
              "          google.colab.kernel.accessAllowed ? 'block' : 'none';\n",
              "\n",
              "        async function convertToInteractive(key) {\n",
              "          const element = document.querySelector('#df-fb119dbd-7d84-4cc7-aa4e-8f4d1e827edd');\n",
              "          const dataTable =\n",
              "            await google.colab.kernel.invokeFunction('convertToInteractive',\n",
              "                                                     [key], {});\n",
              "          if (!dataTable) return;\n",
              "\n",
              "          const docLinkHtml = 'Like what you see? Visit the ' +\n",
              "            '<a target=\"_blank\" href=https://colab.research.google.com/notebooks/data_table.ipynb>data table notebook</a>'\n",
              "            + ' to learn more about interactive tables.';\n",
              "          element.innerHTML = '';\n",
              "          dataTable['output_type'] = 'display_data';\n",
              "          await google.colab.output.renderOutput(dataTable, element);\n",
              "          const docLink = document.createElement('div');\n",
              "          docLink.innerHTML = docLinkHtml;\n",
              "          element.appendChild(docLink);\n",
              "        }\n",
              "      </script>\n",
              "    </div>\n",
              "  </div>\n",
              "  "
            ]
          },
          "metadata": {},
          "execution_count": 73
        }
      ],
      "source": [
        "#Recommendation for a single user\n",
        "cf_recommender_model.recommend_items(user_ids[0], items_to_ignore= get_items_interacted(user_ids[0], train_indexed_df),verbose=True)"
      ]
    },
    {
      "cell_type": "markdown",
      "metadata": {
        "id": "tKFRgbLkOlwL"
      },
      "source": [
        "####**Model Evaluation**"
      ]
    },
    {
      "cell_type": "markdown",
      "metadata": {
        "id": "_se3coERAzQA"
      },
      "source": [
        "In Recommender Systems, there are a set metrics commonly used for evaluation. We choose to work with Top-N accuracy metrics, which evaluates the accuracy of the top recommendations provided to a user, comparing to the items the user has actually interacted in test set.\n"
      ]
    },
    {
      "cell_type": "code",
      "execution_count": 74,
      "metadata": {
        "id": "xqbiBuACqsxX"
      },
      "outputs": [],
      "source": [
        "# Function for getting the set of books which a user has not interacted with\n",
        "def get_not_interacted_items_sample(user_id, sample_size, seed=42):\n",
        "    #Storing interacted items\n",
        "    interacted_items = get_items_interacted(user_id, full_indexed_df)\n",
        "    #Getting set of all items\n",
        "    all_items=set(full_indexed_df[\"isbn\"])\n",
        "    #Obtaining non interacted items\n",
        "    non_interacted_items = all_items - interacted_items\n",
        "\n",
        "    random.seed(seed)\n",
        "    #Selecting random sample of given sample_size\n",
        "    non_interacted_items_sample = random.sample(non_interacted_items, sample_size)\n",
        "    return set(non_interacted_items_sample)"
      ]
    },
    {
      "cell_type": "markdown",
      "metadata": {
        "id": "db-GSwVoFZXx"
      },
      "source": [
        "##### **1. Which Evaluation metrics did you consider for a positive business impact and why?**"
      ]
    },
    {
      "cell_type": "markdown",
      "metadata": {
        "id": "Dyr41y81OlwM"
      },
      "source": [
        "The Top-N accuracy metric choosen was **Recall@N** which evaluates whether the interacted item is among the top N items (hit) in the ranked list of 101 recommendations for a user. It is fraction of relevant items retrieved out of all relevant items.\n",
        "\n",
        "The precision becomes important if the query is done by a corporate user trying to identify user behavior (such as where to put his advertisement money)  whereas a user that is exploring options will prefer less precision and more recall to explore possibilities."
      ]
    },
    {
      "cell_type": "code",
      "execution_count": 75,
      "metadata": {
        "id": "GhzwhMJNrU6S"
      },
      "outputs": [],
      "source": [
        "#Top-N accuracy metrics\n",
        "EVAL_RANDOM_SAMPLE_NON_INTERACTED_ITEMS = 100\n",
        "\n",
        "class ModelEvaluator:\n",
        "\n",
        "    # Function to verify whether a particular item_id was present in the set of top N recommended items\n",
        "    def _verify_hit_top_n(self, item_id, recommended_items, topn):        \n",
        "            try:\n",
        "                #Stores index of item id if it is present in the recommended_items\n",
        "                index = next(i for i, c in enumerate(recommended_items) if c == item_id)\n",
        "            except:\n",
        "                #If item id is not found in the recommended list\n",
        "                index = -1\n",
        "            #checking whether index is present in the topN items or not\n",
        "            hit = int(index in range(0, topn))\n",
        "            return hit, index\n",
        "    \n",
        "    # Function to evaluate the performance of model for each user\n",
        "    def evaluate_model_for_user(self, model, user_id):\n",
        "        \n",
        "        # Getting the items in test set\n",
        "        interacted_values_testset = test_indexed_df.loc[user_id]\n",
        "        \n",
        "        #Obtaining unique interacted items by the user\n",
        "        if type(interacted_values_testset['isbn']) == pd.Series:\n",
        "            person_interacted_items_testset = set(interacted_values_testset['isbn'])\n",
        "        else:\n",
        "            person_interacted_items_testset = set([(interacted_values_testset['isbn'])])\n",
        "            \n",
        "        interacted_items_count_testset = len(person_interacted_items_testset) \n",
        "\n",
        "        # Getting a ranked recommendation list from the model for a given user\n",
        "        person_recs_df = model.recommend_items(user_id, items_to_ignore=get_items_interacted(user_id, train_indexed_df),topn=10000000000)\n",
        "\n",
        "        hits_at_5_count = 0\n",
        "        hits_at_10_count = 0\n",
        "        \n",
        "        # For each item the user has interacted in test set\n",
        "        for item_id in person_interacted_items_testset:\n",
        "            \n",
        "            # Getting a random sample of 100 items the user has not interacted with\n",
        "            non_interacted_items_sample = get_not_interacted_items_sample(user_id, sample_size=100, seed=42)\n",
        "\n",
        "            # Combining the current interacted item with the 100 random items\n",
        "            items_to_filter_recs = non_interacted_items_sample.union(set([item_id]))\n",
        "\n",
        "            # Filtering only recommendations that are either the interacted item or from a random sample of 100 non-interacted items\n",
        "            valid_recs_df = person_recs_df[person_recs_df['isbn'].isin(items_to_filter_recs)]                    \n",
        "            valid_recs = valid_recs_df['isbn'].values\n",
        "            \n",
        "            # Verifying if the current interacted item is among the Top-N recommended items\n",
        "            hit_at_5, index_at_5 = self._verify_hit_top_n(item_id, valid_recs, 5)\n",
        "            #Counting hit at 5\n",
        "            hits_at_5_count += hit_at_5\n",
        "            hit_at_10, index_at_10 = self._verify_hit_top_n(item_id, valid_recs, 10)\n",
        "            #Counting hit at 10\n",
        "            hits_at_10_count += hit_at_10\n",
        "\n",
        "        # Recall is the rate of the interacted items that are ranked among the Top-N recommended items\n",
        "        recall_at_5 = hits_at_5_count / float(interacted_items_count_testset)\n",
        "        recall_at_10 = hits_at_10_count / float(interacted_items_count_testset)\n",
        "        \n",
        "        #Creating a dictionary\n",
        "        person_metrics = {'hits@5_count':hits_at_5_count, \n",
        "                          'hits@10_count':hits_at_10_count, \n",
        "                          'interacted_count': interacted_items_count_testset,\n",
        "                          'recall@5': recall_at_5,\n",
        "                          'recall@10': recall_at_10}\n",
        "        return person_metrics\n",
        "\n",
        "    \n",
        "    # Function to evaluate the performance of model at overall level\n",
        "    def evaluate_model(self, model):\n",
        "        \n",
        "        people_metrics = []\n",
        "        \n",
        "        #Calculating metrics for all users in the test set\n",
        "        for idx, user_id in enumerate(list(test_indexed_df.index.unique().values)):    \n",
        "            #Returns dictionary containing person_metrics for each user\n",
        "            person_metrics = self.evaluate_model_for_user(model, user_id)  \n",
        "            #Adds user_id to the dictionary\n",
        "            person_metrics['_user_id'] = user_id\n",
        "            #Appends each dictionary to the list\n",
        "            people_metrics.append(person_metrics)\n",
        "            \n",
        "        print('%d users processed' % idx)\n",
        "        #Creates dataframe containing value of metrics for all the users using the list of dictionaries\n",
        "        detailed_results_df = pd.DataFrame(people_metrics).sort_values('interacted_count', ascending=False)\n",
        "        \n",
        "        #Calculating global recall@5 and global recall@10\n",
        "        global_recall_at_5 = detailed_results_df['hits@5_count'].sum() / float(detailed_results_df['interacted_count'].sum())\n",
        "        global_recall_at_10 = detailed_results_df['hits@10_count'].sum() / float(detailed_results_df['interacted_count'].sum())\n",
        "        \n",
        "        #Creates dictionary containing global metrics\n",
        "        global_metrics = {'modelName': model.get_model_name(),\n",
        "                          'recall@5': global_recall_at_5,\n",
        "                          'recall@10': global_recall_at_10}    \n",
        "        return global_metrics, detailed_results_df\n",
        "    \n",
        "model_evaluator = ModelEvaluator()"
      ]
    },
    {
      "cell_type": "markdown",
      "metadata": {
        "id": "7AN1z2sKpx6M"
      },
      "source": [
        "##### **2. Explain the ML Model used and it's performance using Evaluation metric Score Chart.**"
      ]
    },
    {
      "cell_type": "code",
      "execution_count": 77,
      "metadata": {
        "colab": {
          "base_uri": "https://localhost:8080/",
          "height": 454
        },
        "id": "GZTQjpEGOlwN",
        "outputId": "28856265-849a-4ba3-e1a7-19ead2555ec0",
        "scrolled": true
      },
      "outputs": [
        {
          "output_type": "stream",
          "name": "stdout",
          "text": [
            "Evaluating Collaborative Filtering (SVD Matrix Factorization) model...\n",
            "6098 users processed\n",
            "\n",
            "Global metrics:\n",
            "{'modelName': 'Collaborative Filtering', 'recall@5': 0.3031239417541483, 'recall@10': 0.41809177108025736}\n"
          ]
        },
        {
          "output_type": "execute_result",
          "data": {
            "text/plain": [
              "     hits@5_count  hits@10_count  interacted_count  recall@5  recall@10  \\\n",
              "10             41             79               574  0.071429   0.137631   \n",
              "154            53             80               139  0.381295   0.575540   \n",
              "41             36             57                93  0.387097   0.612903   \n",
              "8              29             40                88  0.329545   0.454545   \n",
              "271            12             28                73  0.164384   0.383562   \n",
              "418            50             60                72  0.694444   0.833333   \n",
              "27             30             32                61  0.491803   0.524590   \n",
              "423            42             44                54  0.777778   0.814815   \n",
              "292             8             22                54  0.148148   0.407407   \n",
              "340             7             12                53  0.132075   0.226415   \n",
              "\n",
              "     _user_id  \n",
              "10      11676  \n",
              "154     98391  \n",
              "41     153662  \n",
              "8       16795  \n",
              "271     95359  \n",
              "418    114368  \n",
              "27     104636  \n",
              "423    123883  \n",
              "292    158295  \n",
              "340     35859  "
            ],
            "text/html": [
              "\n",
              "  <div id=\"df-54a0df9e-6286-47d6-bcc7-1e2758e925ab\">\n",
              "    <div class=\"colab-df-container\">\n",
              "      <div>\n",
              "<style scoped>\n",
              "    .dataframe tbody tr th:only-of-type {\n",
              "        vertical-align: middle;\n",
              "    }\n",
              "\n",
              "    .dataframe tbody tr th {\n",
              "        vertical-align: top;\n",
              "    }\n",
              "\n",
              "    .dataframe thead th {\n",
              "        text-align: right;\n",
              "    }\n",
              "</style>\n",
              "<table border=\"1\" class=\"dataframe\">\n",
              "  <thead>\n",
              "    <tr style=\"text-align: right;\">\n",
              "      <th></th>\n",
              "      <th>hits@5_count</th>\n",
              "      <th>hits@10_count</th>\n",
              "      <th>interacted_count</th>\n",
              "      <th>recall@5</th>\n",
              "      <th>recall@10</th>\n",
              "      <th>_user_id</th>\n",
              "    </tr>\n",
              "  </thead>\n",
              "  <tbody>\n",
              "    <tr>\n",
              "      <th>10</th>\n",
              "      <td>41</td>\n",
              "      <td>79</td>\n",
              "      <td>574</td>\n",
              "      <td>0.071429</td>\n",
              "      <td>0.137631</td>\n",
              "      <td>11676</td>\n",
              "    </tr>\n",
              "    <tr>\n",
              "      <th>154</th>\n",
              "      <td>53</td>\n",
              "      <td>80</td>\n",
              "      <td>139</td>\n",
              "      <td>0.381295</td>\n",
              "      <td>0.575540</td>\n",
              "      <td>98391</td>\n",
              "    </tr>\n",
              "    <tr>\n",
              "      <th>41</th>\n",
              "      <td>36</td>\n",
              "      <td>57</td>\n",
              "      <td>93</td>\n",
              "      <td>0.387097</td>\n",
              "      <td>0.612903</td>\n",
              "      <td>153662</td>\n",
              "    </tr>\n",
              "    <tr>\n",
              "      <th>8</th>\n",
              "      <td>29</td>\n",
              "      <td>40</td>\n",
              "      <td>88</td>\n",
              "      <td>0.329545</td>\n",
              "      <td>0.454545</td>\n",
              "      <td>16795</td>\n",
              "    </tr>\n",
              "    <tr>\n",
              "      <th>271</th>\n",
              "      <td>12</td>\n",
              "      <td>28</td>\n",
              "      <td>73</td>\n",
              "      <td>0.164384</td>\n",
              "      <td>0.383562</td>\n",
              "      <td>95359</td>\n",
              "    </tr>\n",
              "    <tr>\n",
              "      <th>418</th>\n",
              "      <td>50</td>\n",
              "      <td>60</td>\n",
              "      <td>72</td>\n",
              "      <td>0.694444</td>\n",
              "      <td>0.833333</td>\n",
              "      <td>114368</td>\n",
              "    </tr>\n",
              "    <tr>\n",
              "      <th>27</th>\n",
              "      <td>30</td>\n",
              "      <td>32</td>\n",
              "      <td>61</td>\n",
              "      <td>0.491803</td>\n",
              "      <td>0.524590</td>\n",
              "      <td>104636</td>\n",
              "    </tr>\n",
              "    <tr>\n",
              "      <th>423</th>\n",
              "      <td>42</td>\n",
              "      <td>44</td>\n",
              "      <td>54</td>\n",
              "      <td>0.777778</td>\n",
              "      <td>0.814815</td>\n",
              "      <td>123883</td>\n",
              "    </tr>\n",
              "    <tr>\n",
              "      <th>292</th>\n",
              "      <td>8</td>\n",
              "      <td>22</td>\n",
              "      <td>54</td>\n",
              "      <td>0.148148</td>\n",
              "      <td>0.407407</td>\n",
              "      <td>158295</td>\n",
              "    </tr>\n",
              "    <tr>\n",
              "      <th>340</th>\n",
              "      <td>7</td>\n",
              "      <td>12</td>\n",
              "      <td>53</td>\n",
              "      <td>0.132075</td>\n",
              "      <td>0.226415</td>\n",
              "      <td>35859</td>\n",
              "    </tr>\n",
              "  </tbody>\n",
              "</table>\n",
              "</div>\n",
              "      <button class=\"colab-df-convert\" onclick=\"convertToInteractive('df-54a0df9e-6286-47d6-bcc7-1e2758e925ab')\"\n",
              "              title=\"Convert this dataframe to an interactive table.\"\n",
              "              style=\"display:none;\">\n",
              "        \n",
              "  <svg xmlns=\"http://www.w3.org/2000/svg\" height=\"24px\"viewBox=\"0 0 24 24\"\n",
              "       width=\"24px\">\n",
              "    <path d=\"M0 0h24v24H0V0z\" fill=\"none\"/>\n",
              "    <path d=\"M18.56 5.44l.94 2.06.94-2.06 2.06-.94-2.06-.94-.94-2.06-.94 2.06-2.06.94zm-11 1L8.5 8.5l.94-2.06 2.06-.94-2.06-.94L8.5 2.5l-.94 2.06-2.06.94zm10 10l.94 2.06.94-2.06 2.06-.94-2.06-.94-.94-2.06-.94 2.06-2.06.94z\"/><path d=\"M17.41 7.96l-1.37-1.37c-.4-.4-.92-.59-1.43-.59-.52 0-1.04.2-1.43.59L10.3 9.45l-7.72 7.72c-.78.78-.78 2.05 0 2.83L4 21.41c.39.39.9.59 1.41.59.51 0 1.02-.2 1.41-.59l7.78-7.78 2.81-2.81c.8-.78.8-2.07 0-2.86zM5.41 20L4 18.59l7.72-7.72 1.47 1.35L5.41 20z\"/>\n",
              "  </svg>\n",
              "      </button>\n",
              "      \n",
              "  <style>\n",
              "    .colab-df-container {\n",
              "      display:flex;\n",
              "      flex-wrap:wrap;\n",
              "      gap: 12px;\n",
              "    }\n",
              "\n",
              "    .colab-df-convert {\n",
              "      background-color: #E8F0FE;\n",
              "      border: none;\n",
              "      border-radius: 50%;\n",
              "      cursor: pointer;\n",
              "      display: none;\n",
              "      fill: #1967D2;\n",
              "      height: 32px;\n",
              "      padding: 0 0 0 0;\n",
              "      width: 32px;\n",
              "    }\n",
              "\n",
              "    .colab-df-convert:hover {\n",
              "      background-color: #E2EBFA;\n",
              "      box-shadow: 0px 1px 2px rgba(60, 64, 67, 0.3), 0px 1px 3px 1px rgba(60, 64, 67, 0.15);\n",
              "      fill: #174EA6;\n",
              "    }\n",
              "\n",
              "    [theme=dark] .colab-df-convert {\n",
              "      background-color: #3B4455;\n",
              "      fill: #D2E3FC;\n",
              "    }\n",
              "\n",
              "    [theme=dark] .colab-df-convert:hover {\n",
              "      background-color: #434B5C;\n",
              "      box-shadow: 0px 1px 3px 1px rgba(0, 0, 0, 0.15);\n",
              "      filter: drop-shadow(0px 1px 2px rgba(0, 0, 0, 0.3));\n",
              "      fill: #FFFFFF;\n",
              "    }\n",
              "  </style>\n",
              "\n",
              "      <script>\n",
              "        const buttonEl =\n",
              "          document.querySelector('#df-54a0df9e-6286-47d6-bcc7-1e2758e925ab button.colab-df-convert');\n",
              "        buttonEl.style.display =\n",
              "          google.colab.kernel.accessAllowed ? 'block' : 'none';\n",
              "\n",
              "        async function convertToInteractive(key) {\n",
              "          const element = document.querySelector('#df-54a0df9e-6286-47d6-bcc7-1e2758e925ab');\n",
              "          const dataTable =\n",
              "            await google.colab.kernel.invokeFunction('convertToInteractive',\n",
              "                                                     [key], {});\n",
              "          if (!dataTable) return;\n",
              "\n",
              "          const docLinkHtml = 'Like what you see? Visit the ' +\n",
              "            '<a target=\"_blank\" href=https://colab.research.google.com/notebooks/data_table.ipynb>data table notebook</a>'\n",
              "            + ' to learn more about interactive tables.';\n",
              "          element.innerHTML = '';\n",
              "          dataTable['output_type'] = 'display_data';\n",
              "          await google.colab.output.renderOutput(dataTable, element);\n",
              "          const docLink = document.createElement('div');\n",
              "          docLink.innerHTML = docLinkHtml;\n",
              "          element.appendChild(docLink);\n",
              "        }\n",
              "      </script>\n",
              "    </div>\n",
              "  </div>\n",
              "  "
            ]
          },
          "metadata": {},
          "execution_count": 77
        }
      ],
      "source": [
        "# Visualizing evaluation Metric Score chart\n",
        "print('Evaluating Collaborative Filtering (SVD Matrix Factorization) model...')\n",
        "cf_global_metrics, cf_detailed_results_df = model_evaluator.evaluate_model(cf_recommender_model)\n",
        "\n",
        "print('\\nGlobal metrics:\\n%s' % cf_global_metrics)\n",
        "cf_detailed_results_df.head(10)"
      ]
    },
    {
      "cell_type": "markdown",
      "metadata": {
        "_cell_guid": "8059422d-f93d-4879-a909-d22c8d746d60",
        "_uuid": "fe9beef019f59a65799ab58a1229874746c60765",
        "id": "lN56NnKUOlwN"
      },
      "source": [
        "Evaluating the Collaborative Filtering model (SVD matrix factorization), we observe that we got **Recall@5 (30%)** and **Recall@10 (41%)** "
      ]
    },
    {
      "cell_type": "markdown",
      "metadata": {
        "id": "bmKjuQ-FpsJ3"
      },
      "source": [
        "##### **3. Explain each evaluation metric's indication towards business and the business impact of the ML model used.**"
      ]
    },
    {
      "cell_type": "markdown",
      "metadata": {
        "id": "BDKtOrBQpsJ3"
      },
      "source": [
        "For the trained model Recall@5 (30%) and Recall@10 (41%) are not very high. High Recall model also recommends some books from those irrelevant books that the user may not like. Recommendation systems assist users with personalized suggestions based on past preferences for products, or items including documents, books and movies. This helps in improving customer conversion rate and also in finding potential customers by personalized advertisements.\n",
        "\n",
        "The finest recommender systems come from organizations with large volumes of data, such as Google, Amazon or Netflix. The more data the system has, the better the results will be.\n",
        "\n"
      ]
    },
    {
      "cell_type": "markdown",
      "metadata": {
        "id": "gCX9965dhzqZ"
      },
      "source": [
        "# **Conclusion**"
      ]
    },
    {
      "cell_type": "markdown",
      "metadata": {
        "id": "Fjb1IsQkh3yE"
      },
      "source": [
        "* Books dataset has information of books in 271360 rows and 8 columns. 1 author, 2 publishers and 3 image-url_L are missing.\n",
        "\n",
        "* Ratings dataset contains the book rating information in 1149780 rows and 3 columns. The dataset has no missing or duplicate value.\n",
        "* Users dataset contains the users info. in 278858 rows and 3 columns. The age column has 110762 many (39.7%) null values with no duplicated rows in the dataset.\n",
        "* After merging these three datasets we get a dataframe with 389342 rows and 12 columns.\n",
        "* William Shakespeare has most number of books listed in the data and Stephen King got the most number of ratings.\n",
        "* 'The Lovely Bones: A Novel' attracts the most number of ratings which is more than 700\n",
        "* The publishers Ballantine Books is on the top with more than 12000 publications.\n",
        "* Most of the users come from the USA. And Canada is at second place.\n",
        "* The rating distribution comes out to be negatively skewed as higher ratings are more frequent in the dataset.\n",
        "* ***Popularity based Recommender System*** and ***Item-Based Recommendation System*** are the two Memory-Based systems developed.\n",
        "\n",
        "* In ***Popularity based Recommender System***- 'The Two Towers (The Lord of the Rings, Part 2)', 'The Return of the King (The Lord of the Rings)' and the 'Harry Potter' series are among the trending books.\n",
        "*  A ***User-Based Recommendation Model*** is developed using **Singular Value Decomposition (SVD)**.\n",
        "\n",
        "* The model evaluation metrics **Recall@5** and **Recall@10** come out to be **30%** and **41%** respectively. This showes how likely an interacted item comes among first 5 or first 10 ranked relevant items."
      ]
    },
    {
      "cell_type": "markdown",
      "metadata": {
        "id": "gIfDvo9L0UH2"
      },
      "source": [
        "### ***Hurrah! You have successfully completed your Machine Learning Capstone Project !!!***"
      ]
    }
  ]
}